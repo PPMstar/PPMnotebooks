{
 "cells": [
  {
   "cell_type": "markdown",
   "id": "eace8ed5",
   "metadata": {},
   "source": [
    "# Setup figures\n",
    "This notebook makes the figures illustrating the setup of our RGB runs.\n",
    "\n",
    "Works on PPMstar.org with jupyterlab3."
   ]
  },
  {
   "cell_type": "code",
   "execution_count": 1,
   "id": "5e85cae3",
   "metadata": {},
   "outputs": [
    {
     "name": "stdout",
     "output_type": "stream",
     "text": [
      "Populating the interactive namespace from numpy and matplotlib\n"
     ]
    }
   ],
   "source": [
    "%pylab ipympl\n",
    "from scipy import interpolate\n",
    "from scipy import optimize\n",
    "from nugridpy import astronomy as ast\n",
    "from nugridpy import mesa as ms\n",
    "from nugridpy import ascii_table\n",
    "from scipy.signal import savgol_filter\n",
    "import sys\n",
    "sys.path.insert(0,'/home/user/user/niagara_scratch_sblouin/PyPPM')\n",
    "from ppmpy import ppmsetup as ps\n",
    "from ppmpy import ppm\n",
    "mpl_logger = logging.getLogger('matplotlib')\n",
    "mpl_logger.setLevel(logging.WARNING)\n",
    "from astropy import constants as c\n",
    "from scipy import interpolate\n",
    "from scipy import integrate\n",
    "import matplotlib.font_manager\n",
    "msun = c.M_sun\n",
    "msun = msun.to('g')\n",
    "msun = msun.value"
   ]
  },
  {
   "cell_type": "code",
   "execution_count": 2,
   "id": "b1e68f48",
   "metadata": {},
   "outputs": [],
   "source": [
    "ddir = '/user/scratch14_outreach/Pavel/work_low_mass_mesa_7624/LOGS_m1.2_fehm0.3_KipTH667_PreFlash'\n",
    "mesa_data_dir=ddir"
   ]
  },
  {
   "cell_type": "markdown",
   "id": "2a0af144",
   "metadata": {},
   "source": [
    "## Kippenhahn plot"
   ]
  },
  {
   "cell_type": "code",
   "execution_count": 3,
   "id": "21e31403-9d88-4fef-b6fa-4f6fda7790fd",
   "metadata": {},
   "outputs": [],
   "source": [
    "matplotlib.rcParams.update({'font.size': 12})"
   ]
  },
  {
   "cell_type": "code",
   "execution_count": 7,
   "id": "e7d6628c",
   "metadata": {},
   "outputs": [
    {
     "name": "stdout",
     "output_type": "stream",
     "text": [
      "Using old history.datasa file ...\n",
      " reading ...100% \n",
      "\n",
      " creating color map1 ...100% \n",
      "\n",
      " creating color map mix ...100% \n",
      "\n",
      "engenstyle was  twozone\n",
      "mixstyle was  twozone\n",
      "\n",
      " finished preparing color map\n",
      "plot versus time left\n",
      "plotting contours\n",
      "plotting patches\n",
      "plotting abund boundaries\n"
     ]
    },
    {
     "data": {
      "application/vnd.jupyter.widget-view+json": {
       "model_id": "f2a98ac59fde4cd8b544fbadfa102788",
       "version_major": 2,
       "version_minor": 0
      },
      "image/png": "[encoded data removed]",
      "text/plain": [
       "Canvas(toolbar=Toolbar(toolitems=[('Home', 'Reset original view', 'home', 'home'), ('Back', 'Back to previous …"
      ]
     },
     "metadata": {},
     "output_type": "display_data"
    },
    {
     "name": "stdout",
     "output_type": "stream",
     "text": [
      "54 in profiles.index file ...\n",
      "Found and load nearest profile for cycle 2400\n",
      "reading profile/user/scratch14_outreach/Pavel/work_low_mass_mesa_7624/LOGS_m1.2_fehm0.3_KipTH667_PreFlash/profile3.data ...\n",
      " reading ...85%"
     ]
    },
    {
     "name": "stderr",
     "output_type": "stream",
     "text": [
      "/usr/local/lib/python3.6/dist-packages/ipykernel_launcher.py:8: RuntimeWarning: divide by zero encountered in log10\n",
      "  \n"
     ]
    },
    {
     "name": "stdout",
     "output_type": "stream",
     "text": [
      " reading ...100% \n",
      "\n",
      "Closing profile tool ...\n",
      "54 in profiles.index file ...\n",
      "Found and load nearest profile for cycle 12400\n",
      "reading profile/user/scratch14_outreach/Pavel/work_low_mass_mesa_7624/LOGS_m1.2_fehm0.3_KipTH667_PreFlash/profile53.data ...\n",
      " reading ...75%"
     ]
    },
    {
     "name": "stderr",
     "output_type": "stream",
     "text": [
      "/usr/local/lib/python3.6/dist-packages/ipykernel_launcher.py:19: RuntimeWarning: divide by zero encountered in log10\n"
     ]
    },
    {
     "name": "stdout",
     "output_type": "stream",
     "text": [
      " reading ...100% \n",
      "\n",
      "Closing profile tool ...\n"
     ]
    }
   ],
   "source": [
    "ifig=79;close(ifig);figure(ifig)\n",
    "hh = ms.star_log(ddir)\n",
    "#hh = ms.star_log('/user/scratch14_outreach/Pavel/work_low_mass_mesa_7624/LOGS_m1.2_fehm0.3_nomix')\n",
    "hh.kip_cont(ifig=ifig,modstart=0, modstop=15000, ylims=[0.0, 1.],fsize=12,\n",
    "            yres=10000,xres=10000,ixaxis='log_time_left')\n",
    "\n",
    "# mc2400\n",
    "time = log10(hh.get('star_age')[-1]-hh.get('star_age'))\n",
    "xx = interp(2400, hh.get('model_number'), time)\n",
    "vlines(xx,0,20,lw=0.75,color='k',ls='--')\n",
    "mprof=ms.mesa_profile(ddir,num=2400)\n",
    "radius_mesa = mprof.get('radius')\n",
    "mass_mesa = mprof.get('mass')\n",
    "radius_mesa_code = radius_mesa*6.957e10/1e8\n",
    "mplot = mass_mesa[(radius_mesa_code<=900)&(radius_mesa_code>=38)]\n",
    "vlines(xx,min(mplot),max(mplot),lw=2,color='k',ls='-')\n",
    "\n",
    "# mc12400\n",
    "time = log10(hh.get('star_age')[-1]-hh.get('star_age'))\n",
    "xx = interp(12400, hh.get('model_number'), time)\n",
    "vlines(xx,0,20,lw=0.75,color='k',ls='--')\n",
    "mprof=ms.mesa_profile(ddir,num=12400)\n",
    "radius_mesa = mprof.get('radius')\n",
    "mass_mesa = mprof.get('mass')\n",
    "radius_mesa_code = radius_mesa*6.957e10/1e8\n",
    "mplot = mass_mesa[(radius_mesa_code<=900)&(radius_mesa_code>=38)]\n",
    "vlines(xx,min(mplot),max(mplot),lw=2,color='k',ls='-')\n",
    "\n",
    "text(7.49,0.38,'Bump setup',rotation=270,va='center')\n",
    "text(4.52,0.38,'Tip setup',rotation=270,va='center')\n",
    "ylim(0.25,0.48)\n",
    "ylabel('Enclosed mass ($M_{\\odot}$)')\n",
    "text(7.35,0.46,'Convective envelope', color='dimgray')\n",
    "text(7.075,0.33,'H-burning shell', color='#1b5b9a', rotation=55)\n",
    "text(7.1,0.27,'He inner core', color='cornflowerblue')\n",
    "yticks([0.25,0.3,0.35,0.4,0.45])\n",
    "ax = plt.gca()\n",
    "ax.tick_params(axis='both',direction='in')\n",
    "ax.yaxis.set_ticks_position('both')\n",
    "ax.xaxis.set_ticks_position('both')\n",
    "xlim(None,4)\n",
    "xlabel('Time to tip of RGB (log yr)')\n",
    "savefig('kip.pdf', bbox_inches='tight')"
   ]
  },
  {
   "cell_type": "markdown",
   "id": "839a2ccc-5266-4a0b-81d5-a36954fb3189",
   "metadata": {},
   "source": [
    "## HR diagram"
   ]
  },
  {
   "cell_type": "code",
   "execution_count": 8,
   "id": "a01837d5",
   "metadata": {},
   "outputs": [
    {
     "name": "stdout",
     "output_type": "stream",
     "text": [
      "Using old history.datasa file ...\n",
      " reading ...100% \n",
      "\n",
      "Using old history.datasa file ...\n",
      " reading ...100% \n",
      "\n",
      "Closing history.data  tool ...\n"
     ]
    },
    {
     "data": {
      "application/vnd.jupyter.widget-view+json": {
       "model_id": "c79d094869fd4497956b64c51ee01b58",
       "version_major": 2,
       "version_minor": 0
      },
      "image/png": "[encoded data removed]",
      "text/plain": [
       "Canvas(toolbar=Toolbar(toolitems=[('Home', 'Reset original view', 'home', 'home'), ('Back', 'Back to previous …"
      ]
     },
     "metadata": {},
     "output_type": "display_data"
    }
   ],
   "source": [
    "ifig=67;close(ifig);figure(ifig)\n",
    "\n",
    "g_sun = c.M_sun*c.G/(c.R_sun**2)\n",
    "g_sun = g_sun.to('cm/s^2')\n",
    "Teff_sun = 5778\n",
    "\n",
    "# Plot ZAMS to bump\n",
    "hist = ms.star_log('/user/scratch14_outreach/Pavel/work_low_mass_mesa_7624/LOGS_m1.2_fehm0.3_nomix')\n",
    "mod_number = hist.get('model_number')\n",
    "star_age = hist.get('star_age')\n",
    "log_Teff = hist.get('log_Teff')\n",
    "log_L = hist.get('log_L')\n",
    "log_g = hist.get('log_g')\n",
    "XH = hist.get('center_h1')\n",
    "mask = XH<XH[0]*0.99\n",
    "plot(log_Teff[mask],log_L[mask],'-k')\n",
    "\n",
    "# Plot RGB up to flash\n",
    "hist = ms.star_log(ddir)\n",
    "mod_number = hist.get('model_number')\n",
    "star_age = hist.get('star_age')\n",
    "log_Teff = hist.get('log_Teff')\n",
    "log_L = hist.get('log_L')\n",
    "log_g = hist.get('log_g')\n",
    "model_age = star_age[mod_number==12400][0]\n",
    "\n",
    "plot(log_Teff,log_L,'-k')\n",
    "plot(log_Teff[mod_number==2400],log_L[mod_number==2400],'o',\n",
    "    label='Bump setup',color='r')\n",
    "plot(log_Teff[mod_number==12400],log_L[mod_number==12400],'o',\n",
    "    label='Tip setup',color='r')\n",
    "text(3.65,1.8,'Bump setup')\n",
    "text(3.606,3.3,'Tip setup')\n",
    "#legend(frameon=False)\n",
    "xlim(3.85,3.53)\n",
    "ylim(0.2,3.5)\n",
    "ylabel(r'$\\log\\,\\,L/L_{\\odot} $')\n",
    "xlabel(r'$\\log\\,\\,T_\\mathrm{eff}/{\\rm K}$')\n",
    "ax = plt.gca()\n",
    "ax.tick_params(axis='both',direction='in')\n",
    "ax.yaxis.set_ticks_position('both')\n",
    "ax.xaxis.set_ticks_position('both')\n",
    "savefig('HR.pdf', bbox_inches='tight')"
   ]
  },
  {
   "cell_type": "markdown",
   "id": "57e39a8f-8938-4937-9370-c9f9e8091047",
   "metadata": {},
   "source": [
    "## BV figure"
   ]
  },
  {
   "cell_type": "code",
   "execution_count": 4,
   "id": "e3f901fa",
   "metadata": {},
   "outputs": [
    {
     "ename": "FileNotFoundError",
     "evalue": "[Errno 2] No such file or directory: '/user/scratch14_outreach/Pavel/work_low_mass_mesa_7624/LOGS_m1.2_fehm0.3_KipTH667_PreFlash/profiles.index'",
     "output_type": "error",
     "traceback": [
      "\u001b[0;31m---------------------------------------------------------------------------\u001b[0m",
      "\u001b[0;31mFileNotFoundError\u001b[0m                         Traceback (most recent call last)",
      "\u001b[0;32m<ipython-input-4-3d4aa048d52d>\u001b[0m in \u001b[0;36m<module>\u001b[0;34m\u001b[0m\n\u001b[1;32m      3\u001b[0m \u001b[0;34m\u001b[0m\u001b[0m\n\u001b[1;32m      4\u001b[0m \u001b[0mmodel\u001b[0m \u001b[0;34m=\u001b[0m \u001b[0;36m12400\u001b[0m\u001b[0;34m\u001b[0m\u001b[0;34m\u001b[0m\u001b[0m\n\u001b[0;32m----> 5\u001b[0;31m \u001b[0mmprof\u001b[0m\u001b[0;34m=\u001b[0m\u001b[0mms\u001b[0m\u001b[0;34m.\u001b[0m\u001b[0mmesa_profile\u001b[0m\u001b[0;34m(\u001b[0m\u001b[0mddir\u001b[0m\u001b[0;34m,\u001b[0m\u001b[0mnum\u001b[0m\u001b[0;34m=\u001b[0m\u001b[0mmodel\u001b[0m\u001b[0;34m)\u001b[0m\u001b[0;34m\u001b[0m\u001b[0;34m\u001b[0m\u001b[0m\n\u001b[0m\u001b[1;32m      6\u001b[0m \u001b[0mbnu\u001b[0m \u001b[0;34m=\u001b[0m \u001b[0mmprof\u001b[0m\u001b[0;34m.\u001b[0m\u001b[0mget\u001b[0m\u001b[0;34m(\u001b[0m\u001b[0;34m'brunt_nu'\u001b[0m\u001b[0;34m)\u001b[0m\u001b[0;34m\u001b[0m\u001b[0;34m\u001b[0m\u001b[0m\n\u001b[1;32m      7\u001b[0m \u001b[0mradius_mesa_code\u001b[0m \u001b[0;34m=\u001b[0m \u001b[0mmprof\u001b[0m\u001b[0;34m.\u001b[0m\u001b[0mget\u001b[0m\u001b[0;34m(\u001b[0m\u001b[0;34m'radius'\u001b[0m\u001b[0;34m)\u001b[0m\u001b[0;34m*\u001b[0m\u001b[0;36m6.957e10\u001b[0m\u001b[0;34m/\u001b[0m\u001b[0;36m1e8\u001b[0m\u001b[0;34m\u001b[0m\u001b[0;34m\u001b[0m\u001b[0m\n",
      "\u001b[0;32m/usr/local/lib/python3.6/dist-packages/nugridpy/mesa.py\u001b[0m in \u001b[0;36m__init__\u001b[0;34m(self, sldir, num, num_type, prof_ind_name, profile_prefix, data_suffix, mass, Z, give_filename, data_set)\u001b[0m\n\u001b[1;32m    355\u001b[0m \u001b[0;34m\u001b[0m\u001b[0m\n\u001b[1;32m    356\u001b[0m         \u001b[0;32mif\u001b[0m \u001b[0mnum_type\u001b[0m \u001b[0;32mis\u001b[0m \u001b[0;34m'nearest_model'\u001b[0m \u001b[0;32mor\u001b[0m \u001b[0mnum_type\u001b[0m \u001b[0;32mis\u001b[0m \u001b[0;34m'model'\u001b[0m\u001b[0;34m:\u001b[0m\u001b[0;34m\u001b[0m\u001b[0;34m\u001b[0m\u001b[0m\n\u001b[0;32m--> 357\u001b[0;31m             \u001b[0mself\u001b[0m\u001b[0;34m.\u001b[0m\u001b[0m_profiles_index\u001b[0m\u001b[0;34m(\u001b[0m\u001b[0;34m)\u001b[0m\u001b[0;34m\u001b[0m\u001b[0;34m\u001b[0m\u001b[0m\n\u001b[0m\u001b[1;32m    358\u001b[0m         \u001b[0;32mif\u001b[0m \u001b[0mnum_type\u001b[0m \u001b[0;32mis\u001b[0m \u001b[0;34m'nearest_model'\u001b[0m\u001b[0;34m:\u001b[0m\u001b[0;34m\u001b[0m\u001b[0;34m\u001b[0m\u001b[0m\n\u001b[1;32m    359\u001b[0m             \u001b[0mamods\u001b[0m\u001b[0;34m=\u001b[0m\u001b[0marray\u001b[0m\u001b[0;34m(\u001b[0m\u001b[0mself\u001b[0m\u001b[0;34m.\u001b[0m\u001b[0mmodel\u001b[0m\u001b[0;34m)\u001b[0m\u001b[0;34m\u001b[0m\u001b[0;34m\u001b[0m\u001b[0m\n",
      "\u001b[0;32m/usr/local/lib/python3.6/dist-packages/nugridpy/mesa.py\u001b[0m in \u001b[0;36m_profiles_index\u001b[0;34m(self)\u001b[0m\n\u001b[1;32m    437\u001b[0m         \u001b[0mprof_ind_name\u001b[0m \u001b[0;34m=\u001b[0m \u001b[0mself\u001b[0m\u001b[0;34m.\u001b[0m\u001b[0mprof_ind_name\u001b[0m\u001b[0;34m\u001b[0m\u001b[0;34m\u001b[0m\u001b[0m\n\u001b[1;32m    438\u001b[0m \u001b[0;34m\u001b[0m\u001b[0m\n\u001b[0;32m--> 439\u001b[0;31m         \u001b[0mf\u001b[0m \u001b[0;34m=\u001b[0m \u001b[0mopen\u001b[0m\u001b[0;34m(\u001b[0m\u001b[0mself\u001b[0m\u001b[0;34m.\u001b[0m\u001b[0msldir\u001b[0m\u001b[0;34m+\u001b[0m\u001b[0;34m'/'\u001b[0m\u001b[0;34m+\u001b[0m\u001b[0mprof_ind_name\u001b[0m\u001b[0;34m,\u001b[0m\u001b[0;34m'r'\u001b[0m\u001b[0;34m)\u001b[0m\u001b[0;34m\u001b[0m\u001b[0;34m\u001b[0m\u001b[0m\n\u001b[0m\u001b[1;32m    440\u001b[0m         \u001b[0mline\u001b[0m \u001b[0;34m=\u001b[0m \u001b[0mf\u001b[0m\u001b[0;34m.\u001b[0m\u001b[0mreadline\u001b[0m\u001b[0;34m(\u001b[0m\u001b[0;34m)\u001b[0m\u001b[0;34m\u001b[0m\u001b[0;34m\u001b[0m\u001b[0m\n\u001b[1;32m    441\u001b[0m         \u001b[0mnumlines\u001b[0m\u001b[0;34m=\u001b[0m\u001b[0mint\u001b[0m\u001b[0;34m(\u001b[0m\u001b[0mline\u001b[0m\u001b[0;34m.\u001b[0m\u001b[0msplit\u001b[0m\u001b[0;34m(\u001b[0m\u001b[0;34m)\u001b[0m\u001b[0;34m[\u001b[0m\u001b[0;36m0\u001b[0m\u001b[0;34m]\u001b[0m\u001b[0;34m)\u001b[0m\u001b[0;34m\u001b[0m\u001b[0;34m\u001b[0m\u001b[0m\n",
      "\u001b[0;31mFileNotFoundError\u001b[0m: [Errno 2] No such file or directory: '/user/scratch14_outreach/Pavel/work_low_mass_mesa_7624/LOGS_m1.2_fehm0.3_KipTH667_PreFlash/profiles.index'"
     ]
    },
    {
     "data": {
      "application/vnd.jupyter.widget-view+json": {
       "model_id": "a3a6535d26224bf5a7575079900b052a",
       "version_major": 2,
       "version_minor": 0
      },
      "image/png": "[encoded data removed]",
      "text/html": [
       "\n",
       "            <div style=\"display: inline-block;\">\n",
       "                <div class=\"jupyter-widgets widget-label\" style=\"text-align: center;\">\n",
       "                    Figure\n",
       "                </div>\n",
       "                <img src='data:image/png;base64,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' width=640.0/>\n",
       "            </div>\n",
       "        "
      ],
      "text/plain": [
       "Canvas(toolbar=Toolbar(toolitems=[('Home', 'Reset original view', 'home', 'home'), ('Back', 'Back to previous …"
      ]
     },
     "metadata": {},
     "output_type": "display_data"
    }
   ],
   "source": [
    "close(222);figure(222)\n",
    "import os\n",
    "\n",
    "model = 12400\n",
    "mprof=ms.mesa_profile(ddir,num=model)\n",
    "bnu = mprof.get('brunt_nu')\n",
    "radius_mesa_code = mprof.get('radius')*6.957e10/1e8\n",
    "semilogy(radius_mesa_code,bnu,'-k',label='MESA')\n",
    "\n",
    "model = 2400\n",
    "mprof=ms.mesa_profile(ddir,num=model)\n",
    "bnu = mprof.get('brunt_nu')\n",
    "radius_mesa_code = mprof.get('radius')*6.957e10/1e8\n",
    "semilogy(radius_mesa_code,bnu,'-k')\n",
    "\n",
    "data_dir = '/home/user/user/niagara_scratch_fherwig/'\n",
    "run_dir = 'X24-1xL-1xK-heating-768-mc12400-rin40-P0fix-kappamod'\n",
    "rprof_dir = os.path.join(data_dir,run_dir,'prfs')\n",
    "rprof = ppm.RprofSet(rprof_dir)\n",
    "N = 1e6*sqrt(rprof.compute_N2(0))/2/np.pi\n",
    "R = rprof.get('R',0)\n",
    "semilogy(R,N,'--r',label=\"PPMstar base state\")\n",
    "\n",
    "run_dir = 'X14-1000xL-1000xK-heating-768-mc2400-rin40'\n",
    "rprof_dir = os.path.join(data_dir,run_dir,'prfs')\n",
    "rprof = ppm.RprofSet(rprof_dir)\n",
    "N = 1e6*sqrt(rprof.compute_N2(0))/2/np.pi\n",
    "R = rprof.get('R',0)\n",
    "semilogy(R,N,'--r')\n",
    "\n",
    "xlabel('$R$ (Mm)')\n",
    "ylabel('$N/2\\pi$ ($\\mu$Hz)')\n",
    "\n",
    "text(400,70,'Tip setup',rotation=-30)\n",
    "text(250,40,'Bump setup',rotation=-30)\n",
    "\n",
    "legend(frameon=False)\n",
    "xlim(40,900)\n",
    "ylim(5,3000)\n",
    "ax = plt.gca()\n",
    "ax.tick_params(axis='both',direction='in',which='both')\n",
    "ax.yaxis.set_ticks_position('both')\n",
    "ax.xaxis.set_ticks_position('both')\n",
    "savefig('Nbase.pdf', bbox_inches='tight')"
   ]
  },
  {
   "cell_type": "code",
   "execution_count": null,
   "id": "5831758f-d65d-4f6b-ae34-c1b62a7c6ea0",
   "metadata": {},
   "outputs": [],
   "source": []
  }
 ],
 "metadata": {
  "kernelspec": {
   "display_name": "Python 3",
   "language": "python",
   "name": "python3"
  },
  "language_info": {
   "codemirror_mode": {
    "name": "ipython",
    "version": 3
   },
   "file_extension": ".py",
   "mimetype": "text/x-python",
   "name": "python",
   "nbconvert_exporter": "python",
   "pygments_lexer": "ipython3",
   "version": "3.6.9"
  }
 },
 "nbformat": 4,
 "nbformat_minor": 5
}

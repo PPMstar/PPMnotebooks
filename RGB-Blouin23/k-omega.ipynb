{
 "cells": [
  {
   "cell_type": "markdown",
   "metadata": {},
   "source": [
    "# k-omega power spectrum\n",
    "\n",
    "Works in jupyterlab3.\n"
   ]
  },
  {
   "cell_type": "code",
   "execution_count": 1,
   "metadata": {},
   "outputs": [
    {
     "name": "stdout",
     "output_type": "stream",
     "text": [
      "Populating the interactive namespace from numpy and matplotlib\n"
     ]
    }
   ],
   "source": [
    "%pylab ipympl\n",
    "import sys\n",
    "sys.path.insert(0,'/home/f/fherwig/sblouin/scratch_sblouin/PyPPM')\n",
    "from ppmpy import ppm\n",
    "import os\n",
    "from nugridpy import utils as ut"
   ]
  },
  {
   "cell_type": "code",
   "execution_count": 2,
   "metadata": {},
   "outputs": [],
   "source": [
    "import collections\n",
    "hydro = collections.namedtuple('hydro', ['moms','rprof'])\n",
    "\n",
    "# turn off matplotlib messages\n",
    "logging.getLogger(\"matplotlib\").setLevel(logging.CRITICAL)"
   ]
  },
  {
   "cell_type": "code",
   "execution_count": 3,
   "metadata": {},
   "outputs": [],
   "source": [
    "# the list of variables that are stored within the momsdata cube.\n",
    "var_list = ['xc','ux','uy','uz','|ut|','|ur|','|w|','T','rho','fv']"
   ]
  },
  {
   "cell_type": "code",
   "execution_count": 4,
   "metadata": {},
   "outputs": [],
   "source": [
    "# X24\n",
    "dump_select = 400\n",
    "data_dir = '/scratch/f/fherwig/fherwig'\n",
    "run_dir = 'X24-1xL-1xK-heating-768-mc12400-rin40-P0fix-kappamod'"
   ]
  },
  {
   "cell_type": "code",
   "execution_count": 5,
   "metadata": {},
   "outputs": [
    {
     "name": "stdout",
     "output_type": "stream",
     "text": [
      "1291 rprof files found in '/scratch/f/fherwig/fherwig/X24-1xL-1xK-heating-768-mc12400-rin40-P0fix-kappamod/prfs/.\n",
      "Dump numbers range from 0 to 1290.\n",
      "880 .aaa files found in '/scratch/f/fherwig/fherwig/X24-1xL-1xK-heating-768-mc12400-rin40-P0fix-kappamod/moms/myavsbq/.\n",
      "Dump numbers range from 400 to 1280.\n",
      "Warning: Some dumps are missing!\n",
      "1291 rprof files found in '/scratch/f/fherwig/fherwig/X24-1xL-1xK-heating-768-mc12400-rin40-P0fix-kappamod/prfs/.\n",
      "Dump numbers range from 0 to 1290.\n"
     ]
    }
   ],
   "source": [
    "moms_dir = os.path.join(data_dir,run_dir,'moms/myavsbq')\n",
    "rprof_dir = os.path.join(data_dir,run_dir,'prfs')\n",
    "# load moms instance\n",
    "dump = dump_select\n",
    "X24 = hydro(ppm.MomsDataSet(moms_dir,init_dump_read=dump,dumps_in_mem=1,var_list=var_list,rprofset=ppm.RprofSet(rprof_dir)),\n",
    "              ppm.RprofSet(rprof_dir))"
   ]
  },
  {
   "cell_type": "code",
   "execution_count": 6,
   "metadata": {
    "scrolled": false
   },
   "outputs": [
    {
     "name": "stderr",
     "output_type": "stream",
     "text": [
      "100%|██████████| 101/101 [00:37<00:00,  2.67it/s]\n"
     ]
    },
    {
     "data": {
      "application/vnd.jupyter.widget-view+json": {
       "model_id": "ffab6f4316c74a4b9512185ec2d6358b",
       "version_major": 2,
       "version_minor": 0
      },
      "text/plain": [
       "Canvas(toolbar=Toolbar(toolitems=[('Home', 'Reset original view', 'home', 'home'), ('Back', 'Back to previous …"
      ]
     },
     "metadata": {},
     "output_type": "display_data"
    }
   ],
   "source": [
    "x = {}\n",
    "y = {}\n",
    "z = {}\n",
    "rr = [400]\n",
    "for i,radius in enumerate(rr):\n",
    "    x2,y2,z2 = X24.moms.k_omega_diagram(varname='ur', radius=radius, mass=None, \n",
    "                                  dump_start=680, dump_stop=1280, lmax_crop=120, vmin=-2.4, vmax=-1, fmax=80)\n",
    "    x[i] = x2\n",
    "    y[i] = y2\n",
    "    z[i] = z2"
   ]
  },
  {
   "cell_type": "code",
   "execution_count": 9,
   "metadata": {},
   "outputs": [],
   "source": [
    "matplotlib.rcParams.update({'font.size': 12})"
   ]
  },
  {
   "cell_type": "code",
   "execution_count": 10,
   "metadata": {},
   "outputs": [
    {
     "data": {
      "application/vnd.jupyter.widget-view+json": {
       "model_id": "17e84fe09ae74f08a7073160800346eb",
       "version_major": 2,
       "version_minor": 0
      },
      "text/plain": [
       "Canvas(toolbar=Toolbar(toolitems=[('Home', 'Reset original view', 'home', 'home'), ('Back', 'Back to previous …"
      ]
     },
     "metadata": {},
     "output_type": "display_data"
    }
   ],
   "source": [
    "close(98);figure(98, figsize=(6,6))\n",
    "#close(98);figure(98)\n",
    "axp = imshow(log10(z2), cmap='magma', extent=(0,max(x2),min(y2),max(y2)), vmin=-3.5, vmax=-1.0, aspect='auto')\n",
    "xlabel(r'$\\ell$')\n",
    "ylabel(r'Frequency ($\\mu$Hz)')\n",
    "ax = gca()\n",
    "cbar = colorbar(axp, ax = [ax], location='top')\n",
    "cbar.set_label(r'$U_r$ power (log m$^2\\,$s$^{-2}\\,\\ell^{-1}\\,\\mu$Hz$^{-1}$)')\n",
    "xlim(0,70)\n",
    "ylim(0,80)\n",
    "savefig('X24-kw.pdf', bbox_inches='tight')"
   ]
  }
 ],
 "metadata": {
  "kernelspec": {
   "display_name": "scinet-conda /project/f/fherwig/fherwig/PythonVirtual/sciconda-astrohub2",
   "language": "python",
   "name": "scinet_conda_project_f_fherwig_fherwig_pythonvirtual_sciconda_astrohub2"
  },
  "language_info": {
   "codemirror_mode": {
    "name": "ipython",
    "version": 3
   },
   "file_extension": ".py",
   "mimetype": "text/x-python",
   "name": "python",
   "nbconvert_exporter": "python",
   "pygments_lexer": "ipython3",
   "version": "3.8.5"
  }
 },
 "nbformat": 4,
 "nbformat_minor": 4
}

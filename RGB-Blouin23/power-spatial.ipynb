{
 "cells": [
  {
   "cell_type": "markdown",
   "metadata": {},
   "source": [
    "# Power spectrum in spatial domain\n",
    "\n",
    "Works in jupyterlab3.\n"
   ]
  },
  {
   "cell_type": "code",
   "execution_count": 1,
   "metadata": {
    "tags": []
   },
   "outputs": [
    {
     "name": "stdout",
     "output_type": "stream",
     "text": [
      "Populating the interactive namespace from numpy and matplotlib\n"
     ]
    }
   ],
   "source": [
    "%pylab ipympl"
   ]
  },
  {
   "cell_type": "code",
   "execution_count": 31,
   "metadata": {},
   "outputs": [],
   "source": [
    "import sys\n",
    "sys.path.insert(0,'/scratch/f/fherwig/sblouin/PyPPM')\n",
    "from ppmpy import ppm\n",
    "import pyshtools.expand \n",
    "import pyshtools.spectralanalysis\n",
    "import os\n",
    "from nugridpy import utils as ut\n",
    "from tqdm import tqdm"
   ]
  },
  {
   "cell_type": "code",
   "execution_count": 3,
   "metadata": {},
   "outputs": [],
   "source": [
    "lll= 2*['-', '--', ':', '-.']\n",
    "markers = ['X','h','<','>','s','^','d','X','p']\n",
    "random.shuffle(lll)\n",
    "CB_color_cycle = ['#4daf4a', '#a65628', '#984ea3',\n",
    "                  '#ff7f00', '#f781bf', '#377eb8',\n",
    "                  '#999999', '#e41a1c', '#dede00']\n",
    "rc('axes', prop_cycle=(cycler('color', CB_color_cycle[0:8]) + cycler('marker',markers[0:8])+cycler('linestyle',lll)))\n",
    "rc('axes', prop_cycle=(cycler('color', CB_color_cycle[0:8]) +cycler('linestyle',lll)))\n",
    "\n",
    "import collections\n",
    "hydro = collections.namedtuple('hydro', ['moms','rprof'])\n",
    "\n",
    "logging.getLogger(\"matplotlib\").setLevel(logging.CRITICAL)"
   ]
  },
  {
   "cell_type": "code",
   "execution_count": 4,
   "metadata": {},
   "outputs": [],
   "source": [
    "# the list of variables that are stored within the momsdata cube.\n",
    "var_list = ['xc','ux','uy','uz','|ut|','|ur|','|w|','T','rho','fv']"
   ]
  },
  {
   "cell_type": "code",
   "execution_count": 5,
   "metadata": {},
   "outputs": [],
   "source": [
    "# X22\n",
    "dump_select = 300\n",
    "data_dir = '/scratch/f/fherwig/sblouin'\n",
    "run_dir = 'X22'"
   ]
  },
  {
   "cell_type": "code",
   "execution_count": 6,
   "metadata": {
    "tags": []
   },
   "outputs": [
    {
     "name": "stdout",
     "output_type": "stream",
     "text": [
      "483 rprof files found in '/scratch/f/fherwig/sblouin/X22/prfs/.\n",
      "Dump numbers range from 0 to 482.\n",
      "Warning: No flags file found in /scratch/f/fherwig/sblouin/X22/prfs/.., cannot compute kappa or infer minner\n",
      "Warning: WARNING: .include file could not be located, assuming m0=0\n",
      "200 .aaa files found in '/scratch/f/fherwig/sblouin/X22/moms/myavsbq/.\n",
      "Dump numbers range from 281 to 480.\n",
      "483 rprof files found in '/scratch/f/fherwig/sblouin/X22/prfs/.\n",
      "Dump numbers range from 0 to 482.\n",
      "Warning: No flags file found in /scratch/f/fherwig/sblouin/X22/prfs/.., cannot compute kappa or infer minner\n",
      "Warning: WARNING: .include file could not be located, assuming m0=0\n"
     ]
    }
   ],
   "source": [
    "moms_dir = os.path.join(data_dir,run_dir,'moms/myavsbq')\n",
    "rprof_dir = os.path.join(data_dir,run_dir,'prfs')\n",
    "# load moms instance\n",
    "dump = dump_select\n",
    "X22 = hydro(ppm.MomsDataSet(moms_dir,init_dump_read=dump,dumps_in_mem=1,var_list=var_list,rprofset=ppm.RprofSet(rprof_dir)),\n",
    "              ppm.RprofSet(rprof_dir))"
   ]
  },
  {
   "cell_type": "code",
   "execution_count": 7,
   "metadata": {},
   "outputs": [],
   "source": [
    "# X26\n",
    "dump_select = 500\n",
    "data_dir = '/scratch/f/fherwig/sblouin'\n",
    "run_dir = 'X26'"
   ]
  },
  {
   "cell_type": "code",
   "execution_count": 8,
   "metadata": {},
   "outputs": [
    {
     "name": "stdout",
     "output_type": "stream",
     "text": [
      "516 rprof files found in '/scratch/f/fherwig/sblouin/X26/prfs/.\n",
      "Dump numbers range from 0 to 515.\n",
      "Warning: No flags file found in /scratch/f/fherwig/sblouin/X26/prfs/.., cannot compute kappa or infer minner\n",
      "Warning: WARNING: .include file could not be located, assuming m0=0\n",
      "166 .aaa files found in '/scratch/f/fherwig/sblouin/X26/moms/myavsbq/.\n",
      "Dump numbers range from 320 to 515.\n",
      "Warning: Some dumps are missing!\n",
      "516 rprof files found in '/scratch/f/fherwig/sblouin/X26/prfs/.\n",
      "Dump numbers range from 0 to 515.\n",
      "Warning: No flags file found in /scratch/f/fherwig/sblouin/X26/prfs/.., cannot compute kappa or infer minner\n",
      "Warning: WARNING: .include file could not be located, assuming m0=0\n"
     ]
    }
   ],
   "source": [
    "moms_dir = os.path.join(data_dir,run_dir,'moms/myavsbq')\n",
    "rprof_dir = os.path.join(data_dir,run_dir,'prfs')\n",
    "# load moms instance\n",
    "dump = dump_select\n",
    "X26 = hydro(ppm.MomsDataSet(moms_dir,init_dump_read=dump,dumps_in_mem=1,var_list=var_list,rprofset=ppm.RprofSet(rprof_dir)),\n",
    "              ppm.RprofSet(rprof_dir))"
   ]
  },
  {
   "cell_type": "code",
   "execution_count": 9,
   "metadata": {},
   "outputs": [],
   "source": [
    "matplotlib.rcParams.update({'font.size': 12})"
   ]
  },
  {
   "cell_type": "markdown",
   "metadata": {},
   "source": [
    "### X22"
   ]
  },
  {
   "cell_type": "code",
   "execution_count": 46,
   "metadata": {},
   "outputs": [
    {
     "data": {
      "application/vnd.jupyter.widget-view+json": {
       "model_id": "8018ec2936914d1eab929847d65b02f1",
       "version_major": 2,
       "version_minor": 0
      },
      "text/plain": [
       "Canvas(toolbar=Toolbar(toolitems=[('Home', 'Reset original view', 'home', 'home'), ('Back', 'Back to previous …"
      ]
     },
     "metadata": {},
     "output_type": "display_data"
    },
    {
     "name": "stderr",
     "output_type": "stream",
     "text": [
      "100%|██████████| 100/100 [03:07<00:00,  1.88s/it]\n",
      "100%|██████████| 100/100 [03:09<00:00,  1.89s/it]\n",
      "100%|██████████| 100/100 [03:20<00:00,  2.00s/it]\n",
      "100%|██████████| 100/100 [03:23<00:00,  2.03s/it]\n",
      "100%|██████████| 100/100 [03:28<00:00,  2.08s/it]\n",
      "100%|██████████| 100/100 [03:49<00:00,  2.30s/it]\n",
      "100%|██████████| 100/100 [04:20<00:00,  2.61s/it]\n",
      "100%|██████████| 100/100 [05:03<00:00,  3.04s/it]\n"
     ]
    }
   ],
   "source": [
    "close(2);figure(2)\n",
    "i = 0\n",
    "radiusv = [250,300,350,400,500,600,700,800]\n",
    "dumps = arange(381,481)\n",
    "for radius in radiusv:\n",
    "    for dump in tqdm(dumps):\n",
    "        momsarray = sqrt(X22.moms.get('ux',fname=dump)**2+X22.moms.get('uy',fname=dump)**2+X22.moms.get('uz',fname=dump)**2)\n",
    "        lr, power = X22.moms.get_power_spectrum('|u|',radius=radius,dump_start=None, dump_stop=None,momsarray=momsarray)\n",
    "        try:\n",
    "            poweravg += power/len(dumps)\n",
    "        except:\n",
    "            poweravg = power/len(dumps)\n",
    "    loglog(lr, 1e12*poweravg,ut.linestyle(i)[0],color=ut.linestylecb(i)[2],markevery=.2,label=str(radius)+r'$\\,$Mm')\n",
    "    i += 1\n",
    "ellvec = linspace(15,100,100)\n",
    "plot(ellvec, 8e5*(ellvec/10)**(-5/3), '-k')\n",
    "xlabel(r'$\\ell$')\n",
    "ylabel(r'power (m$^2\\,$s$^{-2}\\,$$\\ell^{-1}$)')\n",
    "legend(loc=3,frameon=False, fontsize=10, ncol=2)\n",
    "xlim(1,600)\n",
    "ylim(1e-2,2e6)\n",
    "text(30,.4e5*1.5,r'$\\propto \\ell^{-5/3}$',rotation=-20)\n",
    "show()\n",
    "ax = plt.gca()\n",
    "ax.tick_params(axis='both',direction='in',which='both')\n",
    "ax.yaxis.set_ticks_position('both')\n",
    "ax.xaxis.set_ticks_position('both')\n",
    "ax.set_xticks([1,10,100])\n",
    "ax.get_xaxis().set_major_formatter(matplotlib.ticker.ScalarFormatter())\n",
    "ellvec = linspace(45,100,10)\n",
    "ex = -7\n",
    "plot(ellvec, 1e14*ellvec**(ex), '-k')\n",
    "ellvec = linspace(1.2,8,10)\n",
    "text(55,12,r'$\\propto \\ell^{-7}$',rotation=-65)\n",
    "text(0.9*600,0.9*1e6,'Bump setup',ha='right',va='top')\n",
    "savefig('power_X22.pdf', bbox_inches='tight')"
   ]
  },
  {
   "cell_type": "code",
   "execution_count": 50,
   "metadata": {},
   "outputs": [
    {
     "data": {
      "application/vnd.jupyter.widget-view+json": {
       "model_id": "34ece6e9c57e44229e237ab364990509",
       "version_major": 2,
       "version_minor": 0
      },
      "text/plain": [
       "Canvas(toolbar=Toolbar(toolitems=[('Home', 'Reset original view', 'home', 'home'), ('Back', 'Back to previous …"
      ]
     },
     "metadata": {},
     "output_type": "display_data"
    },
    {
     "name": "stderr",
     "output_type": "stream",
     "text": [
      "100%|██████████| 101/101 [02:21<00:00,  1.40s/it]\n",
      "  0%|          | 0/101 [00:00<?, ?it/s]"
     ]
    },
    {
     "name": "stdout",
     "output_type": "stream",
     "text": [
      "Error: Dump 481 is not available.\n",
      "Error: Invalid key for varloc. A list of keys: \n",
      "0, 1, 2, 3, 4, 5, 6, 7, 8, 9, T, fv, rho, ux, uy, uz, xc, |ur|, |ut|, |w|\n",
      "Warning: Skipping dump 481\n"
     ]
    },
    {
     "name": "stderr",
     "output_type": "stream",
     "text": [
      "100%|██████████| 101/101 [02:29<00:00,  1.48s/it]\n",
      "  0%|          | 0/101 [00:00<?, ?it/s]"
     ]
    },
    {
     "name": "stdout",
     "output_type": "stream",
     "text": [
      "Error: Dump 481 is not available.\n",
      "Error: Invalid key for varloc. A list of keys: \n",
      "0, 1, 2, 3, 4, 5, 6, 7, 8, 9, T, fv, rho, ux, uy, uz, xc, |ur|, |ut|, |w|\n",
      "Warning: Skipping dump 481\n"
     ]
    },
    {
     "name": "stderr",
     "output_type": "stream",
     "text": [
      "100%|██████████| 101/101 [02:30<00:00,  1.49s/it]\n",
      "  0%|          | 0/101 [00:00<?, ?it/s]"
     ]
    },
    {
     "name": "stdout",
     "output_type": "stream",
     "text": [
      "Error: Dump 481 is not available.\n",
      "Error: Invalid key for varloc. A list of keys: \n",
      "0, 1, 2, 3, 4, 5, 6, 7, 8, 9, T, fv, rho, ux, uy, uz, xc, |ur|, |ut|, |w|\n",
      "Warning: Skipping dump 481\n"
     ]
    },
    {
     "name": "stderr",
     "output_type": "stream",
     "text": [
      "100%|██████████| 101/101 [02:44<00:00,  1.63s/it]\n",
      "  0%|          | 0/101 [00:00<?, ?it/s]"
     ]
    },
    {
     "name": "stdout",
     "output_type": "stream",
     "text": [
      "Error: Dump 481 is not available.\n",
      "Error: Invalid key for varloc. A list of keys: \n",
      "0, 1, 2, 3, 4, 5, 6, 7, 8, 9, T, fv, rho, ux, uy, uz, xc, |ur|, |ut|, |w|\n",
      "Warning: Skipping dump 481\n"
     ]
    },
    {
     "name": "stderr",
     "output_type": "stream",
     "text": [
      "100%|██████████| 101/101 [02:50<00:00,  1.69s/it]\n",
      "  0%|          | 0/101 [00:00<?, ?it/s]"
     ]
    },
    {
     "name": "stdout",
     "output_type": "stream",
     "text": [
      "Error: Dump 481 is not available.\n",
      "Error: Invalid key for varloc. A list of keys: \n",
      "0, 1, 2, 3, 4, 5, 6, 7, 8, 9, T, fv, rho, ux, uy, uz, xc, |ur|, |ut|, |w|\n",
      "Warning: Skipping dump 481\n"
     ]
    },
    {
     "name": "stderr",
     "output_type": "stream",
     "text": [
      "100%|██████████| 101/101 [03:18<00:00,  1.96s/it]\n",
      "  0%|          | 0/101 [00:00<?, ?it/s]"
     ]
    },
    {
     "name": "stdout",
     "output_type": "stream",
     "text": [
      "Error: Dump 481 is not available.\n",
      "Error: Invalid key for varloc. A list of keys: \n",
      "0, 1, 2, 3, 4, 5, 6, 7, 8, 9, T, fv, rho, ux, uy, uz, xc, |ur|, |ut|, |w|\n",
      "Warning: Skipping dump 481\n"
     ]
    },
    {
     "name": "stderr",
     "output_type": "stream",
     "text": [
      "100%|██████████| 101/101 [03:46<00:00,  2.24s/it]\n",
      "  0%|          | 0/101 [00:00<?, ?it/s]"
     ]
    },
    {
     "name": "stdout",
     "output_type": "stream",
     "text": [
      "Error: Dump 481 is not available.\n",
      "Error: Invalid key for varloc. A list of keys: \n",
      "0, 1, 2, 3, 4, 5, 6, 7, 8, 9, T, fv, rho, ux, uy, uz, xc, |ur|, |ut|, |w|\n",
      "Warning: Skipping dump 481\n"
     ]
    },
    {
     "name": "stderr",
     "output_type": "stream",
     "text": [
      "100%|██████████| 101/101 [04:26<00:00,  2.64s/it]\n"
     ]
    },
    {
     "name": "stdout",
     "output_type": "stream",
     "text": [
      "Error: Dump 481 is not available.\n",
      "Error: Invalid key for varloc. A list of keys: \n",
      "0, 1, 2, 3, 4, 5, 6, 7, 8, 9, T, fv, rho, ux, uy, uz, xc, |ur|, |ut|, |w|\n",
      "Warning: Skipping dump 481\n"
     ]
    }
   ],
   "source": [
    "close(22);figure(22)\n",
    "i = 0\n",
    "radiusv = [250,300,350,400,500,600,700,800]\n",
    "powerv = []\n",
    "for radius in radiusv:\n",
    "    lr, power = X22.moms.get_power_spectrum('|ur|',radius=radius, dump_start=381, dump_stop=481, dump_step=1)\n",
    "    powerv.append(sum(power))\n",
    "    loglog(lr, 1e12*power, ut.linestyle(i)[0],color=ut.linestylecb(i)[2],markevery=.2,label=str(radius)+r'$\\,$Mm')\n",
    "    i += 1\n",
    "xlabel(r'$\\ell$')\n",
    "ylabel(r'$U_r$ power (m$^2\\,$s$^{-2}\\,$$\\ell^{-1}$)')\n",
    "legend(loc=3,frameon=False, fontsize=10,ncol=2)\n",
    "xlim(1,600)\n",
    "ylim(1e-3,2e6)\n",
    "show()\n",
    "ax = plt.gca()\n",
    "ax.tick_params(axis='both',direction='in',which='both')\n",
    "ax.yaxis.set_ticks_position('both')\n",
    "ax.xaxis.set_ticks_position('both')\n",
    "ax.set_xticks([1,10,100])\n",
    "ax.get_xaxis().set_major_formatter(matplotlib.ticker.ScalarFormatter())\n",
    "text(0.9*600,0.9*1e6,'Bump setup',ha='right',va='top')\n",
    "savefig('Ur_power_X22.pdf', bbox_inches='tight')"
   ]
  },
  {
   "cell_type": "markdown",
   "metadata": {},
   "source": [
    "### X26"
   ]
  },
  {
   "cell_type": "code",
   "execution_count": 47,
   "metadata": {
    "scrolled": false
   },
   "outputs": [
    {
     "data": {
      "application/vnd.jupyter.widget-view+json": {
       "model_id": "7dd11a614d6b4f80b5c90e5f83838979",
       "version_major": 2,
       "version_minor": 0
      },
      "text/plain": [
       "Canvas(toolbar=Toolbar(toolitems=[('Home', 'Reset original view', 'home', 'home'), ('Back', 'Back to previous …"
      ]
     },
     "metadata": {},
     "output_type": "display_data"
    },
    {
     "name": "stderr",
     "output_type": "stream",
     "text": [
      "100%|██████████| 100/100 [02:53<00:00,  1.74s/it]\n",
      "100%|██████████| 100/100 [03:05<00:00,  1.86s/it]\n",
      "100%|██████████| 100/100 [03:05<00:00,  1.85s/it]\n",
      "100%|██████████| 100/100 [03:12<00:00,  1.92s/it]\n",
      "100%|██████████| 100/100 [03:15<00:00,  1.95s/it]\n",
      "100%|██████████| 100/100 [03:44<00:00,  2.24s/it]\n",
      "100%|██████████| 100/100 [04:13<00:00,  2.54s/it]\n",
      "100%|██████████| 100/100 [04:58<00:00,  2.98s/it]\n"
     ]
    }
   ],
   "source": [
    "close(3);figure(3)\n",
    "i = 0\n",
    "radiusv = [250,300,350,400,500,600,700,800]\n",
    "dumps = arange(410,510)\n",
    "for radius in radiusv:\n",
    "    for dump in tqdm(dumps):\n",
    "        momsarray = sqrt(X26.moms.get('ux',fname=dump)**2+X26.moms.get('uy',fname=dump)**2+X26.moms.get('uz',fname=dump)**2)\n",
    "        lr, power = X26.moms.get_power_spectrum('|u|',radius=radius,dump_start=None, dump_stop=None,momsarray=momsarray)\n",
    "        try:\n",
    "            poweravg += power/len(dumps)\n",
    "        except:\n",
    "            poweravg = power/len(dumps)\n",
    "    loglog(lr, 1e12*poweravg,ut.linestyle(i)[0],color=ut.linestylecb(i)[2],markevery=.2,label=str(radius)+r'$\\,$Mm')\n",
    "    i += 1\n",
    "ellvec = linspace(15,100,100)\n",
    "plot(ellvec, 3e5*(ellvec/10)**(-5/3), '-k')\n",
    "xlabel(r'$\\ell$')\n",
    "ylabel(r'power (m$^2\\,$s$^{-2}\\,$$\\ell^{-1}$)')\n",
    "#legend(loc=4,frameon=False, fontsize=9.5)\n",
    "xlim(1,600)\n",
    "ylim(1e-2,2e6)\n",
    "text(27,.3e5,r'$\\propto \\ell^{-5/3}$',rotation=-20)\n",
    "show()\n",
    "ax = plt.gca()\n",
    "ax.tick_params(axis='both',direction='in',which='both')\n",
    "ax.yaxis.set_ticks_position('both')\n",
    "ax.xaxis.set_ticks_position('both')\n",
    "ax.set_xticks([1,10,100])\n",
    "ax.get_xaxis().set_major_formatter(matplotlib.ticker.ScalarFormatter())\n",
    "\n",
    "ellvec = linspace(90,180,10)\n",
    "ex = -7\n",
    "plot(ellvec, .3e16*ellvec**(ex), '-k')\n",
    "ellvec = linspace(1.2,8,10)\n",
    "text(110,3,r'$\\propto \\ell^{-7}$',rotation=-65)\n",
    "\n",
    "text(0.9*600,0.9*1e6,'Tip setup',ha='right',va='top')\n",
    "savefig('power_X26.pdf', bbox_inches='tight')"
   ]
  },
  {
   "cell_type": "code",
   "execution_count": 51,
   "metadata": {},
   "outputs": [
    {
     "data": {
      "application/vnd.jupyter.widget-view+json": {
       "model_id": "0f08394502ce4c5cacb074412f9c94f8",
       "version_major": 2,
       "version_minor": 0
      },
      "text/plain": [
       "Canvas(toolbar=Toolbar(toolitems=[('Home', 'Reset original view', 'home', 'home'), ('Back', 'Back to previous …"
      ]
     },
     "metadata": {},
     "output_type": "display_data"
    },
    {
     "name": "stderr",
     "output_type": "stream",
     "text": [
      "100%|██████████| 101/101 [02:16<00:00,  1.35s/it]\n",
      "100%|██████████| 101/101 [02:23<00:00,  1.42s/it]\n",
      "100%|██████████| 101/101 [02:17<00:00,  1.37s/it]\n",
      "100%|██████████| 101/101 [02:16<00:00,  1.35s/it]\n",
      "100%|██████████| 101/101 [02:35<00:00,  1.54s/it]\n",
      "100%|██████████| 101/101 [02:57<00:00,  1.76s/it]\n",
      "100%|██████████| 101/101 [03:41<00:00,  2.19s/it]\n",
      "100%|██████████| 101/101 [04:18<00:00,  2.56s/it]\n"
     ]
    }
   ],
   "source": [
    "close(33);figure(33)\n",
    "i = 0\n",
    "for radius in [250,300,350,400,500,600,700,800]:\n",
    "    lr, power = X26.moms.get_power_spectrum('|ur|',radius=radius, dump_start=410, dump_stop=510, dump_step=1)\n",
    "    loglog(lr, 1e12*power, ut.linestyle(i)[0],color=ut.linestylecb(i)[2],markevery=.2,label=str(radius)+r'$\\,$Mm')\n",
    "    i += 1\n",
    "xlabel(r'$\\ell$')\n",
    "ylabel(r'$U_r$ power (m$^2\\,$s$^{-2}\\,$$\\ell^{-1}$)')\n",
    "#legend(loc=4,frameon=False, fontsize=9.5)\n",
    "xlim(1,600)\n",
    "ylim(1e-3,2e6)\n",
    "show()\n",
    "ax = plt.gca()\n",
    "ax.tick_params(axis='both',direction='in',which='both')\n",
    "ax.yaxis.set_ticks_position('both')\n",
    "ax.xaxis.set_ticks_position('both')\n",
    "ax.set_xticks([1,10,100])\n",
    "ax.get_xaxis().set_major_formatter(matplotlib.ticker.ScalarFormatter())\n",
    "text(0.9*600,0.9*1e6,'Tip setup',ha='right',va='top')\n",
    "savefig('Ur_power_X26.pdf', bbox_inches='tight')"
   ]
  },
  {
   "cell_type": "code",
   "execution_count": null,
   "metadata": {},
   "outputs": [],
   "source": []
  }
 ],
 "metadata": {
  "kernelspec": {
   "display_name": "scinet-conda /project/f/fherwig/fherwig/PythonVirtual/sciconda-astrohub2",
   "language": "python",
   "name": "scinet_conda_project_f_fherwig_fherwig_pythonvirtual_sciconda_astrohub2"
  },
  "language_info": {
   "codemirror_mode": {
    "name": "ipython",
    "version": 3
   },
   "file_extension": ".py",
   "mimetype": "text/x-python",
   "name": "python",
   "nbconvert_exporter": "python",
   "pygments_lexer": "ipython3",
   "version": "3.8.5"
  }
 },
 "nbformat": 4,
 "nbformat_minor": 5
}

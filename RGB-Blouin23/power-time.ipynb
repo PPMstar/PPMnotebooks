{
 "cells": [
  {
   "cell_type": "markdown",
   "metadata": {},
   "source": [
    "# Power spectrum in time domain\n",
    "\n",
    "Works in jupyterlab3.\n"
   ]
  },
  {
   "cell_type": "code",
   "execution_count": 6,
   "metadata": {},
   "outputs": [
    {
     "name": "stdout",
     "output_type": "stream",
     "text": [
      "Populating the interactive namespace from numpy and matplotlib\n"
     ]
    }
   ],
   "source": [
    "%pylab ipympl\n",
    "import sys\n",
    "sys.path.insert(0,'/home/f/fherwig/sblouin/scratch_sblouin/PyPPM')\n",
    "from ppmpy import ppm\n",
    "import os\n",
    "from nugridpy import utils as ut"
   ]
  },
  {
   "cell_type": "code",
   "execution_count": 7,
   "metadata": {},
   "outputs": [],
   "source": [
    "import collections\n",
    "hydro = collections.namedtuple('hydro', ['moms','rprof'])\n",
    "\n",
    "# turn off matplotlib messages\n",
    "logging.getLogger(\"matplotlib\").setLevel(logging.CRITICAL)"
   ]
  },
  {
   "cell_type": "code",
   "execution_count": 8,
   "metadata": {},
   "outputs": [],
   "source": [
    "# the list of variables that are stored within the momsdata cube.\n",
    "var_list = ['xc','ux','uy','uz','|ut|','|ur|','|w|','T','rho','fv']"
   ]
  },
  {
   "cell_type": "code",
   "execution_count": 9,
   "metadata": {},
   "outputs": [],
   "source": [
    "# X22\n",
    "dump_select = 300\n",
    "data_dir = '/scratch/f/fherwig/sblouin'\n",
    "run_dir = 'X22'"
   ]
  },
  {
   "cell_type": "code",
   "execution_count": 10,
   "metadata": {},
   "outputs": [
    {
     "name": "stdout",
     "output_type": "stream",
     "text": [
      "483 rprof files found in '/scratch/f/fherwig/sblouin/X22/prfs/.\n",
      "Dump numbers range from 0 to 482.\n",
      "Warning: No flags file found in /scratch/f/fherwig/sblouin/X22/prfs/.., cannot compute kappa or infer minner\n",
      "Warning: WARNING: .include file could not be located, assuming m0=0\n",
      "200 .aaa files found in '/scratch/f/fherwig/sblouin/X22/moms/myavsbq/.\n",
      "Dump numbers range from 281 to 480.\n",
      "483 rprof files found in '/scratch/f/fherwig/sblouin/X22/prfs/.\n",
      "Dump numbers range from 0 to 482.\n",
      "Warning: No flags file found in /scratch/f/fherwig/sblouin/X22/prfs/.., cannot compute kappa or infer minner\n",
      "Warning: WARNING: .include file could not be located, assuming m0=0\n"
     ]
    }
   ],
   "source": [
    "moms_dir = os.path.join(data_dir,run_dir,'moms/myavsbq')\n",
    "rprof_dir = os.path.join(data_dir,run_dir,'prfs')\n",
    "# load moms instance\n",
    "dump = dump_select\n",
    "X22 = hydro(ppm.MomsDataSet(moms_dir,init_dump_read=dump,dumps_in_mem=1,var_list=var_list,rprofset=ppm.RprofSet(rprof_dir)),\n",
    "              ppm.RprofSet(rprof_dir))"
   ]
  },
  {
   "cell_type": "code",
   "execution_count": 11,
   "metadata": {},
   "outputs": [],
   "source": [
    "# X26\n",
    "dump_select = 500\n",
    "data_dir = '/scratch/f/fherwig/sblouin'\n",
    "run_dir = 'X26'"
   ]
  },
  {
   "cell_type": "code",
   "execution_count": 12,
   "metadata": {},
   "outputs": [
    {
     "name": "stdout",
     "output_type": "stream",
     "text": [
      "516 rprof files found in '/scratch/f/fherwig/sblouin/X26/prfs/.\n",
      "Dump numbers range from 0 to 515.\n",
      "Warning: No flags file found in /scratch/f/fherwig/sblouin/X26/prfs/.., cannot compute kappa or infer minner\n",
      "Warning: WARNING: .include file could not be located, assuming m0=0\n",
      "166 .aaa files found in '/scratch/f/fherwig/sblouin/X26/moms/myavsbq/.\n",
      "Dump numbers range from 320 to 515.\n",
      "Warning: Some dumps are missing!\n",
      "516 rprof files found in '/scratch/f/fherwig/sblouin/X26/prfs/.\n",
      "Dump numbers range from 0 to 515.\n",
      "Warning: No flags file found in /scratch/f/fherwig/sblouin/X26/prfs/.., cannot compute kappa or infer minner\n",
      "Warning: WARNING: .include file could not be located, assuming m0=0\n"
     ]
    }
   ],
   "source": [
    "moms_dir = os.path.join(data_dir,run_dir,'moms/myavsbq')\n",
    "rprof_dir = os.path.join(data_dir,run_dir,'prfs')\n",
    "# load moms instance\n",
    "dump = dump_select\n",
    "X26 = hydro(ppm.MomsDataSet(moms_dir,init_dump_read=dump,dumps_in_mem=1,var_list=var_list,rprofset=ppm.RprofSet(rprof_dir)),\n",
    "              ppm.RprofSet(rprof_dir))"
   ]
  },
  {
   "cell_type": "code",
   "execution_count": 13,
   "metadata": {
    "scrolled": false
   },
   "outputs": [
    {
     "name": "stderr",
     "output_type": "stream",
     "text": [
      "100%|██████████| 101/101 [02:26<00:00,  1.45s/it]\n"
     ]
    },
    {
     "data": {
      "application/vnd.jupyter.widget-view+json": {
       "model_id": "6407e6344c914dc893166ceb2eca503b",
       "version_major": 2,
       "version_minor": 0
      },
      "text/plain": [
       "Canvas(toolbar=Toolbar(toolitems=[('Home', 'Reset original view', 'home', 'home'), ('Back', 'Back to previous …"
      ]
     },
     "metadata": {},
     "output_type": "display_data"
    },
    {
     "name": "stderr",
     "output_type": "stream",
     "text": [
      "100%|██████████| 101/101 [02:19<00:00,  1.38s/it]\n"
     ]
    },
    {
     "data": {
      "application/vnd.jupyter.widget-view+json": {
       "model_id": "4895b1be56b342ee85ec62088ab2f797",
       "version_major": 2,
       "version_minor": 0
      },
      "text/plain": [
       "Canvas(toolbar=Toolbar(toolitems=[('Home', 'Reset original view', 'home', 'home'), ('Back', 'Back to previous …"
      ]
     },
     "metadata": {},
     "output_type": "display_data"
    },
    {
     "name": "stderr",
     "output_type": "stream",
     "text": [
      "100%|██████████| 101/101 [02:21<00:00,  1.40s/it]\n"
     ]
    },
    {
     "data": {
      "application/vnd.jupyter.widget-view+json": {
       "model_id": "f145cdcbb98143a4b85a02d43302652f",
       "version_major": 2,
       "version_minor": 0
      },
      "text/plain": [
       "Canvas(toolbar=Toolbar(toolitems=[('Home', 'Reset original view', 'home', 'home'), ('Back', 'Back to previous …"
      ]
     },
     "metadata": {},
     "output_type": "display_data"
    },
    {
     "name": "stderr",
     "output_type": "stream",
     "text": [
      "100%|██████████| 101/101 [02:31<00:00,  1.50s/it]\n"
     ]
    },
    {
     "data": {
      "application/vnd.jupyter.widget-view+json": {
       "model_id": "0bf13cfdc9d046559ba2d5e0278728fc",
       "version_major": 2,
       "version_minor": 0
      },
      "text/plain": [
       "Canvas(toolbar=Toolbar(toolitems=[('Home', 'Reset original view', 'home', 'home'), ('Back', 'Back to previous …"
      ]
     },
     "metadata": {},
     "output_type": "display_data"
    },
    {
     "name": "stderr",
     "output_type": "stream",
     "text": [
      "100%|██████████| 101/101 [02:26<00:00,  1.45s/it]\n"
     ]
    },
    {
     "data": {
      "application/vnd.jupyter.widget-view+json": {
       "model_id": "f9f69a843a9d4061b1bf48369afa9f46",
       "version_major": 2,
       "version_minor": 0
      },
      "text/plain": [
       "Canvas(toolbar=Toolbar(toolitems=[('Home', 'Reset original view', 'home', 'home'), ('Back', 'Back to previous …"
      ]
     },
     "metadata": {},
     "output_type": "display_data"
    },
    {
     "name": "stderr",
     "output_type": "stream",
     "text": [
      "100%|██████████| 101/101 [02:21<00:00,  1.40s/it]\n"
     ]
    },
    {
     "data": {
      "application/vnd.jupyter.widget-view+json": {
       "model_id": "ca7d11c9ac57468393a1b53d3bcf11ac",
       "version_major": 2,
       "version_minor": 0
      },
      "text/plain": [
       "Canvas(toolbar=Toolbar(toolitems=[('Home', 'Reset original view', 'home', 'home'), ('Back', 'Back to previous …"
      ]
     },
     "metadata": {},
     "output_type": "display_data"
    },
    {
     "name": "stderr",
     "output_type": "stream",
     "text": [
      "100%|██████████| 101/101 [02:18<00:00,  1.37s/it]\n"
     ]
    },
    {
     "data": {
      "application/vnd.jupyter.widget-view+json": {
       "model_id": "fa6bfca71c184b90811edffcf1883b1b",
       "version_major": 2,
       "version_minor": 0
      },
      "text/plain": [
       "Canvas(toolbar=Toolbar(toolitems=[('Home', 'Reset original view', 'home', 'home'), ('Back', 'Back to previous …"
      ]
     },
     "metadata": {},
     "output_type": "display_data"
    },
    {
     "name": "stderr",
     "output_type": "stream",
     "text": [
      "100%|██████████| 101/101 [02:19<00:00,  1.38s/it]\n"
     ]
    },
    {
     "data": {
      "application/vnd.jupyter.widget-view+json": {
       "model_id": "a19b4552628a42349a5f7eee681db43a",
       "version_major": 2,
       "version_minor": 0
      },
      "text/plain": [
       "Canvas(toolbar=Toolbar(toolitems=[('Home', 'Reset original view', 'home', 'home'), ('Back', 'Back to previous …"
      ]
     },
     "metadata": {},
     "output_type": "display_data"
    }
   ],
   "source": [
    "x = {}\n",
    "y = {}\n",
    "z = {}\n",
    "rr = [250,300,350,400,500,600,700,800]\n",
    "for i,radius in enumerate(rr):\n",
    "    x2,y2,z2 = X22.moms.k_omega_diagram(varname='utot', radius=radius, mass=None, \n",
    "                                  dump_start=379, dump_stop=479, lmax_crop=120, vmin=-3.5, vmax=1, fmax=80)\n",
    "    x[i] = x2\n",
    "    y[i] = y2\n",
    "    z[i] = z2"
   ]
  },
  {
   "cell_type": "code",
   "execution_count": 14,
   "metadata": {},
   "outputs": [],
   "source": [
    "matplotlib.rcParams.update({'font.size': 12})"
   ]
  },
  {
   "cell_type": "code",
   "execution_count": 27,
   "metadata": {},
   "outputs": [
    {
     "data": {
      "application/vnd.jupyter.widget-view+json": {
       "model_id": "faae2fb8217c48268f89cba67520ecbd",
       "version_major": 2,
       "version_minor": 0
      },
      "text/plain": [
       "Canvas(toolbar=Toolbar(toolitems=[('Home', 'Reset original view', 'home', 'home'), ('Back', 'Back to previous …"
      ]
     },
     "metadata": {},
     "output_type": "display_data"
    }
   ],
   "source": [
    "close(44);figure(44)\n",
    "for i,r in enumerate(rr):\n",
    "    miny = min(abs(y[i][y[i]>0]))\n",
    "    loglog(y[i][y[i]>=miny],(np.sum(z[i][y[i]>=miny], axis=1)), \n",
    "         ut.linestyle(i)[0],\n",
    "         color=ut.linestylecb(i)[2],\n",
    "         markevery=.2,label=str(r)+r'$\\,$Mm')\n",
    "ylabel(r'power (m$^2\\,$s$^{-2}\\,$$\\mu{\\rm Hz}^{-1}$)')\n",
    "xlabel(r'Frequency ($\\mu$Hz)')\n",
    "xlim(None,110)\n",
    "ylim(1e-1,4e6)\n",
    "legend(frameon=False,ncol=2,fontsize=10,loc=3)\n",
    "ax = plt.gca()\n",
    "ax.tick_params(axis='both',direction='in',which='both')\n",
    "ax.yaxis.set_ticks_position('both')\n",
    "ax.xaxis.set_ticks_position('both')\n",
    "ax.set_xticks([1,10,100])\n",
    "ax.get_xaxis().set_major_formatter(matplotlib.ticker.ScalarFormatter())\n",
    "#ax.set_xticks([5])\n",
    "#ax.get_xaxis().set_minor_formatter(matplotlib.ticker.ScalarFormatter())\n",
    "text(0.9*100,2e6,'Bump setup',ha='right',va='top')\n",
    "savefig('power_time_X22.pdf', bbox_inches='tight')"
   ]
  },
  {
   "cell_type": "code",
   "execution_count": 18,
   "metadata": {
    "scrolled": false
   },
   "outputs": [
    {
     "name": "stderr",
     "output_type": "stream",
     "text": [
      "100%|██████████| 101/101 [02:22<00:00,  1.42s/it]\n"
     ]
    },
    {
     "data": {
      "application/vnd.jupyter.widget-view+json": {
       "model_id": "8789353a72ee45d7bba09d46d8ade801",
       "version_major": 2,
       "version_minor": 0
      },
      "text/plain": [
       "Canvas(toolbar=Toolbar(toolitems=[('Home', 'Reset original view', 'home', 'home'), ('Back', 'Back to previous …"
      ]
     },
     "metadata": {},
     "output_type": "display_data"
    },
    {
     "name": "stderr",
     "output_type": "stream",
     "text": [
      "100%|██████████| 101/101 [02:13<00:00,  1.32s/it]\n"
     ]
    },
    {
     "data": {
      "application/vnd.jupyter.widget-view+json": {
       "model_id": "aefd7998b9584cb3a0b4af5c998e7e75",
       "version_major": 2,
       "version_minor": 0
      },
      "text/plain": [
       "Canvas(toolbar=Toolbar(toolitems=[('Home', 'Reset original view', 'home', 'home'), ('Back', 'Back to previous …"
      ]
     },
     "metadata": {},
     "output_type": "display_data"
    },
    {
     "name": "stderr",
     "output_type": "stream",
     "text": [
      "100%|██████████| 101/101 [02:00<00:00,  1.19s/it]\n"
     ]
    },
    {
     "data": {
      "application/vnd.jupyter.widget-view+json": {
       "model_id": "feb8d8a4c56e445aba32ec7b66d4c6c1",
       "version_major": 2,
       "version_minor": 0
      },
      "text/plain": [
       "Canvas(toolbar=Toolbar(toolitems=[('Home', 'Reset original view', 'home', 'home'), ('Back', 'Back to previous …"
      ]
     },
     "metadata": {},
     "output_type": "display_data"
    },
    {
     "name": "stderr",
     "output_type": "stream",
     "text": [
      "100%|██████████| 101/101 [01:56<00:00,  1.16s/it]\n",
      "/home/f/fherwig/sblouin/scratch_sblouin/PyPPM/ppmpy/ppm.py:13212: RuntimeWarning: More than 20 figures have been opened. Figures created through the pyplot interface (`matplotlib.pyplot.figure`) are retained until explicitly closed and may consume too much memory. (To control this warning, see the rcParam `figure.max_open_warning`).\n",
      "  fig = pl.figure(figsize=(12,8))\n"
     ]
    },
    {
     "data": {
      "application/vnd.jupyter.widget-view+json": {
       "model_id": "72130beaf24145fab341ab89923132bb",
       "version_major": 2,
       "version_minor": 0
      },
      "text/plain": [
       "Canvas(toolbar=Toolbar(toolitems=[('Home', 'Reset original view', 'home', 'home'), ('Back', 'Back to previous …"
      ]
     },
     "metadata": {},
     "output_type": "display_data"
    },
    {
     "name": "stderr",
     "output_type": "stream",
     "text": [
      "100%|██████████| 101/101 [02:15<00:00,  1.34s/it]\n"
     ]
    },
    {
     "data": {
      "application/vnd.jupyter.widget-view+json": {
       "model_id": "696f03f71aa94cada9478735bb544950",
       "version_major": 2,
       "version_minor": 0
      },
      "text/plain": [
       "Canvas(toolbar=Toolbar(toolitems=[('Home', 'Reset original view', 'home', 'home'), ('Back', 'Back to previous …"
      ]
     },
     "metadata": {},
     "output_type": "display_data"
    },
    {
     "name": "stderr",
     "output_type": "stream",
     "text": [
      "100%|██████████| 101/101 [02:15<00:00,  1.35s/it]\n"
     ]
    },
    {
     "data": {
      "application/vnd.jupyter.widget-view+json": {
       "model_id": "e39dcd5e4f094717b3f5a202f35376e3",
       "version_major": 2,
       "version_minor": 0
      },
      "text/plain": [
       "Canvas(toolbar=Toolbar(toolitems=[('Home', 'Reset original view', 'home', 'home'), ('Back', 'Back to previous …"
      ]
     },
     "metadata": {},
     "output_type": "display_data"
    },
    {
     "name": "stderr",
     "output_type": "stream",
     "text": [
      "100%|██████████| 101/101 [02:23<00:00,  1.42s/it]\n"
     ]
    },
    {
     "data": {
      "application/vnd.jupyter.widget-view+json": {
       "model_id": "f8d024f49ffe47b2849ac8247711e4e3",
       "version_major": 2,
       "version_minor": 0
      },
      "text/plain": [
       "Canvas(toolbar=Toolbar(toolitems=[('Home', 'Reset original view', 'home', 'home'), ('Back', 'Back to previous …"
      ]
     },
     "metadata": {},
     "output_type": "display_data"
    },
    {
     "name": "stderr",
     "output_type": "stream",
     "text": [
      "100%|██████████| 101/101 [02:27<00:00,  1.46s/it]\n"
     ]
    },
    {
     "data": {
      "application/vnd.jupyter.widget-view+json": {
       "model_id": "670b5473d79149e4b7607b65ec46858f",
       "version_major": 2,
       "version_minor": 0
      },
      "text/plain": [
       "Canvas(toolbar=Toolbar(toolitems=[('Home', 'Reset original view', 'home', 'home'), ('Back', 'Back to previous …"
      ]
     },
     "metadata": {},
     "output_type": "display_data"
    }
   ],
   "source": [
    "xt = {}\n",
    "yt = {}\n",
    "zt = {}\n",
    "rr = [250,300,350,400,500,600,700,800]\n",
    "for i,radius in enumerate(rr):\n",
    "    x2,y2,z2 = X26.moms.k_omega_diagram(varname='utot', radius=radius, mass=None, \n",
    "                                  dump_start=410, dump_stop=510, lmax_crop=120, vmin=-3.5, vmax=1, fmax=80)\n",
    "    xt[i] = x2\n",
    "    yt[i] = y2\n",
    "    zt[i] = z2"
   ]
  },
  {
   "cell_type": "code",
   "execution_count": 26,
   "metadata": {},
   "outputs": [
    {
     "data": {
      "application/vnd.jupyter.widget-view+json": {
       "model_id": "bc48b65a7ab746b98187ea2435ce95d9",
       "version_major": 2,
       "version_minor": 0
      },
      "text/plain": [
       "Canvas(toolbar=Toolbar(toolitems=[('Home', 'Reset original view', 'home', 'home'), ('Back', 'Back to previous …"
      ]
     },
     "metadata": {},
     "output_type": "display_data"
    }
   ],
   "source": [
    "close(49);figure(49)\n",
    "for i,r in enumerate(rr):\n",
    "    miny = min(abs(yt[i][yt[i]>0]))\n",
    "    loglog(yt[i][yt[i]>=miny],(np.sum(zt[i][yt[i]>=miny], axis=1)), \n",
    "         ut.linestyle(i)[0],\n",
    "         color=ut.linestylecb(i)[2],\n",
    "         markevery=.2,label=str(r)+r'$\\,$Mm')\n",
    "ylabel(r'power (m$^2\\,$s$^{-2}\\,$$\\mu{\\rm Hz}^{-1}$)')\n",
    "xlabel(r'Frequency ($\\mu$Hz)')\n",
    "xlim(None,110)\n",
    "ylim(1e-1,4e6)\n",
    "#legend(frameon=False,ncol=2,fontsize=9.5)\n",
    "ax = plt.gca()\n",
    "ax.tick_params(axis='both',direction='in',which='both')\n",
    "ax.yaxis.set_ticks_position('both')\n",
    "ax.xaxis.set_ticks_position('both')\n",
    "ax.set_xticks([1,10,100])\n",
    "ax.get_xaxis().set_major_formatter(matplotlib.ticker.ScalarFormatter())\n",
    "#ax.set_xticks([5])\n",
    "#ax.get_xaxis().set_minor_formatter(matplotlib.ticker.ScalarFormatter())\n",
    "text(0.9*100,2*1e6,'Tip setup',ha='right',va='top')\n",
    "savefig('power_time_X26.pdf', bbox_inches='tight')"
   ]
  },
  {
   "cell_type": "code",
   "execution_count": null,
   "metadata": {},
   "outputs": [],
   "source": []
  }
 ],
 "metadata": {
  "kernelspec": {
   "display_name": "scinet-conda /project/f/fherwig/fherwig/PythonVirtual/sciconda-astrohub2",
   "language": "python",
   "name": "scinet_conda_project_f_fherwig_fherwig_pythonvirtual_sciconda_astrohub2"
  },
  "language_info": {
   "codemirror_mode": {
    "name": "ipython",
    "version": 3
   },
   "file_extension": ".py",
   "mimetype": "text/x-python",
   "name": "python",
   "nbconvert_exporter": "python",
   "pygments_lexer": "ipython3",
   "version": "3.8.5"
  }
 },
 "nbformat": 4,
 "nbformat_minor": 4
}

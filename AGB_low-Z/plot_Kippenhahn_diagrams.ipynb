{
 "cells": [
  {
   "cell_type": "markdown",
   "metadata": {},
   "source": [
    "# Kippenhahn Diagram\n",
    "\n",
    "This notebook works with ppmstarhub:1.2.6 on [Astrohub](https://astrohub.uvic.ca) and on [PPMstar.org](https://astrohub.ppmstar.org)\n"
   ]
  },
  {
   "cell_type": "code",
   "execution_count": null,
   "metadata": {},
   "outputs": [],
   "source": [
    "%pylab ipympl\n",
    "from ppmpy import ppm\n",
    "from nugridpy import mesa as ms\n",
    "import numpy as np\n",
    "import matplotlib.pyplot as plt\n",
    "from nugridpy.utils import colourblind as cb\n",
    "\n",
    "data_dir='/data/ASDR/CSA/'\n",
    "logging.getLogger(\"matplotlib\").setLevel(logging.ERROR)"
   ]
  },
  {
   "cell_type": "code",
   "execution_count": null,
   "metadata": {},
   "outputs": [],
   "source": [
    "model_dir = data_dir+'/Stellar_models/Set_M2Zrange/M2.00Z1.e-5/LOGS/'\n",
    "hd = ms.history_data(model_dir)"
   ]
  },
  {
   "cell_type": "code",
   "execution_count": null,
   "metadata": {},
   "outputs": [],
   "source": [
    "modstart = 15000\n",
    "modstop = 32000\n",
    "#modstart = 29400\n",
    "#modstop = 29900\n",
    "xres = 2000\n",
    "yres = 2000\n",
    "ylims = [0.605, 0.64]\n",
    "figsize=(10, 6)\n",
    "dpi = 125\n",
    "# figsize = None\n",
    "# dpi = None\n",
    "\n",
    "ppm_mod_num = 24150\n",
    "mod_num = hd.get('model_number')\n",
    "age = hd.get('star_age')\n",
    "idx = np.argmin(np.abs(mod_num - ppm_mod_num))\n",
    "ppm_age = age[idx]\n",
    "\n",
    "idx0 = np.argmin(np.abs(mod_num - modstart))\n",
    "age0 = age[idx0]\n",
    "\n",
    "ifig = 1; plt.close(ifig); fig = plt.figure(ifig, figsize=figsize, dpi=dpi)\n",
    "hd.kip_cont(ifig=ifig, modstart=modstart, modstop=modstop, \\\n",
    "            t0_model=modstart, ixaxis='age', xres=xres, yres=yres, ylims=ylims)\n",
    "plt.gca().ticklabel_format(style='sci', scilimits=(0,0), axis='both')\n",
    "plt.axvline(ppm_age - age0, ls=':', color=cb(8))\n",
    "plt.xlabel('t / yr')\n",
    "fig.tight_layout()"
   ]
  },
  {
   "cell_type": "code",
   "execution_count": null,
   "metadata": {},
   "outputs": [],
   "source": [
    "# modstart = 29400\n",
    "# modstop = 29850\n",
    "modstart = 27900\n",
    "modstop = 29700\n",
    "xres = 2000\n",
    "yres = 2000\n",
    "ylims = [0.605, 0.64]\n",
    "figsize=(10, 6)\n",
    "dpi = 125\n",
    "# figsize = None\n",
    "# dpi = None\n",
    "\n",
    "ifig = 2; plt.close(ifig); fig = plt.figure(ifig, figsize=figsize, dpi=dpi)\n",
    "hd.kip_cont(ifig=ifig, modstart=modstart, modstop=modstop, \\\n",
    "            t0_model=modstart, ixaxis='age', xres=xres, yres=yres, ylims=ylims)\n",
    "plt.gca().ticklabel_format(style='sci', scilimits=(0,0), axis='both')\n",
    "plt.xlabel('t / yr')\n",
    "fig.tight_layout()"
   ]
  },
  {
   "cell_type": "code",
   "execution_count": null,
   "metadata": {},
   "outputs": [],
   "source": [
    "pwd"
   ]
  },
  {
   "cell_type": "code",
   "execution_count": null,
   "metadata": {},
   "outputs": [],
   "source": []
  }
 ],
 "metadata": {
  "kernelspec": {
   "display_name": "Python 3",
   "language": "python",
   "name": "python3"
  },
  "language_info": {
   "codemirror_mode": {
    "name": "ipython",
    "version": 3
   },
   "file_extension": ".py",
   "mimetype": "text/x-python",
   "name": "python",
   "nbconvert_exporter": "python",
   "pygments_lexer": "ipython3",
   "version": "3.6.8"
  }
 },
 "nbformat": 4,
 "nbformat_minor": 4
}

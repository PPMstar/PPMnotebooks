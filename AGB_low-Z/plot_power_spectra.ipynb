{
 "cells": [
  {
   "cell_type": "markdown",
   "metadata": {},
   "source": [
    "# Power Spectra"
   ]
  },
  {
   "cell_type": "code",
   "execution_count": null,
   "metadata": {},
   "outputs": [],
   "source": [
    "%pylab ipympl\n",
    "from ppmpy import ppm\n",
    "import matplotlib.pyplot as pl\n",
    "from nugridpy.utils import colourblind as cb"
   ]
  },
  {
   "cell_type": "code",
   "execution_count": null,
   "metadata": {},
   "outputs": [],
   "source": [
    "logging.getLogger(\"matplotlib\").setLevel(logging.ERROR)"
   ]
  },
  {
   "cell_type": "code",
   "execution_count": null,
   "metadata": {},
   "outputs": [],
   "source": [
    "data_dir = '/data/ASDR/PPMstar/rpod2_PPMstar/'"
   ]
  },
  {
   "cell_type": "code",
   "execution_count": null,
   "metadata": {},
   "outputs": [],
   "source": [
    "ppm.set_YProf_path(data_dir+'YProfiles/AGBTP_M2.0Z1.e-5/')\n",
    "F4 = ppm.yprofile('F4')"
   ]
  },
  {
   "cell_type": "code",
   "execution_count": null,
   "metadata": {},
   "outputs": [],
   "source": [
    "spec_dir = data_dir+'/spectra/AGBTP_M2.0Z1.e-5/F4/F4-Ur-22.0/'\n",
    "spec_dir"
   ]
  },
  {
   "cell_type": "code",
   "execution_count": null,
   "metadata": {},
   "outputs": [],
   "source": [
    "#ls /data/ASDR/PPMstar/rpod2_PPMstar//spectra/AGBTP_M2.0Z1.e-5/F4/F4-Ur-22.0"
   ]
  },
  {
   "cell_type": "code",
   "execution_count": null,
   "metadata": {},
   "outputs": [],
   "source": [
    "dumps = [160, 340, 520, 700, 900]\n",
    "markers = ['v', '^', '<', '>', 'o', 's']\n",
    "colours = [9, 3, 5, 8, 1, 6]"
   ]
  },
  {
   "cell_type": "code",
   "execution_count": null,
   "metadata": {},
   "outputs": [],
   "source": [
    "ifig = 1; pl.close(ifig); pl.figure(ifig)\n",
    "for i in range(len(dumps)):\n",
    "    t = F4.get('t', fname = dumps[i] - 1, resolution = 'l', silent = False)[-1]\n",
    "    \n",
    "    rad = 22.0\n",
    "    fname = spec_dir + 'LZagb-{:04d}-Ur-{:02.1f}.ylmspc'.format(dumps[i], rad)\n",
    "    data = np.loadtxt(fname)\n",
    "    \n",
    "    L = data[:, 0]\n",
    "    k = np.sqrt(L*(L + 1.))/rad\n",
    "    power_dat = data[:, 1]\n",
    "    \n",
    "    pl.loglog(k, power_dat, '-', lw=0.5, color=cb(colours[i]), marker=markers[i], \\\n",
    "               markevery=1, markersize=3., label='t = {:.0f} min'.format(t/60.))\n",
    "    \n",
    "pl.loglog(k[10:], 1.25e-5*k[10:]**(-5./3.), 'k-', lw=1., label=r'k$^{-5/3}$')\n",
    "    \n",
    "pl.legend(loc=1, ncol=1)\n",
    "pl.xlim((6e-2, 5e0))\n",
    "pl.ylim((5e-7, 1e-3))\n",
    "pl.xlabel(r'k / Mm$^{-1}$')\n",
    "pl.ylabel('spectral power')\n",
    "pl.tight_layout()"
   ]
  },
  {
   "cell_type": "code",
   "execution_count": null,
   "metadata": {},
   "outputs": [],
   "source": []
  }
 ],
 "metadata": {
  "kernelspec": {
   "display_name": "Python 3",
   "language": "python",
   "name": "python3"
  },
  "language_info": {
   "codemirror_mode": {
    "name": "ipython",
    "version": 3
   },
   "file_extension": ".py",
   "mimetype": "text/x-python",
   "name": "python",
   "nbconvert_exporter": "python",
   "pygments_lexer": "ipython3",
   "version": "3.6.8"
  }
 },
 "nbformat": 4,
 "nbformat_minor": 4
}

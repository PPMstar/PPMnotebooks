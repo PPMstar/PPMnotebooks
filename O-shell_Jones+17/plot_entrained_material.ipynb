{
 "cells": [
  {
   "cell_type": "markdown",
   "metadata": {},
   "source": [
    "# Entrained Material\n",
    "\n",
    "This notebook works with ppmstarhub:1.2.6 on [Astrohub](https://astrohub.uvic.ca) and on [PPMstar.org](https://astrohub.ppmstar.org)"
   ]
  },
  {
   "cell_type": "code",
   "execution_count": null,
   "metadata": {},
   "outputs": [],
   "source": [
    "%pylab ipympl\n",
    "from ppmpy import ppm\n",
    "import os\n",
    "\n",
    "data_dir = '/data/ASDR/PPMstar/rpod2_PPMstar/YProfiles'\n",
    "project = 'O-shell-M25'\n",
    "\n",
    "mpl_logger = logging.getLogger('matplotlib')\n",
    "mpl_logger.setLevel(logging.WARNING)"
   ]
  },
  {
   "cell_type": "code",
   "execution_count": null,
   "metadata": {},
   "outputs": [],
   "source": [
    "ppm.set_YProf_path(os.path.join(data_dir,project))"
   ]
  },
  {
   "cell_type": "code",
   "execution_count": null,
   "metadata": {},
   "outputs": [],
   "source": [
    "D1 = ppm.yprofile('D1')\n",
    "D2 = ppm.yprofile('D2')\n",
    "D1.entrainment_rate(range(150, 332, 10), 7.5, 8.5, var = 'vxz',\n",
    "                     criterion = 'min_grad', offset = -1.,\n",
    "                     integrate_both_fluids = False, ifig0 = 18,\n",
    "                     mdot_curve_label = r'D1 $\\left( 768^3 \\right)$')"
   ]
  },
  {
   "cell_type": "code",
   "execution_count": null,
   "metadata": {},
   "outputs": [],
   "source": [
    "cases = ('D1', 'D8', 'D5', 'D6', 'D9', 'D10')\n",
    "c0 = (241,154,142,155,123,78)  \n",
    "ppm.plot_entr_v_ut(cases,c0,10,7.5,8.5,'tangential','max','$768^3$',ifig = 3,\n",
    "                  integrate_both_fluids = False)\n",
    "xlim(1.4,2.4);ylim(-6.5,-3.6)"
   ]
  },
  {
   "cell_type": "code",
   "execution_count": null,
   "metadata": {},
   "outputs": [],
   "source": [
    "ppm.compare_entrained_material?"
   ]
  },
  {
   "cell_type": "code",
   "execution_count": null,
   "metadata": {},
   "outputs": [],
   "source": [
    "H1 = ppm.yprofile('/data/ASDR/PPMstar/rpod2_PPMstar/YProfiles/agb-entrainment-convergence/H1')\n",
    "ppm.compare_entrained_material([H1,D2],['O shell','AGB'], fname = 271)\n",
    "xlim(250,None)"
   ]
  },
  {
   "cell_type": "code",
   "execution_count": null,
   "metadata": {},
   "outputs": [],
   "source": [
    "D1.prof_time([0,3,4,5,10,15,20],yaxis_thing = 'FV',\n",
    "             logy=True,num_type='time',markevery = 50)"
   ]
  },
  {
   "cell_type": "code",
   "execution_count": null,
   "metadata": {},
   "outputs": [],
   "source": []
  }
 ],
 "metadata": {
  "kernelspec": {
   "display_name": "Python 3",
   "language": "python",
   "name": "python3"
  },
  "language_info": {
   "codemirror_mode": {
    "name": "ipython",
    "version": 3
   },
   "file_extension": ".py",
   "mimetype": "text/x-python",
   "name": "python",
   "nbconvert_exporter": "python",
   "pygments_lexer": "ipython3",
   "version": "3.6.8"
  }
 },
 "nbformat": 4,
 "nbformat_minor": 4
}

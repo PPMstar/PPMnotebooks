{
 "cells": [
  {
   "cell_type": "code",
   "execution_count": 1,
   "metadata": {},
   "outputs": [],
   "source": [
    "# %pylab\n",
    "%matplotlib inline\n",
    "# %pylab ipympl\n",
    "import numpy as np\n",
    "import matplotlib.pyplot as plt\n",
    "import matplotlib.tri as tri\n",
    "import matplotlib.colors as colors\n",
    "import scipy.integrate\n",
    "import sys\n",
    "import os\n",
    "import time\n",
    "import logging\n",
    "import collections\n",
    "\n",
    "import pickle\n",
    "import matplotlib.patches as patches\n",
    "\n",
    "# my modules\n",
    "# sys.path.insert(0,'/user/scratch14_csa/dstephens/OldNugridpy/')\n",
    "import nugridpy.ascii_table as table\n",
    "from nugridpy import nugridse as nuse\n",
    "from astropy import constants as const\n",
    "from astropy import units as u\n",
    "import nugridpy.utils as utils\n",
    "import nugridpy.astronomy as ast\n",
    "\n",
    "Msun = (const.M_sun.to(u.g)).value\n",
    "Rsun = (const.R_sun.to(u.cm)).value\n",
    "\n",
    "sys.path.insert(0,'/user/scratch14_csa/dstephens/advection-streams/')\n",
    "import hydromixing.mixer as mixer\n",
    "\n",
    "sys.path.insert(0,'/user/scratch14_csa/dstephens/PyPPM/')\n",
    "from ppmpy import ppm\n",
    "\n",
    "import matplotlib as mpl\n",
    "\n",
    "cb = utils.linestylecb # colours\n",
    "\n",
    "# plot things\n",
    "ifig = 0\n",
    "celln = 0\n",
    "ptrack = {}\n",
    "\n",
    "# turn off matplotlib messages\n",
    "logging.getLogger(\"matplotlib\").setLevel(logging.ERROR)\n",
    "\n",
    "plt.rc('xtick', labelsize=7)\n",
    "plt.rc('ytick', labelsize=7)"
   ]
  },
  {
   "cell_type": "code",
   "execution_count": 2,
   "metadata": {},
   "outputs": [],
   "source": [
    "def get_nsubt(initbase, simDump0, simDumpMax):\n",
    "    \n",
    "    # return an array with the nsubt timesteps taken at every dump within the simulation time\n",
    "    \n",
    "    # what dumps are we going to read in\n",
    "    dumps = list(range(simDump0, simDumpMax+1))\n",
    "    nsubt = np.zeros(len(dumps), dtype=np.int16)\n",
    "    stream = mixer.Stream(initbase, 'advection', initdump=simDump0)\n",
    "    stream.readFile(initbase, 'advection', 'shell', simDump0)\n",
    "    \n",
    "    for i,dump in enumerate(dumps):\n",
    "\n",
    "        # read in file\n",
    "        stream.readFile(initbase, 'advection', 'shell', dump)\n",
    "        nsubt[i] = int(stream.shellHeaders['subtimesteps'])\n",
    "        \n",
    "    return nsubt\n",
    "\n",
    "def removelists(se, get_quantity, cycle):\n",
    "    \n",
    "    # with all mppnp runs there is a possibility of getting a list of results. Take the last one\n",
    "    got_quantity = se.get(int(cycle), get_quantity)\n",
    "    \n",
    "    # I have ~250 zones in all, if its len is small, it is a list\n",
    "    if len(got_quantity) < 100:\n",
    "        got_quantity = got_quantity[0]\n",
    "    \n",
    "    return got_quantity\n",
    "\n",
    "# get the correpsonding cycle from a ppmstar dump\n",
    "def dump2cycle(nrepeat, nsubt, dump, simDump0):\n",
    "    if dump == simDump0:\n",
    "        return int(nrepeat)\n",
    "    else:\n",
    "        return int(nrepeat + nsubt[0:(dump-simDump0)].sum())\n",
    "\n",
    "# use remove print to console at certain points then return\n",
    "class RedirectStdStreams(object):\n",
    "    def __init__(self, stdout=None, stderr=None):\n",
    "        self._stdout = stdout or sys.stdout\n",
    "        self._stderr = stderr or sys.stderr\n",
    "\n",
    "    def __enter__(self):\n",
    "        self.old_stdout, self.old_stderr = sys.stdout, sys.stderr\n",
    "        self.old_stdout.flush(); self.old_stderr.flush()\n",
    "        sys.stdout, sys.stderr = self._stdout, self._stderr\n",
    "\n",
    "    def __exit__(self, exc_type, exc_value, traceback):\n",
    "        self._stdout.flush(); self._stderr.flush()\n",
    "        sys.stdout = self.old_stdout\n",
    "        sys.stderr = self.old_stderr"
   ]
  },
  {
   "cell_type": "code",
   "execution_count": 3,
   "metadata": {},
   "outputs": [],
   "source": [
    "# which ppmstar run you are comparing profiles with?\n",
    "myrun = 'n16'"
   ]
  },
  {
   "cell_type": "markdown",
   "metadata": {},
   "source": [
    "information that is always needed"
   ]
  },
  {
   "cell_type": "code",
   "execution_count": 4,
   "metadata": {},
   "outputs": [],
   "source": [
    "# ppmstar rprof to get\n",
    "all_runs = ['n15','n16','n17']\n",
    "all_rprofdirs = ['/data/ASDR/PPMstar/LowZRAWD/N15-LowZRAWD-768-10x-burn-moms/prfs/',\n",
    "                '/data/ASDR/PPMstar/LowZRAWD/N16-LowZRAWD-1536-10x-burn-moms/prfs/',\n",
    "                '/data/ASDR/PPMstar/LowZRAWD/N17-LowZRAWD-1152-100x-burn-moms/prfs/']\n",
    "\n",
    "allrprofs = dict(zip(all_runs, all_rprofdirs))\n",
    "\n",
    "# where are the runs shell files? We also need each offset of repeating cycles and their nsubt\n",
    "initbase_list = ['/data/niagara_project/projects/3D1D-advection/N15_shell_files/N15-standard-mppnp/N15-standard-mppnp',\n",
    "                '/data/niagara_project/projects/3D1D-advection/N16_shell_files/N16-standard-mppnp/N16-standard-mppnp',\n",
    "                '/data/niagara_project/projects/3D1D-advection/N17_shell_files/N17-standard-mppnp/N17-standard-mppnp']\n",
    "initbase = dict(zip(all_runs, initbase_list))\n",
    "\n",
    "mysimDump0 = 100\n",
    "allFiles = [afile for afile in os.listdir(os.path.dirname(initbase[myrun]))]\n",
    "allShellFiles = [afile for afile in allFiles if afile.endswith('.shell')]\n",
    "mysimDumpMax = len(allShellFiles) + mysimDump0 - 1\n",
    "\n",
    "# the number of nsubt for a given run by counting the subtime steps\n",
    "run_nsubt = get_nsubt(initbase[myrun], mysimDump0, mysimDumpMax)"
   ]
  },
  {
   "cell_type": "markdown",
   "metadata": {},
   "source": [
    "Collect the data for plotting. Includes plotting lists for the data"
   ]
  },
  {
   "cell_type": "code",
   "execution_count": 5,
   "metadata": {},
   "outputs": [
    {
     "name": "stdout",
     "output_type": "stream",
     "text": [
      "1618 rprof files found in '/data/ASDR/PPMstar/LowZRAWD/N16-LowZRAWD-1536-10x-burn-moms/prfs/.\n",
      "Dump numbers range from 0 to 1617.\n"
     ]
    }
   ],
   "source": [
    "# my rprof from PPMStar\n",
    "myrprof = ppm.RprofSet(allrprofs[myrun])"
   ]
  },
  {
   "cell_type": "code",
   "execution_count": 6,
   "metadata": {},
   "outputs": [],
   "source": [
    "# rprof constants\n",
    "atomicnoH = 1.\n",
    "atomicnoC12 = 12.\n",
    "atomicnocld = myrprof.get('atomicnocld',fname=0)\n",
    "atomicnoair = myrprof.get('atomicnoair',fname=0)\n",
    "fkcld = myrprof.get('fkcld',fname=0)\n",
    "fkair = myrprof.get('fkair',fname=0)\n",
    "cldmu = myrprof.get('cldmu',fname=0)\n",
    "airmu = myrprof.get('airmu',fname=0)"
   ]
  },
  {
   "cell_type": "code",
   "execution_count": 7,
   "metadata": {},
   "outputs": [],
   "source": [
    "tau_conv = 16"
   ]
  },
  {
   "cell_type": "markdown",
   "metadata": {},
   "source": [
    "Change what you want to plot with **species_label**, change the dump with **dump_plot**. You can remove Jones easily from the plotting with removing 'Jones' from the list of **se_labels**"
   ]
  },
  {
   "cell_type": "code",
   "execution_count": 8,
   "metadata": {},
   "outputs": [],
   "source": [
    "# labels for when we loop through runs\n",
    "se_labels = ['up', 'down', 'DFV', 'Jones']\n",
    "se_linestyle = ['--', '-.', '-', ':']\n",
    "\n",
    "# labels for when we loop through species\n",
    "species_label = ['Kr-88', 'Kr-89', 'Kr-90']\n",
    "\n",
    "species_color = list(map(lambda x: cb(x+1)[2], np.arange(len(species_label))))\n",
    "\n",
    "# dump to plot\n",
    "dump_plot = 1200\n",
    "\n",
    "# plot ylimit\n",
    "ylims = [1e-20, 1e-8]\n",
    "\n",
    "# savefig?\n",
    "ifsavefig = False\n",
    "savefig = 'N16-Kr-isotopes.png'"
   ]
  },
  {
   "cell_type": "markdown",
   "metadata": {},
   "source": [
    "What are the the number of repeats of the first cycle? What are the number of subtimesteps between each dump?"
   ]
  },
  {
   "cell_type": "code",
   "execution_count": 9,
   "metadata": {},
   "outputs": [],
   "source": [
    "se_nsubt = [run_nsubt, run_nsubt, run_nsubt, run_nsubt]\n",
    "se_nrepeat = [100, 100, 100, 100]"
   ]
  },
  {
   "cell_type": "markdown",
   "metadata": {},
   "source": [
    "Based on the plotting dump, we will read in the appropriate se file to speed things up"
   ]
  },
  {
   "cell_type": "code",
   "execution_count": 10,
   "metadata": {},
   "outputs": [
    {
     "name": "stdout",
     "output_type": "stream",
     "text": [
      "ls: cannot access '/data/niagara_project/projects/3D1D-advection/mppnp-paper-data/*mp11': No such file or directory\n"
     ]
    }
   ],
   "source": [
    "ls -d /data/niagara_project/projects/3D1D-advection/mppnp-paper-data/*mp11"
   ]
  },
  {
   "cell_type": "code",
   "execution_count": 11,
   "metadata": {},
   "outputs": [
    {
     "ename": "FileNotFoundError",
     "evalue": "[Errno 2] No such file or directory: '/data/niagara_project/projects/3D1D-advection/mppnp-paper-data/H5_out_mes_mp11'",
     "output_type": "error",
     "traceback": [
      "\u001b[0;31m---------------------------------------------------------------------------\u001b[0m",
      "\u001b[0;31mFileNotFoundError\u001b[0m                         Traceback (most recent call last)",
      "\u001b[0;32m<ipython-input-11-ae803c0d1405>\u001b[0m in \u001b[0;36m<module>\u001b[0;34m\u001b[0m\n\u001b[1;32m     27\u001b[0m \u001b[0;34m\u001b[0m\u001b[0m\n\u001b[1;32m     28\u001b[0m     \u001b[0;32mfor\u001b[0m \u001b[0mmppnp_dir\u001b[0m\u001b[0;34m,\u001b[0m \u001b[0mblock\u001b[0m \u001b[0;32min\u001b[0m \u001b[0mzip\u001b[0m\u001b[0;34m(\u001b[0m\u001b[0mmppnp_dirs\u001b[0m\u001b[0;34m,\u001b[0m \u001b[0mblock_name\u001b[0m\u001b[0;34m)\u001b[0m\u001b[0;34m:\u001b[0m\u001b[0;34m\u001b[0m\u001b[0;34m\u001b[0m\u001b[0m\n\u001b[0;32m---> 29\u001b[0;31m         \u001b[0mse_files\u001b[0m\u001b[0;34m.\u001b[0m\u001b[0mappend\u001b[0m\u001b[0;34m(\u001b[0m\u001b[0mnuse\u001b[0m\u001b[0;34m.\u001b[0m\u001b[0mse\u001b[0m\u001b[0;34m(\u001b[0m\u001b[0mmppnp_dir\u001b[0m\u001b[0;34m,\u001b[0m \u001b[0mpattern\u001b[0m\u001b[0;34m=\u001b[0m\u001b[0mstr\u001b[0m\u001b[0;34m(\u001b[0m\u001b[0mblock\u001b[0m\u001b[0;34m)\u001b[0m\u001b[0;34m)\u001b[0m\u001b[0;34m)\u001b[0m\u001b[0;34m\u001b[0m\u001b[0;34m\u001b[0m\u001b[0m\n\u001b[0m\u001b[1;32m     30\u001b[0m \u001b[0;34m\u001b[0m\u001b[0m\n\u001b[1;32m     31\u001b[0m     \u001b[0mmyfacrad\u001b[0m \u001b[0;34m=\u001b[0m \u001b[0;34m(\u001b[0m\u001b[0mse_files\u001b[0m\u001b[0;34m[\u001b[0m\u001b[0;36m0\u001b[0m\u001b[0;34m]\u001b[0m\u001b[0;34m.\u001b[0m\u001b[0mget\u001b[0m\u001b[0;34m(\u001b[0m\u001b[0;34m'radius_unit'\u001b[0m\u001b[0;34m)\u001b[0m \u001b[0;34m/\u001b[0m \u001b[0mRsun\u001b[0m\u001b[0;34m)\u001b[0m\u001b[0;34m\u001b[0m\u001b[0;34m\u001b[0m\u001b[0m\n",
      "\u001b[0;32m/usr/local/lib/python3.6/dist-packages/nugridpy/nugridse.py\u001b[0m in \u001b[0;36m__init__\u001b[0;34m(self, sedir, pattern, rewrite, mass, Z, type, output, code_source, exp_type, data_set, verbose)\u001b[0m\n\u001b[1;32m    307\u001b[0m             \u001b[0mprint\u001b[0m\u001b[0;34m(\u001b[0m\u001b[0;34m'sedir = '\u001b[0m\u001b[0;34m,\u001b[0m \u001b[0msedir\u001b[0m\u001b[0;34m)\u001b[0m\u001b[0;34m\u001b[0m\u001b[0;34m\u001b[0m\u001b[0m\n\u001b[1;32m    308\u001b[0m \u001b[0;34m\u001b[0m\u001b[0m\n\u001b[0;32m--> 309\u001b[0;31m         \u001b[0mslist\u001b[0m \u001b[0;34m=\u001b[0m \u001b[0mos\u001b[0m\u001b[0;34m.\u001b[0m\u001b[0mlistdir\u001b[0m\u001b[0;34m(\u001b[0m\u001b[0msedir\u001b[0m\u001b[0;34m)\u001b[0m\u001b[0;34m\u001b[0m\u001b[0;34m\u001b[0m\u001b[0m\n\u001b[0m\u001b[1;32m    310\u001b[0m         \u001b[0mself\u001b[0m\u001b[0;34m.\u001b[0m\u001b[0mpattern\u001b[0m\u001b[0;34m=\u001b[0m\u001b[0mpattern\u001b[0m\u001b[0;34m\u001b[0m\u001b[0;34m\u001b[0m\u001b[0m\n\u001b[1;32m    311\u001b[0m         \u001b[0mexpr\u001b[0m \u001b[0;34m=\u001b[0m \u001b[0mre\u001b[0m\u001b[0;34m.\u001b[0m\u001b[0mcompile\u001b[0m\u001b[0;34m(\u001b[0m\u001b[0mpattern\u001b[0m\u001b[0;34m)\u001b[0m\u001b[0;34m\u001b[0m\u001b[0;34m\u001b[0m\u001b[0m\n",
      "\u001b[0;31mFileNotFoundError\u001b[0m: [Errno 2] No such file or directory: '/data/niagara_project/projects/3D1D-advection/mppnp-paper-data/H5_out_mes_mp11'"
     ]
    }
   ],
   "source": [
    "# mppnp data\n",
    "# mppnp1 = '/user/cedar_scratch_djstephe/mppnp/H5_out_up_ppm_N16_ext_nsubt1_new'\n",
    "# mppnp2 = '/user/cedar_scratch_djstephe/mppnp/H5_out_down_ppm_N16_ext_nsubt1_new'\n",
    "# mppnp3 = '/user/niagara_scratch_pavelden/RUN_MP5/H5_out'\n",
    "# mppnp4 = '/user/cedar_scratch_djstephe/mppnp/H5_out_mes_N16_ext_nsubt1_new'\n",
    "\n",
    "mppnp1 = '/data/niagara_project/projects/3D1D-advection/mppnp-paper-data/H5_out_up_mp6'\n",
    "mppnp2 = '/data/niagara_project/projects/3D1D-advection/mppnp-paper-data/H5_out_down_mp6'\n",
    "mppnp3 = '/data/niagara_project/projects/3D1D-advection/mppnp-paper-data/H5_out_mes_mp5'\n",
    "mppnp4 = '/data/niagara_project/projects/3D1D-advection/mppnp-paper-data/H5_out_mes_mp11'\n",
    "mppnp_dirs = [mppnp1, mppnp2, mppnp3, mppnp4]\n",
    "\n",
    "# to work with the mppnp data\n",
    "se_blocks = [1000, 1000, 1000, 10000]\n",
    "se_suffix = ['out_up.h5', 'out_down.h5', 'out.h5', 'out.h5']\n",
    "se_name = 'my_test_adv'\n",
    "\n",
    "# determine the \"block\" we want to read\n",
    "block_name = []\n",
    "for i,block in enumerate(se_blocks):\n",
    "    cycle = dump2cycle(se_nrepeat[i], se_nsubt[i], dump_plot, mysimDump0)\n",
    "    block_name.append(cycle - cycle%block+1)\n",
    "    \n",
    "se_files = []\n",
    "devnull = open(os.devnull, 'w')\n",
    "with RedirectStdStreams(stdout=devnull, stderr=devnull):\n",
    "    \n",
    "    for mppnp_dir, block in zip(mppnp_dirs, block_name):\n",
    "        se_files.append(nuse.se(mppnp_dir, pattern=str(block)))\n",
    "\n",
    "    myfacrad = (se_files[0].get('radius_unit') / Rsun)"
   ]
  },
  {
   "cell_type": "markdown",
   "metadata": {},
   "source": [
    "## Plot"
   ]
  },
  {
   "cell_type": "code",
   "execution_count": null,
   "metadata": {},
   "outputs": [],
   "source": [
    "# celln\n",
    "celln += 1\n",
    "\n",
    "# configure plots\n",
    "close_local = ppm.close_plot(celln,ifig,ptrack)\n",
    "if close_local[0]:\n",
    "    plt.close(fig); ifig += 1; fig = plt.figure(ifig,figsize=(4,3),dpi=300)\n",
    "    ppm.add_plot(celln,ifig,ptrack)\n",
    "else:\n",
    "    ifig += 1; fig = plt.figure(ifig,figsize=(4,3),dpi=300)\n",
    "    ppm.add_plot(celln,ifig,ptrack)\n",
    "\n",
    "ax = fig.add_subplot(111)\n",
    "cbc = 0\n",
    "\n",
    "# get the radius\n",
    "r = removelists(se_files[0], 'radius', dump2cycle(se_nrepeat[0], se_nsubt[0], dump_plot, mysimDump0)) / myfacrad\n",
    "\n",
    "# PLOT PPMSTAR FIRST\n",
    "# r_rprof = myrprof.get('R',fname=dump_plot,resolution='l')\n",
    "# Xcld_rprof = myrprof.compute_Xcld(dump_plot)\n",
    "# XH_rprof = Xcld_rprof * fkcld * atomicnoH / atomicnocld\n",
    "\n",
    "# ax.plot(r_rprof, XH_rprof, color=cb(cbc)[2], ls=cb(cbc)[0], label='PPMStar')\n",
    "# cbc += 1\n",
    "\n",
    "# now loop over the se_files\n",
    "cb_lines = -1\n",
    "\n",
    "for i,myse in enumerate(se_files):\n",
    "    \n",
    "    # change the color of the lines based on species while linestyle is run based\n",
    "    cb_lines += 1\n",
    "    cb_color = 0\n",
    "    \n",
    "    for j,specie in enumerate(species_label):\n",
    "        \n",
    "        # get the species\n",
    "        aspecies = removelists(myse, specie, dump2cycle(se_nrepeat[i], se_nsubt[i], dump_plot, mysimDump0))\n",
    "        \n",
    "        # if neutron is aspecies\n",
    "#         aspecies *= removelists(myse, 'rho', dump2cycle(se_nrepeat[i], se_nsubt[i], dump_plot, mysimDump0)) / 1.66e-24\n",
    "        \n",
    "        if i == 0:\n",
    "            ax.plot(r, aspecies, color=species_color[cb_color], ls=se_linestyle[cb_lines], \n",
    "                    label=specie)\n",
    "        else:\n",
    "            ax.plot(r, aspecies, color=species_color[cb_color], ls=se_linestyle[cb_lines])\n",
    "        cb_color += 1\n",
    "\n",
    "# other plot details\n",
    "ax.set_xlabel('r / Mm')\n",
    "ax.set_ylabel('X')\n",
    "ax.set_yscale('log')\n",
    "ax.set_ylim(ylims)\n",
    "ax.set_xlim([r.min(), r.max()])\n",
    "ax.legend(frameon=False, loc='lower right', fontsize=7)\n",
    "\n",
    "# savefig\n",
    "fig.tight_layout()\n",
    "\n",
    "if ifsavefig:\n",
    "    fig.savefig(savefig)"
   ]
  },
  {
   "cell_type": "code",
   "execution_count": null,
   "metadata": {},
   "outputs": [],
   "source": []
  }
 ],
 "metadata": {
  "kernelspec": {
   "display_name": "Python 3",
   "language": "python",
   "name": "python3"
  },
  "language_info": {
   "codemirror_mode": {
    "name": "ipython",
    "version": 3
   },
   "file_extension": ".py",
   "mimetype": "text/x-python",
   "name": "python",
   "nbconvert_exporter": "python",
   "pygments_lexer": "ipython3",
   "version": "3.6.8"
  }
 },
 "nbformat": 4,
 "nbformat_minor": 4
}

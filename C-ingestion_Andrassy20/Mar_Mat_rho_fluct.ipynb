{
 "cells": [
  {
   "cell_type": "markdown",
   "metadata": {},
   "source": [
    "# Mach number and density fluctuations in runs I11 and I5"
   ]
  },
  {
   "cell_type": "code",
   "execution_count": 1,
   "metadata": {
    "collapsed": false
   },
   "outputs": [
    {
     "name": "stdout",
     "output_type": "stream",
     "text": [
      "Reading attributes from file  YProfile-01-0266.bobaaa\n",
      "There are 267 YProfile files in the /data/ASDR/PPMstar/C-ingestion/I5/YProfile/ directory.\n",
      "Ndump values range from 1 to 267\n",
      "Time values range from 8.87622 to 2369.95\n",
      "Reading attributes from file  YProfile-01-0090.bobaaa\n",
      "There are 91 YProfile files in the /data/ASDR/PPMstar/C-ingestion/I11/YProfile/ directory.\n",
      "Ndump values range from 1 to 91\n",
      "Time values range from 8.87622 to 807.736\n"
     ]
    }
   ],
   "source": [
    "import matplotlib.pyplot as plt\n",
    "import matplotlib.colors as colors\n",
    "from matplotlib import cm\n",
    "import numpy as np\n",
    "import moments\n",
    "from ppmpy import ppm\n",
    "import logging\n",
    "mpl_logger = logging.getLogger('matplotlib')\n",
    "mpl_logger.setLevel(logging.WARNING) \n",
    "\n",
    "moms = {}\n",
    "yp = {}\n",
    "for rid in ['I5', 'I11']:\n",
    "    moms[rid] = moments.Moments('/data/ASDR/PPMstar/C-ingestion/{:s}/FVandMoms48/'.\\\n",
    "                           format(rid), use_e3d=False)\n",
    "    yp[rid] = ppm.yprofile('/data/ASDR/PPMstar/C-ingestion/{:s}/YProfile/'.\\\n",
    "                      format(rid), filename_offset=-1)"
   ]
  },
  {
   "cell_type": "code",
   "execution_count": 6,
   "metadata": {
    "collapsed": false
   },
   "outputs": [],
   "source": [
    "def stretch_colormap(cmap, gamma=1., midpoint=0., N=256):\n",
    "    t = np.linspace(0., 1., N)\n",
    "    \n",
    "    t[t < midpoint] = midpoint*(t[t < midpoint]/midpoint)**(1./gamma)\n",
    "    t[t > midpoint] = midpoint + (1. - midpoint)*\\\n",
    "                      ((t[t > midpoint] - midpoint)/(1. - midpoint))**gamma\n",
    "        \n",
    "    clrs = [cmap(tt) for tt in t]\n",
    "    stretched_cmap = colors.ListedColormap(clrs, 256)\n",
    "    \n",
    "    return stretched_cmap\n",
    "\n",
    "def get_Mach(moms, dump):\n",
    "    gamma_gas = 5./3.\n",
    "    p = moms.get('Prs', dump)\n",
    "    rho = moms.get('Rho', dump)\n",
    "    rhoux = moms.get('RhoUx', dump)\n",
    "    rhouy = moms.get('RhoUy', dump)\n",
    "    rhouz = moms.get('RhoUz', dump)\n",
    "    ux = rhoux/rho\n",
    "    uy = rhouy/rho\n",
    "    uz = rhouz/rho\n",
    "    \n",
    "    nx, ny, nz = p.shape\n",
    "    \n",
    "    x = np.arange(nx) - (nx - 1.)/2.\n",
    "    x = np.reshape(x, (nx, 1, 1))\n",
    "    x = np.tile(x, (1, ny, nz))\n",
    "    \n",
    "    y = np.arange(ny) - (ny - 1.)/2.\n",
    "    y = np.reshape(y, (1, ny, 1))\n",
    "    y = np.tile(y, (nx, 1, nz))\n",
    "    \n",
    "    z = np.arange(nz) - (nz - 1.)/2.\n",
    "    z = np.reshape(z, (1, 1, nz))\n",
    "    z = np.tile(z, (nx, ny, 1))\n",
    "    \n",
    "    r = np.sqrt(x**2 + y**2 + z**2)\n",
    "    x /= r\n",
    "    y /= r\n",
    "    z /= r\n",
    "\n",
    "    ur = ux*x + uy*y + uz*z\n",
    "    \n",
    "    utx = ux - ur*x\n",
    "    uty = uy - ur*y\n",
    "    utz = uz - ur*z\n",
    "    ut = np.sqrt(utx**2 + uty**2 + utz**2)\n",
    "    \n",
    "    cs = np.sqrt(gamma_gas*p/rho)\n",
    "    Mar = np.abs(ur)/cs\n",
    "    Mat = np.abs(ut)/cs\n",
    "    \n",
    "    return Mar, Mat\n",
    "\n",
    "def get_rho_fluct(moms, dump):\n",
    "    rho = moms.get('Rho', dump)\n",
    "\n",
    "    rho_1D = moments.radprof(rho)\n",
    "    rho_avg = moms.fromradprof(moms.raxis, rho_1D)\n",
    "    drho = rho - rho_avg\n",
    "    \n",
    "    # This should be a vector of zeroes, but it is not because small\n",
    "    # differences in the definition of the radial axis in fromradprof()\n",
    "    # matter. We have to do an extra iteration.\n",
    "    drho_1D = moments.radprof(drho)\n",
    "    drho_avg = moms.fromradprof(moms.raxis, drho_1D)\n",
    "    drho -= drho_avg\n",
    "    \n",
    "    rho_fluct = drho/rho_avg\n",
    "    \n",
    "    return np.array(rho_fluct)\n",
    "\n",
    "def plot_panels(moms, dump, slice_width, vars, vlims, cmaps, axis=0, interpolation='spline16', \\\n",
    "                ifig=1, dpi=100, cbars=True, cbar_labels=None, labels=None, label_coords=None, \\\n",
    "                label_colors=None):\n",
    "    data = {}\n",
    "    data['Mar'], data['Mat'] = get_Mach(moms, dump)\n",
    "    data['rho_fluct'] = get_rho_fluct(moms, dump)\n",
    "    \n",
    "    nvars = len(vars)\n",
    "    \n",
    "    panel_width = 2.5\n",
    "    panel_height = 3.1 if cbars else 2.5\n",
    "    hpad = 0.25\n",
    "    figure_width = nvars*panel_width + (nvars - 1)*hpad\n",
    "    figure_height = panel_height\n",
    "    plt.close(ifig)\n",
    "    fig = plt.figure(ifig, figsize=(figure_width, figure_height), dpi=dpi)\n",
    "    \n",
    "    vidx = 0\n",
    "    for v in vars:\n",
    "        print('max(abs({:s})): {:.2e}'.format(v, np.max(np.abs(data[v]))))\n",
    "        if cbars:\n",
    "            ax = plt.Axes(fig, [vidx*(panel_width + hpad)/figure_width, \\\n",
    "                                (panel_height - panel_width)/panel_height, \\\n",
    "                                panel_width/figure_width, \\\n",
    "                                panel_width/panel_height])\n",
    "        else:\n",
    "            ax = plt.Axes(fig, [vidx*(panel_width + hpad)/figure_width, \\\n",
    "                                0., \\\n",
    "                                panel_width/figure_width, \\\n",
    "                                1.])\n",
    "        ax.set_axis_off()\n",
    "        fig.add_axes(ax)\n",
    "\n",
    "        nx, ny, nz = data[v].shape\n",
    "        if axis == 0:\n",
    "            img = np.sum(data[v][(nx//2-slice_width):(nx//2+slice_width), :, :], axis=0)/\\\n",
    "                  float(2.*slice_width)\n",
    "        elif axis == 1:\n",
    "            img = np.sum(data[v][:, (ny//2-slice_width):(ny//2+slice_width), :], axis=1)/\\\n",
    "                  float(2.*slice_width)\n",
    "        else:\n",
    "            img = np.sum(data[v][:, :, (nz//2-slice_width):(nz//2+slice_width)], axis=2)/\\\n",
    "                  float(2.*slice_width)\n",
    "        \n",
    "        norm = colors.Normalize(vmin=vlims[v][0], vmax=vlims[v][1], clip=True)\n",
    "        ax.imshow(img, norm=norm, interpolation=interpolation, cmap=cmaps[v])\n",
    "\n",
    "        if v in labels:\n",
    "            for i in range(len(labels[v])):\n",
    "                x, y = (0.5, 0.5)\n",
    "                if label_coords is not None and v in label_coords:\n",
    "                    x, y = label_coords[v][i]\n",
    "                color = 'k'\n",
    "                if label_colors is not None and v in label_colors:\n",
    "                    color = label_colors[v][i]\n",
    "                ax.text(x, y, labels[v][i], transform=ax.transAxes, color=color)\n",
    "\n",
    "        if cbars:\n",
    "            cax = plt.Axes(fig, [0.05*panel_width/figure_width + vidx*(panel_width + hpad)/figure_width, \\\n",
    "                                 0.5*(panel_height - panel_width)/panel_height, \\\n",
    "                                 0.9*panel_width/figure_width, \\\n",
    "                                 0.5*(panel_height - panel_width)/panel_height])\n",
    "            fig.add_axes(cax)\n",
    "            plt.sca(cax)\n",
    "            \n",
    "            cbar = np.transpose(np.repeat(np.linspace(vlims[v][0], vlims[v][1], 256), 16).\\\n",
    "                   reshape((256, 16)))\n",
    "            extent = [vlims[v][0], vlims[v][1], 0., 1.]\n",
    "            aspect = 0.05*(extent[1] - extent[0])/(extent[3] - extent[2])\n",
    "            cax.imshow(cbar, cmap=cmaps[v], interpolation=interpolation, vmin=vlims[v][0], \\\n",
    "                       vmax=vlims[v][1], extent=extent, aspect=aspect)\n",
    "            if cbar_labels is not None and v in cbar_labels:\n",
    "                cax.set_xlabel(cbar_labels[v])\n",
    "            cax.get_yaxis().set_visible(False)\n",
    "            cax.get_xaxis().set_tick_params(direction='in')\n",
    "            cax.get_xaxis().set_ticks_position('bottom')\n",
    "        \n",
    "        vidx += 1"
   ]
  },
  {
   "cell_type": "code",
   "execution_count": 3,
   "metadata": {},
   "outputs": [],
   "source": [
    "slice_width = 5\n",
    "vars = ('Mar', 'Mat', 'rho_fluct')\n",
    "cmaps = {'Mar':stretch_colormap(cm.viridis, gamma=0.75), \\\n",
    "         'Mat':stretch_colormap(cm.viridis, gamma=0.75), \\\n",
    "         'rho_fluct':stretch_colormap(cm.BrBG, gamma=0.75, midpoint=0.5)}\n",
    "cbar_labels = {'Mar':r'Ma$_\\mathrm{r}$', \\\n",
    "               'Mat':r'Ma$_\\perp$', \\\n",
    "               'rho_fluct':r'($\\rho$ - $\\langle\\rho\\rangle$) / $\\langle\\rho\\rangle$'}\n",
    "label_coords = {'Mar':((0.025, 0.95), (0.8, 0.95)), \\\n",
    "                'Mat':((0.025, 0.95), (0.8, 0.95)), \\\n",
    "                'rho_fluct':((0.025, 0.95), (0.8, 0.95))}\n",
    "label_colors = {'Mar':('w', 'w'), \\\n",
    "                'Mat':('w', 'w'), \\\n",
    "                'rho_fluct':('k', 'k')}"
   ]
  },
  {
   "cell_type": "code",
   "execution_count": 7,
   "metadata": {
    "collapsed": false
   },
   "outputs": [
    {
     "data": {
      "application/vnd.jupyter.widget-view+json": {
       "model_id": "b96d38c9e07f4d72911fcf4a25c7600b",
       "version_major": 2,
       "version_minor": 0
      },
      "text/plain": [
       "FigureCanvasNbAgg()"
      ]
     },
     "metadata": {},
     "output_type": "display_data"
    },
    {
     "name": "stdout",
     "output_type": "stream",
     "text": [
      "max(abs(Mar)): 2.67e-01\n",
      "max(abs(Mat)): 2.87e-01\n",
      "max(abs(rho_fluct)): 1.48e-01\n"
     ]
    }
   ],
   "source": [
    "rid = 'I11'\n",
    "vlims = {'Mar':(0., 0.2), \\\n",
    "         'Mat':(0., 0.2), \\\n",
    "         'rho_fluct':(-0.1, 0.1)}\n",
    "axis = 0\n",
    "\n",
    "ifig = 1\n",
    "#for dump in (68, 74, 81, 88):\n",
    "for dump in (81, ):\n",
    "    t = yp[rid].get('t', fname=dump)[-1]\n",
    "    labels = {'Mar':(rid, '{:.1f} min'.format(t/60.)), \\\n",
    "              'Mat':(rid, '{:.1f} min'.format(t/60.)), \\\n",
    "              'rho_fluct':(rid, '{:.1f} min'.format(t/60.))}\n",
    "    cbars = True #if dump == 81 else False\n",
    "    plot_panels(moms[rid], dump, slice_width, vars, vlims, cmaps, axis=axis, ifig=ifig, \\\n",
    "                cbars=cbars, cbar_labels=cbar_labels, labels=labels, \\\n",
    "                label_coords=label_coords, label_colors=label_colors)\n",
    "    plt.savefig('Mar_Mat_rho_fluct_{:s}_{:04d}.pdf'.format(rid, dump), dpi=200)\n",
    "    ifig += 1"
   ]
  },
  {
   "cell_type": "code",
   "execution_count": 8,
   "metadata": {},
   "outputs": [
    {
     "data": {
      "application/vnd.jupyter.widget-view+json": {
       "model_id": "6579d4840e2a40c190bac827b85dd5f7",
       "version_major": 2,
       "version_minor": 0
      },
      "text/plain": [
       "FigureCanvasNbAgg()"
      ]
     },
     "metadata": {},
     "output_type": "display_data"
    },
    {
     "name": "stdout",
     "output_type": "stream",
     "text": [
      "max(abs(Mar)): 4.45e-02\n",
      "max(abs(Mat)): 5.39e-02\n",
      "max(abs(rho_fluct)): 4.04e-02\n"
     ]
    }
   ],
   "source": [
    "rid = 'I5'\n",
    "vlims = {'Mar':(0., 0.04), \\\n",
    "         'Mat':(0., 0.04), \\\n",
    "         'rho_fluct':(-0.001, 0.001)}\n",
    "axis = 0\n",
    "\n",
    "ifig = 10\n",
    "#for dump in (130, 260):\n",
    "for dump in (260, ):\n",
    "    t = yp[rid].get('t', fname=dump)[-1]\n",
    "    labels = {'Mar':(rid, '{:.1f} min'.format(t/60.)), \\\n",
    "              'Mat':(rid, '{:.1f} min'.format(t/60.)), \\\n",
    "              'rho_fluct':(rid, '{:.1f} min'.format(t/60.))}\n",
    "    cbars = True #if dump == 260 else False\n",
    "    plot_panels(moms[rid], dump, slice_width, vars, vlims, cmaps, axis=axis, ifig=ifig, \\\n",
    "                cbars=cbars, cbar_labels=cbar_labels, labels=labels, \\\n",
    "                label_coords=label_coords, label_colors=label_colors)\n",
    "    plt.savefig('Mar_Mat_rho_fluct_{:s}_{:04d}.pdf'.format(rid, dump), dpi=150)\n",
    "    ifig += 1"
   ]
  },
  {
   "cell_type": "code",
   "execution_count": null,
   "metadata": {},
   "outputs": [],
   "source": []
  }
 ],
 "metadata": {
  "kernelspec": {
   "display_name": "Python 3",
   "language": "python",
   "name": "python3"
  },
  "language_info": {
   "codemirror_mode": {
    "name": "ipython",
    "version": 3
   },
   "file_extension": ".py",
   "mimetype": "text/x-python",
   "name": "python",
   "nbconvert_exporter": "python",
   "pygments_lexer": "ipython3",
   "version": "3.6.7"
  }
 },
 "nbformat": 4,
 "nbformat_minor": 2
}

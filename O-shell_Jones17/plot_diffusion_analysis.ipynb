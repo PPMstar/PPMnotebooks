{
 "cells": [
  {
   "cell_type": "markdown",
   "metadata": {},
   "source": [
    "# Diffusion Analysis\n",
    "\n",
    "This notebook works with ppmstarhub:1.2.6 on [Astrohub](https://astrohub.uvic.ca) and on [PPMstar.org](https://astrohub.ppmstar.org)\n",
    "\n",
    "This notebook analysis PPMstar1 data. The diffusion analysis has been updated since the Jones et al. 2017 paper.\n",
    "\n",
    "Jones S, Andrássy R, Sandalski S, Davis A, Woodward P, Herwig F. 2017. Idealized hydrodynamic simulations of turbulent oxygen-burning shell convection in 4pi geometry. MNRAS. 465(3):2991–3010\n"
   ]
  },
  {
   "cell_type": "code",
   "execution_count": null,
   "metadata": {},
   "outputs": [],
   "source": [
    "%pylab ipympl\n",
    "from ppmpy import ppm\n",
    "import matplotlib.pyplot as pl\n",
    "import os\n",
    "\n",
    "project_dir = '/data/ASDR/PPMstar/rpod2_PPMstar/YProfiles/O-shell-M25/'\n",
    "data_dir = '/data/ASDR/CSA/'\n",
    "ppm.set_YProf_path(project_dir)"
   ]
  },
  {
   "cell_type": "code",
   "execution_count": null,
   "metadata": {},
   "outputs": [],
   "source": [
    "%%capture  --no-stdout --no-display\n",
    "D1 = ppm.yprofile('D1')\n",
    "res = D1.Dinv(231, 331, plot_Dlt0=False, approx_D = True, linelims = [7.7,8.0],\n",
    "        r0= 6,debug =False)\n",
    "pl.xlim(7.6,8.3)\n",
    "pl.ylim(7,15)"
   ]
  },
  {
   "cell_type": "code",
   "execution_count": null,
   "metadata": {},
   "outputs": [],
   "source": [
    "%%capture  --no-stdout --no-display\n",
    "ppm.plot_diffusion_profiles('D2',data_dir + 'Stellar_models/O-shell-M25/M25Z0.02/',28900,\n",
    "                        7.8489,(1,160),2.*460.,7.8282,10.**12.27,0.21,0.055,1.6)\n",
    "pl.xlim(3,9)\n",
    "pl.ylim(11,16)\n",
    "pl.legend(loc=6)"
   ]
  },
  {
   "cell_type": "code",
   "execution_count": null,
   "metadata": {},
   "outputs": [],
   "source": []
  }
 ],
 "metadata": {
  "kernelspec": {
   "display_name": "Python 3",
   "language": "python",
   "name": "python3"
  },
  "language_info": {
   "codemirror_mode": {
    "name": "ipython",
    "version": 3
   },
   "file_extension": ".py",
   "mimetype": "text/x-python",
   "name": "python",
   "nbconvert_exporter": "python",
   "pygments_lexer": "ipython3",
   "version": "3.6.8"
  }
 },
 "nbformat": 4,
 "nbformat_minor": 4
}

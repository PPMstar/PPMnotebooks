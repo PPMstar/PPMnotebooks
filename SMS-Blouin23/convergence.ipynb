{
 "cells": [
  {
   "cell_type": "markdown",
   "metadata": {},
   "source": [
    "# Time-evolution convergence figures"
   ]
  },
  {
   "cell_type": "markdown",
   "metadata": {},
   "source": [
    "Works with JL3 on ppmstar.org"
   ]
  },
  {
   "cell_type": "code",
   "execution_count": 1,
   "metadata": {},
   "outputs": [
    {
     "name": "stdout",
     "output_type": "stream",
     "text": [
      "Populating the interactive namespace from numpy and matplotlib\n"
     ]
    }
   ],
   "source": [
    "%pylab ipympl\n",
    "from astropy import units\n",
    "from nugridpy import utils as ut\n",
    "from scipy import interpolate\n",
    "import sys\n",
    "import pickle  \n",
    "sys.path.insert(0,'/home/user/user/niagara_scratch_sblouin/PyPPM')\n",
    "from ppmpy import ppm  \n",
    "logging.getLogger(\"matplotlib\").setLevel(logging.ERROR)\n",
    "from tqdm import tqdm"
   ]
  },
  {
   "cell_type": "code",
   "execution_count": 10,
   "metadata": {},
   "outputs": [],
   "source": [
    "runs = ['V3','V4','V5']\n",
    "path = {'V3':'niagara_scratch_fherwig/V3-1000xL-1000xK-1152-TyroneM1e4_0.1',\n",
    "        'V4':'niagara_scratch_fherwig/V4-100xL-100xK-1152-TyroneM1e4_0.1',\n",
    "        'V5':'niagara_scratch_fherwig/V5-10xL-10xK-1152-TyroneM1e4_0.1'}\n",
    "ddir = '/home/user/user/'"
   ]
  },
  {
   "cell_type": "code",
   "execution_count": 11,
   "metadata": {},
   "outputs": [
    {
     "name": "stdout",
     "output_type": "stream",
     "text": [
      "927 rprof files found in '/home/user/user/niagara_scratch_fherwig/V3-1000xL-1000xK-1152-TyroneM1e4_0.1/prfs/.\n",
      "Dump numbers range from 0 to 926.\n",
      "862 rprof files found in '/home/user/user/niagara_scratch_fherwig/V4-100xL-100xK-1152-TyroneM1e4_0.1/prfs/.\n",
      "Dump numbers range from 0 to 861.\n",
      "1205 rprof files found in '/home/user/user/niagara_scratch_fherwig/V5-10xL-10xK-1152-TyroneM1e4_0.1/prfs/.\n",
      "Dump numbers range from 0 to 1204.\n"
     ]
    }
   ],
   "source": [
    "rp = {}\n",
    "rph = {}\n",
    "for run in runs:\n",
    "    rprof_dir = ddir+path[run]+'/prfs'\n",
    "    rp[run] = ppm.RprofSet(rprof_dir)\n",
    "    rph[run] = rp[run].get_history()"
   ]
  },
  {
   "cell_type": "code",
   "execution_count": 4,
   "metadata": {},
   "outputs": [],
   "source": [
    "matplotlib.rcParams.update({'font.size': 12})"
   ]
  },
  {
   "cell_type": "code",
   "execution_count": 28,
   "metadata": {},
   "outputs": [
    {
     "data": {
      "application/vnd.jupyter.widget-view+json": {
       "model_id": "cdc0b4a46e864c178fa14916866e783c",
       "version_major": 2,
       "version_minor": 0
      },
      "text/plain": [
       "Canvas(toolbar=Toolbar(toolitems=[('Home', 'Reset original view', 'home', 'home'), ('Back', 'Back to previous …"
      ]
     },
     "metadata": {},
     "output_type": "display_data"
    }
   ],
   "source": [
    "close(1);figure(1)\n",
    "sparse = 2\n",
    "labels = [r'V3 ($1000 \\times$)',r'V4 ($100 \\times$)',r'V5 ($10\\times$)']\n",
    "for i,run in enumerate(runs):\n",
    "    dumps = rph[run].get('NDump')\n",
    "    t_v = [0]\n",
    "    Ur_v = [0]\n",
    "    for dump in dumps[::sparse]:\n",
    "        Ur = rp[run].get('|U|',fname=dump)\n",
    "        R = rp[run].get('R',fname=dump)\n",
    "        cp = rp[run].bound_rad(cycles=dump,r_min=5000,r_max=12000,var='|Ut|',criterion='min_grad')\n",
    "        Hp = rp[run].compute_Hp(fname=dump)\n",
    "        Hp_val = interp(cp, R[::-1], Hp[::-1])\n",
    "        Ur_val = interp(cp-Hp_val, R[::-1], Ur[::-1])\n",
    "        t_min = rph[run].get('time(mins)')\n",
    "        t_hrs = t_min[dump]/60\n",
    "        if t_hrs<t_v[-1]:\n",
    "            continue\n",
    "        t_v.append(t_hrs)\n",
    "        Ur_v.append(1000*Ur_val)\n",
    "    plot(t_v,Ur_v, ut.linestyle(i)[0],color=ut.linestylecb(i)[2],markevery=.2,label=labels[i])\n",
    "xlim(0,5000)\n",
    "legend(frameon=False,ncol=1,loc=1)\n",
    "ylim(0,62)\n",
    "ax = plt.gca()\n",
    "ax.tick_params(axis='both',direction='in',which='both')\n",
    "ax.yaxis.set_ticks_position('both')\n",
    "ax.xaxis.set_ticks_position('both')\n",
    "xlabel(r'$t$ (h)')\n",
    "ylabel(r'$|U|$ (km$\\,$s$^{-1}$)')\n",
    "savefig('convergence.pdf', bbox_inches='tight')"
   ]
  },
  {
   "cell_type": "code",
   "execution_count": null,
   "metadata": {},
   "outputs": [],
   "source": []
  }
 ],
 "metadata": {
  "kernelspec": {
   "display_name": "Python 3",
   "language": "python",
   "name": "python3"
  },
  "language_info": {
   "codemirror_mode": {
    "name": "ipython",
    "version": 3
   },
   "file_extension": ".py",
   "mimetype": "text/x-python",
   "name": "python",
   "nbconvert_exporter": "python",
   "pygments_lexer": "ipython3",
   "version": "3.6.8"
  }
 },
 "nbformat": 4,
 "nbformat_minor": 5
}

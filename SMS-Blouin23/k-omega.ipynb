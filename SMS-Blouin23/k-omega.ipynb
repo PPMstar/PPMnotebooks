{
 "cells": [
  {
   "cell_type": "markdown",
   "metadata": {},
   "source": [
    "# k-omega power spectrum\n",
    "\n",
    "Works in jupyterlab3.\n"
   ]
  },
  {
   "cell_type": "code",
   "execution_count": 1,
   "metadata": {},
   "outputs": [
    {
     "name": "stdout",
     "output_type": "stream",
     "text": [
      "Populating the interactive namespace from numpy and matplotlib\n"
     ]
    }
   ],
   "source": [
    "%pylab ipympl\n",
    "import sys\n",
    "sys.path.insert(0,'/home/f/fherwig/sblouin/scratch_sblouin/PyPPM')\n",
    "from ppmpy import ppm\n",
    "import os\n",
    "from nugridpy import utils as ut"
   ]
  },
  {
   "cell_type": "code",
   "execution_count": 2,
   "metadata": {},
   "outputs": [],
   "source": [
    "import collections\n",
    "hydro = collections.namedtuple('hydro', ['moms','rprof'])\n",
    "\n",
    "# turn off matplotlib messages\n",
    "logging.getLogger(\"matplotlib\").setLevel(logging.CRITICAL)"
   ]
  },
  {
   "cell_type": "code",
   "execution_count": 3,
   "metadata": {},
   "outputs": [],
   "source": [
    "# the list of variables that are stored within the momsdata cube.\n",
    "var_list = ['xc','ux','uy','uz','|ut|','|ur|','|w|','T','rho','fv']"
   ]
  },
  {
   "cell_type": "code",
   "execution_count": 6,
   "metadata": {},
   "outputs": [],
   "source": [
    "# V3\n",
    "dump_select = 726\n",
    "data_dir = '/scratch/f/fherwig/fherwig'\n",
    "run_dir = 'V3-1000xL-1000xK-1152-TyroneM1e4_0.1'"
   ]
  },
  {
   "cell_type": "code",
   "execution_count": 7,
   "metadata": {},
   "outputs": [
    {
     "name": "stdout",
     "output_type": "stream",
     "text": [
      "1127 rprof files found in '/scratch/f/fherwig/fherwig/V3-1000xL-1000xK-1152-TyroneM1e4_0.1/prfs/.\n",
      "Dump numbers range from 0 to 1126.\n",
      "401 .aaa files found in '/scratch/f/fherwig/fherwig/V3-1000xL-1000xK-1152-TyroneM1e4_0.1/moms/myavsbq/.\n",
      "Dump numbers range from 726 to 1126.\n",
      "1127 rprof files found in '/scratch/f/fherwig/fherwig/V3-1000xL-1000xK-1152-TyroneM1e4_0.1/prfs/.\n",
      "Dump numbers range from 0 to 1126.\n"
     ]
    }
   ],
   "source": [
    "moms_dir = os.path.join(data_dir,run_dir,'moms/myavsbq')\n",
    "rprof_dir = os.path.join(data_dir,run_dir,'prfs')\n",
    "# load moms instance\n",
    "dump = dump_select\n",
    "V3 = hydro(ppm.MomsDataSet(moms_dir,init_dump_read=dump,dumps_in_mem=1,var_list=var_list,rprofset=ppm.RprofSet(rprof_dir)),\n",
    "              ppm.RprofSet(rprof_dir))"
   ]
  },
  {
   "cell_type": "code",
   "execution_count": 17,
   "metadata": {
    "scrolled": false
   },
   "outputs": [
    {
     "name": "stderr",
     "output_type": "stream",
     "text": [
      "100%|██████████| 401/401 [04:20<00:00,  1.54it/s]\n"
     ]
    },
    {
     "data": {
      "application/vnd.jupyter.widget-view+json": {
       "model_id": "d1595e15c78a4382a889e6059e2825ae",
       "version_major": 2,
       "version_minor": 0
      },
      "text/plain": [
       "Canvas(toolbar=Toolbar(toolitems=[('Home', 'Reset original view', 'home', 'home'), ('Back', 'Back to previous …"
      ]
     },
     "metadata": {},
     "output_type": "display_data"
    }
   ],
   "source": [
    "x = {}\n",
    "y = {}\n",
    "z = {}\n",
    "rr = [12000]\n",
    "for i,radius in enumerate(rr):\n",
    "    x2,y2,z2 = V3.moms.k_omega_diagram(varname='ur', radius=12000, mass=None, \n",
    "                                  dump_start=726, dump_stop=1126, lmax_crop=120, vmin=-3, vmax=4, fmax=80)"
   ]
  },
  {
   "cell_type": "code",
   "execution_count": 27,
   "metadata": {},
   "outputs": [],
   "source": [
    "matplotlib.rcParams.update({'font.size': 12})"
   ]
  },
  {
   "cell_type": "code",
   "execution_count": 32,
   "metadata": {},
   "outputs": [
    {
     "data": {
      "application/vnd.jupyter.widget-view+json": {
       "model_id": "44dc681a20c346489c10508666cd0c5b",
       "version_major": 2,
       "version_minor": 0
      },
      "text/plain": [
       "Canvas(toolbar=Toolbar(toolitems=[('Home', 'Reset original view', 'home', 'home'), ('Back', 'Back to previous …"
      ]
     },
     "metadata": {},
     "output_type": "display_data"
    }
   ],
   "source": [
    "close(98);figure(98, figsize=(6,6))\n",
    "#close(98);figure(98)\n",
    "axp = imshow(log10(z2), cmap='magma', extent=(0,max(x2),min(y2),max(y2)), vmin=0, vmax=3, aspect='auto')\n",
    "xlabel(r'$\\ell$')\n",
    "ylabel(r'Frequency ($\\mu$Hz)')\n",
    "ax = gca()\n",
    "cbar = colorbar(axp, ax = [ax], location='top')\n",
    "cbar.set_label(r'$U_r$ power (log m$^2\\,$s$^{-2}\\,\\ell^{-1}\\,\\mu$Hz$^{-1}$)')\n",
    "xlim(0,100)\n",
    "ylim(0,63)\n",
    "text(0.98,0.05,'$R=12{,}000\\,$Mm', color='white', transform=ax.transAxes, ha='right', va='center')\n",
    "savefig('V3-kw-igw.pdf', bbox_inches='tight')\n"
   ]
  },
  {
   "cell_type": "code",
   "execution_count": 29,
   "metadata": {},
   "outputs": [
    {
     "name": "stderr",
     "output_type": "stream",
     "text": [
      "100%|██████████| 401/401 [04:08<00:00,  1.61it/s]\n"
     ]
    },
    {
     "data": {
      "application/vnd.jupyter.widget-view+json": {
       "model_id": "f049b299d3604c1c9525116618e82d4f",
       "version_major": 2,
       "version_minor": 0
      },
      "text/plain": [
       "Canvas(toolbar=Toolbar(toolitems=[('Home', 'Reset original view', 'home', 'home'), ('Back', 'Back to previous …"
      ]
     },
     "metadata": {},
     "output_type": "display_data"
    }
   ],
   "source": [
    "x = {}\n",
    "y = {}\n",
    "z = {}\n",
    "rr = [7000]\n",
    "for i,radius in enumerate(rr):\n",
    "    x3,y3,z3 = V3.moms.k_omega_diagram(varname='ur', radius=radius, mass=None, \n",
    "                                  dump_start=726, dump_stop=1126, lmax_crop=120, vmin=0, vmax=3, fmax=80)"
   ]
  },
  {
   "cell_type": "code",
   "execution_count": 38,
   "metadata": {},
   "outputs": [
    {
     "data": {
      "application/vnd.jupyter.widget-view+json": {
       "model_id": "59bb3b322e6a4b8aa35fff17cf055b57",
       "version_major": 2,
       "version_minor": 0
      },
      "text/plain": [
       "Canvas(toolbar=Toolbar(toolitems=[('Home', 'Reset original view', 'home', 'home'), ('Back', 'Back to previous …"
      ]
     },
     "metadata": {},
     "output_type": "display_data"
    }
   ],
   "source": [
    "close(98);figure(98, figsize=(6,6))\n",
    "#close(98);figure(98)\n",
    "axp = imshow(log10(z3), cmap='magma', extent=(0,max(x3),min(y3),max(y3)), vmin=2, vmax=5, aspect='auto')\n",
    "xlabel(r'$\\ell$')\n",
    "ylabel(r'Frequency ($\\mu$Hz)')\n",
    "ax = gca()\n",
    "cbar = colorbar(axp, ax = [ax], location='top')\n",
    "cbar.set_label(r'$U_r$ power (log m$^2\\,$s$^{-2}\\,\\ell^{-1}\\,\\mu$Hz$^{-1}$)')\n",
    "xlim(0,100)\n",
    "ylim(0,63)\n",
    "text(0.98,0.05,'$R=7000\\,$Mm', color='white', transform=ax.transAxes, ha='right', va='center')\n",
    "savefig('V3-kw-cvz.pdf', bbox_inches='tight')"
   ]
  }
 ],
 "metadata": {
  "kernelspec": {
   "display_name": "scinet-conda /project/f/fherwig/fherwig/PythonVirtual/sciconda-astrohub2",
   "language": "python",
   "name": "scinet_conda_project_f_fherwig_fherwig_pythonvirtual_sciconda_astrohub2"
  },
  "language_info": {
   "codemirror_mode": {
    "name": "ipython",
    "version": 3
   },
   "file_extension": ".py",
   "mimetype": "text/x-python",
   "name": "python",
   "nbconvert_exporter": "python",
   "pygments_lexer": "ipython3",
   "version": "3.8.5"
  }
 },
 "nbformat": 4,
 "nbformat_minor": 4
}

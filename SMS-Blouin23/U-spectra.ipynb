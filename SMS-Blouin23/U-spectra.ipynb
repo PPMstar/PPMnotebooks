{
 "cells": [
  {
   "cell_type": "markdown",
   "metadata": {},
   "source": [
    "# U power spectrum in spatial domain\n",
    "\n",
    "Works in jupyterlab3.\n"
   ]
  },
  {
   "cell_type": "code",
   "execution_count": 1,
   "metadata": {
    "tags": []
   },
   "outputs": [
    {
     "name": "stdout",
     "output_type": "stream",
     "text": [
      "Populating the interactive namespace from numpy and matplotlib\n"
     ]
    }
   ],
   "source": [
    "%pylab ipympl"
   ]
  },
  {
   "cell_type": "code",
   "execution_count": 2,
   "metadata": {},
   "outputs": [],
   "source": [
    "import sys\n",
    "sys.path.insert(0,'../scratch_sblouin/PyPPM')\n",
    "from ppmpy import ppm\n",
    "import pyshtools.expand \n",
    "import pyshtools.spectralanalysis\n",
    "import os\n",
    "from nugridpy import utils as ut\n",
    "from tqdm import tqdm"
   ]
  },
  {
   "cell_type": "code",
   "execution_count": 3,
   "metadata": {},
   "outputs": [],
   "source": [
    "lll= 2*['-', '--', ':', '-.']\n",
    "markers = ['X','h','<','>','s','^','d','X','p']\n",
    "random.shuffle(lll)\n",
    "CB_color_cycle = ['#4daf4a', '#a65628', '#984ea3',\n",
    "                  '#ff7f00', '#f781bf', '#377eb8',\n",
    "                  '#999999', '#e41a1c', '#dede00']\n",
    "rc('axes', prop_cycle=(cycler('color', CB_color_cycle[0:8]) + cycler('marker',markers[0:8])+cycler('linestyle',lll)))\n",
    "rc('axes', prop_cycle=(cycler('color', CB_color_cycle[0:8]) +cycler('linestyle',lll)))\n",
    "\n",
    "import collections\n",
    "hydro = collections.namedtuple('hydro', ['moms','rprof'])\n",
    "\n",
    "logging.getLogger(\"matplotlib\").setLevel(logging.CRITICAL)"
   ]
  },
  {
   "cell_type": "code",
   "execution_count": 4,
   "metadata": {},
   "outputs": [],
   "source": [
    "# the list of variables that are stored within the momsdata cube.\n",
    "var_list = ['xc','ux','uy','uz','|ut|','|ur|','|w|','T','rho','fv']"
   ]
  },
  {
   "cell_type": "code",
   "execution_count": 5,
   "metadata": {},
   "outputs": [
    {
     "name": "stdout",
     "output_type": "stream",
     "text": [
      "5 rprof files found in '../scratch_fherwig/V7-100xL-100xK-1728-TyroneM1e4_0.1/prfs/.\n",
      "Dump numbers range from 0 to 4.\n",
      "201 .aaa files found in '../scratch_fherwig/V7-100xL-100xK-1728-TyroneM1e4_0.1/moms/myavsbq/.\n",
      "Dump numbers range from 959 to 1159.\n",
      "5 rprof files found in '../scratch_fherwig/V7-100xL-100xK-1728-TyroneM1e4_0.1/prfs/.\n",
      "Dump numbers range from 0 to 4.\n"
     ]
    }
   ],
   "source": [
    "# V7\n",
    "dump_select = 959\n",
    "data_dir = '../scratch_fherwig/'\n",
    "run_dir = 'V7-100xL-100xK-1728-TyroneM1e4_0.1'\n",
    "moms_dir = os.path.join(data_dir,run_dir,'moms/myavsbq')\n",
    "rprof_dir = os.path.join(data_dir,run_dir,'prfs')\n",
    "# load moms instance\n",
    "dump = dump_select\n",
    "V7 = hydro(ppm.MomsDataSet(moms_dir,init_dump_read=dump,dumps_in_mem=1,var_list=var_list,rprofset=ppm.RprofSet(rprof_dir)),\n",
    "              ppm.RprofSet(rprof_dir))"
   ]
  },
  {
   "cell_type": "code",
   "execution_count": 6,
   "metadata": {},
   "outputs": [
    {
     "name": "stdout",
     "output_type": "stream",
     "text": [
      "1127 rprof files found in '../scratch_fherwig/V3-1000xL-1000xK-1152-TyroneM1e4_0.1/prfs/.\n",
      "Dump numbers range from 0 to 1126.\n",
      "401 .aaa files found in '../scratch_fherwig/V3-1000xL-1000xK-1152-TyroneM1e4_0.1/moms/myavsbq/.\n",
      "Dump numbers range from 726 to 1126.\n",
      "1127 rprof files found in '../scratch_fherwig/V3-1000xL-1000xK-1152-TyroneM1e4_0.1/prfs/.\n",
      "Dump numbers range from 0 to 1126.\n"
     ]
    }
   ],
   "source": [
    "# V3\n",
    "dump_select = 800\n",
    "data_dir = '../scratch_fherwig/'\n",
    "run_dir = 'V3-1000xL-1000xK-1152-TyroneM1e4_0.1'\n",
    "moms_dir = os.path.join(data_dir,run_dir,'moms/myavsbq')\n",
    "rprof_dir = os.path.join(data_dir,run_dir,'prfs')\n",
    "# load moms instance\n",
    "dump = dump_select\n",
    "V3 = hydro(ppm.MomsDataSet(moms_dir,init_dump_read=dump,dumps_in_mem=1,var_list=var_list,rprofset=ppm.RprofSet(rprof_dir)),\n",
    "              ppm.RprofSet(rprof_dir))"
   ]
  },
  {
   "cell_type": "code",
   "execution_count": 7,
   "metadata": {
    "tags": []
   },
   "outputs": [
    {
     "name": "stdout",
     "output_type": "stream",
     "text": [
      "862 rprof files found in '../scratch_fherwig/V4-100xL-100xK-1152-TyroneM1e4_0.1/prfs/.\n",
      "Dump numbers range from 0 to 861.\n",
      "201 .aaa files found in '../scratch_fherwig/V4-100xL-100xK-1152-TyroneM1e4_0.1/moms/myavsbq/.\n",
      "Dump numbers range from 661 to 861.\n",
      "862 rprof files found in '../scratch_fherwig/V4-100xL-100xK-1152-TyroneM1e4_0.1/prfs/.\n",
      "Dump numbers range from 0 to 861.\n"
     ]
    }
   ],
   "source": [
    "# V4\n",
    "dump_select = 800\n",
    "data_dir = '../scratch_fherwig/'\n",
    "run_dir = 'V4-100xL-100xK-1152-TyroneM1e4_0.1'\n",
    "moms_dir = os.path.join(data_dir,run_dir,'moms/myavsbq')\n",
    "rprof_dir = os.path.join(data_dir,run_dir,'prfs')\n",
    "# load moms instance\n",
    "dump = dump_select\n",
    "V4 = hydro(ppm.MomsDataSet(moms_dir,init_dump_read=dump,dumps_in_mem=1,var_list=var_list,rprofset=ppm.RprofSet(rprof_dir)),\n",
    "              ppm.RprofSet(rprof_dir))"
   ]
  },
  {
   "cell_type": "code",
   "execution_count": 8,
   "metadata": {},
   "outputs": [
    {
     "name": "stdout",
     "output_type": "stream",
     "text": [
      "1205 rprof files found in '../scratch_fherwig/V5-10xL-10xK-1152-TyroneM1e4_0.1/prfs/.\n",
      "Dump numbers range from 0 to 1204.\n",
      "201 .aaa files found in '../scratch_fherwig/V5-10xL-10xK-1152-TyroneM1e4_0.1/moms/myavsbq/.\n",
      "Dump numbers range from 1004 to 1204.\n",
      "1205 rprof files found in '../scratch_fherwig/V5-10xL-10xK-1152-TyroneM1e4_0.1/prfs/.\n",
      "Dump numbers range from 0 to 1204.\n"
     ]
    }
   ],
   "source": [
    "# V5\n",
    "dump_select = 1100\n",
    "data_dir = '../scratch_fherwig/'\n",
    "run_dir = 'V5-10xL-10xK-1152-TyroneM1e4_0.1'\n",
    "moms_dir = os.path.join(data_dir,run_dir,'moms/myavsbq')\n",
    "rprof_dir = os.path.join(data_dir,run_dir,'prfs')\n",
    "# load moms instance\n",
    "dump = dump_select\n",
    "V5 = hydro(ppm.MomsDataSet(moms_dir,init_dump_read=dump,dumps_in_mem=1,var_list=var_list,rprofset=ppm.RprofSet(rprof_dir)),\n",
    "              ppm.RprofSet(rprof_dir))"
   ]
  },
  {
   "cell_type": "code",
   "execution_count": 9,
   "metadata": {},
   "outputs": [],
   "source": [
    "matplotlib.rcParams.update({'font.size': 12})"
   ]
  },
  {
   "cell_type": "code",
   "execution_count": 11,
   "metadata": {},
   "outputs": [
    {
     "data": {
      "application/vnd.jupyter.widget-view+json": {
       "model_id": "96d8eb23836044b6a1b40f6bafdd6863",
       "version_major": 2,
       "version_minor": 0
      },
      "text/plain": [
       "Canvas(toolbar=Toolbar(toolitems=[('Home', 'Reset original view', 'home', 'home'), ('Back', 'Back to previous …"
      ]
     },
     "metadata": {},
     "output_type": "display_data"
    },
    {
     "name": "stderr",
     "output_type": "stream",
     "text": [
      "100%|██████████| 201/201 [02:11<00:00,  1.53it/s]\n",
      "100%|██████████| 201/201 [02:22<00:00,  1.41it/s]\n",
      "100%|██████████| 201/201 [02:00<00:00,  1.66it/s]\n",
      "100%|██████████| 201/201 [01:57<00:00,  1.71it/s]\n",
      "100%|██████████| 201/201 [01:54<00:00,  1.76it/s]\n",
      "100%|██████████| 201/201 [01:51<00:00,  1.81it/s]\n",
      "100%|██████████| 201/201 [06:33<00:00,  1.96s/it]\n"
     ]
    }
   ],
   "source": [
    "close(2);figure(2)\n",
    "radiusv = [3000,6000]\n",
    "powerv = []\n",
    "\n",
    "for i,radius in enumerate(radiusv):\n",
    "    lr, power = V3.moms.get_power_spectrum('|ut|',radius=radius, dump_start=926, dump_stop=1126, dump_step=1)\n",
    "    loglog(lr, 1e12*power, ut.linestyle(i)[0],color=ut.linestylecb(0)[2],marker=None,\n",
    "           label='1000x, '+str(radius)+r'$\\,$Mm')\n",
    "    \n",
    "for i,radius in enumerate(radiusv):\n",
    "    lr, power = V4.moms.get_power_spectrum('|ut|',radius=radius, dump_start=661, dump_stop=861, dump_step=1)\n",
    "    loglog(lr, 1e12*power, ut.linestyle(i)[0],color=ut.linestylecb(1)[2],marker=None,\n",
    "           label='100x, '+str(radius)+r'$\\,$Mm')\n",
    "\n",
    "for i,radius in enumerate(radiusv):\n",
    "    lr, power = V5.moms.get_power_spectrum('|ut|',radius=radius, dump_start=1004, dump_stop=1204, dump_step=1)\n",
    "    loglog(lr, 1e12*power, ut.linestyle(i)[0],color=ut.linestylecb(2)[2],marker=None,\n",
    "           label=r'10x, '+str(radius)+r'$\\,$Mm')\n",
    "    \n",
    "for i,radius in enumerate([6000]):\n",
    "    lr, power = V7.moms.get_power_spectrum('|ut|',radius=radius, dump_start=959, dump_stop=1159, dump_step=1)\n",
    "    loglog(lr, 1e12*power, ls=':',color=ut.linestylecb(1)[2],marker=None)\n",
    "    \n",
    "ellvec = linspace(4,30,100)\n",
    "plot(ellvec, 2e7*(ellvec/10)**(-5/3), '-k')\n",
    "xlabel(r'$\\ell$')\n",
    "ylabel(r'$U_t$ power (m$^2\\,$s$^{-2}\\,$$\\ell^{-1}$)')\n",
    "legend(frameon=False, fontsize=9, ncol=3, bbox_to_anchor=(0,1.0), loc=\"lower left\")\n",
    "xlim(1,100)\n",
    "ylim(1e4,3e8)\n",
    "text(10,2e7*2.1/3,r'$\\propto \\ell^{-5/3}$',rotation=-22)\n",
    "show()\n",
    "ax = plt.gca()\n",
    "ax.tick_params(axis='both',direction='in',which='both')\n",
    "ax.yaxis.set_ticks_position('both')\n",
    "ax.xaxis.set_ticks_position('both')\n",
    "ax.set_xticks([1,10,100])\n",
    "ax.get_xaxis().set_major_formatter(matplotlib.ticker.ScalarFormatter())\n",
    "savefig('power_Ut.pdf',bbox_inches='tight')"
   ]
  },
  {
   "cell_type": "code",
   "execution_count": 10,
   "metadata": {},
   "outputs": [
    {
     "data": {
      "application/vnd.jupyter.widget-view+json": {
       "model_id": "d2c5eceee6a647dab8b47734cdae6e6b",
       "version_major": 2,
       "version_minor": 0
      },
      "text/plain": [
       "Canvas(toolbar=Toolbar(toolitems=[('Home', 'Reset original view', 'home', 'home'), ('Back', 'Back to previous …"
      ]
     },
     "metadata": {},
     "output_type": "display_data"
    },
    {
     "name": "stderr",
     "output_type": "stream",
     "text": [
      "100%|██████████| 201/201 [02:06<00:00,  1.59it/s]\n",
      "100%|██████████| 201/201 [02:39<00:00,  1.26it/s]\n",
      "100%|██████████| 201/201 [02:36<00:00,  1.28it/s]\n",
      "100%|██████████| 201/201 [02:44<00:00,  1.22it/s]\n",
      "100%|██████████| 201/201 [02:44<00:00,  1.22it/s]\n",
      "100%|██████████| 201/201 [02:40<00:00,  1.25it/s]\n",
      "100%|██████████| 201/201 [09:05<00:00,  2.71s/it]\n"
     ]
    }
   ],
   "source": [
    "close(3);figure(3)\n",
    "radiusv = [3000,6000]\n",
    "powerv = []\n",
    "\n",
    "for i,radius in enumerate(radiusv):\n",
    "    lr, power = V3.moms.get_power_spectrum('|ur|',radius=radius, dump_start=726, dump_stop=926, dump_step=1)\n",
    "    loglog(lr, 1e12*power, ut.linestyle(i)[0],color=ut.linestylecb(0)[2],marker=None,\n",
    "           label='1000x, '+str(radius)+r'$\\,$Mm')\n",
    "    \n",
    "for i,radius in enumerate(radiusv):\n",
    "    lr, power = V4.moms.get_power_spectrum('|ur|',radius=radius, dump_start=661, dump_stop=861, dump_step=1)\n",
    "    loglog(lr, 1e12*power, ut.linestyle(i)[0],color=ut.linestylecb(1)[2],marker=None,\n",
    "           label='100x, '+str(radius)+r'$\\,$Mm')\n",
    "\n",
    "for i,radius in enumerate(radiusv):\n",
    "    lr, power = V5.moms.get_power_spectrum('|ur|',radius=radius, dump_start=1004, dump_stop=1204, dump_step=1)\n",
    "    loglog(lr, 1e12*power, ut.linestyle(i)[0],color=ut.linestylecb(2)[2],marker=None,\n",
    "           label=r'10x, '+str(radius)+r'$\\,$Mm')\n",
    "    \n",
    "for i,radius in enumerate([6000]):\n",
    "    lr, power = V7.moms.get_power_spectrum('|ur|',radius=radius, dump_start=959, dump_stop=1159, dump_step=1)\n",
    "    loglog(lr, 1e12*power, ls=':',color=ut.linestylecb(1)[2],marker=None)\n",
    "    \n",
    "ellvec = linspace(4,30,100)\n",
    "plot(ellvec, 1e7*(ellvec/10)**(-5/3), '-k')\n",
    "xlabel(r'$\\ell$')\n",
    "ylabel(r'$U_r$ power (m$^2\\,$s$^{-2}\\,$$\\ell^{-1}$)')\n",
    "# legend(frameon=False, fontsize=9, ncol=3, bbox_to_anchor=(0,1.0), loc=\"lower left\")\n",
    "xlim(1,100)\n",
    "ylim(1e4,3e8)\n",
    "text(10,.7e7,r'$\\propto \\ell^{-5/3}$',rotation=-22)\n",
    "show()\n",
    "ax = plt.gca()\n",
    "ax.tick_params(axis='both',direction='in',which='both')\n",
    "ax.yaxis.set_ticks_position('both')\n",
    "ax.xaxis.set_ticks_position('both')\n",
    "ax.set_xticks([1,10,100])\n",
    "ax.get_xaxis().set_major_formatter(matplotlib.ticker.ScalarFormatter())\n",
    "savefig('power_Ur.pdf',bbox_inches='tight')"
   ]
  },
  {
   "cell_type": "code",
   "execution_count": null,
   "metadata": {},
   "outputs": [],
   "source": []
  }
 ],
 "metadata": {
  "kernelspec": {
   "display_name": "scinet-conda /project/f/fherwig/fherwig/PythonVirtual/sciconda-astrohub2",
   "language": "python",
   "name": "scinet_conda_project_f_fherwig_fherwig_pythonvirtual_sciconda_astrohub2"
  },
  "language_info": {
   "codemirror_mode": {
    "name": "ipython",
    "version": 3
   },
   "file_extension": ".py",
   "mimetype": "text/x-python",
   "name": "python",
   "nbconvert_exporter": "python",
   "pygments_lexer": "ipython3",
   "version": "3.8.5"
  }
 },
 "nbformat": 4,
 "nbformat_minor": 5
}

{
 "cells": [
  {
   "cell_type": "markdown",
   "metadata": {},
   "source": [
    "# Convective boundary evolution"
   ]
  },
  {
   "cell_type": "code",
   "execution_count": 1,
   "metadata": {},
   "outputs": [
    {
     "name": "stdout",
     "output_type": "stream",
     "text": [
      "Populating the interactive namespace from numpy and matplotlib\n"
     ]
    }
   ],
   "source": [
    "%pylab ipympl\n",
    "import os,sys\n",
    "from multiprocessing import Pool\n",
    "from tqdm import tqdm\n",
    "\n",
    "sys.path.insert(0,'/home/user/user/niagara_scratch_sblouin/PyPPM')\n",
    "#sys.path.insert(0,'/home/user/user/scratch14_ppmstar-lcse/sblouin/PyPPM')\n",
    "from ppmpy import ppm\n",
    "\n",
    "# named tuple for using rprofs and momsdata\n",
    "# moms data are almost always used alongside rprof data and therefore it is recommended \n",
    "# to create a convenient dictionary that will hold the rprof and moms instance \n",
    "import collections\n",
    "hydro = collections.namedtuple('hydro', ['moms','rprof'])\n",
    "\n",
    "# turn off matplotlib messages\n",
    "logging.getLogger(\"matplotlib\").setLevel(logging.CRITICAL)\n",
    "\n",
    "from nugridpy import mesa as ms\n",
    "from nugridpy import utils as ut\n",
    "import scipy\n",
    "from scipy.optimize import curve_fit\n",
    "\n",
    "# astronomical and physical constants in SI and sgs units\n",
    "from astropy import constants as const\n",
    "from astropy import units as u"
   ]
  },
  {
   "cell_type": "code",
   "execution_count": 3,
   "metadata": {},
   "outputs": [
    {
     "name": "stdout",
     "output_type": "stream",
     "text": [
      "1127 rprof files found in '/home/user/user/niagara_scratch_fherwig/V3-1000xL-1000xK-1152-TyroneM1e4_0.1/prfs/.\n",
      "Dump numbers range from 0 to 1126.\n"
     ]
    }
   ],
   "source": [
    "data_dir = '/home/user/user/niagara_scratch_fherwig'\n",
    "run = 'V3-1000xL-1000xK-1152-TyroneM1e4_0.1'\n",
    "rprof_dir = os.path.join(data_dir,run,'prfs')\n",
    "V3 = ppm.RprofSet(rprof_dir)"
   ]
  },
  {
   "cell_type": "code",
   "execution_count": 20,
   "metadata": {},
   "outputs": [],
   "source": [
    "matplotlib.rcParams.update({'font.size': 12})"
   ]
  },
  {
   "cell_type": "code",
   "execution_count": 35,
   "metadata": {},
   "outputs": [
    {
     "data": {
      "application/vnd.jupyter.widget-view+json": {
       "model_id": "f8c970f8e04a49eca29025b57d761e64",
       "version_major": 2,
       "version_minor": 0
      },
      "text/plain": [
       "Canvas(toolbar=Toolbar(toolitems=[('Home', 'Reset original view', 'home', 'home'), ('Back', 'Back to previous …"
      ]
     },
     "metadata": {},
     "output_type": "display_data"
    },
    {
     "name": "stdout",
     "output_type": "stream",
     "text": [
      "Dump 459 at t = 60061.33 min is the closest to t = 60000.00 min.\n",
      "Dump 459 at t = 60061.33 min is the closest to t = 60000.00 min.\n",
      "Dump 459 at t = 60061.33 min is the closest to t = 60000.00 min.\n",
      "Dump 459 at t = 60061.33 min is the closest to t = 60000.00 min.\n",
      "Dump 550 at t = 71968.83 min is the closest to t = 72000.00 min.\n",
      "Dump 550 at t = 71968.83 min is the closest to t = 72000.00 min.\n",
      "Dump 550 at t = 71968.83 min is the closest to t = 72000.00 min.\n",
      "Dump 550 at t = 71968.83 min is the closest to t = 72000.00 min.\n",
      "Dump 642 at t = 84007.17 min is the closest to t = 84000.00 min.\n",
      "Dump 642 at t = 84007.17 min is the closest to t = 84000.00 min.\n",
      "Dump 642 at t = 84007.17 min is the closest to t = 84000.00 min.\n",
      "Dump 642 at t = 84007.17 min is the closest to t = 84000.00 min.\n",
      "Dump 734 at t = 96045.67 min is the closest to t = 96000.00 min.\n",
      "Dump 734 at t = 96045.67 min is the closest to t = 96000.00 min.\n",
      "Dump 734 at t = 96045.67 min is the closest to t = 96000.00 min.\n",
      "Dump 734 at t = 96045.67 min is the closest to t = 96000.00 min.\n",
      "Dump 825 at t = 107953.33 min is the closest to t = 108000.00 min.\n",
      "Dump 825 at t = 107953.33 min is the closest to t = 108000.00 min.\n",
      "Dump 825 at t = 107953.33 min is the closest to t = 108000.00 min.\n",
      "Dump 825 at t = 107953.33 min is the closest to t = 108000.00 min.\n",
      "Dump 917 at t = 119991.67 min is the closest to t = 120000.00 min.\n",
      "Dump 917 at t = 119991.67 min is the closest to t = 120000.00 min.\n",
      "Dump 917 at t = 119991.67 min is the closest to t = 120000.00 min.\n",
      "Dump 917 at t = 119991.67 min is the closest to t = 120000.00 min.\n",
      "Dump 1009 at t = 132030.00 min is the closest to t = 132000.00 min.\n",
      "Dump 1009 at t = 132030.00 min is the closest to t = 132000.00 min.\n",
      "Dump 1009 at t = 132030.00 min is the closest to t = 132000.00 min.\n",
      "Dump 1009 at t = 132030.00 min is the closest to t = 132000.00 min.\n",
      "Dump 1100 at t = 143937.50 min is the closest to t = 144000.00 min.\n",
      "Dump 1100 at t = 143937.50 min is the closest to t = 144000.00 min.\n",
      "Dump 1100 at t = 143937.50 min is the closest to t = 144000.00 min.\n",
      "Dump 1100 at t = 143937.50 min is the closest to t = 144000.00 min.\n"
     ]
    }
   ],
   "source": [
    "close(1);figure(1)\n",
    "for i,h in enumerate([1000,1200,1400,1600,1800,2000,2200,2400]):\n",
    "    sec = h*3600\n",
    "    R = V3.get('R', fname=sec, num_type='t')\n",
    "    mu = V3.compute_mu(fname=sec, num_type='t')\n",
    "    plot(R,mu,ut.linestyle(i)[0],color=ut.linestylecb(i)[2],marker=None,label=str(h)+r'$\\,$h')\n",
    "xlim(8550,8950)\n",
    "legend(frameon=False)\n",
    "ax = plt.gca()\n",
    "ax.tick_params(axis='both',direction='in', which='both')\n",
    "ax.yaxis.set_ticks_position('both')\n",
    "ax.xaxis.set_ticks_position('both')\n",
    "xlabel(r'$R$ (Mm)')\n",
    "ylabel(r'$\\mu$')\n",
    "ylim(0.592,.616)\n",
    "savefig('boundary.pdf', bbox_inches='tight')"
   ]
  },
  {
   "cell_type": "code",
   "execution_count": null,
   "metadata": {},
   "outputs": [],
   "source": []
  }
 ],
 "metadata": {
  "kernelspec": {
   "display_name": "Python 3",
   "language": "python",
   "name": "python3"
  },
  "language_info": {
   "codemirror_mode": {
    "name": "ipython",
    "version": 3
   },
   "file_extension": ".py",
   "mimetype": "text/x-python",
   "name": "python",
   "nbconvert_exporter": "python",
   "pygments_lexer": "ipython3",
   "version": "3.6.8"
  }
 },
 "nbformat": 4,
 "nbformat_minor": 4
}

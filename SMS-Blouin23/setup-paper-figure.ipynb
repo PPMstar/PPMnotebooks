{
 "cells": [
  {
   "cell_type": "markdown",
   "metadata": {},
   "source": [
    "# Figures of dump 0 compared to 1D model"
   ]
  },
  {
   "cell_type": "code",
   "execution_count": 1,
   "metadata": {},
   "outputs": [
    {
     "name": "stdout",
     "output_type": "stream",
     "text": [
      "Populating the interactive namespace from numpy and matplotlib\n"
     ]
    }
   ],
   "source": [
    "%pylab ipympl\n",
    "from scipy import interpolate\n",
    "from scipy import optimize\n",
    "from nugridpy import astronomy as ast\n",
    "from nugridpy import mesa as ms\n",
    "from nugridpy import ascii_table\n",
    "sys.path.insert(0,'/home/user/user/niagara_scratch_sblouin/PyPPM')\n",
    "from ppmpy import ppm  \n",
    "from ppmpy import ppmsetup as ps\n",
    "from scipy.interpolate import interp1d\n",
    "logging.getLogger(\"matplotlib\").setLevel(logging.ERROR)"
   ]
  },
  {
   "cell_type": "code",
   "execution_count": 2,
   "metadata": {},
   "outputs": [],
   "source": [
    "def initialize(data,dir,cases,nominal_heat = 1,eos='g'):\n",
    "    '''Initialize Rprof data for one run\n",
    "    \n",
    "    nominal_heat   nominal heat, from PPMstar code, so that X_Lfactors is factor wrt nominal heat\n",
    "    '''\n",
    "    for case in cases:\n",
    "        data[case] = {}\n",
    "        data[case]['path'] = dir+case+'/prfs' \n",
    "        data[case]['rp'] = ppm.RprofSet(data[case]['path'] )\n",
    "        data[case]['rph'] = data[case]['rp'].get_history()\n",
    "        data[case]['NDump'] = data[case]['rph'].get('NDump')\n",
    "        data[case]['time(mins)'] = data[case]['rph'].get('time(mins)')\n",
    "        data[case]['time(secs)'] = data[case]['rph'].get('time(secs)')\n",
    "        data[case]['rp_one'] = data[case]['rp'].get_dump(data[case]['NDump'][0])\n",
    "        data[case]['X_Lfactors'] = data[case]['rp_one'].get('totallum')/nominal_heat\n",
    "        data[case]['grids'] = data[case]['rp_one'].get('Nx') \n",
    "        data[case]['eos'] = eos        \n",
    "    return data"
   ]
  },
  {
   "cell_type": "code",
   "execution_count": 3,
   "metadata": {},
   "outputs": [
    {
     "name": "stdout",
     "output_type": "stream",
     "text": [
      "1127 rprof files found in '/home/user/user/niagara_scratch_fherwig/V3-1000xL-1000xK-1152-TyroneM1e4_0.1/prfs/.\n",
      "Dump numbers range from 0 to 1126.\n"
     ]
    }
   ],
   "source": [
    "nominal_heat = .1485 # Nominal luminosity in code units\n",
    "eos = 'r' # EOS used for the run\n",
    "dir = '/home/user/user/niagara_scratch_fherwig/'\n",
    "case = ['V3-1000xL-1000xK-1152-TyroneM1e4_0.1']\n",
    "data = {}  \n",
    "data = initialize(data,dir, case, nominal_heat = nominal_heat,eos=eos)"
   ]
  },
  {
   "cell_type": "code",
   "execution_count": 4,
   "metadata": {},
   "outputs": [],
   "source": [
    "Rrun = data[case[0]]['rp'].get('R',0,resolution='l')\n",
    "Arun = data[case[0]]['rp'].get('A',0,resolution='l')\n",
    "Trun = data[case[0]]['rp'].get('T9',0,resolution='l')\n",
    "Rhorun = data[case[0]]['rp'].get('Rho0',0,resolution='l')\n",
    "Murun = data[case[0]]['rp'].get('Mu0',0,resolution='l')\n",
    "kapparun = data[case[0]]['rp'].compute_kappa(0,boost=False)\n",
    "Prun = data[case[0]]['rp'].get('P0',0,resolution='l')\n",
    "beta = 8.314462*Rhorun*Trun/Murun/Prun"
   ]
  },
  {
   "cell_type": "code",
   "execution_count": 5,
   "metadata": {},
   "outputs": [],
   "source": [
    "_,mass,rho,T,entropy,mu,kappa,eps,radius,pressure = genfromtxt('tyrone/0.1Msun__yr_1e4Msun_more.dat', unpack=True, skip_header=1)"
   ]
  },
  {
   "cell_type": "code",
   "execution_count": 6,
   "metadata": {},
   "outputs": [],
   "source": [
    "matplotlib.rcParams.update({'font.size': 11})"
   ]
  },
  {
   "cell_type": "code",
   "execution_count": 22,
   "metadata": {},
   "outputs": [
    {
     "data": {
      "application/vnd.jupyter.widget-view+json": {
       "model_id": "513977f35be844229656a551503dfe48",
       "version_major": 2,
       "version_minor": 0
      },
      "text/plain": [
       "Canvas(toolbar=Toolbar(toolitems=[('Home', 'Reset original view', 'home', 'home'), ('Back', 'Back to previous …"
      ]
     },
     "metadata": {},
     "output_type": "display_data"
    }
   ],
   "source": [
    "fig, axs = subplots(4, 1, figsize=(5,12))\n",
    "axs[0].plot(radius/1e8,T/1e6,label='1D model')\n",
    "axs[0].plot(Rrun,Trun*1e3,'--',label='3D base state')\n",
    "axs[0].set_xlim(0,15000)\n",
    "axs[0].set_ylim(50,160)\n",
    "axs[0].set_ylabel(r'$T$ ($10^6\\,$K)')\n",
    "axs[0].tick_params(axis='both',direction='in',which='both')\n",
    "axs[0].yaxis.set_ticks_position('both')\n",
    "axs[0].legend(frameon=False)\n",
    "mass_axis,idx = unique(mass, return_index=True)\n",
    "radius_axis = radius[idx]/1e8\n",
    "rtom = interp1d(radius_axis, mass_axis, fill_value='extrapolate')\n",
    "mtor = interp1d(mass_axis, radius_axis, fill_value='extrapolate')\n",
    "new_tick_locations = mtor(array([0,200,1000,3000,5000]))\n",
    "def tick_function(X):\n",
    "    V = rtom(X)\n",
    "    return [str(int(round(x))) for x in V]\n",
    "ax2 = axs[0].twiny()       \n",
    "ax2.set_xlim(axs[0].get_xlim())\n",
    "ax2.set_xticks(new_tick_locations)\n",
    "ax2.set_xticklabels(tick_function(new_tick_locations))\n",
    "ax2.set_xlabel('$M_r$ ($M_\\odot$)', labelpad=6)\n",
    "ax2.tick_params(direction='in')\n",
    "\n",
    "axs[1].plot(radius/1e8,pressure/1e18)\n",
    "axs[1].plot(Rrun,Prun*1e19/1e18,'--')\n",
    "axs[1].set_xlim(0,15000)\n",
    "axs[1].set_ylim(0,1.5)\n",
    "axs[1].set_ylabel(r'$P$ ($10^{18}\\,$erg$\\,$cm$^{-3}$)')\n",
    "axs[1].tick_params(axis='both',direction='in',which='both')\n",
    "axs[1].yaxis.set_ticks_position('both')\n",
    "ax2 = axs[1].twinx()\n",
    "ax2.plot(Rrun, beta, ':k',label=r'$\\beta \\equiv P_{\\rm gas}/P$')\n",
    "ax2.legend(frameon=False)\n",
    "ax2 = axs[1].twiny()       \n",
    "ax2.set_xlim(axs[0].get_xlim())\n",
    "ax2.set_xticks(new_tick_locations)\n",
    "ax2.set_xticklabels([])\n",
    "ax2.tick_params(direction='in')\n",
    "\n",
    "axs[2].plot(radius/1e8,mu)\n",
    "axs[2].plot(Rrun,Murun,'--')\n",
    "axs[2].set_xlim(0,15000)\n",
    "axs[2].set_ylabel(r'$\\mu$')\n",
    "axs[2].tick_params(axis='both',direction='in',which='both')\n",
    "axs[2].yaxis.set_ticks_position('both')\n",
    "axs[2].xaxis.set_ticks_position('both')\n",
    "# axs[2].set_xlabel(r'$R$ (Mm)')\n",
    "axins = axs[2].inset_axes([0.14, 0.2, 0.34, 0.5])\n",
    "axins.plot(radius/1e8,mu)\n",
    "axins.plot(Rrun,Murun,'--')\n",
    "axins.set_xlim(8000,9000)\n",
    "axins.set_ylim(0.5915,0.617)\n",
    "axins.tick_params(axis='both',direction='in',which='both')\n",
    "axs[2].indicate_inset_zoom(axins, edgecolor=\"black\")\n",
    "\n",
    "axs[3].plot(radius/1e8,kappa)\n",
    "axs[3].plot(Rrun,kapparun,'--')\n",
    "axs[3].set_xlim(0,15000)\n",
    "axs[3].set_ylim(0.24,0.32)\n",
    "axs[3].set_ylabel(r'$\\kappa$ (g$\\,$cm$^{-2}$)')\n",
    "axs[3].tick_params(axis='both',direction='in',which='both')\n",
    "axs[3].yaxis.set_ticks_position('both')\n",
    "axs[3].xaxis.set_ticks_position('both')\n",
    "axs[3].set_xlabel(r'$R$ (Mm)')\n",
    "\n",
    "tight_layout()\n",
    "savefig('setup.pdf',bbox_inches='tight')"
   ]
  },
  {
   "cell_type": "code",
   "execution_count": null,
   "metadata": {},
   "outputs": [],
   "source": []
  }
 ],
 "metadata": {
  "kernelspec": {
   "display_name": "Python 3",
   "language": "python",
   "name": "python3"
  },
  "language_info": {
   "codemirror_mode": {
    "name": "ipython",
    "version": 3
   },
   "file_extension": ".py",
   "mimetype": "text/x-python",
   "name": "python",
   "nbconvert_exporter": "python",
   "pygments_lexer": "ipython3",
   "version": "3.6.8"
  }
 },
 "nbformat": 4,
 "nbformat_minor": 5
}

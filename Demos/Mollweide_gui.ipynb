{
 "cells": [
  {
   "cell_type": "markdown",
   "metadata": {},
   "source": [
    "# Mollweide Gui"
   ]
  },
  {
   "cell_type": "code",
   "execution_count": null,
   "metadata": {},
   "outputs": [],
   "source": [
    "%pylab ipympl"
   ]
  },
  {
   "cell_type": "code",
   "execution_count": null,
   "metadata": {},
   "outputs": [],
   "source": [
    "import os\n",
    "import sys\n",
    "import inspect\n",
    "import logging\n",
    "import ipywidgets as widgets\n",
    "\n",
    "# if you make changes to the ppmpy module (e.g. add your analysis methods via a pull \n",
    "# request) in the https://github.com/PPMstar/PyPPM repo you may want use that \n",
    "# updated version\n",
    "sys.path.insert(0, '/user/scratch14_ppmstar-lcse/fherwig/PyPPM')\n",
    "from ppmpy import ppm\n",
    "print(inspect.getfile(ppm))\n",
    "\n",
    "# turn off matplotlib messages\n",
    "logging.getLogger(\"matplotlib\").setLevel(logging.CRITICAL)"
   ]
  },
  {
   "cell_type": "markdown",
   "metadata": {},
   "source": [
    "The next cell will scan the ASDR data and find runs that have the required Moms and Rprof data needed for the Moms GUI. This takes a moment. If you know what you want you can just hardwire the directory variable `rprof_dir` and `moms_dir` and skip this step. Else select a run in the drop-down menu and don't forget to press the _Select Runs_ button! The scanner may find runs it thinks it can render because data files are present. The scanner does not check for physical data integrity and if the correct values are "
   ]
  },
  {
   "cell_type": "code",
   "execution_count": null,
   "metadata": {},
   "outputs": [],
   "source": [
    "base_dir = '/data/ASDR/PPMstar/'\n",
    "root_dirs = os.listdir(base_dir)\n",
    "options = []\n",
    "\n",
    "for sub_dir in root_dirs:\n",
    "    if (os.path.isdir(base_dir + sub_dir)):\n",
    "        data_dirs = os.listdir(base_dir + sub_dir)\n",
    "        for folder in data_dirs:\n",
    "            if (os.path.isdir(base_dir + sub_dir + '/' + folder)):\n",
    "                full_dir = base_dir + sub_dir + '/' + folder\n",
    "                if (os.path.exists(full_dir + '/prfs') and os.path.exists(full_dir + '/myavsbq')):\n",
    "                    if ((os.listdir(full_dir + '/prfs') != []) and (os.listdir(full_dir + '/myavsbq') != [])):\n",
    "                        options.append(full_dir)\n",
    "\n",
    "select_dropdown = widgets.Dropdown(options=options, description=\"Path Select\", layout=widgets.Layout(width='450px'))\n",
    "select_button = widgets.Button(description=\"Select Runs\", disabled=False)\n",
    "selected_label = widgets.Label(value=\"\")\n",
    "select_group = widgets.VBox([select_dropdown, select_button, selected_label])\n",
    "\n",
    "def select(b):\n",
    "    global rprof_dir\n",
    "    global moms_dir\n",
    "    rprof_dir = select_dropdown.value + '/prfs/'\n",
    "    moms_dir = select_dropdown.value + '/myavsbq/'\n",
    "    selected_label.value = select_dropdown.value\n",
    "select_button.on_click(select)\n",
    "\n",
    "display(select_group)"
   ]
  },
  {
   "cell_type": "code",
   "execution_count": null,
   "metadata": {},
   "outputs": [],
   "source": [
    "# A tested case: N15 is a RAWD simulation on a 768^3 grid (Stephens et al. 2020)\n",
    "rprof_dir = \"/data/ASDR/PPMstar/LowZRAWD/N15-LowZRAWD-768-10x-burn-moms/prfs/\"\n",
    "moms_dir  = \"/data/ASDR/PPMstar/LowZRAWD/N15-LowZRAWD-768-10x-burn-moms/myavsbq/\""
   ]
  },
  {
   "cell_type": "markdown",
   "metadata": {},
   "source": [
    "## Mollweide Gui: How to use guide\n",
    "It is advisable to start with looking at the radial profiles using the `RProf_gui.ipynb` notebook to get an overview of the run.\n",
    "\n",
    "1) Select the path to the data you wish to examine in dropdown above\\\n",
    "2) Click the `Select Runs` button above\\\n",
    "3) Run the block below to initialize the `Mollweide Gui` for those runs of data\n",
    "\n",
    "There are 5 sets of controls below in the `Graph Settings` tab, they are the following:\n",
    "- Dump, selects the dump number of the data set\n",
    "- Radius, selected the radius from the center of the start to take the shell which will be projected to the mollweide plot\n",
    "- Quantity, there are 6 quantities examinable in this GUI. These are defined in `get_mollweide_data`, see `quantity =` and calculated in `get_mollweide_data` using the original 10 quantities in the decompressed Moms data. If the decompresssed Moms data have different quantities the GUI may show garbage. Currently these 10 are hardwired to be (we need to write out what variable are decompressed in a way that the MomsData class can read ... ):\n",
    "| index | quantity            |\n",
    "|:-----:|:--------------:     |\n",
    "| 0     | x                   |\n",
    "| 1     | $\\vec{u_{x}}$                  |   \n",
    "| 2     | $\\vec{u_{y}}$             | \n",
    "|  3    | $\\vec{u_{z}}$             | \n",
    "|  4    | $\\lvert\\vec{u_{t}}\\rvert$         | \n",
    "|  5    | $\\lvert\\vec{u_{r}}\\rvert$             | \n",
    "|  6    | $\\lvert\\vec{\\omega}\\rvert$      | \n",
    "|  7    | P              | \n",
    "|  8    | rho            | \n",
    "|  9    | fv             | \n",
    "- Log Value Range/Value Range. Log Value Range applies a limit to the maximum and minimum values logged within the selected data symetrically about the zero and then offsets by log10(min). Value Range just limits the range of unlogged data to show, this will automatically go to min/max of the selected data when switched to from log or when the quantity is switched.\n",
    "\n",
    "There are 3 different types of controls in the `Colour Picker` tab\n",
    "- Colours dropdown, this dropdown selects the number of colours to include on the colour map for the graph\n",
    "- Individual colours, these pickers open up a palet when clicked on to allow the user to select the exact colour desired\n",
    "- Range sliders, each with a range from 0 to 1 with the first non-greyed out colour being set to 0 and the last being set to 1. 0 is the bottom of the colour mapping bar right of the graph and 1 is the top, the user can arrange colours however they choose between these set points."
   ]
  },
  {
   "cell_type": "code",
   "execution_count": null,
   "metadata": {},
   "outputs": [],
   "source": [
    "#get rprof and moms data\n",
    "rprof_data = ppm.RprofSet(rprof_dir)\n",
    "moms_data = ppm.MomsDataSet(moms_dir, 100, rprofset=rprof_data)\n",
    "# The second argument (100) in the previous call is any actually available dump\n",
    "# and is only needed for initialization. Dump 100 may not be available, then \n",
    "# try a different dump, maybe check out RProf_gui notebook first.\n",
    "\n",
    "moms_data.mollweide_gui()"
   ]
  },
  {
   "cell_type": "code",
   "execution_count": null,
   "metadata": {},
   "outputs": [],
   "source": []
  }
 ],
 "metadata": {
  "kernelspec": {
   "display_name": "Python 3",
   "language": "python",
   "name": "python3"
  },
  "language_info": {
   "codemirror_mode": {
    "name": "ipython",
    "version": 3
   },
   "file_extension": ".py",
   "mimetype": "text/x-python",
   "name": "python",
   "nbconvert_exporter": "python",
   "pygments_lexer": "ipython3",
   "version": "3.6.8"
  }
 },
 "nbformat": 4,
 "nbformat_minor": 4
}

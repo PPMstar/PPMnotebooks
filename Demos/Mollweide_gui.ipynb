{
 "cells": [
  {
   "cell_type": "markdown",
   "metadata": {},
   "source": [
    "# Mollweide Gui"
   ]
  },
  {
   "cell_type": "code",
   "execution_count": 4,
   "metadata": {},
   "outputs": [
    {
     "name": "stdout",
     "output_type": "stream",
     "text": [
      "Populating the interactive namespace from numpy and matplotlib\n"
     ]
    }
   ],
   "source": [
    "%pylab ipympl"
   ]
  },
  {
   "cell_type": "code",
   "execution_count": 5,
   "metadata": {},
   "outputs": [
    {
     "name": "stdout",
     "output_type": "stream",
     "text": [
      "/user/scratch14_ppmstar/bamcewan/repos/PyPPM/ppmpy/ppm.py\n"
     ]
    }
   ],
   "source": [
    "import os\n",
    "import sys\n",
    "import inspect\n",
    "import logging\n",
    "import ipywidgets as widgets\n",
    "\n",
    "# if you make changes to the ppmpy module (e.g. add your analysis methods via a pull \n",
    "# request) in the https://github.com/PPMstar/PyPPM repo you may want use that \n",
    "# updated version\n",
    "sys.path.insert(0, '/user/scratch14_ppmstar/bamcewan/repos/PyPPM/')\n",
    "from ppmpy import ppm\n",
    "print(inspect.getfile(ppm))\n",
    "\n",
    "# turn off matplotlib messages\n",
    "logging.getLogger(\"matplotlib\").setLevel(logging.CRITICAL)"
   ]
  },
  {
   "cell_type": "code",
   "execution_count": 6,
   "metadata": {},
   "outputs": [
    {
     "data": {
      "application/vnd.jupyter.widget-view+json": {
       "model_id": "50fb8464185d4c46aa340f171754583e",
       "version_major": 2,
       "version_minor": 0
      },
      "text/plain": [
       "VBox(children=(Dropdown(description='Path Select', layout=Layout(width='450px'), options=('/home/user/data/ASD…"
      ]
     },
     "metadata": {},
     "output_type": "display_data"
    }
   ],
   "source": [
    "base_dir = os.getcwd() + '/data/ASDR/PPMstar/'\n",
    "root_dirs = os.listdir(base_dir)\n",
    "options = []\n",
    "\n",
    "for sub_dir in root_dirs:\n",
    "    if (os.path.isdir(base_dir + sub_dir)):\n",
    "        data_dirs = os.listdir(base_dir + sub_dir)\n",
    "        for folder in data_dirs:\n",
    "            if (os.path.isdir(base_dir + sub_dir + '/' + folder)):\n",
    "                full_dir = base_dir + sub_dir + '/' + folder\n",
    "                if (os.path.exists(full_dir + '/prfs') and os.path.exists(full_dir + '/myavsbq')):\n",
    "                    if ((os.listdir(full_dir + '/prfs') != []) and (os.listdir(full_dir + '/myavsbq') != [])):\n",
    "                        options.append(full_dir)\n",
    "\n",
    "select_dropdown = widgets.Dropdown(options=options, description=\"Path Select\", layout=widgets.Layout(width='450px'))\n",
    "select_button = widgets.Button(description=\"Select Runs\", disabled=False)\n",
    "selected_label = widgets.Label(value=\"\")\n",
    "select_group = widgets.VBox([select_dropdown, select_button, selected_label])\n",
    "\n",
    "def select(b):\n",
    "    global rprof_dir\n",
    "    global moms_dir\n",
    "    rprof_dir = select_dropdown.value + '/prfs/'\n",
    "    moms_dir = select_dropdown.value + '/myavsbq/'\n",
    "    selected_label.value = select_dropdown.value\n",
    "select_button.on_click(select)\n",
    "\n",
    "display(select_group)"
   ]
  },
  {
   "cell_type": "markdown",
   "metadata": {},
   "source": [
    "## Mollweide Gui: How to use guide\n",
    "1) Select the path to the data you wish to examine in dropdown above\\\n",
    "2) Click the `Select Runs` button above\\\n",
    "3) Run the block below to initialize the `Mollweide Gui` for those runs of data\n",
    "\n",
    "There are 5 sets of controls below in the `Graph Settings` tab, they are the following:\n",
    "- Dump, selects the dump number of the data set\n",
    "- Radius, selected the radius from the center of the start to take the shell which will be projected to the mollweide plot\n",
    "- Quantity, there are 6 quantities examinable in this GUI. To see which quanties these are see line 12157 of ppm.py\n",
    "- Log Value Range/Value Range. Log Value Range applies a limit to the maximum and minimum values logged within the selected data symetrically about the zero and then offsets by log10(min). Value Range just limits the range of unlogged data to show, this will automatically go to min/max of the selected data when switched to from log or when the quantity is switched.\n",
    "\n",
    "There are 3 different types of controls in the `Colour Picker` tab\n",
    "- Colours dropdown, this dropdown selects the number of colours to include on the colour map for the graph\n",
    "- Individual colours, these pickers open up a palet when clicked on to allow the user to select the exact colour desired\n",
    "- Range sliders, each with a range from 0 to 1 with the first non-greyed out colour being set to 0 and the last being set to 1. 0 is the bottom of the colour mapping bar right of the graph and 1 is the top, the user can arrange colours however they choose between these set points."
   ]
  },
  {
   "cell_type": "code",
   "execution_count": 7,
   "metadata": {},
   "outputs": [
    {
     "name": "stdout",
     "output_type": "stream",
     "text": [
      "437 rprof files found in '/home/user/data/ASDR/PPMstar/H-core-M25/M35-1536/prfs/.\n",
      "Dump numbers range from 0 to 436.\n",
      "438 .aaa files found in '/home/user/data/ASDR/PPMstar/H-core-M25/M35-1536/myavsbq/.\n",
      "Dump numbers range from 0 to 437.\n"
     ]
    },
    {
     "data": {
      "application/vnd.jupyter.widget-view+json": {
       "model_id": "d82ddb4b64844db698248b3b760a6012",
       "version_major": 2,
       "version_minor": 0
      },
      "text/plain": [
       "Tab(children=(HBox(children=(VBox(children=(IntSlider(value=291, continuous_update=False, description='Dump', …"
      ]
     },
     "metadata": {},
     "output_type": "display_data"
    },
    {
     "data": {
      "application/vnd.jupyter.widget-view+json": {
       "model_id": "8575354ab85f4d3b9c6467873b4e370c",
       "version_major": 2,
       "version_minor": 0
      },
      "text/plain": [
       "Canvas(toolbar=Toolbar(toolitems=[('Home', 'Reset original view', 'home', 'home'), ('Back', 'Back to previous …"
      ]
     },
     "metadata": {},
     "output_type": "display_data"
    },
    {
     "name": "stderr",
     "output_type": "stream",
     "text": [
      "/usr/local/lib/python3.6/dist-packages/matplotlib/projections/geo.py:414: RuntimeWarning: invalid value encountered in arcsin\n",
      "  theta = np.arcsin(y / np.sqrt(2))\n"
     ]
    }
   ],
   "source": [
    "#get rprof and moms data\n",
    "rprof_data = ppm.RprofSet(rprof_dir)\n",
    "moms_data = ppm.MomsDataSet(moms_dir, 100, rprofset=rprof_data)\n",
    "\n",
    "moms_data.mollweide_gui()"
   ]
  },
  {
   "cell_type": "code",
   "execution_count": null,
   "metadata": {},
   "outputs": [],
   "source": []
  }
 ],
 "metadata": {
  "kernelspec": {
   "display_name": "Python 3",
   "language": "python",
   "name": "python3"
  },
  "language_info": {
   "codemirror_mode": {
    "name": "ipython",
    "version": 3
   },
   "file_extension": ".py",
   "mimetype": "text/x-python",
   "name": "python",
   "nbconvert_exporter": "python",
   "pygments_lexer": "ipython3",
   "version": "3.6.8"
  }
 },
 "nbformat": 4,
 "nbformat_minor": 4
}

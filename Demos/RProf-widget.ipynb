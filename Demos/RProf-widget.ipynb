{
 "cells": [
  {
   "cell_type": "markdown",
   "metadata": {},
   "source": [
    "# Plot radial profiles"
   ]
  },
  {
   "cell_type": "markdown",
   "metadata": {},
   "source": [
    "This notebook launches a widget to plot two dumps for a selected run. \n",
    "\n",
    "This notebook should work with PPMstarHub image `>=1.2.5`. "
   ]
  },
  {
   "cell_type": "code",
   "execution_count": null,
   "metadata": {},
   "outputs": [],
   "source": [
    "%pylab ipympl"
   ]
  },
  {
   "cell_type": "code",
   "execution_count": null,
   "metadata": {},
   "outputs": [],
   "source": [
    "from ppmpy import ppm   \n",
    "import os"
   ]
  },
  {
   "cell_type": "code",
   "execution_count": null,
   "metadata": {},
   "outputs": [],
   "source": [
    "# Hydro simulations can be found in the Astrophysics Simulation Data Repository (ASDR)\n",
    "asdr = '/data/ASDR/PPMstar'"
   ]
  },
  {
   "cell_type": "markdown",
   "metadata": {},
   "source": [
    "Simulations for several projects are available, for \n",
    "example [Rapidly Accreting White Dwarf simulations](https://www.ppmstar.org/index.html#stephens21).\n",
    "\n",
    "The following runs are available for this project:"
   ]
  },
  {
   "cell_type": "code",
   "execution_count": null,
   "metadata": {},
   "outputs": [],
   "source": [
    "!ls /data/ASDR/PPMstar/LowZRAWD/"
   ]
  },
  {
   "cell_type": "code",
   "execution_count": null,
   "metadata": {},
   "outputs": [],
   "source": [
    "# Specify path to rprofs\n",
    "case = 'N16-LowZRAWD-1536-10x-burn-moms'\n",
    "project = 'LowZRAWD'\n",
    "path = os.path.join(asdr,project,case,'prfs') "
   ]
  },
  {
   "cell_type": "code",
   "execution_count": null,
   "metadata": {},
   "outputs": [],
   "source": [
    "rp = ppm.RprofSet(path)\n",
    "rp.rprofgui(ifig=1)\n",
    "title(case)"
   ]
  },
  {
   "cell_type": "markdown",
   "metadata": {},
   "source": [
    "## Manual plot\n",
    "See notebook `rprof_demo.ipynb` for more extensive documentation on how to use radial profile data. Here is just a simple example of how to plot a single radial profiles manually. \n",
    "1. Select a variable to plot.\n",
    "2. Use the `rp_plot` method.\n",
    "\n",
    "For more examples of using RProf files see `PPMnotebooks/Demos/rprof_demo.ipynb` (on [github.com/PPMstar/PPMnotebooks](https://github.com/PPMstar/PPMnotebooks))."
   ]
  },
  {
   "cell_type": "code",
   "execution_count": null,
   "metadata": {},
   "outputs": [],
   "source": [
    "ifig=12;close(ifig);figure(ifig)\n",
    "dumps = list(range(0,401,100))\n",
    "labels = case\n",
    "yvar = 'FV'\n",
    "rp.rp_plot(dumps,yvar,ifig=ifig,logy=True,yylim=(-5,0.1),\\\n",
    "                  xxlim=(22,26),newfig=False,idn=1,runlabel=labels[1])"
   ]
  }
 ],
 "metadata": {
  "kernelspec": {
   "display_name": "Python 3",
   "language": "python",
   "name": "python3"
  },
  "language_info": {
   "codemirror_mode": {
    "name": "ipython",
    "version": 3
   },
   "file_extension": ".py",
   "mimetype": "text/x-python",
   "name": "python",
   "nbconvert_exporter": "python",
   "pygments_lexer": "ipython3",
   "version": "3.6.8"
  },
  "widgets": {
   "application/vnd.jupyter.widget-state+json": {
    "state": {
     "010d689e54474e99a98155403a045ab5": {
      "model_module": "@jupyter-widgets/base",
      "model_module_version": "1.2.0",
      "model_name": "LayoutModel",
      "state": {}
     },
     "01da8702d0c74a18b0db6fcca7361d6c": {
      "model_module": "@jupyter-widgets/base",
      "model_module_version": "1.2.0",
      "model_name": "LayoutModel",
      "state": {}
     },
     "03a7f11a53044983988a0ba43dbddc6a": {
      "model_module": "@jupyter-widgets/base",
      "model_module_version": "1.2.0",
      "model_name": "LayoutModel",
      "state": {}
     },
     "043194a9b2bd42f3aed0be4f44b2d3e8": {
      "model_module": "@jupyter-widgets/base",
      "model_module_version": "1.2.0",
      "model_name": "LayoutModel",
      "state": {}
     },
     "056d8652d0fc42838649321705dad32e": {
      "model_module": "jupyter-matplotlib",
      "model_module_version": "^0.4.2",
      "model_name": "ToolbarModel",
      "state": {
       "layout": "IPY_MODEL_60355b497f0b40df9ead4a657308e6f3",
       "toolitems": [
        [
         "Home",
         "Reset original view",
         "home",
         "home"
        ],
        [
         "Back",
         "Back to previous view",
         "arrow-left",
         "back"
        ],
        [
         "Forward",
         "Forward to next view",
         "arrow-right",
         "forward"
        ],
        [
         "Pan",
         "Pan axes with left mouse, zoom with right",
         "arrows",
         "pan"
        ],
        [
         "Zoom",
         "Zoom to rectangle",
         "square-o",
         "zoom"
        ],
        [
         "Download",
         "Download plot",
         "floppy-o",
         "save_figure"
        ]
       ]
      }
     },
     "08c9d558ead74cc99de5aa75551a5758": {
      "model_module": "jupyter-matplotlib",
      "model_module_version": "^0.4.2",
      "model_name": "ToolbarModel",
      "state": {
       "layout": "IPY_MODEL_cb0ae806a8d9417d8a50d5852babbfc5",
       "toolitems": [
        [
         "Home",
         "Reset original view",
         "home",
         "home"
        ],
        [
         "Back",
         "Back to previous view",
         "arrow-left",
         "back"
        ],
        [
         "Forward",
         "Forward to next view",
         "arrow-right",
         "forward"
        ],
        [
         "Pan",
         "Pan axes with left mouse, zoom with right",
         "arrows",
         "pan"
        ],
        [
         "Zoom",
         "Zoom to rectangle",
         "square-o",
         "zoom"
        ],
        [
         "Download",
         "Download plot",
         "floppy-o",
         "save_figure"
        ]
       ]
      }
     },
     "0af22519034e460fb9097a994f917d4d": {
      "model_module": "@jupyter-widgets/base",
      "model_module_version": "1.2.0",
      "model_name": "LayoutModel",
      "state": {}
     },
     "10961f2a0a4d49489d062aa409884fe6": {
      "model_module": "@jupyter-widgets/base",
      "model_module_version": "1.2.0",
      "model_name": "LayoutModel",
      "state": {}
     },
     "14ede438b8354bcda16c889eee261f8e": {
      "model_module": "@jupyter-widgets/controls",
      "model_module_version": "1.5.0",
      "model_name": "SliderStyleModel",
      "state": {
       "description_width": ""
      }
     },
     "1a23d0d73c384ba0bd60f3f2af4c262e": {
      "model_module": "@jupyter-widgets/controls",
      "model_module_version": "1.5.0",
      "model_name": "DropdownModel",
      "state": {
       "_options_labels": [
        "A",
        "Ceul",
        "dEnucRMS",
        "dEnucSumRMS",
        "dFVrms",
        "dHburnedRMS",
        "dMachRMS",
        "dP1fRMS",
        "dRho1fRMS",
        "dRhoUrUsqRMS",
        "dT9RMS",
        "dUrRMS",
        "d|Ut|RMS",
        "d|U|RMS",
        "Enuc",
        "EnucMax",
        "EnucMin",
        "EnucSum",
        "EnucSumMax",
        "EnucSumMin",
        "FV",
        "FVMax",
        "FVMin",
        "Hburned",
        "HburnedMax",
        "HburnedMin",
        "Mach",
        "Mach#",
        "MachMax",
        "MachMin",
        "P1/P0",
        "P1fMax",
        "P1fMin",
        "R",
        "Rho1/Rho0",
        "Rho1fMax",
        "Rho1fMin",
        "RhoUr",
        "RhoUrH",
        "RhoUrUsq",
        "RhoUrUsqMax",
        "RhoUrUsqMin",
        "T9",
        "T9Max",
        "T9Min",
        "Ur",
        "UrMax",
        "UrMin",
        "|Ut|",
        "|Ut|Max",
        "|Ut|Min",
        "|U|",
        "|U|Max",
        "|U|Min",
        "FV",
        "FV0",
        "P0",
        "P1",
        "R",
        "Rho0",
        "Rho1",
        "T9",
        "enuc_C12pg",
        "Hp",
        "nabla_rho",
        "nabla_rho_ad",
        "prad",
        "pgas_by_ptot",
        "g",
        "N2",
        "m",
        "mt",
        "r4rho2",
        "rhodot_C12pg",
        "T9",
        "T9corr",
        "|Ur|",
        "Xcld",
        "Xdot_C12pg"
       ],
       "description": "ything",
       "index": 48,
       "layout": "IPY_MODEL_460d2aed1a9e4fa7ac5e211b15cf6c25",
       "style": "IPY_MODEL_1a475ae729ed4c6c96368bc4b87d84fc"
      }
     },
     "1a475ae729ed4c6c96368bc4b87d84fc": {
      "model_module": "@jupyter-widgets/controls",
      "model_module_version": "1.5.0",
      "model_name": "DescriptionStyleModel",
      "state": {
       "description_width": ""
      }
     },
     "1a99e822c9f54c759f1faa1719702040": {
      "model_module": "@jupyter-widgets/controls",
      "model_module_version": "1.5.0",
      "model_name": "VBoxModel",
      "state": {
       "_dom_classes": [
        "widget-interact"
       ],
       "children": [
        "IPY_MODEL_6675352c4c3e4bbbadf6e73ea198a1dc",
        "IPY_MODEL_68aae2b68cec46e3989e060064cb8f43",
        "IPY_MODEL_607fd8a7f6c343a280a63febdd4954bd",
        "IPY_MODEL_e5568beb1dab4de6b1070fa34cfe879d",
        "IPY_MODEL_ee52160c77ad4bbda3296977dc9fed8a"
       ],
       "layout": "IPY_MODEL_10961f2a0a4d49489d062aa409884fe6"
      }
     },
     "1e8e636103b548f98134c1aecb0ab7e6": {
      "model_module": "@jupyter-widgets/controls",
      "model_module_version": "1.5.0",
      "model_name": "VBoxModel",
      "state": {
       "_dom_classes": [
        "widget-interact"
       ],
       "children": [
        "IPY_MODEL_f4e0914064bb422b8bcac986d4b80920",
        "IPY_MODEL_82bf8b2fee3946d1b668f4fed010437a",
        "IPY_MODEL_1a23d0d73c384ba0bd60f3f2af4c262e",
        "IPY_MODEL_b88c0eebb3f64daba068a99d8e6f1c7f",
        "IPY_MODEL_88537c311b734d20a648cea886f09712"
       ],
       "layout": "IPY_MODEL_5892e08bb0724663aaa86c8726a3cff6"
      }
     },
     "1fee48659b6944dcb03e59c21c41782d": {
      "model_module": "@jupyter-widgets/base",
      "model_module_version": "1.2.0",
      "model_name": "LayoutModel",
      "state": {}
     },
     "2060042ee71048d3bdc5750f8732633c": {
      "model_module": "@jupyter-widgets/base",
      "model_module_version": "1.2.0",
      "model_name": "LayoutModel",
      "state": {}
     },
     "331fcefaad3a43d085dc47a66e698d71": {
      "model_module": "@jupyter-widgets/base",
      "model_module_version": "1.2.0",
      "model_name": "LayoutModel",
      "state": {}
     },
     "35ac78a55e0d4f6bb161ce5c29c3c456": {
      "model_module": "jupyter-matplotlib",
      "model_module_version": "^0.4.2",
      "model_name": "ToolbarModel",
      "state": {
       "layout": "IPY_MODEL_50bd20d25cec4be399fd91aea1427c62",
       "toolitems": [
        [
         "Home",
         "Reset original view",
         "home",
         "home"
        ],
        [
         "Back",
         "Back to previous view",
         "arrow-left",
         "back"
        ],
        [
         "Forward",
         "Forward to next view",
         "arrow-right",
         "forward"
        ],
        [
         "Pan",
         "Pan axes with left mouse, zoom with right",
         "arrows",
         "pan"
        ],
        [
         "Zoom",
         "Zoom to rectangle",
         "square-o",
         "zoom"
        ],
        [
         "Download",
         "Download plot",
         "floppy-o",
         "save_figure"
        ]
       ]
      }
     },
     "37a11a1a45a543ea90816d7fefc0dc36": {
      "model_module": "@jupyter-widgets/base",
      "model_module_version": "1.2.0",
      "model_name": "LayoutModel",
      "state": {}
     },
     "386f8de0d080474bab430d59e5f11bf4": {
      "model_module": "jupyter-matplotlib",
      "model_module_version": "^0.4.2",
      "model_name": "ToolbarModel",
      "state": {
       "layout": "IPY_MODEL_9b7bd42ebd08415785436cbd02890f00",
       "toolitems": [
        [
         "Home",
         "Reset original view",
         "home",
         "home"
        ],
        [
         "Back",
         "Back to previous view",
         "arrow-left",
         "back"
        ],
        [
         "Forward",
         "Forward to next view",
         "arrow-right",
         "forward"
        ],
        [
         "Pan",
         "Pan axes with left mouse, zoom with right",
         "arrows",
         "pan"
        ],
        [
         "Zoom",
         "Zoom to rectangle",
         "square-o",
         "zoom"
        ],
        [
         "Download",
         "Download plot",
         "floppy-o",
         "save_figure"
        ]
       ]
      }
     },
     "3b0be442f7ef45f1a704a1dceba1dc9d": {
      "model_module": "@jupyter-widgets/base",
      "model_module_version": "1.2.0",
      "model_name": "LayoutModel",
      "state": {}
     },
     "3f59834103c447d88dc3314d49b1e5e7": {
      "model_module": "@jupyter-widgets/base",
      "model_module_version": "1.2.0",
      "model_name": "LayoutModel",
      "state": {}
     },
     "3fa88df6c19f4745af84f7d90883e2ce": {
      "model_module": "@jupyter-widgets/base",
      "model_module_version": "1.2.0",
      "model_name": "LayoutModel",
      "state": {}
     },
     "414f16a14a944c0ba44ec69c44ccdca3": {
      "model_module": "@jupyter-widgets/base",
      "model_module_version": "1.2.0",
      "model_name": "LayoutModel",
      "state": {}
     },
     "41ad29f84216497aa3df057ece6b1e6e": {
      "model_module": "jupyter-matplotlib",
      "model_module_version": "^0.4.2",
      "model_name": "ToolbarModel",
      "state": {
       "layout": "IPY_MODEL_846ad1616ea7421b8fc49090eb660d54",
       "toolitems": [
        [
         "Home",
         "Reset original view",
         "home",
         "home"
        ],
        [
         "Back",
         "Back to previous view",
         "arrow-left",
         "back"
        ],
        [
         "Forward",
         "Forward to next view",
         "arrow-right",
         "forward"
        ],
        [
         "Pan",
         "Pan axes with left mouse, zoom with right",
         "arrows",
         "pan"
        ],
        [
         "Zoom",
         "Zoom to rectangle",
         "square-o",
         "zoom"
        ],
        [
         "Download",
         "Download plot",
         "floppy-o",
         "save_figure"
        ]
       ]
      }
     },
     "447c3f082bb94684bf31896744e84248": {
      "model_module": "jupyter-matplotlib",
      "model_module_version": "^0.4.2",
      "model_name": "ToolbarModel",
      "state": {
       "layout": "IPY_MODEL_b76746f6ce9343c2ab3ddd72a19e1b8d",
       "toolitems": [
        [
         "Home",
         "Reset original view",
         "home",
         "home"
        ],
        [
         "Back",
         "Back to previous view",
         "arrow-left",
         "back"
        ],
        [
         "Forward",
         "Forward to next view",
         "arrow-right",
         "forward"
        ],
        [
         "Pan",
         "Pan axes with left mouse, zoom with right",
         "arrows",
         "pan"
        ],
        [
         "Zoom",
         "Zoom to rectangle",
         "square-o",
         "zoom"
        ],
        [
         "Download",
         "Download plot",
         "floppy-o",
         "save_figure"
        ]
       ]
      }
     },
     "458b01f257eb485288701db272bf09d8": {
      "model_module": "@jupyter-widgets/controls",
      "model_module_version": "1.5.0",
      "model_name": "DescriptionStyleModel",
      "state": {
       "description_width": ""
      }
     },
     "460d2aed1a9e4fa7ac5e211b15cf6c25": {
      "model_module": "@jupyter-widgets/base",
      "model_module_version": "1.2.0",
      "model_name": "LayoutModel",
      "state": {}
     },
     "4b423b9c66384930b07efe0d99794e16": {
      "model_module": "jupyter-matplotlib",
      "model_module_version": "^0.4.2",
      "model_name": "ToolbarModel",
      "state": {
       "layout": "IPY_MODEL_2060042ee71048d3bdc5750f8732633c",
       "toolitems": [
        [
         "Home",
         "Reset original view",
         "home",
         "home"
        ],
        [
         "Back",
         "Back to previous view",
         "arrow-left",
         "back"
        ],
        [
         "Forward",
         "Forward to next view",
         "arrow-right",
         "forward"
        ],
        [
         "Pan",
         "Pan axes with left mouse, zoom with right",
         "arrows",
         "pan"
        ],
        [
         "Zoom",
         "Zoom to rectangle",
         "square-o",
         "zoom"
        ],
        [
         "Download",
         "Download plot",
         "floppy-o",
         "save_figure"
        ]
       ]
      }
     },
     "4e8939483776404b89c22dc9bf4b4746": {
      "model_module": "@jupyter-widgets/base",
      "model_module_version": "1.2.0",
      "model_name": "LayoutModel",
      "state": {}
     },
     "4eda5f421ce84af5a6ae0a8c26d2ed00": {
      "model_module": "@jupyter-widgets/base",
      "model_module_version": "1.2.0",
      "model_name": "LayoutModel",
      "state": {}
     },
     "50bd20d25cec4be399fd91aea1427c62": {
      "model_module": "@jupyter-widgets/base",
      "model_module_version": "1.2.0",
      "model_name": "LayoutModel",
      "state": {}
     },
     "569a1ae4ebc2408bb9774f4682484ec8": {
      "model_module": "jupyter-matplotlib",
      "model_module_version": "^0.4.2",
      "model_name": "ToolbarModel",
      "state": {
       "layout": "IPY_MODEL_3f59834103c447d88dc3314d49b1e5e7",
       "toolitems": [
        [
         "Home",
         "Reset original view",
         "home",
         "home"
        ],
        [
         "Back",
         "Back to previous view",
         "arrow-left",
         "back"
        ],
        [
         "Forward",
         "Forward to next view",
         "arrow-right",
         "forward"
        ],
        [
         "Pan",
         "Pan axes with left mouse, zoom with right",
         "arrows",
         "pan"
        ],
        [
         "Zoom",
         "Zoom to rectangle",
         "square-o",
         "zoom"
        ],
        [
         "Download",
         "Download plot",
         "floppy-o",
         "save_figure"
        ]
       ]
      }
     },
     "56ad942db66a4df59386764eb5c7327c": {
      "model_module": "jupyter-matplotlib",
      "model_module_version": "^0.4.2",
      "model_name": "ToolbarModel",
      "state": {
       "layout": "IPY_MODEL_7c748f880d7d4114b5f70127a208dbdf",
       "toolitems": [
        [
         "Home",
         "Reset original view",
         "home",
         "home"
        ],
        [
         "Back",
         "Back to previous view",
         "arrow-left",
         "back"
        ],
        [
         "Forward",
         "Forward to next view",
         "arrow-right",
         "forward"
        ],
        [
         "Pan",
         "Pan axes with left mouse, zoom with right",
         "arrows",
         "pan"
        ],
        [
         "Zoom",
         "Zoom to rectangle",
         "square-o",
         "zoom"
        ],
        [
         "Download",
         "Download plot",
         "floppy-o",
         "save_figure"
        ]
       ]
      }
     },
     "57014a00be704bd2918dc163cfa86e65": {
      "model_module": "@jupyter-widgets/controls",
      "model_module_version": "1.5.0",
      "model_name": "DescriptionStyleModel",
      "state": {
       "description_width": ""
      }
     },
     "5892e08bb0724663aaa86c8726a3cff6": {
      "model_module": "@jupyter-widgets/base",
      "model_module_version": "1.2.0",
      "model_name": "LayoutModel",
      "state": {}
     },
     "60355b497f0b40df9ead4a657308e6f3": {
      "model_module": "@jupyter-widgets/base",
      "model_module_version": "1.2.0",
      "model_name": "LayoutModel",
      "state": {}
     },
     "607fd8a7f6c343a280a63febdd4954bd": {
      "model_module": "@jupyter-widgets/controls",
      "model_module_version": "1.5.0",
      "model_name": "DropdownModel",
      "state": {
       "_options_labels": [
        "A",
        "Ceul",
        "dEnucRMS",
        "dEnucSumRMS",
        "dFVrms",
        "dHburnedRMS",
        "dMachRMS",
        "dP1fRMS",
        "dRho1fRMS",
        "dRhoUrUsqRMS",
        "dT9RMS",
        "dUrRMS",
        "d|Ut|RMS",
        "d|U|RMS",
        "Enuc",
        "EnucMax",
        "EnucMin",
        "EnucSum",
        "EnucSumMax",
        "EnucSumMin",
        "FV",
        "FVMax",
        "FVMin",
        "Hburned",
        "HburnedMax",
        "HburnedMin",
        "Mach",
        "Mach#",
        "MachMax",
        "MachMin",
        "P1/P0",
        "P1fMax",
        "P1fMin",
        "R",
        "Rho1/Rho0",
        "Rho1fMax",
        "Rho1fMin",
        "RhoUr",
        "RhoUrH",
        "RhoUrUsq",
        "RhoUrUsqMax",
        "RhoUrUsqMin",
        "T9",
        "T9Max",
        "T9Min",
        "Ur",
        "UrMax",
        "UrMin",
        "|Ut|",
        "|Ut|Max",
        "|Ut|Min",
        "|U|",
        "|U|Max",
        "|U|Min",
        "FV",
        "FV0",
        "P0",
        "P1",
        "R",
        "Rho0",
        "Rho1",
        "T9",
        "enuc_C12pg",
        "Hp",
        "nabla_rho",
        "nabla_rho_ad",
        "prad",
        "pgas_by_ptot",
        "g",
        "N2",
        "m",
        "mt",
        "r4rho2",
        "rhodot_C12pg",
        "T9",
        "T9corr",
        "|Ur|",
        "Xcld",
        "Xdot_C12pg"
       ],
       "description": "ything",
       "index": 0,
       "layout": "IPY_MODEL_bc864df7e2a843e5b45a254f4a81c70a",
       "style": "IPY_MODEL_57014a00be704bd2918dc163cfa86e65"
      }
     },
     "619153d4268741fba7b5aca4dbbb2992": {
      "model_module": "@jupyter-widgets/base",
      "model_module_version": "1.2.0",
      "model_name": "LayoutModel",
      "state": {}
     },
     "61dcb085a2434b39b2f1a7b53045ee92": {
      "model_module": "@jupyter-widgets/base",
      "model_module_version": "1.2.0",
      "model_name": "LayoutModel",
      "state": {}
     },
     "64411a4734ce4d07b6a48d2245bd3fff": {
      "model_module": "@jupyter-widgets/base",
      "model_module_version": "1.2.0",
      "model_name": "LayoutModel",
      "state": {}
     },
     "645ab55229b841638d9e7bef960ed45f": {
      "model_module": "jupyter-matplotlib",
      "model_module_version": "^0.4.2",
      "model_name": "ToolbarModel",
      "state": {
       "layout": "IPY_MODEL_a8dbff2fe3714363b7f60097ed6f4ac3",
       "toolitems": [
        [
         "Home",
         "Reset original view",
         "home",
         "home"
        ],
        [
         "Back",
         "Back to previous view",
         "arrow-left",
         "back"
        ],
        [
         "Forward",
         "Forward to next view",
         "arrow-right",
         "forward"
        ],
        [
         "Pan",
         "Pan axes with left mouse, zoom with right",
         "arrows",
         "pan"
        ],
        [
         "Zoom",
         "Zoom to rectangle",
         "square-o",
         "zoom"
        ],
        [
         "Download",
         "Download plot",
         "floppy-o",
         "save_figure"
        ]
       ]
      }
     },
     "64e67c10bd7d463888ec91f459ba6eef": {
      "model_module": "@jupyter-widgets/base",
      "model_module_version": "1.2.0",
      "model_name": "LayoutModel",
      "state": {}
     },
     "6516303e7e3c4a4cbe188724787691de": {
      "model_module": "@jupyter-widgets/base",
      "model_module_version": "1.2.0",
      "model_name": "LayoutModel",
      "state": {}
     },
     "652bf594af2e4ab796285b95c92eecd9": {
      "model_module": "@jupyter-widgets/base",
      "model_module_version": "1.2.0",
      "model_name": "LayoutModel",
      "state": {}
     },
     "6675352c4c3e4bbbadf6e73ea198a1dc": {
      "model_module": "@jupyter-widgets/controls",
      "model_module_version": "1.5.0",
      "model_name": "IntSliderModel",
      "state": {
       "description": "dump1",
       "layout": "IPY_MODEL_a5b2556ac1734be0b8c1d12d5e8bd93d",
       "max": 1134,
       "style": "IPY_MODEL_6a7fe9fb332c4d76a439a7c8703d7d7e",
       "value": 37
      }
     },
     "68aae2b68cec46e3989e060064cb8f43": {
      "model_module": "@jupyter-widgets/controls",
      "model_module_version": "1.5.0",
      "model_name": "IntSliderModel",
      "state": {
       "description": "dump2",
       "layout": "IPY_MODEL_010d689e54474e99a98155403a045ab5",
       "max": 1134,
       "style": "IPY_MODEL_14ede438b8354bcda16c889eee261f8e",
       "value": 1115
      }
     },
     "6933f639b3e2431f92b9117291ea4098": {
      "model_module": "@jupyter-widgets/base",
      "model_module_version": "1.2.0",
      "model_name": "LayoutModel",
      "state": {}
     },
     "6983fcdf9ac14768ad2a3a3759da39f3": {
      "model_module": "@jupyter-widgets/base",
      "model_module_version": "1.2.0",
      "model_name": "LayoutModel",
      "state": {}
     },
     "6a7fe9fb332c4d76a439a7c8703d7d7e": {
      "model_module": "@jupyter-widgets/controls",
      "model_module_version": "1.5.0",
      "model_name": "SliderStyleModel",
      "state": {
       "description_width": ""
      }
     },
     "702fe8be58b04c0595f1514b08578665": {
      "model_module": "@jupyter-widgets/controls",
      "model_module_version": "1.5.0",
      "model_name": "SliderStyleModel",
      "state": {
       "description_width": ""
      }
     },
     "7591de15ff33475894023ee67d5b57cb": {
      "model_module": "@jupyter-widgets/base",
      "model_module_version": "1.2.0",
      "model_name": "LayoutModel",
      "state": {}
     },
     "7996812d9d7c46cb983f9b16ca70643d": {
      "model_module": "@jupyter-widgets/base",
      "model_module_version": "1.2.0",
      "model_name": "LayoutModel",
      "state": {}
     },
     "7c748f880d7d4114b5f70127a208dbdf": {
      "model_module": "@jupyter-widgets/base",
      "model_module_version": "1.2.0",
      "model_name": "LayoutModel",
      "state": {}
     },
     "824a4ae1295946a2b5817db8ea0a9111": {
      "model_module": "jupyter-matplotlib",
      "model_module_version": "^0.4.2",
      "model_name": "ToolbarModel",
      "state": {
       "layout": "IPY_MODEL_03a7f11a53044983988a0ba43dbddc6a",
       "toolitems": [
        [
         "Home",
         "Reset original view",
         "home",
         "home"
        ],
        [
         "Back",
         "Back to previous view",
         "arrow-left",
         "back"
        ],
        [
         "Forward",
         "Forward to next view",
         "arrow-right",
         "forward"
        ],
        [
         "Pan",
         "Pan axes with left mouse, zoom with right",
         "arrows",
         "pan"
        ],
        [
         "Zoom",
         "Zoom to rectangle",
         "square-o",
         "zoom"
        ],
        [
         "Download",
         "Download plot",
         "floppy-o",
         "save_figure"
        ]
       ]
      }
     },
     "82bf8b2fee3946d1b668f4fed010437a": {
      "model_module": "@jupyter-widgets/controls",
      "model_module_version": "1.5.0",
      "model_name": "IntSliderModel",
      "state": {
       "description": "dump2",
       "layout": "IPY_MODEL_652bf594af2e4ab796285b95c92eecd9",
       "max": 1134,
       "style": "IPY_MODEL_702fe8be58b04c0595f1514b08578665",
       "value": 1115
      }
     },
     "846ad1616ea7421b8fc49090eb660d54": {
      "model_module": "@jupyter-widgets/base",
      "model_module_version": "1.2.0",
      "model_name": "LayoutModel",
      "state": {}
     },
     "8833dfd2f5a54382a35bca9bfb838361": {
      "model_module": "@jupyter-widgets/base",
      "model_module_version": "1.2.0",
      "model_name": "LayoutModel",
      "state": {}
     },
     "88537c311b734d20a648cea886f09712": {
      "model_module": "@jupyter-widgets/output",
      "model_module_version": "1.0.0",
      "model_name": "OutputModel",
      "state": {
       "layout": "IPY_MODEL_331fcefaad3a43d085dc47a66e698d71",
       "outputs": [
        {
         "data": {
          "application/vnd.jupyter.widget-view+json": {
           "model_id": "",
           "version_major": 2,
           "version_minor": 0
          },
          "text/plain": "Canvas(toolbar=Toolbar(toolitems=[('Home', 'Reset original view', 'home', 'home'), ('Back', 'Back to previous …"
         },
         "metadata": {},
         "output_type": "display_data"
        },
        {
         "name": "stderr",
         "output_type": "stream",
         "text": "/usr/local/lib/python3.6/dist-packages/ppmpy/ppm.py:9391: RuntimeWarning: divide by zero encountered in log10\n  if logy: yquantity = np.log10(yquantity)\n"
        }
       ]
      }
     },
     "8fa28087633a454db78ced8e79542089": {
      "model_module": "@jupyter-widgets/base",
      "model_module_version": "1.2.0",
      "model_name": "LayoutModel",
      "state": {}
     },
     "9b7bd42ebd08415785436cbd02890f00": {
      "model_module": "@jupyter-widgets/base",
      "model_module_version": "1.2.0",
      "model_name": "LayoutModel",
      "state": {}
     },
     "9bff59d536a64bea8bcc9afe9af4cca2": {
      "model_module": "@jupyter-widgets/base",
      "model_module_version": "1.2.0",
      "model_name": "LayoutModel",
      "state": {}
     },
     "a1270bbb65c84ba88030a7d997542732": {
      "model_module": "@jupyter-widgets/controls",
      "model_module_version": "1.5.0",
      "model_name": "SliderStyleModel",
      "state": {
       "description_width": ""
      }
     },
     "a367d423ea134354a9d64a256a88e435": {
      "model_module": "jupyter-matplotlib",
      "model_module_version": "^0.4.2",
      "model_name": "ToolbarModel",
      "state": {
       "layout": "IPY_MODEL_cfa8e54684254f839deea093b5522bea",
       "toolitems": [
        [
         "Home",
         "Reset original view",
         "home",
         "home"
        ],
        [
         "Back",
         "Back to previous view",
         "arrow-left",
         "back"
        ],
        [
         "Forward",
         "Forward to next view",
         "arrow-right",
         "forward"
        ],
        [
         "Pan",
         "Pan axes with left mouse, zoom with right",
         "arrows",
         "pan"
        ],
        [
         "Zoom",
         "Zoom to rectangle",
         "square-o",
         "zoom"
        ],
        [
         "Download",
         "Download plot",
         "floppy-o",
         "save_figure"
        ]
       ]
      }
     },
     "a5b2556ac1734be0b8c1d12d5e8bd93d": {
      "model_module": "@jupyter-widgets/base",
      "model_module_version": "1.2.0",
      "model_name": "LayoutModel",
      "state": {}
     },
     "a8dbff2fe3714363b7f60097ed6f4ac3": {
      "model_module": "@jupyter-widgets/base",
      "model_module_version": "1.2.0",
      "model_name": "LayoutModel",
      "state": {}
     },
     "ab284e540c614380b9ffa040b248ac3e": {
      "model_module": "jupyter-matplotlib",
      "model_module_version": "^0.4.2",
      "model_name": "ToolbarModel",
      "state": {
       "layout": "IPY_MODEL_d3234eea954f4961b7aba0887aa48760",
       "toolitems": [
        [
         "Home",
         "Reset original view",
         "home",
         "home"
        ],
        [
         "Back",
         "Back to previous view",
         "arrow-left",
         "back"
        ],
        [
         "Forward",
         "Forward to next view",
         "arrow-right",
         "forward"
        ],
        [
         "Pan",
         "Pan axes with left mouse, zoom with right",
         "arrows",
         "pan"
        ],
        [
         "Zoom",
         "Zoom to rectangle",
         "square-o",
         "zoom"
        ],
        [
         "Download",
         "Download plot",
         "floppy-o",
         "save_figure"
        ]
       ]
      }
     },
     "ab3d04ed4d424bb3a988cb15a95ff00e": {
      "model_module": "@jupyter-widgets/base",
      "model_module_version": "1.2.0",
      "model_name": "LayoutModel",
      "state": {}
     },
     "afddd715dad841bfb5e98c8543a37cc3": {
      "model_module": "@jupyter-widgets/base",
      "model_module_version": "1.2.0",
      "model_name": "LayoutModel",
      "state": {}
     },
     "b6b30c811fec41ab9939039df9812c86": {
      "model_module": "jupyter-matplotlib",
      "model_module_version": "^0.4.2",
      "model_name": "ToolbarModel",
      "state": {
       "layout": "IPY_MODEL_ab3d04ed4d424bb3a988cb15a95ff00e",
       "toolitems": [
        [
         "Home",
         "Reset original view",
         "home",
         "home"
        ],
        [
         "Back",
         "Back to previous view",
         "arrow-left",
         "back"
        ],
        [
         "Forward",
         "Forward to next view",
         "arrow-right",
         "forward"
        ],
        [
         "Pan",
         "Pan axes with left mouse, zoom with right",
         "arrows",
         "pan"
        ],
        [
         "Zoom",
         "Zoom to rectangle",
         "square-o",
         "zoom"
        ],
        [
         "Download",
         "Download plot",
         "floppy-o",
         "save_figure"
        ]
       ]
      }
     },
     "b76746f6ce9343c2ab3ddd72a19e1b8d": {
      "model_module": "@jupyter-widgets/base",
      "model_module_version": "1.2.0",
      "model_name": "LayoutModel",
      "state": {}
     },
     "b79577a3bdce4d28833af87c0b37b742": {
      "model_module": "jupyter-matplotlib",
      "model_module_version": "^0.4.2",
      "model_name": "MPLCanvasModel",
      "state": {
       "layout": "IPY_MODEL_7591de15ff33475894023ee67d5b57cb",
       "toolbar": "IPY_MODEL_08c9d558ead74cc99de5aa75551a5758",
       "toolbar_position": "left"
      }
     },
     "b88c0eebb3f64daba068a99d8e6f1c7f": {
      "model_module": "@jupyter-widgets/controls",
      "model_module_version": "1.5.0",
      "model_name": "CheckboxModel",
      "state": {
       "description": "log10y",
       "disabled": false,
       "layout": "IPY_MODEL_61dcb085a2434b39b2f1a7b53045ee92",
       "style": "IPY_MODEL_e29a8398176a4bcda64dc78f6493917f",
       "value": true
      }
     },
     "bc864df7e2a843e5b45a254f4a81c70a": {
      "model_module": "@jupyter-widgets/base",
      "model_module_version": "1.2.0",
      "model_name": "LayoutModel",
      "state": {}
     },
     "bcf9710b8fc341cca9274bef63e61dad": {
      "model_module": "jupyter-matplotlib",
      "model_module_version": "^0.4.2",
      "model_name": "ToolbarModel",
      "state": {
       "layout": "IPY_MODEL_6516303e7e3c4a4cbe188724787691de",
       "toolitems": [
        [
         "Home",
         "Reset original view",
         "home",
         "home"
        ],
        [
         "Back",
         "Back to previous view",
         "arrow-left",
         "back"
        ],
        [
         "Forward",
         "Forward to next view",
         "arrow-right",
         "forward"
        ],
        [
         "Pan",
         "Pan axes with left mouse, zoom with right",
         "arrows",
         "pan"
        ],
        [
         "Zoom",
         "Zoom to rectangle",
         "square-o",
         "zoom"
        ],
        [
         "Download",
         "Download plot",
         "floppy-o",
         "save_figure"
        ]
       ]
      }
     },
     "bd50d8ca35d14281b6cf15284c40de11": {
      "model_module": "jupyter-matplotlib",
      "model_module_version": "^0.4.2",
      "model_name": "ToolbarModel",
      "state": {
       "layout": "IPY_MODEL_6983fcdf9ac14768ad2a3a3759da39f3",
       "toolitems": [
        [
         "Home",
         "Reset original view",
         "home",
         "home"
        ],
        [
         "Back",
         "Back to previous view",
         "arrow-left",
         "back"
        ],
        [
         "Forward",
         "Forward to next view",
         "arrow-right",
         "forward"
        ],
        [
         "Pan",
         "Pan axes with left mouse, zoom with right",
         "arrows",
         "pan"
        ],
        [
         "Zoom",
         "Zoom to rectangle",
         "square-o",
         "zoom"
        ],
        [
         "Download",
         "Download plot",
         "floppy-o",
         "save_figure"
        ]
       ]
      }
     },
     "c223db83faae4e298dff2442cd4ffb6c": {
      "model_module": "jupyter-matplotlib",
      "model_module_version": "^0.4.2",
      "model_name": "ToolbarModel",
      "state": {
       "layout": "IPY_MODEL_619153d4268741fba7b5aca4dbbb2992",
       "toolitems": [
        [
         "Home",
         "Reset original view",
         "home",
         "home"
        ],
        [
         "Back",
         "Back to previous view",
         "arrow-left",
         "back"
        ],
        [
         "Forward",
         "Forward to next view",
         "arrow-right",
         "forward"
        ],
        [
         "Pan",
         "Pan axes with left mouse, zoom with right",
         "arrows",
         "pan"
        ],
        [
         "Zoom",
         "Zoom to rectangle",
         "square-o",
         "zoom"
        ],
        [
         "Download",
         "Download plot",
         "floppy-o",
         "save_figure"
        ]
       ]
      }
     },
     "cb0ae806a8d9417d8a50d5852babbfc5": {
      "model_module": "@jupyter-widgets/base",
      "model_module_version": "1.2.0",
      "model_name": "LayoutModel",
      "state": {}
     },
     "cfa8e54684254f839deea093b5522bea": {
      "model_module": "@jupyter-widgets/base",
      "model_module_version": "1.2.0",
      "model_name": "LayoutModel",
      "state": {}
     },
     "d06855e95aa0419f8533c491cc0a7750": {
      "model_module": "@jupyter-widgets/base",
      "model_module_version": "1.2.0",
      "model_name": "LayoutModel",
      "state": {}
     },
     "d15777a282484e2db83707a2f301ba74": {
      "model_module": "jupyter-matplotlib",
      "model_module_version": "^0.4.2",
      "model_name": "MPLCanvasModel",
      "state": {
       "layout": "IPY_MODEL_414f16a14a944c0ba44ec69c44ccdca3",
       "toolbar": "IPY_MODEL_447c3f082bb94684bf31896744e84248",
       "toolbar_position": "left"
      }
     },
     "d3234eea954f4961b7aba0887aa48760": {
      "model_module": "@jupyter-widgets/base",
      "model_module_version": "1.2.0",
      "model_name": "LayoutModel",
      "state": {}
     },
     "d59a8575a960433481a737701b1b8e1c": {
      "model_module": "@jupyter-widgets/base",
      "model_module_version": "1.2.0",
      "model_name": "LayoutModel",
      "state": {}
     },
     "d9531f575268444e83a7f2fd66d7d435": {
      "model_module": "@jupyter-widgets/base",
      "model_module_version": "1.2.0",
      "model_name": "LayoutModel",
      "state": {}
     },
     "e29a8398176a4bcda64dc78f6493917f": {
      "model_module": "@jupyter-widgets/controls",
      "model_module_version": "1.5.0",
      "model_name": "DescriptionStyleModel",
      "state": {
       "description_width": ""
      }
     },
     "e3543d52d0624dfd8cf35f5d3feb7188": {
      "model_module": "jupyter-matplotlib",
      "model_module_version": "^0.4.2",
      "model_name": "ToolbarModel",
      "state": {
       "layout": "IPY_MODEL_4e8939483776404b89c22dc9bf4b4746",
       "toolitems": [
        [
         "Home",
         "Reset original view",
         "home",
         "home"
        ],
        [
         "Back",
         "Back to previous view",
         "arrow-left",
         "back"
        ],
        [
         "Forward",
         "Forward to next view",
         "arrow-right",
         "forward"
        ],
        [
         "Pan",
         "Pan axes with left mouse, zoom with right",
         "arrows",
         "pan"
        ],
        [
         "Zoom",
         "Zoom to rectangle",
         "square-o",
         "zoom"
        ],
        [
         "Download",
         "Download plot",
         "floppy-o",
         "save_figure"
        ]
       ]
      }
     },
     "e38c49c3629749f6acd7814a35ea1d9a": {
      "model_module": "@jupyter-widgets/base",
      "model_module_version": "1.2.0",
      "model_name": "LayoutModel",
      "state": {}
     },
     "e399a661c71d42819a50b108c1f2864a": {
      "model_module": "@jupyter-widgets/base",
      "model_module_version": "1.2.0",
      "model_name": "LayoutModel",
      "state": {}
     },
     "e5568beb1dab4de6b1070fa34cfe879d": {
      "model_module": "@jupyter-widgets/controls",
      "model_module_version": "1.5.0",
      "model_name": "CheckboxModel",
      "state": {
       "description": "log10y",
       "disabled": false,
       "layout": "IPY_MODEL_64411a4734ce4d07b6a48d2245bd3fff",
       "style": "IPY_MODEL_458b01f257eb485288701db272bf09d8",
       "value": false
      }
     },
     "e802ef5cef024c1ca370ab0029c1125c": {
      "model_module": "jupyter-matplotlib",
      "model_module_version": "^0.4.2",
      "model_name": "ToolbarModel",
      "state": {
       "layout": "IPY_MODEL_8833dfd2f5a54382a35bca9bfb838361",
       "toolitems": [
        [
         "Home",
         "Reset original view",
         "home",
         "home"
        ],
        [
         "Back",
         "Back to previous view",
         "arrow-left",
         "back"
        ],
        [
         "Forward",
         "Forward to next view",
         "arrow-right",
         "forward"
        ],
        [
         "Pan",
         "Pan axes with left mouse, zoom with right",
         "arrows",
         "pan"
        ],
        [
         "Zoom",
         "Zoom to rectangle",
         "square-o",
         "zoom"
        ],
        [
         "Download",
         "Download plot",
         "floppy-o",
         "save_figure"
        ]
       ]
      }
     },
     "eda2713b45f043318fd40ca2d675ed5c": {
      "model_module": "@jupyter-widgets/base",
      "model_module_version": "1.2.0",
      "model_name": "LayoutModel",
      "state": {}
     },
     "ee52160c77ad4bbda3296977dc9fed8a": {
      "model_module": "@jupyter-widgets/output",
      "model_module_version": "1.0.0",
      "model_name": "OutputModel",
      "state": {
       "layout": "IPY_MODEL_e399a661c71d42819a50b108c1f2864a",
       "outputs": [
        {
         "data": {
          "application/vnd.jupyter.widget-view+json": {
           "model_id": "",
           "version_major": 2,
           "version_minor": 0
          },
          "text/plain": "Canvas(toolbar=Toolbar(toolitems=[('Home', 'Reset original view', 'home', 'home'), ('Back', 'Back to previous …"
         },
         "metadata": {},
         "output_type": "display_data"
        }
       ]
      }
     },
     "f4e0914064bb422b8bcac986d4b80920": {
      "model_module": "@jupyter-widgets/controls",
      "model_module_version": "1.5.0",
      "model_name": "IntSliderModel",
      "state": {
       "description": "dump1",
       "layout": "IPY_MODEL_7996812d9d7c46cb983f9b16ca70643d",
       "max": 1134,
       "style": "IPY_MODEL_a1270bbb65c84ba88030a7d997542732",
       "value": 360
      }
     },
     "fa4f18abc6ab4bb6a7df593a71ab346a": {
      "model_module": "jupyter-matplotlib",
      "model_module_version": "^0.4.2",
      "model_name": "ToolbarModel",
      "state": {
       "layout": "IPY_MODEL_9bff59d536a64bea8bcc9afe9af4cca2",
       "toolitems": [
        [
         "Home",
         "Reset original view",
         "home",
         "home"
        ],
        [
         "Back",
         "Back to previous view",
         "arrow-left",
         "back"
        ],
        [
         "Forward",
         "Forward to next view",
         "arrow-right",
         "forward"
        ],
        [
         "Pan",
         "Pan axes with left mouse, zoom with right",
         "arrows",
         "pan"
        ],
        [
         "Zoom",
         "Zoom to rectangle",
         "square-o",
         "zoom"
        ],
        [
         "Download",
         "Download plot",
         "floppy-o",
         "save_figure"
        ]
       ]
      }
     },
     "fa756dbb7047491aa2016ab863d98e15": {
      "model_module": "@jupyter-widgets/base",
      "model_module_version": "1.2.0",
      "model_name": "LayoutModel",
      "state": {}
     }
    },
    "version_major": 2,
    "version_minor": 0
   }
  }
 },
 "nbformat": 4,
 "nbformat_minor": 4
}

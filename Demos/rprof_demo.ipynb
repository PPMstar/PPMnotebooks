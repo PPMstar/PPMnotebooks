{
 "cells": [
  {
   "cell_type": "markdown",
   "metadata": {},
   "source": [
    "# Examples of RProf analysis\n",
    "This is the radial profile analysis for PPMstar version 2.\n",
    "\n",
    "This notebook has been tested with PPMstarHub version 1.2.6."
   ]
  },
  {
   "cell_type": "code",
   "execution_count": null,
   "metadata": {},
   "outputs": [],
   "source": [
    "%pylab ipympl"
   ]
  },
  {
   "cell_type": "markdown",
   "metadata": {},
   "source": [
    "Use `inline` backend followed by `jupyter nbconvert rprof_demo.ipynb` on command line to create static html to document snap shot."
   ]
  },
  {
   "cell_type": "code",
   "execution_count": null,
   "metadata": {},
   "outputs": [],
   "source": [
    "# %pylab inline"
   ]
  },
  {
   "cell_type": "code",
   "execution_count": null,
   "metadata": {},
   "outputs": [],
   "source": [
    "import os,sys\n",
    "# in case you want to use your own clone of PyPPM\n",
    "# ppmpy_dir = '/user/somedir/username/PyPPM'\n",
    "# sys.path.insert(0,ppmpy_dir)  \n",
    "from ppmpy import ppm   \n",
    "# print(inspect.getfile(ppm))"
   ]
  },
  {
   "cell_type": "code",
   "execution_count": null,
   "metadata": {},
   "outputs": [],
   "source": [
    "from matplotlib import pyplot as plt\n",
    "import numpy as np\n",
    "\n",
    "# for nice colors, linestyles, etc.\n",
    "import nugridpy.utils as utils\n",
    "cb = utils.linestylecb\n",
    "\n",
    "import logging\n",
    "import math\n",
    "logging.getLogger(\"matplotlib\").setLevel(logging.ERROR)"
   ]
  },
  {
   "cell_type": "code",
   "execution_count": null,
   "metadata": {},
   "outputs": [],
   "source": [
    "def list_columns(obj, cols=6, columnwise=True, gap=4):\n",
    "    \"\"\"\n",
    "    Print the given list in evenly-spaced columns.\n",
    "\n",
    "    Parameters\n",
    "    ----------\n",
    "    obj : list\n",
    "        The list to be printed.\n",
    "    cols : int\n",
    "        The number of columns in which the list should be printed.\n",
    "    columnwise : bool, default=True\n",
    "        If True, the items in the list will be printed column-wise.\n",
    "        If False the items in the list will be printed row-wise.\n",
    "    gap : int\n",
    "        The number of spaces that should separate the longest column\n",
    "        item/s from the next column. This is the effective spacing\n",
    "        between columns based on the maximum len() of the list items.\n",
    "    \"\"\"\n",
    "\n",
    "    sobj = [str(item) for item in obj]\n",
    "    if cols > len(sobj): cols = len(sobj)\n",
    "    max_len = max([len(item) for item in sobj])\n",
    "    if columnwise: cols = int(math.ceil(float(len(sobj)) / float(cols)))\n",
    "    plist = [sobj[i: i+cols] for i in range(0, len(sobj), cols)]\n",
    "    if columnwise:\n",
    "        if not len(plist[-1]) == cols:\n",
    "            plist[-1].extend(['']*(len(sobj) - len(plist[-1])))\n",
    "        plist = zip(*plist)\n",
    "    printer = '\\n'.join([\n",
    "        ''.join([c.ljust(max_len + gap) for c in p])\n",
    "        for p in plist])\n",
    "    print(printer)"
   ]
  },
  {
   "cell_type": "markdown",
   "metadata": {},
   "source": [
    "## Initialisation"
   ]
  },
  {
   "cell_type": "code",
   "execution_count": null,
   "metadata": {},
   "outputs": [],
   "source": [
    "dir_repo    = '/data/ASDR/PPMstar'\n",
    "dir_project = 'H-core-M25'\n",
    "run         = 'M35-1536'\n",
    "path = os.path.join(dir_repo,dir_project,run,'prfs')\n",
    "rp_set = ppm.RprofSet(path)"
   ]
  },
  {
   "cell_type": "markdown",
   "metadata": {},
   "source": [
    "## Run history\n",
    "In the `prfs` dir in the run dir there is one file ending with `.hstry` which containes a one line per dump history of the run. "
   ]
  },
  {
   "cell_type": "code",
   "execution_count": null,
   "metadata": {},
   "outputs": [],
   "source": [
    "rp_hst = rp_set.get_history()"
   ]
  },
  {
   "cell_type": "code",
   "execution_count": null,
   "metadata": {},
   "outputs": [],
   "source": [
    "rp_hst.get_variables()"
   ]
  },
  {
   "cell_type": "code",
   "execution_count": null,
   "metadata": {},
   "outputs": [],
   "source": [
    "list_columns(rp_hst.get('NDump')[:56], cols=12)"
   ]
  },
  {
   "cell_type": "markdown",
   "metadata": {},
   "source": [
    "### Wall clock time vs. dump number\n"
   ]
  },
  {
   "cell_type": "code",
   "execution_count": null,
   "metadata": {},
   "outputs": [],
   "source": [
    "ifig=1; plt.close(ifig); plt.figure(ifig)\n",
    "rp_hst.plot_wct_per_dump()\n",
    "plt.ylim(300, 400)"
   ]
  },
  {
   "cell_type": "markdown",
   "metadata": {},
   "source": [
    "### Get instance rprof for one dump\n",
    "Each rprof dump file has header data, which holds all of the parameters of that run. Most of these parameters don't change throughout the run. But they may. "
   ]
  },
  {
   "cell_type": "code",
   "execution_count": null,
   "metadata": {},
   "outputs": [],
   "source": [
    "rp = rp_set.get_dump(375)"
   ]
  },
  {
   "cell_type": "code",
   "execution_count": null,
   "metadata": {},
   "outputs": [],
   "source": [
    "list_columns(rp.get_header_variables(), cols=3)"
   ]
  },
  {
   "cell_type": "code",
   "execution_count": null,
   "metadata": {},
   "outputs": [],
   "source": [
    "print('Nx = ' + str(rp.get('Nx')))\n",
    "print('airmu = ' + str(rp.get('airmu')))\n",
    "print('cldmu = ' + str(rp.get('cldmu')))"
   ]
  },
  {
   "cell_type": "markdown",
   "metadata": {},
   "source": [
    "Getting header values from the RProfSet instance:"
   ]
  },
  {
   "cell_type": "code",
   "execution_count": null,
   "metadata": {},
   "outputs": [],
   "source": [
    "rp_set.get('Nx',0)"
   ]
  },
  {
   "cell_type": "markdown",
   "metadata": {},
   "source": [
    "## Reading data\n",
    "\n",
    "1. get the time for dump 675\n",
    "2. get A values for that time (print only the first 34 values)\n",
    "\n",
    "One could have just asked directly for A at that dump number, which is the default. Asking for a time will return the nearest dump."
   ]
  },
  {
   "cell_type": "code",
   "execution_count": null,
   "metadata": {},
   "outputs": [],
   "source": [
    "dump = 375 \n",
    "t=rp_set.get('t',fname=dump)\n",
    "list_columns(rp_set.get('A', t, num_type='t', resolution='l')[:34], cols=6)"
   ]
  },
  {
   "cell_type": "code",
   "execution_count": null,
   "metadata": {},
   "outputs": [],
   "source": [
    "list_columns(rp_set.get('A', dump, resolution='l')[:34], cols=6)"
   ]
  },
  {
   "cell_type": "markdown",
   "metadata": {},
   "source": [
    "The argument `resolution='l'` indicates that we want the low or normal resolution quantity. `FV` and some others are available in double resolution (`'h'`) which has to do with the high-accuracy advection scheme (cf. Woodward+ 15, Appendix). \n",
    "\n",
    "## What data is avalable in the RProf data?\n",
    "These are the rprof column variables available in high and low resolution:"
   ]
  },
  {
   "cell_type": "code",
   "execution_count": null,
   "metadata": {},
   "outputs": [],
   "source": [
    "rp.get_hr_variables()"
   ]
  },
  {
   "cell_type": "code",
   "execution_count": null,
   "metadata": {},
   "outputs": [],
   "source": [
    "list_columns(rp.get_lr_variables(),cols=3)"
   ]
  },
  {
   "cell_type": "markdown",
   "metadata": {},
   "source": [
    "### Computable quantities\n",
    "There are a number of computable quantities that take RProf input and calculate new RProf things."
   ]
  },
  {
   "cell_type": "code",
   "execution_count": null,
   "metadata": {},
   "outputs": [],
   "source": [
    "list_columns(rp_set.get_computable_quantities(),cols=3)"
   ]
  },
  {
   "cell_type": "markdown",
   "metadata": {},
   "source": [
    "Each of these are computed in a function with a corresponding doc string:"
   ]
  },
  {
   "cell_type": "code",
   "execution_count": null,
   "metadata": {},
   "outputs": [],
   "source": [
    "rp_set.compute_Hp?"
   ]
  },
  {
   "cell_type": "markdown",
   "metadata": {},
   "source": [
    "## A simple plot\n",
    "There are three ways to plot RProf data:\n",
    "1. `RprofSet.RProfGui` is an interactive widget (requires the `ipympl` backend)\n",
    "2. `RprofSet.rp_plot` allows you to plot all column data in the instance against each other; the `RProfGui` method is just a front end to the `rp_plot` method; `rp_plot` can plot both original and computed RProf quantities\n",
    "3. Getting column data with the `RprofSet.get` method and then plotting with standard `matplotlib`.\n",
    "We will provide an example for each:"
   ]
  },
  {
   "cell_type": "code",
   "execution_count": null,
   "metadata": {},
   "outputs": [],
   "source": [
    "rp_set.rprofgui(ifig=112)"
   ]
  },
  {
   "cell_type": "code",
   "execution_count": null,
   "metadata": {},
   "outputs": [],
   "source": [
    "#rp_set.rp_plot?"
   ]
  },
  {
   "cell_type": "code",
   "execution_count": null,
   "metadata": {},
   "outputs": [],
   "source": [
    "rp_set.rp_plot?"
   ]
  },
  {
   "cell_type": "code",
   "execution_count": null,
   "metadata": {},
   "outputs": [],
   "source": [
    "ifig =3 ; plt.close(ifig); plt.figure(ifig)\n",
    "rp_set.rp_plot([200,400],'|Ur|',ifig=ifig,logy=True,yylim=(-3.4,-1.9))"
   ]
  },
  {
   "cell_type": "markdown",
   "metadata": {},
   "source": [
    "We can also _get_ the data and then constructing the plot by hand. "
   ]
  },
  {
   "cell_type": "code",
   "execution_count": null,
   "metadata": {},
   "outputs": [],
   "source": [
    "ifig=2; plt.close(ifig); plt.figure(ifig)\n",
    "\n",
    "# get quantities, use high resolution!\n",
    "fv = rp_set.get('FV',dump,resolution='h')\n",
    "r = rp_set.get('R',dump,resolution='h')\n",
    "\n",
    "# plot FV vs. R, semilog it\n",
    "plt.semilogy(r, fv, color=cb(0)[2], linestyle=cb(0)[0], label='Dump '+str(dump))\n",
    "\n",
    "# other details in a plot\n",
    "plt.xlabel('R')\n",
    "plt.ylabel('FV')\n",
    "plt.legend()"
   ]
  },
  {
   "cell_type": "markdown",
   "metadata": {},
   "source": [
    "There are numerous methods associated with the `RprofSet` class, for determining entrainment rates, diffusion coefficients and many other things. One of these determines the boundary of the convection zones from radial profiles in a number of ways. The method `RprofSet.bound_rad` finds the radius of the convective boundaruy. Of course, all methods such as `get`, `bound_rad` etc have doc strings that can be viewed like this: `rp_set.bound_rad?` (there `rp_set` is an instance of the `RprofSet` class).\n",
    "\n",
    "If using `%pylab ipympl` the following will plot the coordinate of the convective boundary into the above figure."
   ]
  },
  {
   "cell_type": "code",
   "execution_count": null,
   "metadata": {},
   "outputs": [],
   "source": [
    "plt.figure(ifig)\n",
    "# where is the convective boundary?\n",
    "conv_bound = rp_set.bound_rad(dump,1000,2000,var='FV',criterion='max_grad')\n",
    "print(conv_bound)\n",
    "ymin = 1.-3\n",
    "ymax = 1.0\n",
    "plt.vlines(conv_bound[0],ymin,ymax,color='k',\\\n",
    "           lw = 0.75,linestyle='--',label='Conv Bound max_grad FV')\n",
    "plt.legend(loc=0)"
   ]
  },
  {
   "cell_type": "code",
   "execution_count": null,
   "metadata": {},
   "outputs": [],
   "source": [
    "plt.figure(ifig)\n",
    "# where is the convective boundary?\n",
    "conv_bound = rp_set.bound_rad(dump,1000,2000,var='FV',criterion='value', var_value=0.1)\n",
    "print(conv_bound)\n",
    "ymin = 1.-3\n",
    "ymax = 1.0\n",
    "plt.vlines(conv_bound[0],ymin,ymax,color='k',\\\n",
    "           lw = 0.75,linestyle=':',label='Conv Bound FV=0.1')\n",
    "plt.legend(loc=0)\n",
    "xlim(1400,1600)"
   ]
  },
  {
   "cell_type": "markdown",
   "metadata": {},
   "source": [
    "## Computable quantities\n",
    "As mentioned above the `RprofSet` class provides methods for many useful computable things via a method. Most computable quantities can be obtained with the method\n",
    "```Python\n",
    "RprofSet.compute(quantity)\n",
    "```\n",
    "where `quantity` is one of the things in `RprofSet.get_computable_quantities()`. These can also be directly plotted, for convenience with `RprofSet.rp_plot` as shown above. However, there is one caveat that needs to be explained. Some `computable_quantities` methods have arguments that can be quite important. Right now  these are not handed through by `RprofSet.compute`. Each computable quantitiy has its own `RprofSet` method, and unless you know that there are no important arguments it is best to check the doc string of the respective method. \n",
    "\n",
    "Below is an example. The Brunt is provided by `compute_N2`. It has an argument that specifies which EOS is to be used. The default is `radeos=True` meaning that the EOS including radiation pressure was used. But if you are plotting a run with ideal gas only, this will give the wrong result. This is demonstrated below for run `M200-1000xht-0xdiff-realEOS-768` which was computed with radiation pressure included, as opposed to `M35` which is ideal gas only. "
   ]
  },
  {
   "cell_type": "code",
   "execution_count": null,
   "metadata": {},
   "outputs": [],
   "source": [
    "# run = 'M35-1536'\n",
    "run = 'M200-1000xht-0xdiff-realEOS-768'\n",
    "path = os.path.join(dir_repo,dir_project,run,'prfs')\n",
    "rp_set = ppm.RprofSet(path)\n",
    "rp_hst = rp_set.get_history()"
   ]
  },
  {
   "cell_type": "code",
   "execution_count": null,
   "metadata": {},
   "outputs": [],
   "source": [
    "rp_set.compute_N2?"
   ]
  },
  {
   "cell_type": "code",
   "execution_count": null,
   "metadata": {},
   "outputs": [],
   "source": [
    "N2_gas = rp_set.compute_N2(dump,radeos=False)\n",
    "N2 = rp_set.compute('N2',dump)\n",
    "R = rp_set.get('R',dump)"
   ]
  },
  {
   "cell_type": "code",
   "execution_count": null,
   "metadata": {},
   "outputs": [],
   "source": [
    "ifig =7 ; close(ifig); figure(ifig)\n",
    "plot(R,N2,'--',label=\"$N^2$ with radiation pressure\")\n",
    "plot(R,N2_gas,'-',label=\"$N^2$ without radiation pressure\")\n",
    "legend();title(\"Dump = \"+str(dump))\n",
    "hlines(0,2500,0,lw=0.2)"
   ]
  },
  {
   "cell_type": "markdown",
   "metadata": {},
   "source": [
    "## Examples\n",
    "\n",
    "### Calculating a diffusion coefficent a la Jones+ 17\n",
    "In our paper Jones etal. 2017 we proposed a simple recipy to derive D from radial velocity. Here is a demonstration how to calculate such a model from the `RProf` data."
   ]
  },
  {
   "cell_type": "code",
   "execution_count": null,
   "metadata": {},
   "outputs": [],
   "source": [
    "# rp_set.bound_rad?"
   ]
  },
  {
   "cell_type": "code",
   "execution_count": null,
   "metadata": {},
   "outputs": [],
   "source": [
    "Hp=rp_set.compute('Hp',dump)\n",
    "R = rp_set.get('R',dump)\n",
    "Ur = rp_set.compute('|Ur|',dump)\n",
    "rtop = rp_set.bound_rad(dump,1400.,1600.)"
   ]
  },
  {
   "cell_type": "code",
   "execution_count": null,
   "metadata": {},
   "outputs": [],
   "source": [
    "# find convection zone\n",
    "inds_conv = np.where( R < rtop)[0]\n",
    "mlen = Hp[inds_conv]\n",
    "inds=np.where(rtop-R[inds_conv] < Hp[inds_conv])[0]\n",
    "mlen[inds] = rtop-R[inds_conv][inds]"
   ]
  },
  {
   "cell_type": "code",
   "execution_count": null,
   "metadata": {},
   "outputs": [],
   "source": [
    "alpha_MLT = 1.6\n",
    "D = (1./3)* alpha_MLT * mlen * Ur[inds_conv]  *1.e16  # Mm**2/s"
   ]
  },
  {
   "cell_type": "code",
   "execution_count": null,
   "metadata": {},
   "outputs": [],
   "source": [
    "plt.close(119); plt.figure(119)\n",
    "plt.plot(R[inds_conv],np.log10(D))\n",
    "plt.xlabel('$R/\\mathrm{Mm}$');plt.ylabel('$\\log D / \\mathrm{[cm^2/s]}$')"
   ]
  },
  {
   "cell_type": "markdown",
   "metadata": {},
   "source": [
    "### Radial velocity profile plot\n",
    "The `rp_plot` method plots all velocity components. This plot gives all three components in $\\mathrm{km/s}$. \n"
   ]
  },
  {
   "cell_type": "code",
   "execution_count": null,
   "metadata": {},
   "outputs": [],
   "source": [
    "rp_set.plot_vrad_prof([dump-200,dump],ifig=102)"
   ]
  },
  {
   "cell_type": "markdown",
   "metadata": {},
   "source": [
    "### Time evolution plot\n",
    "This plot should probably go into a method."
   ]
  },
  {
   "cell_type": "code",
   "execution_count": null,
   "metadata": {},
   "outputs": [],
   "source": [
    "# define dump range, defaults to all dumps, using every 10th\n",
    "# use a larger sparse factor initially for speedy \"first look\"\n",
    "# then refine \n",
    "dump_min,dump_max,sparse=None,None,20   \n",
    "\n",
    "# variable to be shown\n",
    "var = '|U|'\n",
    "\n",
    "# radial range over which to average\n",
    "rmin,rmax = 1000,1250\n",
    "\n",
    "# plotting parameters\n",
    "ylim1,ylim2 = None,None\n",
    "logy = False\n",
    "save_pdf = False\n",
    "tvar = 'time(mins)'\n",
    "NDump =rp_hst.get('NDump')\n",
    "dumps = NDump[dump_min:dump_max:sparse]"
   ]
  },
  {
   "cell_type": "code",
   "execution_count": null,
   "metadata": {},
   "outputs": [],
   "source": [
    "timemins = rp_hst.get(tvar)\n",
    "print(\"Star time in minutes between dumps: {:.2f}\".format(np.average(np.diff(timemins)\\\n",
    "                                                    [np.where(np.diff(timemins)>0)])))\n",
    "\n",
    "# take average of variable between two radii and plot as function of time\n",
    "things = []\n",
    "times = []\n",
    "R = rp_set.get('R', NDump[0])\n",
    "for dump in dumps:\n",
    "    thing = rp_set.get(var, dump)\n",
    "    times.append(rp_set.get('t',fname=dump)/60.)\n",
    "    things.append(np.average(thing[(R>rmin) * (R<rmax)]))\n",
    "vars = np.array(things)\n",
    "times =np.array(times)\n",
    "\n",
    "i=1\n",
    "if logy: vars = log10(vars)\n",
    "plt.close(1093);plt.figure(1093)\n",
    "plt.plot(times,vars,utils.linestylecb(i)[0],color=utils.colourblind(i),label=None)\n",
    "plt.ylabel(var);plt.xlabel(tvar)\n",
    "plt.title(\"time-\"+var+\", average \"+str(rmin)+\" < R/Mm < \"+str(rmax))\n",
    "plt.legend()\n",
    "\n",
    "plt.close(1092);plt.figure(1092)\n",
    "plt.plot(dumps,vars,utils.linestylecb(i)[0],color=utils.colourblind(i),label=None)\n",
    "plt.ylabel(var);plt.xlabel('Ndump')\n",
    "plt.title(\"NDump-\"+var+\", average \"+str(rmin)+\" < R/Mm < \"+str(rmax))\n",
    "plt.legend()\n",
    "\n",
    "if save_pdf:\n",
    "    figure(1093)\n",
    "    ylim(ylim1,ylim2)\n",
    "    tight_layout()\n",
    "    savefig(\"time-\"+var+\".pdf\")\n",
    "    figure(1092)\n",
    "    ylim(ylim1,ylim2)\n",
    "    tight_layout()\n",
    "    savefig(\"NDump-\"+var+\".pdf\")"
   ]
  },
  {
   "cell_type": "code",
   "execution_count": null,
   "metadata": {},
   "outputs": [],
   "source": []
  }
 ],
 "metadata": {
  "kernelspec": {
   "display_name": "Python 3",
   "language": "python",
   "name": "python3"
  },
  "language_info": {
   "codemirror_mode": {
    "name": "ipython",
    "version": 3
   },
   "file_extension": ".py",
   "mimetype": "text/x-python",
   "name": "python",
   "nbconvert_exporter": "python",
   "pygments_lexer": "ipython3",
   "version": "3.6.8"
  }
 },
 "nbformat": 4,
 "nbformat_minor": 4
}

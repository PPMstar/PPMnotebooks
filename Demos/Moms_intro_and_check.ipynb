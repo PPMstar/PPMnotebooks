{
 "cells": [
  {
   "cell_type": "markdown",
   "metadata": {},
   "source": [
    "# Check moms data against radial profiles\n",
    "\n",
    "* load a moms data file\n",
    "* radial plot of spherical average, compare with RProf \n",
    "\n",
    "In order to use the moms data with the ppm.py moms class the moms data written by the code need to be decompressed. See  `How-to-Decompress.md`  in `ppmstar/code/moments_data_reader_ppmsstar2.0` for instructions.\n",
    "\n",
    "In order to know which of the 32 quantities in the code-written moms data are actually in the 10 decompressed variable slots you have to check the code in the `*DataAnalysis.F` file. The subroutine that actually does all of the work is `getmybqstuff` where the 10 `whatever` slots are set."
   ]
  },
  {
   "cell_type": "code",
   "execution_count": 1,
   "metadata": {},
   "outputs": [
    {
     "name": "stdout",
     "output_type": "stream",
     "text": [
      "Populating the interactive namespace from numpy and matplotlib\n"
     ]
    }
   ],
   "source": [
    "%pylab ipympl\n",
    "import os,sys\n",
    "from multiprocessing import Pool\n",
    "\n",
    "ppmpy_dir = '/scratch/f/fherwig/fherwig/repos/PyPPM'\n",
    "sys.path.insert(0,ppmpy_dir)\n",
    "from ppmpy import ppm\n",
    "\n",
    "# set cycling combination of color-blind labels, glyphs, styles\n",
    "lll= 2*['-', '--', ':', '-.']\n",
    "markers = ['X','h','<','>','s','^','d','X','p']\n",
    "random.shuffle(lll)\n",
    "CB_color_cycle = ['#4daf4a', '#a65628', '#984ea3',\n",
    "                  '#ff7f00', '#f781bf', '#377eb8',\n",
    "                  '#999999', '#e41a1c', '#dede00']\n",
    "rc('axes', prop_cycle=(cycler('color', CB_color_cycle[0:8]) + cycler('marker',markers[0:8])+cycler('linestyle',lll)))\n",
    "#rc('axes', prop_cycle=(cycler('color', CB_color_cycle[0:8]) +cycler('linestyle',lll)))\n",
    "\n",
    "# named tuple for using rprofs and momsdata\n",
    "# moms data are almost always used alongside rprof data and therefore it is recommended \n",
    "# to create a convenient dictionary that will hold the rprof and moms instance \n",
    "import collections\n",
    "hydro = collections.namedtuple('hydro', ['moms','rprof'])\n",
    "\n",
    "# turn off matplotlib messages\n",
    "logging.getLogger(\"matplotlib\").setLevel(logging.CRITICAL)"
   ]
  },
  {
   "cell_type": "code",
   "execution_count": 2,
   "metadata": {},
   "outputs": [
    {
     "name": "stdout",
     "output_type": "stream",
     "text": [
      "/scratch/f/fherwig/fherwig/repos/PyPPM/ppmpy/ppm.py\n"
     ]
    }
   ],
   "source": [
    " print(inspect.getfile(ppm))"
   ]
  },
  {
   "cell_type": "code",
   "execution_count": 3,
   "metadata": {},
   "outputs": [],
   "source": [
    "data_dir = '/scratch/f/fherwig/fherwig'\n",
    "run_dir = 'M239'\n",
    "# run_dir=\"M223-2688-rst-precfrac\"\n",
    "# run_dir = 'M111'\n",
    "moms_dir = os.path.join(data_dir,run_dir,'moms/myavsbq')\n",
    "rprof_dir = os.path.join(data_dir,run_dir,'prfs')"
   ]
  },
  {
   "cell_type": "markdown",
   "metadata": {},
   "source": [
    "At this point check what the decompressed variables are. For M107 these are\n",
    "```Fortran\n",
    "       thyng = max(fv(ibq,jbq,kbq),1.0e-12)\n",
    "\n",
    "       whatever(ibq,jbq,kbq,1) = xc(ibq)\n",
    "       whatever(ibq,jbq,kbq,2) = rhofux(ibq,jbq,kbq) * rhofinv\n",
    "       whatever(ibq,jbq,kbq,3) = rhofuy(ibq,jbq,kbq) * rhofinv\n",
    "       whatever(ibq,jbq,kbq,4) = rhofuz(ibq,jbq,kbq) * rhofinv\n",
    "       whatever(ibq,jbq,kbq,5) = ut(ibq,jbq,kbq)\n",
    "       whatever(ibq,jbq,kbq,6) = ur(ibq,jbq,kbq)\n",
    "       whatever(ibq,jbq,kbq,7) = vort(ibq,jbq,kbq)\n",
    "       whatever(ibq,jbq,kbq,8) = pf\n",
    "       whatever(ibq,jbq,kbq,9) = rhof\n",
    "       whatever(ibq,jbq,kbq,10) = thyng\n",
    "```\n",
    "which is the list below (except that we know that in the M100 series runs the vorticity is not calculated correctly, and can't be recovered, and therefore has to be computed from the velocity components).\n",
    "\n",
    "For M111:\n",
    "```\n",
    "# define ismomT 1\n",
    "\n",
    "#if ismomT\n",
    "       T9f = 10.**(T9flog10(ibq,jbq,kbq))\n",
    "       thang = T9f * T90(ibq,jbq,kbq)\n",
    "#else\n",
    "       pf = 10.**(pflog10(ibq,jbq,kbq))\n",
    "       thang = pf * p0(ibq,jbq,kbq)\n",
    "#endif\n",
    "\n",
    "       thyng = max(fv(ibq,jbq,kbq),1.0e-12)\n",
    "\n",
    "       whatever(ibq,jbq,kbq,1) = xc(ibq)\n",
    "       whatever(ibq,jbq,kbq,2) = rhofux(ibq,jbq,kbq) * rhofinv\n",
    "       whatever(ibq,jbq,kbq,3) = rhofuy(ibq,jbq,kbq) * rhofinv\n",
    "       whatever(ibq,jbq,kbq,4) = rhofuz(ibq,jbq,kbq) * rhofinv\n",
    "       whatever(ibq,jbq,kbq,5) = ut(ibq,jbq,kbq)\n",
    "       whatever(ibq,jbq,kbq,6) = ur(ibq,jbq,kbq)\n",
    "       whatever(ibq,jbq,kbq,7) = vort(ibq,jbq,kbq)\n",
    "       whatever(ibq,jbq,kbq,8) = thang\n",
    "       whatever(ibq,jbq,kbq,9) = rho\n",
    "       whatever(ibq,jbq,kbq,10) = thyng\n",
    "```"
   ]
  },
  {
   "cell_type": "code",
   "execution_count": 4,
   "metadata": {},
   "outputs": [],
   "source": [
    "# the list of variables that are stored within the momsdata cube.\n",
    "var_list = ['xc','ux','uy','uz','|ut|','|ur|','|w|','P','rho','fv']\n",
    "var_list = ['xc','ux','uy','uz','|ut|','|ur|','|w|','T9','rho','fv'] # M111\n",
    "# var_list = ['xc','ux','uy','uz','|ut|','|ur|','|w|','Pf','rhof','fv'] # M239"
   ]
  },
  {
   "cell_type": "markdown",
   "metadata": {},
   "source": [
    "## Load data\n",
    "### Load rprof and moms individually"
   ]
  },
  {
   "cell_type": "code",
   "execution_count": 5,
   "metadata": {},
   "outputs": [
    {
     "name": "stdout",
     "output_type": "stream",
     "text": [
      "647 rprof files found in '/scratch/f/fherwig/fherwig/M239/prfs/.\n",
      "Dump numbers range from 0 to 646.\n",
      "296 .aaa files found in '/scratch/f/fherwig/fherwig/M239/moms/myavsbq/.\n",
      "Dump numbers range from 311 to 606.\n"
     ]
    }
   ],
   "source": [
    "# load moms instance\n",
    "dump = 320    # M239\n",
    "# dump = 1770   # M111\n",
    "# dump = 1546    # M223-2688-rst-precfrac\n",
    "\n",
    "moms = ppm.MomsDataSet(moms_dir,init_dump_read=dump,dumps_in_mem=2,var_list=var_list,rprofset=ppm.RprofSet(rprof_dir))"
   ]
  },
  {
   "cell_type": "code",
   "execution_count": 6,
   "metadata": {},
   "outputs": [
    {
     "name": "stdout",
     "output_type": "stream",
     "text": [
      "647 rprof files found in '/scratch/f/fherwig/fherwig/M239/prfs/.\n",
      "Dump numbers range from 0 to 646.\n",
      "Nx = 1152\n"
     ]
    }
   ],
   "source": [
    "# load rprof data\n",
    "rp_set = ppm.RprofSet(rprof_dir)\n",
    "rp = rp_set.get_dump(dump)        # get one dump to access dump data, usually dump 0 should exist, but not for M107\n",
    "Nx = rp.get('Nx')                 # get grid dimension\n",
    "print(f'Nx = {Nx}')"
   ]
  },
  {
   "cell_type": "code",
   "execution_count": 8,
   "metadata": {},
   "outputs": [
    {
     "name": "stdout",
     "output_type": "stream",
     "text": [
      "Object `rp_bavq.get` not found.\n"
     ]
    }
   ],
   "source": [
    "rp_bavq.get?\n"
   ]
  },
  {
   "cell_type": "code",
   "execution_count": 10,
   "metadata": {},
   "outputs": [
    {
     "name": "stdout",
     "output_type": "stream",
     "text": [
      "324 rprof files found in '/scratch/f/fherwig/fherwig/M239/prfs/frombqavs/.\n",
      "Dump numbers range from 311 to 634.\n"
     ]
    },
    {
     "data": {
      "application/vnd.jupyter.widget-view+json": {
       "model_id": "f623d5f6466e4b85919e4743988d53ec",
       "version_major": 2,
       "version_minor": 0
      },
      "text/plain": [
       "Canvas(toolbar=Toolbar(toolitems=[('Home', 'Reset original view', 'home', 'home'), ('Back', 'Back to previous …"
      ]
     },
     "metadata": {},
     "output_type": "display_data"
    },
    {
     "data": {
      "text/plain": [
       "[<matplotlib.lines.Line2D at 0x7f338073d730>]"
      ]
     },
     "execution_count": 10,
     "metadata": {},
     "output_type": "execute_result"
    }
   ],
   "source": [
    "# load rprof\n",
    "rp_bqav = ppm.RprofSet(rprof_dir, bqav=True, var_list=var_list)\n",
    "vort = rp_bqav.get('|w|',fname=dump)\n",
    "rad = rp_bqav.get('xcmax',fname=dump)\n",
    "# Plot\n",
    "ifig=109;close(ifig);figure(ifig)\n",
    "plot(rad[3:], log10(vort[3:]), label='Rprof bqav')"
   ]
  },
  {
   "cell_type": "markdown",
   "metadata": {},
   "source": [
    "### Load as dictionary"
   ]
  },
  {
   "cell_type": "code",
   "execution_count": 11,
   "metadata": {},
   "outputs": [
    {
     "name": "stdout",
     "output_type": "stream",
     "text": [
      "647 rprof files found in '/scratch/f/fherwig/fherwig/M239/prfs/.\n",
      "Dump numbers range from 0 to 646.\n",
      "330 .aaa files found in '/scratch/f/fherwig/fherwig/M239/moms/myavsbq/.\n",
      "Dump numbers range from 311 to 640.\n",
      "647 rprof files found in '/scratch/f/fherwig/fherwig/M239/prfs/.\n",
      "Dump numbers range from 0 to 646.\n"
     ]
    }
   ],
   "source": [
    "myrun = hydro(ppm.MomsDataSet(moms_dir,init_dump_read=dump,dumps_in_mem=2,var_list=var_list,rprofset=ppm.RprofSet(rprof_dir)),\n",
    "              ppm.RprofSet(rprof_dir))"
   ]
  },
  {
   "cell_type": "markdown",
   "metadata": {},
   "source": [
    "## Basic grid properties"
   ]
  },
  {
   "cell_type": "code",
   "execution_count": 13,
   "metadata": {},
   "outputs": [
    {
     "name": "stdout",
     "output_type": "stream",
     "text": [
      "The unique x,y,z coordinates are:\n",
      "[-2690.625 -2671.875 -2653.125 -2634.375 -2615.625 -2596.875 -2578.125\n",
      " -2559.375 -2540.625 -2521.875 -2503.125 -2484.375 -2465.625 -2446.875\n",
      " -2428.125 -2409.375 -2390.625 -2371.875 -2353.125 -2334.375 -2315.625\n",
      " -2296.875 -2278.125 -2259.375 -2240.625 -2221.875 -2203.125 -2184.375\n",
      " -2165.625 -2146.875 -2128.125 -2109.375 -2090.625 -2071.875 -2053.125\n",
      " -2034.375 -2015.625 -1996.875 -1978.125 -1959.375 -1940.625 -1921.875\n",
      " -1903.125 -1884.375 -1865.625 -1846.875 -1828.125 -1809.375 -1790.625\n",
      " -1771.875 -1753.125 -1734.375 -1715.625 -1696.875 -1678.125 -1659.375\n",
      " -1640.625 -1621.875 -1603.125 -1584.375 -1565.625 -1546.875 -1528.125\n",
      " -1509.375 -1490.625 -1471.875 -1453.125 -1434.375 -1415.625 -1396.875\n",
      " -1378.125 -1359.375 -1340.625 -1321.875 -1303.125 -1284.375 -1265.625\n",
      " -1246.875 -1228.125 -1209.375 -1190.625 -1171.875 -1153.125 -1134.375\n",
      " -1115.625 -1096.875 -1078.125 -1059.375 -1040.625 -1021.875 -1003.125\n",
      "  -984.375  -965.625  -946.875  -928.125  -909.375  -890.625  -871.875\n",
      "  -853.125  -834.375  -815.625  -796.875  -778.125  -759.375  -740.625\n",
      "  -721.875  -703.125  -684.375  -665.625  -646.875  -628.125  -609.375\n",
      "  -590.625  -571.875  -553.125  -534.375  -515.625  -496.875  -478.125\n",
      "  -459.375  -440.625  -421.875  -403.125  -384.375  -365.625  -346.875\n",
      "  -328.125  -309.375  -290.625  -271.875  -253.125  -234.375  -215.625\n",
      "  -196.875  -178.125  -159.375  -140.625  -121.875  -103.125   -84.375\n",
      "   -65.625   -46.875   -28.125    -9.375     9.375    28.125    46.875\n",
      "    65.625    84.375   103.125   121.875   140.625   159.375   178.125\n",
      "   196.875   215.625   234.375   253.125   271.875   290.625   309.375\n",
      "   328.125   346.875   365.625   384.375   403.125   421.875   440.625\n",
      "   459.375   478.125   496.875   515.625   534.375   553.125   571.875\n",
      "   590.625   609.375   628.125   646.875   665.625   684.375   703.125\n",
      "   721.875   740.625   759.375   778.125   796.875   815.625   834.375\n",
      "   853.125   871.875   890.625   909.375   928.125   946.875   965.625\n",
      "   984.375  1003.125  1021.875  1040.625  1059.375  1078.125  1096.875\n",
      "  1115.625  1134.375  1153.125  1171.875  1190.625  1209.375  1228.125\n",
      "  1246.875  1265.625  1284.375  1303.125  1321.875  1340.625  1359.375\n",
      "  1378.125  1396.875  1415.625  1434.375  1453.125  1471.875  1490.625\n",
      "  1509.375  1528.125  1546.875  1565.625  1584.375  1603.125  1621.875\n",
      "  1640.625  1659.375  1678.125  1696.875  1715.625  1734.375  1753.125\n",
      "  1771.875  1790.625  1809.375  1828.125  1846.875  1865.625  1884.375\n",
      "  1903.125  1921.875  1940.625  1959.375  1978.125  1996.875  2015.625\n",
      "  2034.375  2053.125  2071.875  2090.625  2109.375  2128.125  2146.875\n",
      "  2165.625  2184.375  2203.125  2221.875  2240.625  2259.375  2278.125\n",
      "  2296.875  2315.625  2334.375  2353.125  2371.875  2390.625  2409.375\n",
      "  2428.125  2446.875  2465.625  2484.375  2503.125  2521.875  2540.625\n",
      "  2559.375  2578.125  2596.875  2615.625  2634.375  2653.125  2671.875\n",
      "  2690.625]\n"
     ]
    }
   ],
   "source": [
    "# 3D datacube of the cartesian coordinates at this dump\n",
    "x,y,z = moms_grid = myrun.moms.get_cgrid()\n",
    "\n",
    "# it is formatted such that var[z,y,x] refers to the variable at the (z,y,x) coordinates that those \n",
    "# indices correspond to. The indexing goes from negative to positive \n",
    "moms_ngridpoints = myrun.moms.moms_ngridpoints\n",
    "print('The unique x,y,z coordinates are:')\n",
    "print(x[np.random.randint(0,moms_ngridpoints), np.random.randint(0,moms_ngridpoints), :])\n",
    "\n",
    "# to convert to spherical coordinates\n",
    "r,theta,phi=myrun.moms.get_sgrid()"
   ]
  },
  {
   "cell_type": "code",
   "execution_count": 14,
   "metadata": {},
   "outputs": [
    {
     "data": {
      "text/plain": [
       "168.0"
      ]
     },
     "execution_count": 14,
     "metadata": {},
     "output_type": "execute_result"
    }
   ],
   "source": [
    "2688/4/4"
   ]
  },
  {
   "cell_type": "code",
   "execution_count": 15,
   "metadata": {},
   "outputs": [
    {
     "data": {
      "text/plain": [
       "288"
      ]
     },
     "execution_count": 15,
     "metadata": {},
     "output_type": "execute_result"
    }
   ],
   "source": [
    "len(x)"
   ]
  },
  {
   "cell_type": "code",
   "execution_count": 16,
   "metadata": {},
   "outputs": [
    {
     "data": {
      "text/plain": [
       "2683.92852592"
      ]
     },
     "execution_count": 16,
     "metadata": {},
     "output_type": "execute_result"
    }
   ],
   "source": [
    "670.98213148*4"
   ]
  },
  {
   "cell_type": "markdown",
   "metadata": {},
   "source": [
    "## Get decompressed quantities and compare radial profiles with RProf\n",
    "### Velocity and vorticity magnitude"
   ]
  },
  {
   "cell_type": "code",
   "execution_count": 17,
   "metadata": {},
   "outputs": [
    {
     "data": {
      "application/vnd.jupyter.widget-view+json": {
       "model_id": "61ba8d624c6045a39a270a3ee37eb56e",
       "version_major": 2,
       "version_minor": 0
      },
      "text/plain": [
       "Canvas(toolbar=Toolbar(toolitems=[('Home', 'Reset original view', 'home', 'home'), ('Back', 'Back to previous …"
      ]
     },
     "metadata": {},
     "output_type": "display_data"
    },
    {
     "data": {
      "text/plain": [
       "Text(0.5, 1.0, '|U| velocity magnitude')"
      ]
     },
     "execution_count": 17,
     "metadata": {},
     "output_type": "execute_result"
    }
   ],
   "source": [
    "# dump=2000\n",
    "# get the cartesian velocity components\n",
    "ux = myrun.moms.get('ux',fname=dump)\n",
    "uy = myrun.moms.get('uy',fname=dump)\n",
    "uz = myrun.moms.get('uz',fname=dump)\n",
    "\n",
    "# grab |U| on the entire grid, then get radial profile\n",
    "U = myrun.moms.norm('ux','uy','uz')\n",
    "U_moms, r_moms = myrun.moms.get_rprof(U,fname=dump)\n",
    "\n",
    "# RProf data\n",
    "r_rprof = myrun.rprof.get('R',fname=dump,resolution='l')\n",
    "U_rprof = myrun.rprof.get('|U|',fname=dump,resolution='l')\n",
    "\n",
    "# Plot\n",
    "ifig=1;close(ifig);figure(ifig)\n",
    "plot(r_moms, U_moms, label='MomsData')\n",
    "plot(r_rprof, U_rprof, label='Rprof')\n",
    "legend(); title('|U| velocity magnitude')"
   ]
  },
  {
   "cell_type": "code",
   "execution_count": 19,
   "metadata": {},
   "outputs": [],
   "source": [
    "# This cell could also be used to check radial and tangential velocity components\n",
    "\n",
    "# vorticity from moms\n",
    "w_moms, r_moms = myrun.moms.get_rprof('|w|',fname=dump)\n",
    "\n",
    "# vorticity calculated from velocity components \n",
    "# from http://206-12-89-164.cloud.computecanada.ca/csa/hcorem25-paper1/-/blob/master/notebooks/calc_vortmags.py\n",
    "def get_vel_rprofs_from_moms(star_moms, DUMP, things=['w', 'ur', 'ut'], rad_space=None, workers=1):\n",
    "    '''                                                                                                 \n",
    "    Calculates a quantities for Radial Profiles from the MomsDataSet instance                           \n",
    "    for a given dump. Compatibility with multiprocessesing.                                             \n",
    "                                                                                                        \n",
    "    Parameters                                                                                          \n",
    "    ----------                                                                                          \n",
    "    star_moms : MomsDataSet                                                                             \n",
    "        The MomsDataSet instance for which you want the radial profiles.                                \n",
    "    DUMP : int                                                                                          \n",
    "        The dump number for which to get radial profile                                                 \n",
    "    things : list                                                                                       \n",
    "        A subset of ['w', 'ur', 'ut'], for which to calculate the profiles.                             \n",
    "    rad_space : float, None                                                                             \n",
    "        The spacing between the radii for which to calcualte the spherical averages.                    \n",
    "        If None, will take the moms grid size for the spacing.                                          \n",
    "        The default is None.                                                                            \n",
    "    workers : int, optional                                                                             \n",
    "        Number of workers for multiprocessesing Pool.                                                   \n",
    "        The default is 1. (Will not use multiprocessesing)                                              \n",
    "                                                                                                        \n",
    "    Returns                                                                                             \n",
    "    -------                                                                                             \n",
    "    numpy.ndarray                                                                                       \n",
    "        2D array, first array is radii, the rest are pairs of computed and whatever.                    \n",
    "    '''\n",
    "\n",
    "    moms_grid = star_moms.get_cgrid()\n",
    "    grid_size = abs(moms_grid[0][0][0][1] - moms_grid[0][0][0][0])\n",
    "    moms_max_rad = max(moms_grid[0][0][0])\n",
    "\n",
    "    xs = star_moms.get(0, fname=DUMP)\n",
    "    ux = star_moms.get(1, fname=DUMP)\n",
    "    uy = star_moms.get(2, fname=DUMP)\n",
    "    uz = star_moms.get(3, fname=DUMP)\n",
    "\n",
    "    ur, utheta, uphi = star_moms.get_spherical_components(ux, uy, uz)\n",
    "    ut = np.sqrt(utheta**2 + uphi**2)\n",
    "\n",
    "    moms_ut = star_moms.get(4, fname=DUMP)\n",
    "    moms_ur = star_moms.get(5, fname=DUMP)\n",
    "    moms_w  = star_moms.get(6, fname=DUMP)\n",
    "\n",
    "    mX = moms_grid[0]\n",
    "    mY = moms_grid[1]\n",
    "    mZ = moms_grid[2]\n",
    "\n",
    "    dux_dz, dux_dy, dux_dx = np.gradient(ux, moms_grid[0][0][0], moms_grid[0][0][0], moms_grid[0][0][0])\n",
    "    duy_dz, duy_dy, duy_dx = np.gradient(uy, moms_grid[0][0][0], moms_grid[0][0][0], moms_grid[0][0][0])\n",
    "    duz_dz, duz_dy, duz_dx = np.gradient(uz, moms_grid[0][0][0], moms_grid[0][0][0], moms_grid[0][0][0])\n",
    "\n",
    "    curl = (duz_dy - duy_dz, dux_dz - duz_dx, duy_dx - dux_dy)\n",
    "    vortmag = np.sqrt(curl[0]**2 + curl[1]**2 + curl[2]**2)\n",
    "\n",
    "    if rad_space == None: rad_space = grid_size\n",
    "    radii = np.arange(0, moms_max_rad, rad_space)\n",
    "\n",
    "    global get_avg_velsvort\n",
    "    def get_avg_velsvort(rad):\n",
    "#         print(\"computing radius: {}\".format(rad), end='\\r')\n",
    "        npoints = star_moms.sphericalHarmonics_lmax(rad)[-1]\n",
    "        avg_w = 0; avg_moms_w = 0\n",
    "        avg_ur = 0; avg_moms_ur = 0\n",
    "        avg_ut = 0; avg_moms_ut = 0\n",
    "        if 'ur' in things:\n",
    "            sphere_ur = star_moms.get_spherical_interpolation(ur, rad, npoints=npoints)\n",
    "            whatever_ur = star_moms.get_spherical_interpolation(moms_ur, rad, npoints=npoints)\n",
    "            avg_ur = np.mean(sphere_ur)\n",
    "            avg_moms_ur = np.mean(whatever_ur)\n",
    "        if 'ut' in things:\n",
    "            sphere_ut = star_moms.get_spherical_interpolation(ut, rad, npoints=npoints)\n",
    "            whatever_ut = star_moms.get_spherical_interpolation(moms_ut, rad, npoints=npoints)\n",
    "            avg_ut = np.mean(sphere_ut)\n",
    "            avg_moms_ut = np.mean(whatever_ut)\n",
    "        if 'w' in things:\n",
    "            sphere_w = star_moms.get_spherical_interpolation(vortmag, rad, npoints=npoints)\n",
    "            whatever_w = star_moms.get_spherical_interpolation(moms_w, rad, npoints=npoints)\n",
    "            avg_w = np.mean(sphere_w)\n",
    "            avg_moms_w = np.mean(whatever_w)\n",
    "        return [rad, avg_w, avg_moms_w, avg_ur, avg_moms_ur, avg_ut, avg_moms_ut]\n",
    "\n",
    "    if workers <= 1:\n",
    "        return np.array(list(map(get_avg_velsvort, radii))).T\n",
    "\n",
    "    pol = Pool(workers)\n",
    "    results = pol.map(get_avg_velsvort, radii)\n",
    "    return np.array(results).T\n",
    "\n",
    "results = get_vel_rprofs_from_moms(myrun.moms, dump, things=['w'], rad_space=20, workers=39)\n",
    "R_moms_calc,w_calc,w_moms_pool = results[0:3]"
   ]
  },
  {
   "cell_type": "code",
   "execution_count": 20,
   "metadata": {},
   "outputs": [
    {
     "data": {
      "application/vnd.jupyter.widget-view+json": {
       "model_id": "e6f5fc9226e649deab2b7d8b15da9e61",
       "version_major": 2,
       "version_minor": 0
      },
      "text/plain": [
       "Canvas(toolbar=Toolbar(toolitems=[('Home', 'Reset original view', 'home', 'home'), ('Back', 'Back to previous …"
      ]
     },
     "metadata": {},
     "output_type": "display_data"
    },
    {
     "data": {
      "text/plain": [
       "Text(0.5, 1.0, 'vort magnitude')"
      ]
     },
     "execution_count": 20,
     "metadata": {},
     "output_type": "execute_result"
    }
   ],
   "source": [
    "# Plot\n",
    "ifig=1;close(ifig);figure(ifig)\n",
    "plot(r_moms, w_moms, label='MomsData')\n",
    "plot(R_moms_calc,w_calc, 'o',label='from vel components')\n",
    "plot(R_moms_calc,w_moms_pool, 's',label='from moms averaging')\n",
    "plot(rad[3:], vort[3:], label='Rprof bqav')\n",
    "legend(); title('vort magnitude')"
   ]
  },
  {
   "cell_type": "markdown",
   "metadata": {},
   "source": [
    "For M107 this plot shows that the vorticity moms data (green dashed) is incorrect, an from these data sets the vorticiy must be calculated."
   ]
  },
  {
   "cell_type": "markdown",
   "metadata": {},
   "source": [
    "### Density, pressure and FV\n",
    "\n",
    "The plots below show that in M107 the density and pressure are incorrect a well, but the fractional volume FV is correct."
   ]
  },
  {
   "cell_type": "code",
   "execution_count": 23,
   "metadata": {},
   "outputs": [],
   "source": [
    "# density radial profile\n",
    "rho_moms, r_moms = myrun.moms.get_rprof('rho',fname=dump)\n",
    "# P_moms, r_moms = myrun.moms.get_rprof('P',fname=dump)\n",
    "T9_moms, r_moms = myrun.moms.get_rprof('T9',fname=dump)\n",
    "\n",
    "# FV radial profile\n",
    "FV_moms, r_moms = myrun.moms.get_rprof('fv',fname=dump)"
   ]
  },
  {
   "cell_type": "code",
   "execution_count": 25,
   "metadata": {},
   "outputs": [],
   "source": [
    "# get density, FV and R, all low resolution\n",
    "r_rprof = myrun.rprof.get('R',fname=dump,resolution='l')\n",
    "rho_rprof = (myrun.rprof.get('Rho0',fname=dump,resolution='l') + \n",
    "             myrun.rprof.get('Rho1',fname=dump,resolution='l'))\n",
    "P_rprof = (myrun.rprof.get('P0',fname=dump,resolution='l') + \n",
    "             myrun.rprof.get('P1',fname=dump,resolution='l'))\n",
    "FV_rprof = myrun.rprof.get('FV',fname=dump,resolution='l')"
   ]
  },
  {
   "cell_type": "code",
   "execution_count": 27,
   "metadata": {},
   "outputs": [
    {
     "data": {
      "application/vnd.jupyter.widget-view+json": {
       "model_id": "9bb59833b1ea472eb45211f73b4dfbdd",
       "version_major": 2,
       "version_minor": 0
      },
      "text/plain": [
       "Canvas(toolbar=Toolbar(toolitems=[('Home', 'Reset original view', 'home', 'home'), ('Back', 'Back to previous …"
      ]
     },
     "metadata": {},
     "output_type": "display_data"
    },
    {
     "data": {
      "text/plain": [
       "Text(0.5, 1.0, 'Density')"
      ]
     },
     "execution_count": 27,
     "metadata": {},
     "output_type": "execute_result"
    }
   ],
   "source": [
    "ifig=2;close(ifig);figure(ifig)\n",
    "plot(r_moms,rho_moms,label='MomsData')\n",
    "plot(r_rprof,rho_rprof,'--',label='Rprof')\n",
    "legend(); title('Density')"
   ]
  },
  {
   "cell_type": "code",
   "execution_count": null,
   "metadata": {},
   "outputs": [],
   "source": [
    "ifig=3;close(ifig);figure(ifig)\n",
    "plot(r_moms,P_moms,label='MomsData')\n",
    "plot(r_rprof,P_rprof,label='Rprof')\n",
    "legend(); title('Pressure')"
   ]
  },
  {
   "cell_type": "code",
   "execution_count": 28,
   "metadata": {},
   "outputs": [
    {
     "data": {
      "application/vnd.jupyter.widget-view+json": {
       "model_id": "dcd3561fa92546ae98e576c249b2f09b",
       "version_major": 2,
       "version_minor": 0
      },
      "text/plain": [
       "Canvas(toolbar=Toolbar(toolitems=[('Home', 'Reset original view', 'home', 'home'), ('Back', 'Back to previous …"
      ]
     },
     "metadata": {},
     "output_type": "display_data"
    }
   ],
   "source": [
    "ifig=4;close(ifig);figure(ifig)\n",
    "plot(r_moms,FV_moms,label='MomsData')\n",
    "plot(r_rprof,FV_rprof,'--',label='Rprof')\n",
    "legend(); title('FV')\n",
    "yscale('log')"
   ]
  },
  {
   "cell_type": "code",
   "execution_count": null,
   "metadata": {},
   "outputs": [],
   "source": []
  },
  {
   "cell_type": "code",
   "execution_count": null,
   "metadata": {},
   "outputs": [],
   "source": []
  }
 ],
 "metadata": {
  "kernelspec": {
   "display_name": "scinet-conda /project/f/fherwig/fherwig/PythonVirtual/sciconda-astrohub2",
   "language": "python",
   "name": "scinet_conda_project_f_fherwig_fherwig_pythonvirtual_sciconda_astrohub2"
  },
  "language_info": {
   "codemirror_mode": {
    "name": "ipython",
    "version": 3
   },
   "file_extension": ".py",
   "mimetype": "text/x-python",
   "name": "python",
   "nbconvert_exporter": "python",
   "pygments_lexer": "ipython3",
   "version": "3.8.5"
  }
 },
 "nbformat": 4,
 "nbformat_minor": 4
}

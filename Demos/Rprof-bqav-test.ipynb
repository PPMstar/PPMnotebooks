{
 "cells": [
  {
   "cell_type": "markdown",
   "metadata": {},
   "source": [
    "# Test Rprof-bqav\n"
   ]
  },
  {
   "cell_type": "code",
   "execution_count": 47,
   "metadata": {},
   "outputs": [
    {
     "data": {
      "text/plain": [
       "'/gpfs/fs0/scratch/f/fherwig/fherwig/repos/PPMnotebooks/Demos'"
      ]
     },
     "execution_count": 47,
     "metadata": {},
     "output_type": "execute_result"
    }
   ],
   "source": [
    "pwd"
   ]
  },
  {
   "cell_type": "code",
   "execution_count": 48,
   "metadata": {},
   "outputs": [
    {
     "name": "stdout",
     "output_type": "stream",
     "text": [
      "Populating the interactive namespace from numpy and matplotlib\n",
      "36 rprof files found in '/scratch/f/fherwig/fherwig/M223-2688-rst-precfrac/prfs/frombqavs/.\n",
      "Dump numbers range from 1511 to 1546.\n"
     ]
    }
   ],
   "source": [
    "%pylab ipympl\n",
    "import os,sys\n",
    "\n",
    "ppmpy_dir = '/scratch/f/fherwig/fherwig/repos/PyPPM'\n",
    "sys.path.insert(0,ppmpy_dir)\n",
    "from ppmpy import ppm\n",
    "\n",
    "data_dir = '/scratch/f/fherwig/fherwig'\n",
    "run_dir = 'M111'\n",
    "run_dir = 'M223-2688-rst-precfrac'\n",
    "rprof_dir = os.path.join(data_dir,run_dir,'prfs')\n",
    "\n",
    "var_list = ['xc','ux','uy','uz','|ut|','|ur|','|w|','T9','rho','fv'] # M111\n",
    "dump = 1770   \n",
    "dump = 1535   \n",
    "\n",
    "# load rprof\n",
    "rp_bavq = ppm.RprofSet(rprof_dir, bqav=True, var_list=var_list)\n",
    "vort = rp_bavq.get('|w|',fname=dump)\n",
    "ut = rp_bavq.get('|ut|',fname=dump)"
   ]
  },
  {
   "cell_type": "code",
   "execution_count": 49,
   "metadata": {},
   "outputs": [
    {
     "data": {
      "text/plain": [
       "array([-1.00000e+20, -1.35336e+03,  2.67862e+03,  2.67059e+03,\n",
       "        2.66255e+03,  2.65452e+03,  2.64649e+03,  2.63846e+03,\n",
       "        2.63043e+03,  2.62240e+03])"
      ]
     },
     "execution_count": 49,
     "metadata": {},
     "output_type": "execute_result"
    }
   ],
   "source": [
    "rad = rp_bavq.get('xcmax',fname=dump)\n",
    "rad[0:10]"
   ]
  },
  {
   "cell_type": "code",
   "execution_count": 50,
   "metadata": {},
   "outputs": [
    {
     "data": {
      "text/plain": [
       "336"
      ]
     },
     "execution_count": 50,
     "metadata": {},
     "output_type": "execute_result"
    }
   ],
   "source": [
    "len(ut)"
   ]
  },
  {
   "cell_type": "code",
   "execution_count": 51,
   "metadata": {},
   "outputs": [
    {
     "data": {
      "application/vnd.jupyter.widget-view+json": {
       "model_id": "299978dd25a4406c822954719189c658",
       "version_major": 2,
       "version_minor": 0
      },
      "text/plain": [
       "Canvas(toolbar=Toolbar(toolitems=[('Home', 'Reset original view', 'home', 'home'), ('Back', 'Back to previous …"
      ]
     },
     "metadata": {},
     "output_type": "display_data"
    },
    {
     "data": {
      "text/plain": [
       "[<matplotlib.lines.Line2D at 0x7fcf017b4df0>]"
      ]
     },
     "execution_count": 51,
     "metadata": {},
     "output_type": "execute_result"
    }
   ],
   "source": [
    "# Plot ut\n",
    "ifig=1;close(ifig);figure(ifig)\n",
    "plot(rad[3:],log10(ut[3:])+3, label='ut')"
   ]
  },
  {
   "cell_type": "code",
   "execution_count": 52,
   "metadata": {},
   "outputs": [
    {
     "data": {
      "application/vnd.jupyter.widget-view+json": {
       "model_id": "6d4d7a7b54304278a2c9ba9ac15ce1bb",
       "version_major": 2,
       "version_minor": 0
      },
      "text/plain": [
       "Canvas(toolbar=Toolbar(toolitems=[('Home', 'Reset original view', 'home', 'home'), ('Back', 'Back to previous …"
      ]
     },
     "metadata": {},
     "output_type": "display_data"
    },
    {
     "data": {
      "text/plain": [
       "Text(0, 0.5, '$ \\\\log | \\\\nabla \\\\times U| / [Hz]$')"
      ]
     },
     "execution_count": 52,
     "metadata": {},
     "output_type": "execute_result"
    }
   ],
   "source": [
    "# Plot vort\n",
    "ifig=1;close(ifig);figure(ifig)\n",
    "plot(rad[3:],log10(vort[3:]), label='vort')\n",
    "legend(); xlabel('R/Mm'); ylabel(\"$ \\\\log | \\\\nabla \\\\times U| / [Hz]$\")"
   ]
  },
  {
   "cell_type": "code",
   "execution_count": null,
   "metadata": {},
   "outputs": [],
   "source": []
  }
 ],
 "metadata": {
  "kernelspec": {
   "display_name": "scinet-conda /project/f/fherwig/fherwig/PythonVirtual/sciconda-astrohub2",
   "language": "python",
   "name": "scinet_conda_project_f_fherwig_fherwig_pythonvirtual_sciconda_astrohub2"
  },
  "language_info": {
   "codemirror_mode": {
    "name": "ipython",
    "version": 3
   },
   "file_extension": ".py",
   "mimetype": "text/x-python",
   "name": "python",
   "nbconvert_exporter": "python",
   "pygments_lexer": "ipython3",
   "version": "3.8.5"
  }
 },
 "nbformat": 4,
 "nbformat_minor": 4
}

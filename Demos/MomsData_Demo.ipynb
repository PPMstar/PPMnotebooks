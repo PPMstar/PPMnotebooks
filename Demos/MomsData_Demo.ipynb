{
 "cells": [
  {
   "cell_type": "markdown",
   "metadata": {},
   "source": [
    "# Data analysis demo for H-core-M25 stellar hydro project\n",
    "Last update: Nov 25, 2019.\n",
    "\n",
    "This notebook contains a demonstration how to analyse the 3D filtered _moms_ data with the 1D radial profile _rprof_ data from _PPMstar_ 3D hydrodynamic simulations. \n",
    "\n",
    "This notebook works with ppmstarhub:1.2.6 on [Astrohub](https://astrohub.uvic.ca) and on [PPMstar.org](https://astrohub.ppmstar.org)\n",
    "\n",
    "\n",
    "### Data for this demo\n",
    "The examples are for the project `H-core-M25` (this is the project identifier), the H-core convection simulations of a 25M$_\\odot$ star. \n",
    "\n",
    "Two runs are used:\n",
    "* `M29`: $768^3$ grid\n",
    "* `M35`: $1536^3$ grid\n",
    "\n",
    "`M29`, `M35` are the run identifier. Keep run and project identifier attached to all derived data products. \n",
    "\n",
    "Both runs have 1000x heating which increases their convective velocities by a factor of 10. \n",
    "\n",
    "For each run there are two types of data to be read for this demo:\n",
    "* _moms_ data is the spatially filtered data (2-byte data on reduced grid by factor four in each direction) in 3D\n",
    "* _rprofs_ data are spherically averaged radial profiles\n",
    "\n",
    "### Location of data\n",
    "The data is staged on the UVic Astrophysics Simulation Data Repository (ASDR) mounted in `/data/ASDR`. The repository contains the project folder `H-core-M25`. \n",
    "\n",
    "### Python asumptions\n",
    "\n",
    "The server defaults each notebook to ``"
   ]
  },
  {
   "cell_type": "code",
   "execution_count": null,
   "metadata": {},
   "outputs": [],
   "source": [
    "%pylab inline\n",
    "\n",
    "# Some plot cells do not work with \n",
    "# %pylab ipympl   "
   ]
  },
  {
   "cell_type": "code",
   "execution_count": null,
   "metadata": {},
   "outputs": [],
   "source": [
    "import numpy as np\n",
    "import matplotlib.pyplot as plt\n",
    "import matplotlib.colors as color\n",
    "import nugridpy.utils as utils\n",
    "import logging\n",
    "import collections\n",
    "import itertools\n",
    "import sys\n",
    "import os\n",
    "\n",
    "# you can use sys.path.insert to add your own cloned copy of PyPPM which you can modify\n",
    "# sys.path.insert(0,'/home/user/home/PyPPM/')\n",
    "from ppmpy import ppm\n",
    "\n",
    "# plotting utilities\n",
    "ifig = 0\n",
    "ptrack = {}\n",
    "cb = utils.linestylecb # colours\n",
    "\n",
    "# create smaller labelsizes on axes\n",
    "plt.rc('xtick', labelsize=7)\n",
    "plt.rc('ytick', labelsize=7)\n",
    "\n",
    "# named tuple for using rprofs and momsdata\n",
    "hydro = collections.namedtuple('hydro', ['moms','rprof'])\n",
    "\n",
    "# turn off matplotlib messages\n",
    "logging.getLogger(\"matplotlib\").setLevel(logging.CRITICAL)"
   ]
  },
  {
   "cell_type": "code",
   "execution_count": null,
   "metadata": {},
   "outputs": [],
   "source": [
    "%%bash\n",
    "ls /data/ASDR/PPMstar/H-core-M25/"
   ]
  },
  {
   "cell_type": "markdown",
   "metadata": {},
   "source": [
    "## What quantities have what index?"
   ]
  },
  {
   "cell_type": "markdown",
   "metadata": {},
   "source": [
    "Due to how the moments data are decompressed the quantities written into the moms data file can be written in any order and do not contain any metadata to notify the _MomsDataSet_ class what quantities are where in the large array. The quantities can be called with an index or their name IF you define the $\\textit{var_list}$ variable in the _MomsDataSet_ instantiation. For the runs being looked at here, the momsdata indices and their appropriate quantities are:"
   ]
  },
  {
   "cell_type": "markdown",
   "metadata": {},
   "source": [
    "| index | quantity            |\n",
    "|:-----:|:--------------:     |\n",
    "| 0     | x                   |\n",
    "| 1     | $\\vec{u_{x}}$                  |   \n",
    "| 2     | $\\vec{u_{y}}$             | \n",
    "|  3    | $\\vec{u_{z}}$             | \n",
    "|  4    | $\\lvert\\vec{u_{t}}\\rvert$         | \n",
    "|  5    | $\\lvert\\vec{u_{r}}\\rvert$             | \n",
    "|  6    | $\\lvert\\vec{\\omega}\\rvert$      | \n",
    "|  7    | P              | \n",
    "|  8    | rho            | \n",
    "|  9    | fv             | \n",
    "\n",
    "* Note that these are just 10 out of 32 quantities that can be made available in the moms data. \n",
    "* fv is the fractional volume of the material initially only outside the convection zone."
   ]
  },
  {
   "cell_type": "markdown",
   "metadata": {},
   "source": [
    "#### Some Helpful Definitions"
   ]
  },
  {
   "cell_type": "markdown",
   "metadata": {},
   "source": [
    "$\\mu$ = fv $\\times$ $\\mu_{\\mathrm{cld}}$ + (1 - fv) $\\times$ $\\mu_{\\mathrm{air}}$\n",
    "\n",
    "T = $\\frac{P \\mu}{\\rho R_{gas}}$\n",
    "\n",
    "$R_{gas}$ = 8.314462\n",
    "\n",
    "$\\vec{\\omega}$ = $\\vec{\\nabla} \\times \\vec{u}$"
   ]
  },
  {
   "cell_type": "markdown",
   "metadata": {},
   "source": [
    "$R_{gas}$, and all other quantities, are in code units which are defined in this file:"
   ]
  },
  {
   "cell_type": "code",
   "execution_count": null,
   "metadata": {},
   "outputs": [],
   "source": [
    "%%bash\n",
    "cat ./code-units.txt"
   ]
  },
  {
   "cell_type": "markdown",
   "metadata": {},
   "source": [
    "We can find out how to instantiate the _MomsDataSet_ object within the notebook as:"
   ]
  },
  {
   "cell_type": "code",
   "execution_count": null,
   "metadata": {},
   "outputs": [],
   "source": [
    "ppm.MomsDataSet?"
   ]
  },
  {
   "cell_type": "markdown",
   "metadata": {},
   "source": [
    "All class methods contain doc strings that describe the arguments and outputs."
   ]
  },
  {
   "cell_type": "code",
   "execution_count": null,
   "metadata": {},
   "outputs": [],
   "source": [
    "# paths to data\n",
    "dir_repo    = '/data/ASDR/PPMstar'\n",
    "dir_project = 'H-core-M25'\n",
    "\n",
    "# the runs and their resolutions\n",
    "runs = ['M29', 'M35']\n",
    "resolution = ['768', '1536']\n",
    "\n",
    "# dumps for each run we could analyze\n",
    "dumps = [650, 375]\n",
    "\n",
    "# are we using high resolution?\n",
    "use_highres = False\n",
    "\n",
    "if use_highres:\n",
    "    use_run = [False, True]\n",
    "    \n",
    "else:\n",
    "    use_run = [True, False]\n",
    "\n",
    "# grab the appropriate runid, runresolution and dump\n",
    "runid, runresolution, mydump = itertools.compress(runs+resolution+dumps, use_run*3)\n",
    "\n",
    "# create the hydro object\n",
    "var_list = ['xc','ux','uy','uz','|ur|','|ut|','|w|','P','rho','fv']\n",
    "dir_repo = os.path.join(dir_repo, dir_project, '{:s}-{:s}'.format(runid, runresolution))\n",
    "                        \n",
    "myhydro = hydro(ppm.MomsDataSet(dir_name=os.path.join(dir_repo, 'myavsbq'), init_dump_read=mydump, \n",
    "                                dumps_in_mem=2, var_list=var_list, \n",
    "                                rprofset=ppm.RprofSet(os.path.join(dir_repo, 'prfs'))),\n",
    "                ppm.RprofSet(os.path.join(dir_repo, 'prfs')))"
   ]
  },
  {
   "cell_type": "markdown",
   "metadata": {},
   "source": [
    "## Basic grid properties"
   ]
  },
  {
   "cell_type": "code",
   "execution_count": null,
   "metadata": {},
   "outputs": [],
   "source": [
    "# 3D datacube of the cartesian coordinates at this dump\n",
    "x,y,z=myhydro.moms.get_cgrid()\n",
    "\n",
    "# it is formatted such that var[z,y,x] refers to the variable at the (z,y,x) coordinates that those \n",
    "# indices correspond to. The indexing goes from negative to positive \n",
    "moms_ngridpoints = myhydro.moms.moms_ngridpoints\n",
    "print('The unique x,y,z coordinates are:')\n",
    "print(x[np.random.randint(0,moms_ngridpoints), np.random.randint(0,moms_ngridpoints), :])\n",
    "\n",
    "# to convert to spherical coordinates\n",
    "r,theta,phi=myhydro.moms.get_sgrid()"
   ]
  },
  {
   "cell_type": "markdown",
   "metadata": {},
   "source": [
    "#### Grid and time resolution of moms data and rprofs (PPMStar simulation)"
   ]
  },
  {
   "cell_type": "code",
   "execution_count": null,
   "metadata": {},
   "outputs": [],
   "source": [
    "# breakdown of cells and shapes of the simulations\n",
    "ppmstar_dim = len(myhydro.rprof.get('R',fname=0,resolution='h'))\n",
    "print('The original PPMStar simulation was run with a cubic dimension of ('+','.join(3*[str(ppmstar_dim)])+\n",
    "     ') while the moments data is downsampled by a factor of 4 with a cubic dimension of ('+\n",
    "      ','.join(map(str,x.shape))+')')\n",
    "\n",
    "print('')\n",
    "\n",
    "# spatial resolution for momsdata compared with rprofs (simulation)\n",
    "deex_ppmstar = myhydro.rprof.get('deex',fname=0)\n",
    "print('The grid resolution of the original PPMStar simulation is {:.2f}Mm while the moms data is {:.2f}Mm'\n",
    "      .format(deex_ppmstar,np.diff(x[0,0,:])[0]))"
   ]
  },
  {
   "cell_type": "code",
   "execution_count": null,
   "metadata": {},
   "outputs": [],
   "source": [
    "# temporal resolution is in the rprof data\n",
    "print('The temporal resolution of the moms data is the same as the PPMStar output which averages around {:0.2f}'.\n",
    "      format(np.mean(np.diff(myhydro.rprof.get_history().get('time(mins)')))),'minutes of star time per dump')\n",
    "\n",
    "print('')\n",
    "\n",
    "print('The run-time temporal resolution of the PPMStar output averages around {:0.2f}'.\n",
    "      format(np.mean(myhydro.rprof.get_history().get('dt(secs)'))),'seconds per cycle')"
   ]
  },
  {
   "cell_type": "markdown",
   "metadata": {},
   "source": [
    "### Histogram of radii\n",
    "* increasing to 1/2 length of grid, then decreasing as only fraction of shell in box"
   ]
  },
  {
   "cell_type": "code",
   "execution_count": null,
   "metadata": {},
   "outputs": [],
   "source": [
    "# this ensures that I can open an close the figure that was plotted within this cell. \n",
    "# It doesn't matter in what order I run the notebook cells, this keeps track of it\n",
    "celln = 0\n",
    "\n",
    "# configure plots\n",
    "close_local = ppm.close_plot(celln,ifig,ptrack)\n",
    "if close_local[0]:\n",
    "    plt.close(fig); ifig += 1; fig = plt.figure(ifig,figsize=(3.5,2.5),dpi=300)\n",
    "    ppm.add_plot(celln,ifig,ptrack)\n",
    "else:\n",
    "    ifig += 1; fig = plt.figure(ifig,figsize=(3.5,2.5),dpi=300)\n",
    "    ppm.add_plot(celln,ifig,ptrack)\n",
    "    \n",
    "# set the colour/linestyle counter to 0 and create axes\n",
    "cbc = 0\n",
    "ax = fig.add_subplot(111)\n",
    "\n",
    "# histogram of radius values\n",
    "hist_data = ax.hist(r.flatten(),86)\n",
    "\n",
    "# plot details\n",
    "xmax = np.max(x)\n",
    "ylims = [0,np.max(hist_data[0])]\n",
    "ax.vlines(xmax,*ylims,linestyles='--',lw=0.5)\n",
    "ax.set_xlabel('r / Mm')\n",
    "ax.set_ylabel('')\n",
    "ax.set_ylim(ylims)"
   ]
  },
  {
   "cell_type": "markdown",
   "metadata": {},
   "source": [
    "## Planar slice image"
   ]
  },
  {
   "cell_type": "code",
   "execution_count": null,
   "metadata": {},
   "outputs": [],
   "source": [
    "# extent in x,y\n",
    "extent=[np.min(x),np.max(x),np.min(y),np.max(y)]\n",
    "\n",
    "# the take a slice at z=0. This is halfway through the indices\n",
    "slice_num = int(moms_ngridpoints/2)"
   ]
  },
  {
   "cell_type": "markdown",
   "metadata": {},
   "source": [
    "#### Radius"
   ]
  },
  {
   "cell_type": "code",
   "execution_count": null,
   "metadata": {},
   "outputs": [],
   "source": [
    "# this ensures that I can open an close the figure that was plotted within this cell. \n",
    "# It doesn't matter in what order I run the notebook cells, this keeps track of it\n",
    "celln = 1\n",
    "\n",
    "# configure plots\n",
    "close_local = ppm.close_plot(celln,ifig,ptrack)\n",
    "if close_local[0]:\n",
    "    plt.close(fig); ifig += 1; fig = plt.figure(ifig,figsize=(3.5,2.5),dpi=300)\n",
    "    ppm.add_plot(celln,ifig,ptrack)\n",
    "else:\n",
    "    ifig += 1; fig = plt.figure(ifig,figsize=(3.5,2.5),dpi=300)\n",
    "    ppm.add_plot(celln,ifig,ptrack)\n",
    "    \n",
    "# set the colour/linestyle counter to 0 and create axes\n",
    "cbc = 0\n",
    "ax = plt.axes([0.01, 0.98, 0.88, 0.98])\n",
    "\n",
    "ax.imshow(r[:,:,slice_num],extent=extent)\n",
    "\n",
    "# plot details\n",
    "ax.set_ylabel('y / Mm')\n",
    "ax.set_xlabel('x / Mm')\n",
    "\n",
    "# create a colorbar for the imshow data, use a new axes for it\n",
    "cax = fig.add_axes([0.90, 0.98, 0.08, 0.98])\n",
    "cbar1 = fig.colorbar(ax.images[0], cax=cax, orientation='vertical',format='%d',\n",
    "                     label=r'r / Mm')"
   ]
  },
  {
   "cell_type": "markdown",
   "metadata": {},
   "source": [
    "## $| u_{\\perp} |$"
   ]
  },
  {
   "cell_type": "markdown",
   "metadata": {},
   "source": [
    "We can simply construct the magnitude of the tangential velocity from the cartesian vector velocity components"
   ]
  },
  {
   "cell_type": "code",
   "execution_count": null,
   "metadata": {},
   "outputs": [],
   "source": [
    "# get the cartesian velocity components\n",
    "ux = myhydro.moms.get('ux',fname=mydump)\n",
    "uy = myhydro.moms.get('uy',fname=mydump)\n",
    "uz = myhydro.moms.get('uz',fname=mydump)\n",
    "\n",
    "# convert to spherical components\n",
    "ur, utheta, uphi = myhydro.moms.get_spherical_components(ux, uy, uz)\n",
    "u_perp = np.sqrt(np.power(utheta,2.0) + np.power(uphi,2.0))\n",
    "\n",
    "# store for later, |u|\n",
    "u_cartesian = myhydro.moms.norm(ux, uy, uz)\n",
    "u_spherical = myhydro.moms.norm(ur, utheta, uphi)\n",
    "\n",
    "# they are practically the same\n",
    "print((u_cartesian - u_spherical).mean(), (u_cartesian - u_spherical).std())"
   ]
  },
  {
   "cell_type": "code",
   "execution_count": null,
   "metadata": {},
   "outputs": [],
   "source": [
    "# this ensures that I can open an close the figure that was plotted within this cell. \n",
    "# It doesn't matter in what order I run the notebook cells, this keeps track of it\n",
    "celln = 2\n",
    "\n",
    "# configure plots\n",
    "close_local = ppm.close_plot(celln,ifig,ptrack)\n",
    "if close_local[0]:\n",
    "    plt.close(fig); ifig += 1; fig = plt.figure(ifig,figsize=(3.5,2.5),dpi=300)\n",
    "    ppm.add_plot(celln,ifig,ptrack)\n",
    "else:\n",
    "    ifig += 1; fig = plt.figure(ifig,figsize=(3.5,2.5),dpi=300)\n",
    "    ppm.add_plot(celln,ifig,ptrack)\n",
    "    \n",
    "# set the colour/linestyle counter to 0 and create axes\n",
    "cbc = 0\n",
    "ax = plt.axes([0.01, 0.98, 0.88, 0.98])\n",
    "\n",
    "# get the tangential velocity and make it km/s rather than Mm/s\n",
    "ax.imshow(u_perp[:,:,slice_num]*1e3,extent=extent,vmin=0)\n",
    "\n",
    "# plot details\n",
    "ax.set_ylabel('y / Mm')\n",
    "ax.set_xlabel('x / Mm')\n",
    "\n",
    "# create a colorbar for the imshow data, use a new axes for it\n",
    "cax = fig.add_axes([0.90, 0.98, 0.08, 0.98])\n",
    "cbar1 = fig.colorbar(ax.images[0], cax=cax, orientation='vertical',format='%.0f',\n",
    "                     label=r'$u_{\\perp}$ / km s$^{-1}$')"
   ]
  },
  {
   "cell_type": "markdown",
   "metadata": {},
   "source": [
    "## Radial profiles\n",
    "Radial profiles can be directly taken from the _rprof_ data sets. They can also be constructed from the _moms_ data. This is demonstrated below. "
   ]
  },
  {
   "cell_type": "code",
   "execution_count": null,
   "metadata": {},
   "outputs": [],
   "source": [
    "# for rprofs we will grab the spherical averages directly\n",
    "T9_rprof = myhydro.rprof.compute_T9(fname=mydump)\n",
    "R_rprof = myhydro.rprof.get('R',fname=mydump,resolution='l')\n",
    "\n",
    "# for moments data we will have to use the base components and compute T9\n",
    "cldmu = myhydro.rprof.get('cldmu',fname=0)\n",
    "airmu = myhydro.rprof.get('airmu',fname=0)\n",
    "Rgas = 8.314462\n",
    "\n",
    "# calculate mu for T\n",
    "fv = myhydro.moms.get('fv',fname=mydump)\n",
    "mu = cldmu * fv + (1-fv)*airmu\n",
    "\n",
    "P = myhydro.moms.get('P',fname=mydump)\n",
    "rho = myhydro.moms.get('rho',fname=mydump)\n",
    "T9 = (mu * P) / (Rgas * rho)\n",
    "\n",
    "# get the radial profile of T\n",
    "T9_moms, R_moms = myhydro.moms.get_rprof(T9)"
   ]
  },
  {
   "cell_type": "markdown",
   "metadata": {},
   "source": [
    "#### T9 "
   ]
  },
  {
   "cell_type": "code",
   "execution_count": null,
   "metadata": {},
   "outputs": [],
   "source": [
    "# this ensures that I can open an close the figure that was plotted within this cell. \n",
    "# It doesn't matter in what order I run the notebook cells, this keeps track of it\n",
    "celln = 3\n",
    "\n",
    "# configure plots\n",
    "close_local = ppm.close_plot(celln,ifig,ptrack)\n",
    "if close_local[0]:\n",
    "    plt.close(fig); ifig += 1; fig = plt.figure(ifig,figsize=(3.5,2.5),dpi=300)\n",
    "    ppm.add_plot(celln,ifig,ptrack)\n",
    "else:\n",
    "    ifig += 1; fig = plt.figure(ifig,figsize=(3.5,2.5),dpi=300)\n",
    "    ppm.add_plot(celln,ifig,ptrack)\n",
    "    \n",
    "# set the colour/linestyle counter to 0 and create axes\n",
    "cbc = 0\n",
    "ax = fig.add_subplot(111)\n",
    "\n",
    "ax.plot(R_rprof, T9_rprof, label='Rprof', color=cb(cbc)[2], ls=cb(cbc)[0])\n",
    "cbc += 1\n",
    "\n",
    "ax.plot(R_moms, T9_moms, label='MomsData', color=cb(cbc)[2], ls=cb(cbc)[0])\n",
    "cbc += 1\n",
    "\n",
    "# plot details\n",
    "ax.set_ylabel('T9')\n",
    "ax.set_xlabel('r / Mm')\n",
    "ax.set_xlim([0, R_rprof.max()])\n",
    "\n",
    "ax.legend(frameon=False,fontsize=8)"
   ]
  },
  {
   "cell_type": "markdown",
   "metadata": {},
   "source": [
    "#### |u|"
   ]
  },
  {
   "cell_type": "code",
   "execution_count": null,
   "metadata": {},
   "outputs": [],
   "source": [
    "U_rprof = myhydro.rprof.get('|U|',fname=mydump)\n",
    "\n",
    "# we computed |U| from the cartesian components of U as well as spherical and they are the same on the \n",
    "# entire grid. Use cartesian\n",
    "U_moms, R_moms = myhydro.moms.get_rprof(u_cartesian)"
   ]
  },
  {
   "cell_type": "code",
   "execution_count": null,
   "metadata": {},
   "outputs": [],
   "source": [
    "# this ensures that I can open an close the figure that was plotted within this cell. \n",
    "# It doesn't matter in what order I run the notebook cells, this keeps track of it\n",
    "celln = 4\n",
    "\n",
    "# configure plots\n",
    "close_local = ppm.close_plot(celln,ifig,ptrack)\n",
    "if close_local[0]:\n",
    "    plt.close(fig); ifig += 1; fig = plt.figure(ifig,figsize=(3.5,2.5),dpi=300)\n",
    "    ppm.add_plot(celln,ifig,ptrack)\n",
    "else:\n",
    "    ifig += 1; fig = plt.figure(ifig,figsize=(3.5,2.5),dpi=300)\n",
    "    ppm.add_plot(celln,ifig,ptrack)\n",
    "    \n",
    "# set the colour/linestyle counter to 0 and create axes\n",
    "cbc = 0\n",
    "ax = fig.add_subplot(111)\n",
    "\n",
    "# convert to km/s\n",
    "ax.plot(R_rprof, U_rprof*1e3, label='Rprof', color=cb(cbc)[2], ls=cb(cbc)[0])\n",
    "cbc += 1\n",
    "\n",
    "ax.plot(R_moms, U_moms*1e3, label='MomsData', color=cb(cbc)[2], ls=cb(cbc)[0])\n",
    "cbc += 1\n",
    "\n",
    "# plot details\n",
    "ax.set_ylabel('|U| / km s$^{-1}$')\n",
    "ax.set_xlabel('r / Mm')\n",
    "ax.set_xlim([0, R_rprof.max()])\n",
    "ax.set_ylim([0,16])\n",
    "\n",
    "ax.legend(frameon=False,fontsize=8)"
   ]
  }
 ],
 "metadata": {
  "kernelspec": {
   "display_name": "Python 3",
   "language": "python",
   "name": "python3"
  },
  "language_info": {
   "codemirror_mode": {
    "name": "ipython",
    "version": 3
   },
   "file_extension": ".py",
   "mimetype": "text/x-python",
   "name": "python",
   "nbconvert_exporter": "python",
   "pygments_lexer": "ipython3",
   "version": "3.6.8"
  }
 },
 "nbformat": 4,
 "nbformat_minor": 4
}

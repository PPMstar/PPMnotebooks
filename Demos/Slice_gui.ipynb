{
 "cells": [
  {
   "cell_type": "markdown",
   "metadata": {},
   "source": [
    "# Slice Gui"
   ]
  },
  {
   "cell_type": "code",
   "execution_count": null,
   "metadata": {},
   "outputs": [],
   "source": [
    "%pylab ipympl"
   ]
  },
  {
   "cell_type": "code",
   "execution_count": null,
   "metadata": {},
   "outputs": [],
   "source": [
    "import os\n",
    "import sys\n",
    "import inspect\n",
    "import logging\n",
    "import ipywidgets as widgets\n",
    "from ppmpy import ppm\n",
    "print(inspect.getfile(ppm))\n",
    "\n",
    "# turn off matplotlib messages\n",
    "logging.getLogger(\"matplotlib\").setLevel(logging.CRITICAL)"
   ]
  },
  {
   "cell_type": "markdown",
   "metadata": {},
   "source": [
    "The next cell will scan the ASDR data and find runs that have the required Moms and Rprof data needed for the Moms GUI. This takes a moment. If you know what you want you can just hardwire the directory variable `rprof_dir` and `moms_dir` and skip this step. Else select a run in the drop-down menu and don't forget to press the _Select Runs_ button! The scanner may find runs it thinks it can render because data files are present. The scanner does not check for physical data integrity and if the correct values are "
   ]
  },
  {
   "cell_type": "code",
   "execution_count": null,
   "metadata": {},
   "outputs": [],
   "source": [
    "base_dir  = '/data/ASDR/PPMstar/'\n",
    "root_dirs = os.listdir(base_dir)\n",
    "options =[]\n",
    "\n",
    "for sub_dir in root_dirs:\n",
    "    if (os.path.isdir(base_dir + sub_dir)):\n",
    "        data_dirs = os.listdir(base_dir + sub_dir)\n",
    "        for folder in data_dirs:\n",
    "            if (os.path.isdir(base_dir + sub_dir + '/' + folder)):\n",
    "                full_dir = base_dir + sub_dir + '/' + folder\n",
    "                if (os.path.exists(full_dir + '/prfs') and os.path.exists(full_dir + '/myavsbq')):\n",
    "                    if ((os.listdir(full_dir + '/prfs') != []) and (os.listdir(full_dir + '/myavsbq') != [])):\n",
    "                        options.append(full_dir)\n",
    "\n",
    "select_dropdown = widgets.Dropdown(options=options, description=\"Path Select\", layout=widgets.Layout(width='450px'))\n",
    "select_button = widgets.Button(description=\"Select Runs\", disabled=False)\n",
    "selected_label = widgets.Label(value=\"\")\n",
    "select_group = widgets.VBox([select_dropdown, select_button, selected_label])\n",
    "\n",
    "def select(b):\n",
    "    global rprof_dir\n",
    "    global moms_dir\n",
    "    rprof_dir = select_dropdown.value + '/prfs/'\n",
    "    moms_dir = select_dropdown.value + '/myavsbq/'\n",
    "    selected_label.value = select_dropdown.value\n",
    "select_button.on_click(select)\n",
    "\n",
    "display(select_group)"
   ]
  },
  {
   "cell_type": "code",
   "execution_count": null,
   "metadata": {},
   "outputs": [],
   "source": [
    "# A tested case: N15 is a RAWD simulation on a 768^3 grid (Stephens et al. 2020)\n",
    "rprof_dir = \"/data/ASDR/PPMstar/LowZRAWD/N15-LowZRAWD-768-10x-burn-moms/prfs/\"\n",
    "moms_dir  = \"/data/ASDR/PPMstar/LowZRAWD/N15-LowZRAWD-768-10x-burn-moms/myavsbq/\""
   ]
  },
  {
   "cell_type": "markdown",
   "metadata": {},
   "source": [
    "## Slice Gui: How to use guide\n",
    "It is advisable to start with looking at the radial profiles using the `RProf_gui.ipynb` notebook to get an overview of the run.\n",
    "\n",
    "1) Select the path to the data you wish to examine in dropdown above\\\n",
    "2) Click the `Select Runs` button above\\\n",
    "3) Run the block below to initialize the `Slice Gui` for those runs of data\\\n",
    "\n",
    "There are 5 sets of controls below in the `Graph Settings` tab, they are the following:\n",
    "- Dump, selects the dump number of the data set\n",
    "- Slice, selects the location of the slice on the selected Slice plane. For 192 cubed data for example, the middle of the star will be at Slice 91\n",
    "- Quantity, there are 10 quantities examinable in this GUI. To see which quanties these are see line 11769 of ppm.py\n",
    "- Slice plane, axis in which to take slices upon\n",
    "- Log Value Range/Value Range. Log Value Range applies a limit to the maximum and minimum values logged within the selected data symetrically about the zero and then offsets by log10(min). Value Range just limits the range of unlogged data to show, this will automatically go to min/max of the selected data when switched to from log or when the quantity is switched.\n",
    "- the uses as default `interpolation='kaiser'` which smoothes the pixelation a bit. You may not want that and use `interpolation=None`. This is an argument to [Matplotlib `imshow`](https://matplotlib.org/3.3.2/api/_as_gen/matplotlib.pyplot.imshow.html)."
   ]
  },
  {
   "cell_type": "code",
   "execution_count": null,
   "metadata": {},
   "outputs": [],
   "source": [
    "#get rprof and moms data\n",
    "rprof_data = ppm.RprofSet(rprof_dir)\n",
    "moms_data = ppm.MomsDataSet(moms_dir, 100, rprofset=rprof_data)\n",
    "\n",
    "moms_data.slice_gui()"
   ]
  },
  {
   "cell_type": "code",
   "execution_count": null,
   "metadata": {},
   "outputs": [],
   "source": []
  }
 ],
 "metadata": {
  "kernelspec": {
   "display_name": "Python 3",
   "language": "python",
   "name": "python3"
  },
  "language_info": {
   "codemirror_mode": {
    "name": "ipython",
    "version": 3
   },
   "file_extension": ".py",
   "mimetype": "text/x-python",
   "name": "python",
   "nbconvert_exporter": "python",
   "pygments_lexer": "ipython3",
   "version": "3.6.8"
  }
 },
 "nbformat": 4,
 "nbformat_minor": 4
}

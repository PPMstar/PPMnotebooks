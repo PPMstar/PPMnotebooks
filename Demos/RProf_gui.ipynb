{
 "cells": [
  {
   "cell_type": "markdown",
   "metadata": {},
   "source": [
    "# Plot radial profiles"
   ]
  },
  {
   "cell_type": "markdown",
   "metadata": {},
   "source": [
    "This notebook should work with PPMstarHub image `>=1.2.5`. "
   ]
  },
  {
   "cell_type": "code",
   "execution_count": 1,
   "metadata": {},
   "outputs": [
    {
     "name": "stdout",
     "output_type": "stream",
     "text": [
      "Populating the interactive namespace from numpy and matplotlib\n"
     ]
    }
   ],
   "source": [
    "%pylab ipympl"
   ]
  },
  {
   "cell_type": "code",
   "execution_count": 2,
   "metadata": {},
   "outputs": [],
   "source": [
    "from ppmpy import ppm   # github version v0.92 (Nov 26, 2019)\n",
    "import os"
   ]
  },
  {
   "cell_type": "code",
   "execution_count": 9,
   "metadata": {},
   "outputs": [
    {
     "name": "stdout",
     "output_type": "stream",
     "text": [
      "M200-1000xht-0xdiff-realEOS-768  M36-100x-768\t M43  M46  M54\n",
      "M29-768\t\t\t\t M37-10000x-768  M44  M47\n",
      "M35-1536\t\t\t M42\t\t M45  M52\n"
     ]
    }
   ],
   "source": [
    "# option of H-core-M25 cases:\n",
    "!ls /data/ASDR/PPMstar/H-core-M25"
   ]
  },
  {
   "cell_type": "code",
   "execution_count": 10,
   "metadata": {},
   "outputs": [],
   "source": [
    "# Specify path to rprofs\n",
    "cases = ['M36-100x-768',  'M37-10000x-768']\n",
    "dir_repo    = '/data/ASDR/PPMstar'\n",
    "dir_project = 'H-core-M25'\n",
    "path1 = os.path.join(dir_repo,dir_project,cases[0],'prfs') \n",
    "path2 = os.path.join(dir_repo,dir_project,cases[1],'prfs') \n"
   ]
  },
  {
   "cell_type": "code",
   "execution_count": 11,
   "metadata": {},
   "outputs": [
    {
     "name": "stdout",
     "output_type": "stream",
     "text": [
      "1574 rprof files found in '/data/ASDR/PPMstar/H-core-M25/M36-100x-768/prfs/.\n",
      "Dump numbers range from 0 to 1573.\n"
     ]
    },
    {
     "data": {
      "application/vnd.jupyter.widget-view+json": {
       "model_id": "26081fda2bef4d2cb24015e6e710e259",
       "version_major": 2,
       "version_minor": 0
      },
      "text/plain": [
       "interactive(children=(IntSlider(value=52, description='dump1', max=1573), IntSlider(value=1546, description='d…"
      ]
     },
     "metadata": {},
     "output_type": "display_data"
    },
    {
     "data": {
      "text/plain": [
       "Text(0.5, 1.0, 'M36-100x-768')"
      ]
     },
     "execution_count": 11,
     "metadata": {},
     "output_type": "execute_result"
    }
   ],
   "source": [
    "rp1 = ppm.RprofSet(path1)\n",
    "rp1.rprofgui(ifig=1)\n",
    "title(cases[0])"
   ]
  },
  {
   "cell_type": "code",
   "execution_count": 12,
   "metadata": {},
   "outputs": [
    {
     "name": "stdout",
     "output_type": "stream",
     "text": [
      "3821 rprof files found in '/data/ASDR/PPMstar/H-core-M25/M37-10000x-768/prfs/.\n",
      "Dump numbers range from 0 to 3820.\n"
     ]
    },
    {
     "data": {
      "application/vnd.jupyter.widget-view+json": {
       "model_id": "01ecc999f1a540e0b3d2860536ff0fa3",
       "version_major": 2,
       "version_minor": 0
      },
      "text/plain": [
       "interactive(children=(IntSlider(value=127, description='dump1', max=3820), IntSlider(value=3756, description='…"
      ]
     },
     "metadata": {},
     "output_type": "display_data"
    },
    {
     "data": {
      "text/plain": [
       "Text(0.5, 1.0, 'M37-10000x-768')"
      ]
     },
     "execution_count": 12,
     "metadata": {},
     "output_type": "execute_result"
    }
   ],
   "source": [
    "rp2 = ppm.RprofSet(path2)\n",
    "rp2.rprofgui(ifig=2)\n",
    "title(cases[1])"
   ]
  },
  {
   "cell_type": "markdown",
   "metadata": {},
   "source": [
    "## Manual plot\n",
    "See notebook `rprof_demo.ipynb` for more extensive documentation on how to use radial profile data. Here is just a simple example of how to plot radial profiles from two runs. \n",
    "1. Select a variable to plot.\n",
    "2. Use the `rp_plot` method.\n",
    "\n",
    "For more examples of using RProf files see `PPMnotebooks/Demos/rprof_demo.ipynb` (on [github.com/PPMstar/PPMnotebooks](https://github.com/PPMstar/PPMnotebooks))."
   ]
  },
  {
   "cell_type": "code",
   "execution_count": 13,
   "metadata": {},
   "outputs": [
    {
     "data": {
      "application/vnd.jupyter.widget-view+json": {
       "model_id": "",
       "version_major": 2,
       "version_minor": 0
      },
      "text/plain": [
       "Canvas(toolbar=Toolbar(toolitems=[('Home', 'Reset original view', 'home', 'home'), ('Back', 'Back to previous …"
      ]
     },
     "metadata": {},
     "output_type": "display_data"
    },
    {
     "name": "stdout",
     "output_type": "stream",
     "text": [
      "['FV', 'FV0', 'P0', 'P1', 'R', 'Rho0', 'Rho1', 'T9']\n"
     ]
    },
    {
     "data": {
      "application/vnd.jupyter.widget-view+json": {
       "model_id": "2bb56f3dd1b641f6a65b23c02ee8e72e",
       "version_major": 2,
       "version_minor": 0
      },
      "text/plain": [
       "Canvas(toolbar=Toolbar(toolitems=[('Home', 'Reset original view', 'home', 'home'), ('Back', 'Back to previous …"
      ]
     },
     "metadata": {},
     "output_type": "display_data"
    },
    {
     "name": "stdout",
     "output_type": "stream",
     "text": [
      "['FV', 'FV0', 'P0', 'P1', 'R', 'Rho0', 'Rho1', 'T9']\n"
     ]
    },
    {
     "name": "stderr",
     "output_type": "stream",
     "text": [
      "/usr/local/lib/python3.6/dist-packages/ppmpy/ppm.py:9387: RuntimeWarning: divide by zero encountered in log10\n",
      "  if logy: yquantity = np.log10(yquantity)\n"
     ]
    }
   ],
   "source": [
    "ifig=12;close(ifig);figure(ifig)\n",
    "dumps = list(range(200,401,200))\n",
    "labels = cases\n",
    "yvar = 'FV'\n",
    "rp1.rp_plot(dumps,yvar,ifig=ifig,logy=True,runlabel=labels[0])\n",
    "rp2.rp_plot(dumps,yvar,ifig=ifig,logy=True,yylim=(-3,0.1),\\\n",
    "                  xxlim=(0,2000),newfig=False,idn=1,runlabel=labels[1])\n"
   ]
  },
  {
   "cell_type": "code",
   "execution_count": null,
   "metadata": {},
   "outputs": [],
   "source": []
  }
 ],
 "metadata": {
  "kernelspec": {
   "display_name": "Python 3",
   "language": "python",
   "name": "python3"
  },
  "language_info": {
   "codemirror_mode": {
    "name": "ipython",
    "version": 3
   },
   "file_extension": ".py",
   "mimetype": "text/x-python",
   "name": "python",
   "nbconvert_exporter": "python",
   "pygments_lexer": "ipython3",
   "version": "3.6.8"
  }
 },
 "nbformat": 4,
 "nbformat_minor": 4
}

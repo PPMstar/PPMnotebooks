{
 "cells": [
  {
   "cell_type": "markdown",
   "metadata": {},
   "source": [
    "# Plot radial profiles"
   ]
  },
  {
   "cell_type": "markdown",
   "metadata": {},
   "source": [
    "This notebook should work with PPMstarHub image `>=1.2.5`. "
   ]
  },
  {
   "cell_type": "code",
   "execution_count": null,
   "metadata": {},
   "outputs": [],
   "source": [
    "%pylab ipympl"
   ]
  },
  {
   "cell_type": "code",
   "execution_count": null,
   "metadata": {},
   "outputs": [],
   "source": [
    "from ppmpy import ppm   # github version v0.92 (Nov 26, 2019)\n",
    "import os"
   ]
  },
  {
   "cell_type": "code",
   "execution_count": null,
   "metadata": {},
   "outputs": [],
   "source": [
    "# option of H-core-M25 cases:\n",
    "!ls /data/ASDR/PPMstar/H-core-M25"
   ]
  },
  {
   "cell_type": "code",
   "execution_count": null,
   "metadata": {},
   "outputs": [],
   "source": [
    "# Specify path to rprofs\n",
    "cases = ['M29-768',  'M200-1000xht-0xdiff-realEOS-768']\n",
    "dir_repo    = '/data/ASDR/PPMstar'\n",
    "dir_project = 'H-core-M25'\n",
    "path1 = os.path.join(dir_repo,dir_project,cases[0],'prfs') \n",
    "path2 = os.path.join(dir_repo,dir_project,cases[1],'prfs') \n"
   ]
  },
  {
   "cell_type": "code",
   "execution_count": null,
   "metadata": {},
   "outputs": [],
   "source": [
    "rp1 = ppm.RprofSet(path1)\n",
    "rp1.rprofgui(ifig=1)\n",
    "title(cases[0])"
   ]
  },
  {
   "cell_type": "code",
   "execution_count": null,
   "metadata": {},
   "outputs": [],
   "source": [
    "rp2 = ppm.RprofSet(path2)\n",
    "rp2.rprofgui(ifig=2)\n",
    "title(cases[1])"
   ]
  },
  {
   "cell_type": "markdown",
   "metadata": {},
   "source": [
    "## Manual plot\n",
    "See notebook `rprof_demo.ipynb` for more extensive documentation on how to use radial profile data. Here is just a simple example of how to plot radial profiles from two runs. \n",
    "1. Select a variable to plot.\n",
    "2. Use the `rp_plot` method.\n",
    "\n",
    "For more examples of using RProf files see `PPMnotebooks/Demos/rprof_demo.ipynb` (on [github.com/PPMstar/PPMnotebooks](https://github.com/PPMstar/PPMnotebooks))."
   ]
  },
  {
   "cell_type": "code",
   "execution_count": null,
   "metadata": {},
   "outputs": [],
   "source": [
    "ifig=12;close(ifig);figure(ifig)\n",
    "dumps = list(range(200,401,200))\n",
    "labels = cases\n",
    "yvar = 'FV'\n",
    "rp1.rp_plot(dumps,yvar,ifig=ifig,logy=True,runlabel=labels[0])\n",
    "rp2.rp_plot(dumps,yvar,ifig=ifig,logy=True,yylim=(-3,0.1),\\\n",
    "                  xxlim=(0,2000),newfig=False,idn=1,runlabel=labels[1])\n"
   ]
  },
  {
   "cell_type": "code",
   "execution_count": null,
   "metadata": {},
   "outputs": [],
   "source": []
  }
 ],
 "metadata": {
  "kernelspec": {
   "display_name": "Python 3",
   "language": "python",
   "name": "python3"
  },
  "language_info": {
   "codemirror_mode": {
    "name": "ipython",
    "version": 3
   },
   "file_extension": ".py",
   "mimetype": "text/x-python",
   "name": "python",
   "nbconvert_exporter": "python",
   "pygments_lexer": "ipython3",
   "version": "3.6.8"
  }
 },
 "nbformat": 4,
 "nbformat_minor": 4
}

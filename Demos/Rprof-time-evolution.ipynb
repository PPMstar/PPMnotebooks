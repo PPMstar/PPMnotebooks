{
 "cells": [
  {
   "cell_type": "markdown",
   "metadata": {},
   "source": [
    "# Plot time evolution\n",
    "\n",
    "In this notebook we make time evolution plots at a give radius or radius range of quantities from radial profiles. \n"
   ]
  },
  {
   "cell_type": "markdown",
   "metadata": {},
   "source": [
    "* `ppmstarhub version: 1.2.6` or niagara hub sciconda-astrohub2 kernel\n",
    "* Parent of this notebook: `ppmstar/projects/H-core-M25/analysis_paper_gas/Hcore-time-evolution-M100+.ipynb` and `Hcore-time-evolution-paperI.ipynb`\n",
    "* Name of this notebook: `Rprof-time-evolution.ipynb`\n",
    "* home of this notebook: https://github.com/PPMstar/PPMnotebooks/tree/master/Demos"
   ]
  },
  {
   "cell_type": "code",
   "execution_count": 15,
   "metadata": {},
   "outputs": [
    {
     "name": "stdout",
     "output_type": "stream",
     "text": [
      "Populating the interactive namespace from numpy and matplotlib\n"
     ]
    }
   ],
   "source": [
    "%pylab ipympl\n",
    "from astropy import units\n",
    "from nugridpy import utils as ut\n",
    "from scipy import interpolate\n",
    "import sys\n",
    "# for testing use ppm.py from \"demos\" branch\n",
    "sys.path.insert(0,'/Users/fherwig/Repos/PyPPM')\n",
    "\n",
    "# sys.path.insert(0,'/user/scratch14_ppmstar-lcse/fherwig/PyPPM')\n",
    "from ppmpy import ppm  \n",
    "logging.getLogger(\"matplotlib\").setLevel(logging.ERROR)\n"
   ]
  },
  {
   "cell_type": "code",
   "execution_count": 16,
   "metadata": {},
   "outputs": [],
   "source": [
    "# Data dictionary to hold the data for the different cases analysed in this nb\n",
    "data = {}  \n",
    "runs = []"
   ]
  },
  {
   "cell_type": "markdown",
   "metadata": {},
   "source": [
    "Create and run below only the cells that contain runs you want to include in the current analysis. Running cells repeatedly will update the data for the corresponding runs"
   ]
  },
  {
   "cell_type": "code",
   "execution_count": 17,
   "metadata": {},
   "outputs": [],
   "source": [
    "dothis = True\n",
    "dothis = False\n",
    "if dothis is True:\n",
    "    nominal_heat = 0.00003355\n",
    "    eos = 'g'\n",
    "    # dir_runs = '/user/niagara_scratch_fherwig/' # execution on ppmstar.org\n",
    "    dir_runs = '/scratch/f/fherwig/fherwig/'    # execution on niagara jupyterlab\n",
    "    runs = ['M109','M108','M107','M114','M115',\\\n",
    "              'M106','M105','M116','M110','M117']\n",
    "    data = ppm.initialize(data,dir, runs, nominal_heat=nominal_heat,\\\n",
    "                      eos=eos)"
   ]
  },
  {
   "cell_type": "code",
   "execution_count": 18,
   "metadata": {},
   "outputs": [
    {
     "name": "stdout",
     "output_type": "stream",
     "text": [
      "647 rprof files found in '/Users/fherwig/Globus/M239/prfs/.\n",
      "Dump numbers range from 0 to 646.\n"
     ]
    }
   ],
   "source": [
    "dothis = True\n",
    "# dothis = False\n",
    "if dothis is True:\n",
    "    nominal_heat = 0.00003355\n",
    "    eos = 'g'\n",
    "    dir_runs = '/Users/fherwig/Globus/'    # some data on FH ~/Globus for testing\n",
    "    runs = ['M239']\n",
    "    data = ppm.initialize_cases(data, dir_runs, runs, nominal_heat=nominal_heat,\\\n",
    "                      eos=eos)"
   ]
  },
  {
   "cell_type": "markdown",
   "metadata": {},
   "source": [
    "### Plot dump evolution for all runs"
   ]
  },
  {
   "cell_type": "code",
   "execution_count": 19,
   "metadata": {},
   "outputs": [],
   "source": [
    "all_cases = list(data.keys())\n",
    "cases = all_cases "
   ]
  },
  {
   "cell_type": "code",
   "execution_count": 20,
   "metadata": {},
   "outputs": [
    {
     "data": {
      "application/vnd.jupyter.widget-view+json": {
       "model_id": "3fef0be0f558445ba1200e76e9f26657",
       "version_major": 2,
       "version_minor": 0
      },
      "text/plain": [
       "Canvas(toolbar=Toolbar(toolitems=[('Home', 'Reset original view', 'home', 'home'), ('Back', 'Back to previous …"
      ]
     },
     "metadata": {},
     "output_type": "display_data"
    },
    {
     "data": {
      "text/plain": [
       "Text(0.5, 1.0, 'marker every 200 dumps')"
      ]
     },
     "execution_count": 20,
     "metadata": {},
     "output_type": "execute_result"
    }
   ],
   "source": [
    "\n",
    "ifig = 113; close(ifig); figure(ifig)\n",
    "last_dumps = []\n",
    "for i,case in enumerate(all_cases):\n",
    "    plot(data[case]['NDump'],data[case]['time(mins)']/60.,ut.linestyle(i)[0],label=case,markevery=200,\\\n",
    "         color=ut.linestylecb(i)[2])\n",
    "    last_dumps.append(data[case]['NDump'][-1])\n",
    "legend();xlabel('NDump');ylabel('t / hr')\n",
    "title('marker every 200 dumps')"
   ]
  },
  {
   "cell_type": "markdown",
   "metadata": {},
   "source": [
    "### Print run table"
   ]
  },
  {
   "cell_type": "code",
   "execution_count": 21,
   "metadata": {},
   "outputs": [
    {
     "name": "stdout",
     "output_type": "stream",
     "text": [
      "case                                     X heat   grids max dump max t_hr\n",
      "M239                                      1000.0  1152      633   2483.6\n"
     ]
    }
   ],
   "source": [
    "ppm.cases_table(data,latex=False)"
   ]
  },
  {
   "cell_type": "code",
   "execution_count": 22,
   "metadata": {},
   "outputs": [
    {
     "name": "stdout",
     "output_type": "stream",
     "text": [
      "        ID   & grid  & $t_\\mathrm{end}/\\hour$ & $\\log L/L_\\mathrm{nominal}$ \\\\  \n",
      "        M239 &  1152 &  2484 & 3.0 \\\\ \n"
     ]
    }
   ],
   "source": [
    "# Table 1 paper I\n",
    "ppm.cases_table(data,latex=True)"
   ]
  },
  {
   "cell_type": "markdown",
   "metadata": {},
   "source": [
    "## RProf GUI\n",
    "Use RProf GUI to do quick inspection of radial profiles."
   ]
  },
  {
   "cell_type": "code",
   "execution_count": 23,
   "metadata": {},
   "outputs": [
    {
     "data": {
      "text/plain": [
       "['M239']"
      ]
     },
     "execution_count": 23,
     "metadata": {},
     "output_type": "execute_result"
    }
   ],
   "source": [
    "all_cases"
   ]
  },
  {
   "cell_type": "code",
   "execution_count": 24,
   "metadata": {},
   "outputs": [
    {
     "data": {
      "application/vnd.jupyter.widget-view+json": {
       "model_id": "ace4927114f344db8442808dbcfa8fc8",
       "version_major": 2,
       "version_minor": 0
      },
      "text/plain": [
       "interactive(children=(IntSlider(value=21, description='dump1', max=646), IntSlider(value=635, description='dum…"
      ]
     },
     "metadata": {},
     "output_type": "display_data"
    }
   ],
   "source": [
    "case = all_cases[0]\n",
    "data[case]['rp'].rprofgui(ifig=int(case[1:3]))"
   ]
  },
  {
   "cell_type": "markdown",
   "metadata": {},
   "source": [
    "### Note\n",
    "The parent notebook demonstrates interpolations used in this notebook. Look there for details, removed here."
   ]
  },
  {
   "cell_type": "markdown",
   "metadata": {},
   "source": [
    "## Quantity at pressure-scale height fraction above/below N2-peak\n",
    "\n",
    "### Time evolution at several radii given in terms of Hp above/below $N^2$ peak\n",
    "\n",
    "This plot combines different runs, variables and radii. `var_means_dict` allows to save quantities for scaling plots."
   ]
  },
  {
   "cell_type": "code",
   "execution_count": 26,
   "metadata": {},
   "outputs": [],
   "source": [
    "runs = ['M107', 'M114', 'M115']\n",
    "runs = ['M239']"
   ]
  },
  {
   "cell_type": "code",
   "execution_count": 28,
   "metadata": {},
   "outputs": [
    {
     "data": {
      "application/vnd.jupyter.widget-view+json": {
       "model_id": "029660815a664917b834d5a9ff083939",
       "version_major": 2,
       "version_minor": 0
      },
      "text/plain": [
       "Canvas(toolbar=Toolbar(toolitems=[('Home', 'Reset original view', 'home', 'home'), ('Back', 'Back to previous …"
      ]
     },
     "metadata": {},
     "output_type": "display_data"
    },
    {
     "name": "stdout",
     "output_type": "stream",
     "text": [
      "Case: M239 f_hp = -1.0\n",
      "Case: M239 f_hp =  1.0\n"
     ]
    }
   ],
   "source": [
    "var_means_dict = ppm.time_evol_r_Hp_vars(data, runs, varss  = ['|Ut|'], f_hps = [-1.0,1.0], key = \"Demo\", fname = '-Ut', logy = False,\\\n",
    "                        ylab=\"$ U_\\mathrm{t} / \\mathrm{[km/s]}$\",  xlims=(None,None),\\\n",
    "                        ylims=(None,None), legends=0, NDump_range = None, NDump_range_vals = (500,1000),\\\n",
    "                        mrange_interp = (12.,14.,0.0001), sparse = 1,\\\n",
    "                        t_transient_hr = 500, figsizes = (8,5), ifig=1394, warning=False)"
   ]
  },
  {
   "cell_type": "markdown",
   "metadata": {},
   "source": [
    "## Plot the averaged data collected in `var_means_dict`"
   ]
  },
  {
   "cell_type": "code",
   "execution_count": 30,
   "metadata": {},
   "outputs": [
    {
     "data": {
      "text/plain": [
       "{'M239': {-1.0: [9.157766187542423], 1.0: [1.9233988714863617]}}"
      ]
     },
     "execution_count": 30,
     "metadata": {},
     "output_type": "execute_result"
    }
   ],
   "source": [
    "var_means_dict"
   ]
  },
  {
   "cell_type": "markdown",
   "metadata": {},
   "source": [
    "Plot below var_means. But data went into Table 2, from separate runs and data saved in `var_means_dict`."
   ]
  },
  {
   "cell_type": "code",
   "execution_count": 31,
   "metadata": {},
   "outputs": [
    {
     "data": {
      "text/plain": [
       "dict_keys(['path', 'rp', 'rph', 'NDump', 'time(mins)', 'time(secs)', 'rp_one', 'X_Lfactors', 'grids', 'e00os'])"
      ]
     },
     "execution_count": 31,
     "metadata": {},
     "output_type": "execute_result"
    }
   ],
   "source": [
    "data[case].keys()"
   ]
  },
  {
   "cell_type": "markdown",
   "metadata": {},
   "source": [
    "### For given radius plot var for all grids in `runs`"
   ]
  },
  {
   "cell_type": "code",
   "execution_count": 42,
   "metadata": {},
   "outputs": [
    {
     "name": "stdout",
     "output_type": "stream",
     "text": [
      "M239 [-1.0, 1.0]\n"
     ]
    }
   ],
   "source": [
    "# These are the `f_hp` keys for each run:\n",
    "for run in runs:\n",
    "    print(run,list(var_means_dict[run].keys()))"
   ]
  },
  {
   "cell_type": "code",
   "execution_count": 47,
   "metadata": {},
   "outputs": [],
   "source": []
  },
  {
   "cell_type": "code",
   "execution_count": 52,
   "metadata": {},
   "outputs": [
    {
     "name": "stdout",
     "output_type": "stream",
     "text": [
      "M239 [1.9233988714863617]\n"
     ]
    }
   ],
   "source": [
    "# grids plot assuming there is data available for more than one grid \n",
    "\n",
    "f_hp = 1.0  # pick one\n",
    "\n",
    "grids = []\n",
    "var_means = []\n",
    "for run in runs:\n",
    "    grids.append(data[run]['grids'])\n",
    "    var_means.append(var_means_dict[run][f_hp])"
   ]
  },
  {
   "cell_type": "code",
   "execution_count": 58,
   "metadata": {},
   "outputs": [
    {
     "data": {
      "text/plain": [
       "array([[1152.        ],\n",
       "       [   1.92339887]])"
      ]
     },
     "execution_count": 58,
     "metadata": {},
     "output_type": "execute_result"
    }
   ],
   "source": [
    "array([(data[run]['grids'],var_means_dict[run][f_hp][0]) for run in runs]).T"
   ]
  },
  {
   "cell_type": "markdown",
   "metadata": {},
   "source": [
    "FH in progress - try with more data on astrohub"
   ]
  },
  {
   "cell_type": "code",
   "execution_count": null,
   "metadata": {},
   "outputs": [],
   "source": [
    "grids = array(grids)\n",
    "ifig=1399; close(ifig); figure(ifig,figsize=(6,3))\n",
    "# plot(log10(grids),log10(var_means),'o-')\n",
    "plot(log10(grids),var_means,'o-')\n",
    "xlabel('$\\log \\mathrm{\\ number\\ of\\ grid\\ cells}$')\n",
    "ylabel('$U$ in var_means')\n",
    "tight_layout()"
   ]
  }
 ],
 "metadata": {
  "kernelspec": {
   "display_name": "Python 3",
   "language": "python",
   "name": "python3"
  },
  "language_info": {
   "codemirror_mode": {
    "name": "ipython",
    "version": 3
   },
   "file_extension": ".py",
   "mimetype": "text/x-python",
   "name": "python",
   "nbconvert_exporter": "python",
   "pygments_lexer": "ipython3",
   "version": "3.8.5"
  },
  "widgets": {
   "application/vnd.jupyter.widget-state+json": {
    "state": {
     "029660815a664917b834d5a9ff083939": {
      "model_module": "jupyter-matplotlib",
      "model_module_version": "^0.7.4",
      "model_name": "MPLCanvasModel",
      "state": {
       "_cursor": "default",
       "_figure_label": "Figure 1394",
       "_height": 500,
       "_width": 800,
       "layout": "IPY_MODEL_d034e5581c6d4a449adfb828dde47df1",
       "toolbar": "IPY_MODEL_2a733ce844da4ab1b771433defc97980",
       "toolbar_position": "left"
      }
     },
     "13924a5ddb7c4e10ac11301b3203b549": {
      "model_module": "@jupyter-widgets/base",
      "model_module_version": "1.2.0",
      "model_name": "LayoutModel",
      "state": {}
     },
     "16fcce21a2c0472fb0e98938263baffc": {
      "model_module": "@jupyter-widgets/controls",
      "model_module_version": "1.5.0",
      "model_name": "DescriptionStyleModel",
      "state": {
       "description_width": ""
      }
     },
     "1885731805e44b469567e132159f7019": {
      "model_module": "@jupyter-widgets/base",
      "model_module_version": "1.2.0",
      "model_name": "LayoutModel",
      "state": {}
     },
     "190f1b9f5f5e4db894a65e498fa1dc3c": {
      "model_module": "@jupyter-widgets/controls",
      "model_module_version": "1.5.0",
      "model_name": "IntSliderModel",
      "state": {
       "description": "dump2",
       "layout": "IPY_MODEL_2fd065daaa7145b7a41832da68a3c311",
       "max": 646,
       "style": "IPY_MODEL_febbfbcda4704d48ac59c843a6dbae47",
       "value": 635
      }
     },
     "1928ae601cf04d3d970ce69b07c7b72b": {
      "model_module": "jupyter-matplotlib",
      "model_module_version": "^0.7.4",
      "model_name": "ToolbarModel",
      "state": {
       "layout": "IPY_MODEL_239ee82cdf5345388a4fb72627a5cc70",
       "toolitems": [
        [
         "Home",
         "Reset original view",
         "home",
         "home"
        ],
        [
         "Back",
         "Back to previous view",
         "arrow-left",
         "back"
        ],
        [
         "Forward",
         "Forward to next view",
         "arrow-right",
         "forward"
        ],
        [
         "Pan",
         "Left button pans, Right button zooms\nx/y fixes axis, CTRL fixes aspect",
         "arrows",
         "pan"
        ],
        [
         "Zoom",
         "Zoom to rectangle\nx/y fixes axis, CTRL fixes aspect",
         "square-o",
         "zoom"
        ],
        [
         "Download",
         "Download plot",
         "floppy-o",
         "save_figure"
        ]
       ]
      }
     },
     "239ee82cdf5345388a4fb72627a5cc70": {
      "model_module": "@jupyter-widgets/base",
      "model_module_version": "1.2.0",
      "model_name": "LayoutModel",
      "state": {}
     },
     "2a733ce844da4ab1b771433defc97980": {
      "model_module": "jupyter-matplotlib",
      "model_module_version": "^0.7.4",
      "model_name": "ToolbarModel",
      "state": {
       "layout": "IPY_MODEL_ad00413c117a4f5c893ac6fd371711bc",
       "toolitems": [
        [
         "Home",
         "Reset original view",
         "home",
         "home"
        ],
        [
         "Back",
         "Back to previous view",
         "arrow-left",
         "back"
        ],
        [
         "Forward",
         "Forward to next view",
         "arrow-right",
         "forward"
        ],
        [
         "Pan",
         "Left button pans, Right button zooms\nx/y fixes axis, CTRL fixes aspect",
         "arrows",
         "pan"
        ],
        [
         "Zoom",
         "Zoom to rectangle\nx/y fixes axis, CTRL fixes aspect",
         "square-o",
         "zoom"
        ],
        [
         "Download",
         "Download plot",
         "floppy-o",
         "save_figure"
        ]
       ]
      }
     },
     "2fd065daaa7145b7a41832da68a3c311": {
      "model_module": "@jupyter-widgets/base",
      "model_module_version": "1.2.0",
      "model_name": "LayoutModel",
      "state": {}
     },
     "345c95a5a79a484f9166f0f579fd5306": {
      "model_module": "@jupyter-widgets/base",
      "model_module_version": "1.2.0",
      "model_name": "LayoutModel",
      "state": {}
     },
     "3814b31c5c664a79aabb259ae4857081": {
      "model_module": "jupyter-matplotlib",
      "model_module_version": "^0.7.4",
      "model_name": "ToolbarModel",
      "state": {
       "layout": "IPY_MODEL_dbf4dd50a2634457b4c6926ca16ebec2",
       "toolitems": [
        [
         "Home",
         "Reset original view",
         "home",
         "home"
        ],
        [
         "Back",
         "Back to previous view",
         "arrow-left",
         "back"
        ],
        [
         "Forward",
         "Forward to next view",
         "arrow-right",
         "forward"
        ],
        [
         "Pan",
         "Left button pans, Right button zooms\nx/y fixes axis, CTRL fixes aspect",
         "arrows",
         "pan"
        ],
        [
         "Zoom",
         "Zoom to rectangle\nx/y fixes axis, CTRL fixes aspect",
         "square-o",
         "zoom"
        ],
        [
         "Download",
         "Download plot",
         "floppy-o",
         "save_figure"
        ]
       ]
      }
     },
     "3fef0be0f558445ba1200e76e9f26657": {
      "model_module": "jupyter-matplotlib",
      "model_module_version": "^0.7.4",
      "model_name": "MPLCanvasModel",
      "state": {
       "_cursor": "default",
       "_figure_label": "Figure 113",
       "_height": 480,
       "_image_mode": "diff",
       "_width": 640,
       "layout": "IPY_MODEL_c313077d26264f6b9c9ba1dbc4a71691",
       "toolbar": "IPY_MODEL_3814b31c5c664a79aabb259ae4857081",
       "toolbar_position": "left"
      }
     },
     "4a1c7590f7234322869f3b5f3655a91f": {
      "model_module": "jupyter-matplotlib",
      "model_module_version": "^0.7.4",
      "model_name": "ToolbarModel",
      "state": {
       "layout": "IPY_MODEL_a181c0fbad67435da096a6fdb879d988",
       "toolitems": [
        [
         "Home",
         "Reset original view",
         "home",
         "home"
        ],
        [
         "Back",
         "Back to previous view",
         "arrow-left",
         "back"
        ],
        [
         "Forward",
         "Forward to next view",
         "arrow-right",
         "forward"
        ],
        [
         "Pan",
         "Left button pans, Right button zooms\nx/y fixes axis, CTRL fixes aspect",
         "arrows",
         "pan"
        ],
        [
         "Zoom",
         "Zoom to rectangle\nx/y fixes axis, CTRL fixes aspect",
         "square-o",
         "zoom"
        ],
        [
         "Download",
         "Download plot",
         "floppy-o",
         "save_figure"
        ]
       ]
      }
     },
     "5644f4a5ee9e46b2a6345908d24ff5fd": {
      "model_module": "jupyter-matplotlib",
      "model_module_version": "^0.7.4",
      "model_name": "ToolbarModel",
      "state": {
       "layout": "IPY_MODEL_dbc4013b68fd43dbae93cb0372e48818",
       "toolitems": [
        [
         "Home",
         "Reset original view",
         "home",
         "home"
        ],
        [
         "Back",
         "Back to previous view",
         "arrow-left",
         "back"
        ],
        [
         "Forward",
         "Forward to next view",
         "arrow-right",
         "forward"
        ],
        [
         "Pan",
         "Left button pans, Right button zooms\nx/y fixes axis, CTRL fixes aspect",
         "arrows",
         "pan"
        ],
        [
         "Zoom",
         "Zoom to rectangle\nx/y fixes axis, CTRL fixes aspect",
         "square-o",
         "zoom"
        ],
        [
         "Download",
         "Download plot",
         "floppy-o",
         "save_figure"
        ]
       ]
      }
     },
     "5ba59d02f08a475fbb8f2e5fa981879e": {
      "model_module": "@jupyter-widgets/base",
      "model_module_version": "1.2.0",
      "model_name": "LayoutModel",
      "state": {}
     },
     "749b9713a11a4030bf28c5324a929943": {
      "model_module": "@jupyter-widgets/base",
      "model_module_version": "1.2.0",
      "model_name": "LayoutModel",
      "state": {}
     },
     "77de3ff8ac9348d4a4d738a33e9c6b08": {
      "model_module": "@jupyter-widgets/base",
      "model_module_version": "1.2.0",
      "model_name": "LayoutModel",
      "state": {}
     },
     "8b429c376ac1486dad74f68829af89f6": {
      "model_module": "@jupyter-widgets/base",
      "model_module_version": "1.2.0",
      "model_name": "LayoutModel",
      "state": {}
     },
     "8b884e96c4024a9d85813a2082f37bb3": {
      "model_module": "@jupyter-widgets/controls",
      "model_module_version": "1.5.0",
      "model_name": "CheckboxModel",
      "state": {
       "description": "log10y",
       "disabled": false,
       "layout": "IPY_MODEL_13924a5ddb7c4e10ac11301b3203b549",
       "style": "IPY_MODEL_16fcce21a2c0472fb0e98938263baffc",
       "value": false
      }
     },
     "8e77e89b15d646669ed1eb01625645dd": {
      "model_module": "@jupyter-widgets/controls",
      "model_module_version": "1.5.0",
      "model_name": "SliderStyleModel",
      "state": {
       "description_width": ""
      }
     },
     "93f0078cee334073898693a7dd451b51": {
      "model_module": "@jupyter-widgets/output",
      "model_module_version": "1.0.0",
      "model_name": "OutputModel",
      "state": {
       "layout": "IPY_MODEL_9f198bcc1a614eaeab4d4dcc83ebc69b",
       "outputs": [
        {
         "data": {
          "application/vnd.jupyter.widget-view+json": {
           "model_id": "e294c47000204caaaee6535c89d0af07",
           "version_major": 2,
           "version_minor": 0
          },
          "text/plain": "Canvas(toolbar=Toolbar(toolitems=[('Home', 'Reset original view', 'home', 'home'), ('Back', 'Back to previous …"
         },
         "metadata": {},
         "output_type": "display_data"
        }
       ]
      }
     },
     "9636f675814b4b88a31547a586af44d0": {
      "model_module": "@jupyter-widgets/controls",
      "model_module_version": "1.5.0",
      "model_name": "DescriptionStyleModel",
      "state": {
       "description_width": ""
      }
     },
     "9f198bcc1a614eaeab4d4dcc83ebc69b": {
      "model_module": "@jupyter-widgets/base",
      "model_module_version": "1.2.0",
      "model_name": "LayoutModel",
      "state": {}
     },
     "a181c0fbad67435da096a6fdb879d988": {
      "model_module": "@jupyter-widgets/base",
      "model_module_version": "1.2.0",
      "model_name": "LayoutModel",
      "state": {}
     },
     "ace4927114f344db8442808dbcfa8fc8": {
      "model_module": "@jupyter-widgets/controls",
      "model_module_version": "1.5.0",
      "model_name": "VBoxModel",
      "state": {
       "_dom_classes": [
        "widget-interact"
       ],
       "children": [
        "IPY_MODEL_b92a88454ac24916bfd0347b6bb41b08",
        "IPY_MODEL_190f1b9f5f5e4db894a65e498fa1dc3c",
        "IPY_MODEL_f8533b4637a84133a4f666178a161861",
        "IPY_MODEL_8b884e96c4024a9d85813a2082f37bb3",
        "IPY_MODEL_93f0078cee334073898693a7dd451b51"
       ],
       "layout": "IPY_MODEL_5ba59d02f08a475fbb8f2e5fa981879e"
      }
     },
     "ad00413c117a4f5c893ac6fd371711bc": {
      "model_module": "@jupyter-widgets/base",
      "model_module_version": "1.2.0",
      "model_name": "LayoutModel",
      "state": {}
     },
     "b579c387195e4af69a88bd6eb97730cd": {
      "model_module": "jupyter-matplotlib",
      "model_module_version": "^0.7.4",
      "model_name": "ToolbarModel",
      "state": {
       "layout": "IPY_MODEL_345c95a5a79a484f9166f0f579fd5306",
       "toolitems": [
        [
         "Home",
         "Reset original view",
         "home",
         "home"
        ],
        [
         "Back",
         "Back to previous view",
         "arrow-left",
         "back"
        ],
        [
         "Forward",
         "Forward to next view",
         "arrow-right",
         "forward"
        ],
        [
         "Pan",
         "Left button pans, Right button zooms\nx/y fixes axis, CTRL fixes aspect",
         "arrows",
         "pan"
        ],
        [
         "Zoom",
         "Zoom to rectangle\nx/y fixes axis, CTRL fixes aspect",
         "square-o",
         "zoom"
        ],
        [
         "Download",
         "Download plot",
         "floppy-o",
         "save_figure"
        ]
       ]
      }
     },
     "b92a88454ac24916bfd0347b6bb41b08": {
      "model_module": "@jupyter-widgets/controls",
      "model_module_version": "1.5.0",
      "model_name": "IntSliderModel",
      "state": {
       "description": "dump1",
       "layout": "IPY_MODEL_8b429c376ac1486dad74f68829af89f6",
       "max": 646,
       "style": "IPY_MODEL_8e77e89b15d646669ed1eb01625645dd",
       "value": 21
      }
     },
     "c313077d26264f6b9c9ba1dbc4a71691": {
      "model_module": "@jupyter-widgets/base",
      "model_module_version": "1.2.0",
      "model_name": "LayoutModel",
      "state": {}
     },
     "c31a66ad9de348fdac44fcec69c307ad": {
      "model_module": "jupyter-matplotlib",
      "model_module_version": "^0.7.4",
      "model_name": "ToolbarModel",
      "state": {
       "layout": "IPY_MODEL_749b9713a11a4030bf28c5324a929943",
       "toolitems": [
        [
         "Home",
         "Reset original view",
         "home",
         "home"
        ],
        [
         "Back",
         "Back to previous view",
         "arrow-left",
         "back"
        ],
        [
         "Forward",
         "Forward to next view",
         "arrow-right",
         "forward"
        ],
        [
         "Pan",
         "Left button pans, Right button zooms\nx/y fixes axis, CTRL fixes aspect",
         "arrows",
         "pan"
        ],
        [
         "Zoom",
         "Zoom to rectangle\nx/y fixes axis, CTRL fixes aspect",
         "square-o",
         "zoom"
        ],
        [
         "Download",
         "Download plot",
         "floppy-o",
         "save_figure"
        ]
       ]
      }
     },
     "d034e5581c6d4a449adfb828dde47df1": {
      "model_module": "@jupyter-widgets/base",
      "model_module_version": "1.2.0",
      "model_name": "LayoutModel",
      "state": {}
     },
     "d40dd8f4f159484a8773006a181c45a7": {
      "model_module": "@jupyter-widgets/base",
      "model_module_version": "1.2.0",
      "model_name": "LayoutModel",
      "state": {}
     },
     "d9f55de1ac3844578d45754906118d79": {
      "model_module": "@jupyter-widgets/base",
      "model_module_version": "1.2.0",
      "model_name": "LayoutModel",
      "state": {}
     },
     "dbc4013b68fd43dbae93cb0372e48818": {
      "model_module": "@jupyter-widgets/base",
      "model_module_version": "1.2.0",
      "model_name": "LayoutModel",
      "state": {}
     },
     "dbf4dd50a2634457b4c6926ca16ebec2": {
      "model_module": "@jupyter-widgets/base",
      "model_module_version": "1.2.0",
      "model_name": "LayoutModel",
      "state": {}
     },
     "e10e5a625cdc4e1ca51ab7d31ff6c48e": {
      "model_module": "@jupyter-widgets/base",
      "model_module_version": "1.2.0",
      "model_name": "LayoutModel",
      "state": {}
     },
     "e294c47000204caaaee6535c89d0af07": {
      "model_module": "jupyter-matplotlib",
      "model_module_version": "^0.7.4",
      "model_name": "MPLCanvasModel",
      "state": {
       "_cursor": "default",
       "_figure_label": "Figure 23",
       "_height": 480,
       "_message": "x=1018. y=32.14",
       "_width": 640,
       "layout": "IPY_MODEL_d9f55de1ac3844578d45754906118d79",
       "toolbar": "IPY_MODEL_4a1c7590f7234322869f3b5f3655a91f",
       "toolbar_position": "left"
      }
     },
     "ee6991b2a006481189be93ff03e2768b": {
      "model_module": "@jupyter-widgets/base",
      "model_module_version": "1.2.0",
      "model_name": "LayoutModel",
      "state": {}
     },
     "f8533b4637a84133a4f666178a161861": {
      "model_module": "@jupyter-widgets/controls",
      "model_module_version": "1.5.0",
      "model_name": "DropdownModel",
      "state": {
       "_options_labels": [
        "A",
        "Ceul",
        "ctb1",
        "ctb2",
        "ctb3",
        "ctb4",
        "ctb5",
        "ctb6",
        "ctb7",
        "ctb8",
        "ctt1",
        "ctt2",
        "ctt3",
        "ctt4",
        "ctt5",
        "ctt6",
        "ctt7",
        "ctt8",
        "dEnucRMS",
        "dEnucSumRMS",
        "dFVairrms",
        "dFVrms",
        "dHburnedRMS",
        "dMachRMS",
        "dP1fRMS",
        "dRho1fRMS",
        "dRhoUrUsqRMS",
        "dT9RMS",
        "dUrRMS",
        "d|Ut|RMS",
        "d|U|RMS",
        "Enuc",
        "EnucMax",
        "EnucMin",
        "EnucSum",
        "EnucSumMax",
        "EnucSumMin",
        "FV",
        "FVair",
        "FVairMax",
        "FVairMin",
        "FVMax",
        "FVMin",
        "Hburned",
        "HburnedMax",
        "HburnedMin",
        "lum1",
        "lum2",
        "lum3",
        "lum4",
        "lum5",
        "lum6",
        "lum7",
        "lum8",
        "Mach",
        "Mach#",
        "MachMax",
        "MachMin",
        "P1/P0",
        "P1fMax",
        "P1fMin",
        "R",
        "Rho1/Rho0",
        "Rho1fMax",
        "Rho1fMin",
        "RhoUr",
        "RhoUrH",
        "RhoUrUsq",
        "RhoUrUsqMax",
        "RhoUrUsqMin",
        "T9",
        "T9Max",
        "T9Min",
        "Ur",
        "UrMax",
        "UrMin",
        "|Ut|",
        "|Ut|Max",
        "|Ut|Min",
        "|U|",
        "|U|Max",
        "|U|Min",
        "FV",
        "FV0",
        "FVair",
        "FVair0",
        "P0",
        "P1",
        "R",
        "Rho0",
        "Rho1",
        "T9",
        "enuc_C12pg",
        "Hp",
        "nabla_rho",
        "nabla_rho_ad",
        "prad",
        "pgas_by_ptot",
        "g",
        "N2",
        "m",
        "mt",
        "r4rho2",
        "rhodot_C12pg",
        "T9",
        "T9corr",
        "|Ur|",
        "Xcld",
        "Xdot_C12pg"
       ],
       "description": "ything",
       "index": 0,
       "layout": "IPY_MODEL_77de3ff8ac9348d4a4d738a33e9c6b08",
       "style": "IPY_MODEL_9636f675814b4b88a31547a586af44d0"
      }
     },
     "febbfbcda4704d48ac59c843a6dbae47": {
      "model_module": "@jupyter-widgets/controls",
      "model_module_version": "1.5.0",
      "model_name": "SliderStyleModel",
      "state": {
       "description_width": ""
      }
     }
    },
    "version_major": 2,
    "version_minor": 0
   }
  }
 },
 "nbformat": 4,
 "nbformat_minor": 4
}

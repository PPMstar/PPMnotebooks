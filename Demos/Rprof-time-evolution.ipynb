{
 "cells": [
  {
   "cell_type": "markdown",
   "metadata": {},
   "source": [
    "# Plot time evolution\n",
    "\n",
    "In this notebook we make time evolution plots at a give radius or radius range of quantities from radial profiles. \n"
   ]
  },
  {
   "cell_type": "markdown",
   "metadata": {},
   "source": [
    "* `ppmstarhub version: 1.2.6` or niagara hub sciconda-astrohub2 kernel\n",
    "* Parent of this notebook: `ppmstar/projects/H-core-M25/analysis_paper_gas/Hcore-time-evolution-M100+.ipynb` and `Hcore-time-evolution-paperI.ipynb`\n",
    "* Name of this notebook: `Rprof-time-evolution.ipynb`\n",
    "* home of this notebook: https://github.com/PPMstar/PPMnotebooks/tree/master/Demos"
   ]
  },
  {
   "cell_type": "code",
   "execution_count": null,
   "metadata": {},
   "outputs": [],
   "source": [
    "%pylab ipympl\n",
    "from astropy import units\n",
    "from nugridpy import utils as ut\n",
    "from scipy import interpolate\n",
    "import sys\n",
    "# for testing use ppm.py from \"demos\" branch\n",
    "sys.path.insert(0,'/Users/fherwig/Repos/PyPPM')\n",
    "\n",
    "# sys.path.insert(0,'/user/scratch14_ppmstar-lcse/fherwig/PyPPM')\n",
    "from ppmpy import ppm  \n",
    "logging.getLogger(\"matplotlib\").setLevel(logging.ERROR)\n"
   ]
  },
  {
   "cell_type": "code",
   "execution_count": null,
   "metadata": {},
   "outputs": [],
   "source": [
    "mes = ppm.Messenger(3)"
   ]
  },
  {
   "cell_type": "code",
   "execution_count": null,
   "metadata": {},
   "outputs": [],
   "source": [
    "mes.warning('warning')"
   ]
  },
  {
   "cell_type": "code",
   "execution_count": null,
   "metadata": {},
   "outputs": [],
   "source": [
    "# Data dictionary to hold the data for the different cases analysed in this nb\n",
    "data = {}  \n",
    "runs = []"
   ]
  },
  {
   "cell_type": "markdown",
   "metadata": {},
   "source": [
    "Create and run below only the cells that contain runs you want to include in the current analysis. Running cells repeatedly will update the data for the corresponding runs"
   ]
  },
  {
   "cell_type": "code",
   "execution_count": null,
   "metadata": {},
   "outputs": [],
   "source": [
    "dothis = True\n",
    "dothis = False\n",
    "if dothis is True:\n",
    "    nominal_heat = 0.00003355\n",
    "    eos = 'g'\n",
    "    # dir_runs = '/user/niagara_scratch_fherwig/' # execution on ppmstar.org\n",
    "    dir_runs = '/scratch/f/fherwig/fherwig/'    # execution on niagara jupyterlab\n",
    "    runs = ['M109','M108','M107','M114','M115',\\\n",
    "              'M106','M105','M116','M110','M117']\n",
    "    data = ppm.initialize(data,dir, runs, nominal_heat=nominal_heat,\\\n",
    "                      eos=eos)"
   ]
  },
  {
   "cell_type": "code",
   "execution_count": null,
   "metadata": {},
   "outputs": [],
   "source": [
    "dothis = True\n",
    "# dothis = False\n",
    "if dothis is True:\n",
    "    nominal_heat = 0.00003355\n",
    "    eos = 'h'\n",
    "    dir_runs = '/Users/fherwig/Globus/'    # some data on FH ~/Globus for testing\n",
    "    runs = ['M239']\n",
    "    data = ppm.initialize_cases(data, dir_runs, runs, nominal_heat=nominal_heat,\\\n",
    "                      eos=eos,verbose=0)"
   ]
  },
  {
   "cell_type": "markdown",
   "metadata": {},
   "source": [
    "### Plot dump evolution for all runs"
   ]
  },
  {
   "cell_type": "code",
   "execution_count": null,
   "metadata": {},
   "outputs": [],
   "source": [
    "all_cases = list(data.keys())\n",
    "cases = all_cases "
   ]
  },
  {
   "cell_type": "code",
   "execution_count": null,
   "metadata": {},
   "outputs": [],
   "source": [
    "\n",
    "ifig = 113; close(ifig); figure(ifig)\n",
    "last_dumps = []\n",
    "for i,case in enumerate(all_cases):\n",
    "    plot(data[case]['NDump'],data[case]['time(mins)']/60.,ut.linestyle(i)[0],label=case,markevery=200,\\\n",
    "         color=ut.linestylecb(i)[2])\n",
    "    last_dumps.append(data[case]['NDump'][-1])\n",
    "legend();xlabel('NDump');ylabel('t / hr')\n",
    "title('marker every 200 dumps')"
   ]
  },
  {
   "cell_type": "markdown",
   "metadata": {},
   "source": [
    "### Print run table"
   ]
  },
  {
   "cell_type": "code",
   "execution_count": null,
   "metadata": {},
   "outputs": [],
   "source": [
    "ppm.cases_table(data,latex=False)"
   ]
  },
  {
   "cell_type": "code",
   "execution_count": null,
   "metadata": {},
   "outputs": [],
   "source": [
    "# Table 1 paper I\n",
    "ppm.cases_table(data,latex=True)"
   ]
  },
  {
   "cell_type": "markdown",
   "metadata": {},
   "source": [
    "## RProf GUI\n",
    "Use RProf GUI to do quick inspection of radial profiles."
   ]
  },
  {
   "cell_type": "code",
   "execution_count": null,
   "metadata": {},
   "outputs": [],
   "source": [
    "all_cases"
   ]
  },
  {
   "cell_type": "code",
   "execution_count": null,
   "metadata": {},
   "outputs": [],
   "source": [
    "case = all_cases[0]\n",
    "data[case]['rp'].rprofgui(ifig=int(case[1:3]))"
   ]
  },
  {
   "cell_type": "markdown",
   "metadata": {},
   "source": [
    "### Note\n",
    "The parent notebook demonstrates interpolations used in this notebook. Look there for details, removed here."
   ]
  },
  {
   "cell_type": "markdown",
   "metadata": {},
   "source": [
    "## Quantity at pressure-scale height fraction above/below N2-peak\n",
    "\n",
    "### Time evolution at several radii given in terms of Hp above/below $N^2$ peak\n",
    "\n",
    "This plot combines different runs, variables and radii. `var_means_dict` allows to save quantities for scaling plots."
   ]
  },
  {
   "cell_type": "code",
   "execution_count": null,
   "metadata": {},
   "outputs": [],
   "source": [
    "runs = ['M107', 'M114', 'M115']\n",
    "runs = ['M239']"
   ]
  },
  {
   "cell_type": "code",
   "execution_count": null,
   "metadata": {},
   "outputs": [],
   "source": [
    "ppm.RprofSet?"
   ]
  },
  {
   "cell_type": "code",
   "execution_count": null,
   "metadata": {},
   "outputs": [],
   "source": [
    "ppm.time_evol_r_Hp_vars?"
   ]
  },
  {
   "cell_type": "markdown",
   "metadata": {},
   "source": [
    "As a reminder, what are the available RProf columns?"
   ]
  },
  {
   "cell_type": "code",
   "execution_count": null,
   "metadata": {},
   "outputs": [],
   "source": [
    "rp = data[case]['rp']"
   ]
  },
  {
   "cell_type": "code",
   "execution_count": null,
   "metadata": {},
   "outputs": [],
   "source": [
    "runs"
   ]
  },
  {
   "cell_type": "code",
   "execution_count": null,
   "metadata": {},
   "outputs": [],
   "source": [
    "var_means_dict = ppm.time_evol_r_Hp_vars(data, runs, varss  = ['|Ut|','|U|'], f_hps = [-1.0,1.0], key = \"Demo\", fname = '-Ut',\\\n",
    "                        ylab=None,  xlims=(None,None), vel_km = True, logy = False,\\\n",
    "                        ylims=(None,None), legends=0, NDump_range = None, NDump_range_vals = (500,1000),\\\n",
    "                        mrange_interp = (12.,14.,0.0001), sparse = 10,\\\n",
    "                        t_transient_hr = 500, figsizes = (8,5), ifig=1394)"
   ]
  },
  {
   "cell_type": "markdown",
   "metadata": {},
   "source": [
    "## Plot the averaged data collected in `var_means_dict`"
   ]
  },
  {
   "cell_type": "code",
   "execution_count": null,
   "metadata": {},
   "outputs": [],
   "source": [
    "var_means_dict"
   ]
  },
  {
   "cell_type": "markdown",
   "metadata": {},
   "source": [
    "Plot below var_means. But data went into Table 2, from separate runs and data saved in `var_means_dict`."
   ]
  },
  {
   "cell_type": "code",
   "execution_count": null,
   "metadata": {},
   "outputs": [],
   "source": [
    "data[case].keys()"
   ]
  },
  {
   "cell_type": "markdown",
   "metadata": {},
   "source": [
    "### For given radius plot var for all grids in `runs`"
   ]
  },
  {
   "cell_type": "code",
   "execution_count": null,
   "metadata": {},
   "outputs": [],
   "source": [
    "# These are the `f_hp` keys for each run:\n",
    "for run in runs:\n",
    "    print(run,list(var_means_dict[run].keys()))"
   ]
  },
  {
   "cell_type": "code",
   "execution_count": null,
   "metadata": {},
   "outputs": [],
   "source": []
  },
  {
   "cell_type": "code",
   "execution_count": null,
   "metadata": {},
   "outputs": [],
   "source": [
    "# grids plot assuming there is data available for more than one grid \n",
    "\n",
    "f_hp = 1.0  # pick one\n",
    "\n",
    "grids = []\n",
    "var_means = []\n",
    "for run in runs:\n",
    "    grids.append(data[run]['grids'])\n",
    "    var_means.append(var_means_dict[run][f_hp])"
   ]
  },
  {
   "cell_type": "code",
   "execution_count": null,
   "metadata": {},
   "outputs": [],
   "source": [
    "array([(data[run]['grids'],var_means_dict[run][f_hp][0]) for run in runs]).T"
   ]
  },
  {
   "cell_type": "markdown",
   "metadata": {},
   "source": [
    "FH in progress - try with more data on astrohub"
   ]
  },
  {
   "cell_type": "code",
   "execution_count": null,
   "metadata": {},
   "outputs": [],
   "source": [
    "grids = array(grids)\n",
    "ifig=1399; close(ifig); figure(ifig,figsize=(6,3))\n",
    "# plot(log10(grids),log10(var_means),'o-')\n",
    "plot(log10(grids),var_means,'o-')\n",
    "xlabel('$\\log \\mathrm{\\ number\\ of\\ grid\\ cells}$')\n",
    "ylabel('$U$ in var_means')\n",
    "tight_layout()"
   ]
  }
 ],
 "metadata": {
  "kernelspec": {
   "display_name": "Python 3",
   "language": "python",
   "name": "python3"
  },
  "language_info": {
   "codemirror_mode": {
    "name": "ipython",
    "version": 3
   },
   "file_extension": ".py",
   "mimetype": "text/x-python",
   "name": "python",
   "nbconvert_exporter": "python",
   "pygments_lexer": "ipython3",
   "version": "3.8.5"
  },
  "widgets": {
   "application/vnd.jupyter.widget-state+json": {
    "state": {
     "026261284c53453ca38d2a9f32052d0a": {
      "model_module": "@jupyter-widgets/controls",
      "model_module_version": "1.5.0",
      "model_name": "DescriptionStyleModel",
      "state": {
       "description_width": ""
      }
     },
     "1f8e79f5f6eb48ac8834218d639267dd": {
      "model_module": "@jupyter-widgets/base",
      "model_module_version": "1.2.0",
      "model_name": "LayoutModel",
      "state": {}
     },
     "29648ffbc4e148838a4c3f92e8b8633f": {
      "model_module": "@jupyter-widgets/base",
      "model_module_version": "1.2.0",
      "model_name": "LayoutModel",
      "state": {}
     },
     "2c3498332ad645bda4410fb9277195c2": {
      "model_module": "jupyter-matplotlib",
      "model_module_version": "^0.7.4",
      "model_name": "MPLCanvasModel",
      "state": {
       "_cursor": "default",
       "_figure_label": "Figure 113",
       "_height": 480,
       "_image_mode": "diff",
       "_width": 640,
       "layout": "IPY_MODEL_84e24caf7e544a0f93b711a3cc907831",
       "toolbar": "IPY_MODEL_adc7635cb67e4cb28bab2efc597659f2",
       "toolbar_position": "left"
      }
     },
     "2ec54ceab0f447e2a81b8942295ee445": {
      "model_module": "@jupyter-widgets/base",
      "model_module_version": "1.2.0",
      "model_name": "LayoutModel",
      "state": {}
     },
     "45a0af904d3a4176bb05848e0f0e87ea": {
      "model_module": "@jupyter-widgets/base",
      "model_module_version": "1.2.0",
      "model_name": "LayoutModel",
      "state": {}
     },
     "5267abf37d564e03bdb4a83011e363d0": {
      "model_module": "@jupyter-widgets/base",
      "model_module_version": "1.2.0",
      "model_name": "LayoutModel",
      "state": {}
     },
     "6250c397857443859b4e4bb5338ea1f8": {
      "model_module": "@jupyter-widgets/controls",
      "model_module_version": "1.5.0",
      "model_name": "DescriptionStyleModel",
      "state": {
       "description_width": ""
      }
     },
     "62b9ccb1c46f4528b662a778776d3c38": {
      "model_module": "@jupyter-widgets/base",
      "model_module_version": "1.2.0",
      "model_name": "LayoutModel",
      "state": {}
     },
     "64f89f2d77274c128a4c88d6558f59b8": {
      "model_module": "jupyter-matplotlib",
      "model_module_version": "^0.7.4",
      "model_name": "ToolbarModel",
      "state": {
       "layout": "IPY_MODEL_45a0af904d3a4176bb05848e0f0e87ea",
       "toolitems": [
        [
         "Home",
         "Reset original view",
         "home",
         "home"
        ],
        [
         "Back",
         "Back to previous view",
         "arrow-left",
         "back"
        ],
        [
         "Forward",
         "Forward to next view",
         "arrow-right",
         "forward"
        ],
        [
         "Pan",
         "Left button pans, Right button zooms\nx/y fixes axis, CTRL fixes aspect",
         "arrows",
         "pan"
        ],
        [
         "Zoom",
         "Zoom to rectangle\nx/y fixes axis, CTRL fixes aspect",
         "square-o",
         "zoom"
        ],
        [
         "Download",
         "Download plot",
         "floppy-o",
         "save_figure"
        ]
       ]
      }
     },
     "69c95515a8264244bd1d87bdb1aec482": {
      "model_module": "@jupyter-widgets/base",
      "model_module_version": "1.2.0",
      "model_name": "LayoutModel",
      "state": {}
     },
     "724c344f840647a88382a1b0baeed6a9": {
      "model_module": "@jupyter-widgets/base",
      "model_module_version": "1.2.0",
      "model_name": "LayoutModel",
      "state": {}
     },
     "84e24caf7e544a0f93b711a3cc907831": {
      "model_module": "@jupyter-widgets/base",
      "model_module_version": "1.2.0",
      "model_name": "LayoutModel",
      "state": {}
     },
     "95b6b5c141714387b8e12c90758bf071": {
      "model_module": "jupyter-matplotlib",
      "model_module_version": "^0.7.4",
      "model_name": "ToolbarModel",
      "state": {
       "layout": "IPY_MODEL_69c95515a8264244bd1d87bdb1aec482",
       "toolitems": [
        [
         "Home",
         "Reset original view",
         "home",
         "home"
        ],
        [
         "Back",
         "Back to previous view",
         "arrow-left",
         "back"
        ],
        [
         "Forward",
         "Forward to next view",
         "arrow-right",
         "forward"
        ],
        [
         "Pan",
         "Left button pans, Right button zooms\nx/y fixes axis, CTRL fixes aspect",
         "arrows",
         "pan"
        ],
        [
         "Zoom",
         "Zoom to rectangle\nx/y fixes axis, CTRL fixes aspect",
         "square-o",
         "zoom"
        ],
        [
         "Download",
         "Download plot",
         "floppy-o",
         "save_figure"
        ]
       ]
      }
     },
     "a2efbf3c672e4f8d80e24a3494ac120c": {
      "model_module": "@jupyter-widgets/controls",
      "model_module_version": "1.5.0",
      "model_name": "SliderStyleModel",
      "state": {
       "description_width": ""
      }
     },
     "a689ed5eb7dd4860877ed34bd02b3fcc": {
      "model_module": "@jupyter-widgets/controls",
      "model_module_version": "1.5.0",
      "model_name": "IntSliderModel",
      "state": {
       "description": "dump1",
       "layout": "IPY_MODEL_724c344f840647a88382a1b0baeed6a9",
       "max": 646,
       "style": "IPY_MODEL_a2efbf3c672e4f8d80e24a3494ac120c",
       "value": 21
      }
     },
     "a98699c55e1445ecabd4e318999bdce3": {
      "model_module": "@jupyter-widgets/output",
      "model_module_version": "1.0.0",
      "model_name": "OutputModel",
      "state": {
       "layout": "IPY_MODEL_62b9ccb1c46f4528b662a778776d3c38",
       "outputs": [
        {
         "data": {
          "application/vnd.jupyter.widget-view+json": {
           "model_id": "",
           "version_major": 2,
           "version_minor": 0
          },
          "text/plain": "Canvas(toolbar=Toolbar(toolitems=[('Home', 'Reset original view', 'home', 'home'), ('Back', 'Back to previous …"
         },
         "metadata": {},
         "output_type": "display_data"
        }
       ]
      }
     },
     "aafb5508dcde4f70a2873d315884f50e": {
      "model_module": "@jupyter-widgets/controls",
      "model_module_version": "1.5.0",
      "model_name": "IntSliderModel",
      "state": {
       "description": "dump2",
       "layout": "IPY_MODEL_1f8e79f5f6eb48ac8834218d639267dd",
       "max": 646,
       "style": "IPY_MODEL_e41f6684cf7548338ee5548859d2c698",
       "value": 635
      }
     },
     "adc7635cb67e4cb28bab2efc597659f2": {
      "model_module": "jupyter-matplotlib",
      "model_module_version": "^0.7.4",
      "model_name": "ToolbarModel",
      "state": {
       "layout": "IPY_MODEL_f6b88100b828412889a073ed320d5a3a",
       "toolitems": [
        [
         "Home",
         "Reset original view",
         "home",
         "home"
        ],
        [
         "Back",
         "Back to previous view",
         "arrow-left",
         "back"
        ],
        [
         "Forward",
         "Forward to next view",
         "arrow-right",
         "forward"
        ],
        [
         "Pan",
         "Left button pans, Right button zooms\nx/y fixes axis, CTRL fixes aspect",
         "arrows",
         "pan"
        ],
        [
         "Zoom",
         "Zoom to rectangle\nx/y fixes axis, CTRL fixes aspect",
         "square-o",
         "zoom"
        ],
        [
         "Download",
         "Download plot",
         "floppy-o",
         "save_figure"
        ]
       ]
      }
     },
     "d16c8c3d9dcc424d8a12b75e486324f5": {
      "model_module": "@jupyter-widgets/controls",
      "model_module_version": "1.5.0",
      "model_name": "VBoxModel",
      "state": {
       "_dom_classes": [
        "widget-interact"
       ],
       "children": [
        "IPY_MODEL_a689ed5eb7dd4860877ed34bd02b3fcc",
        "IPY_MODEL_aafb5508dcde4f70a2873d315884f50e",
        "IPY_MODEL_e18c898d4880452f8e2e36c45e348c54",
        "IPY_MODEL_f525a6aa76804ae88771a874ca9b893b",
        "IPY_MODEL_a98699c55e1445ecabd4e318999bdce3"
       ],
       "layout": "IPY_MODEL_5267abf37d564e03bdb4a83011e363d0"
      }
     },
     "dcf22f0fed7b473bb1219db3ae4159cb": {
      "model_module": "jupyter-matplotlib",
      "model_module_version": "^0.7.4",
      "model_name": "MPLCanvasModel",
      "state": {
       "_cursor": "default",
       "_figure_label": "Figure 1394",
       "_height": 500,
       "_width": 800,
       "layout": "IPY_MODEL_29648ffbc4e148838a4c3f92e8b8633f",
       "toolbar": "IPY_MODEL_64f89f2d77274c128a4c88d6558f59b8",
       "toolbar_position": "left"
      }
     },
     "e18c898d4880452f8e2e36c45e348c54": {
      "model_module": "@jupyter-widgets/controls",
      "model_module_version": "1.5.0",
      "model_name": "DropdownModel",
      "state": {
       "_options_labels": [
        "A",
        "Ceul",
        "ctb1",
        "ctb2",
        "ctb3",
        "ctb4",
        "ctb5",
        "ctb6",
        "ctb7",
        "ctb8",
        "ctt1",
        "ctt2",
        "ctt3",
        "ctt4",
        "ctt5",
        "ctt6",
        "ctt7",
        "ctt8",
        "dEnucRMS",
        "dEnucSumRMS",
        "dFVairrms",
        "dFVrms",
        "dHburnedRMS",
        "dMachRMS",
        "dP1fRMS",
        "dRho1fRMS",
        "dRhoUrUsqRMS",
        "dT9RMS",
        "dUrRMS",
        "d|Ut|RMS",
        "d|U|RMS",
        "Enuc",
        "EnucMax",
        "EnucMin",
        "EnucSum",
        "EnucSumMax",
        "EnucSumMin",
        "FV",
        "FVair",
        "FVairMax",
        "FVairMin",
        "FVMax",
        "FVMin",
        "Hburned",
        "HburnedMax",
        "HburnedMin",
        "lum1",
        "lum2",
        "lum3",
        "lum4",
        "lum5",
        "lum6",
        "lum7",
        "lum8",
        "Mach",
        "Mach#",
        "MachMax",
        "MachMin",
        "P1/P0",
        "P1fMax",
        "P1fMin",
        "R",
        "Rho1/Rho0",
        "Rho1fMax",
        "Rho1fMin",
        "RhoUr",
        "RhoUrH",
        "RhoUrUsq",
        "RhoUrUsqMax",
        "RhoUrUsqMin",
        "T9",
        "T9Max",
        "T9Min",
        "Ur",
        "UrMax",
        "UrMin",
        "|Ut|",
        "|Ut|Max",
        "|Ut|Min",
        "|U|",
        "|U|Max",
        "|U|Min",
        "FV",
        "FV0",
        "FVair",
        "FVair0",
        "P0",
        "P1",
        "R",
        "Rho0",
        "Rho1",
        "T9",
        "enuc_C12pg",
        "Hp",
        "nabla_rho",
        "nabla_rho_ad",
        "prad",
        "pgas_by_ptot",
        "g",
        "N2",
        "m",
        "mt",
        "r4rho2",
        "rhodot_C12pg",
        "T9",
        "T9corr",
        "|Ur|",
        "Xcld",
        "FVair",
        "Xdot_C12pg"
       ],
       "description": "ything",
       "index": 0,
       "layout": "IPY_MODEL_f09677973d0647188ffdb76dae5e1ba7",
       "style": "IPY_MODEL_6250c397857443859b4e4bb5338ea1f8"
      }
     },
     "e333be5926624fdbb42a868cb979164b": {
      "model_module": "jupyter-matplotlib",
      "model_module_version": "^0.7.4",
      "model_name": "MPLCanvasModel",
      "state": {
       "_cursor": "default",
       "_figure_label": "Figure 23",
       "_height": 480,
       "_width": 640,
       "layout": "IPY_MODEL_f5d92bee0e654cd383dff156663946b4",
       "toolbar": "IPY_MODEL_95b6b5c141714387b8e12c90758bf071",
       "toolbar_position": "left"
      }
     },
     "e41f6684cf7548338ee5548859d2c698": {
      "model_module": "@jupyter-widgets/controls",
      "model_module_version": "1.5.0",
      "model_name": "SliderStyleModel",
      "state": {
       "description_width": ""
      }
     },
     "f09677973d0647188ffdb76dae5e1ba7": {
      "model_module": "@jupyter-widgets/base",
      "model_module_version": "1.2.0",
      "model_name": "LayoutModel",
      "state": {}
     },
     "f525a6aa76804ae88771a874ca9b893b": {
      "model_module": "@jupyter-widgets/controls",
      "model_module_version": "1.5.0",
      "model_name": "CheckboxModel",
      "state": {
       "description": "log10y",
       "disabled": false,
       "layout": "IPY_MODEL_2ec54ceab0f447e2a81b8942295ee445",
       "style": "IPY_MODEL_026261284c53453ca38d2a9f32052d0a",
       "value": false
      }
     },
     "f5d92bee0e654cd383dff156663946b4": {
      "model_module": "@jupyter-widgets/base",
      "model_module_version": "1.2.0",
      "model_name": "LayoutModel",
      "state": {}
     },
     "f6b88100b828412889a073ed320d5a3a": {
      "model_module": "@jupyter-widgets/base",
      "model_module_version": "1.2.0",
      "model_name": "LayoutModel",
      "state": {}
     }
    },
    "version_major": 2,
    "version_minor": 0
   }
  }
 },
 "nbformat": 4,
 "nbformat_minor": 4
}

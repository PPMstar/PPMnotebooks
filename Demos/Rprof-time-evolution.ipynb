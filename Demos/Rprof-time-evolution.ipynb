{
 "cells": [
  {
   "cell_type": "markdown",
   "metadata": {},
   "source": [
    "# Plot time evolution\n",
    "\n",
    "In this notebook we make time evolution plots at a given d radius or radius range of quantities from radial profiles. \n"
   ]
  },
  {
   "cell_type": "markdown",
   "metadata": {},
   "source": [
    "* `ppmstarhub version: 2.0.0` or niagara hub sciconda-astrohub2 kernel\n",
    "* Parent of this notebook: `ppmstar/projects/H-core-M25/analysis_paper_gas/Hcore-time-evolution-M100+.ipynb` and `Hcore-time-evolution-paperI.ipynb`\n",
    "* Name of this notebook: `Rprof-time-evolution.ipynb`\n",
    "* home of this notebook: https://github.com/PPMstar/PPMnotebooks/tree/master/Demos"
   ]
  },
  {
   "cell_type": "code",
   "execution_count": null,
   "metadata": {},
   "outputs": [],
   "source": [
    "%pylab ipympl\n",
    "from astropy import units\n",
    "from nugridpy import utils as ut\n",
    "from scipy import interpolate\n",
    "import sys\n",
    "\n",
    "\n",
    "scratch_dir = '/scratch/f/fherwig/fherwig/'\n",
    "# scratch_dir = '/user/niagara_scratch_fherwig/'\n",
    "ppmpy_dir = scratch_dir+'repos/PyPPM'\n",
    "sys.path.insert(0,ppmpy_dir)\n",
    "\n",
    "\n",
    "from ppmpy import ppm  \n",
    "logging.getLogger(\"matplotlib\").setLevel(logging.ERROR)\n"
   ]
  },
  {
   "cell_type": "code",
   "execution_count": null,
   "metadata": {},
   "outputs": [],
   "source": [
    "# Data dictionary to hold the data for the different cases analysed in this nb\n",
    "data = {}  \n",
    "runs = []"
   ]
  },
  {
   "cell_type": "markdown",
   "metadata": {},
   "source": [
    "Create and run below only the cells that contain runs you want to include in the current analysis. Running cells repeatedly will update the data for the corresponding runs"
   ]
  },
  {
   "cell_type": "code",
   "execution_count": null,
   "metadata": {},
   "outputs": [],
   "source": [
    "dothis = True\n",
    "# dothis = False\n",
    "if dothis is True:\n",
    "    nominal_heat = 0.00003355\n",
    "    eos = 'g'\n",
    "    \n",
    "    cases = ['M109','M108','M107','M114','M115',\\\n",
    "              'M106','M105','M116','M110','M117','M111']\n",
    "    \n",
    "    data = ppm.initialize_cases(data,scratch_dir, cases, nominal_heat=nominal_heat,\\\n",
    "                      eos=eos,verbose = 3)"
   ]
  },
  {
   "cell_type": "markdown",
   "metadata": {},
   "source": [
    "### Plot dump evolution for all runs"
   ]
  },
  {
   "cell_type": "code",
   "execution_count": null,
   "metadata": {},
   "outputs": [],
   "source": [
    "all_cases = ppm.cases_table(data)\n",
    "cases = all_cases "
   ]
  },
  {
   "cell_type": "code",
   "execution_count": null,
   "metadata": {},
   "outputs": [],
   "source": [
    "\n",
    "ifig = 113; close(ifig); figure(ifig)\n",
    "last_dumps = []\n",
    "for i,case in enumerate(all_cases):\n",
    "    plot(data[case]['NDump'],data[case]['time(mins)']/60.,ut.linestyle(i)[0],label=case,markevery=200,\\\n",
    "         color=ut.linestylecb(i)[2])\n",
    "    last_dumps.append(data[case]['NDump'][-1])\n",
    "legend();xlabel('NDump');ylabel('t / hr')\n",
    "title('marker every 200 dumps')"
   ]
  },
  {
   "cell_type": "markdown",
   "metadata": {},
   "source": [
    "### Print run table"
   ]
  },
  {
   "cell_type": "code",
   "execution_count": null,
   "metadata": {},
   "outputs": [],
   "source": [
    "ppm.cases_table(data,latex=False)"
   ]
  },
  {
   "cell_type": "code",
   "execution_count": null,
   "metadata": {},
   "outputs": [],
   "source": [
    "# Table 1 paper I\n",
    "ppm.cases_table(data,latex=True)"
   ]
  },
  {
   "cell_type": "markdown",
   "metadata": {},
   "source": [
    "## RProf GUI\n",
    "Use RProf GUI to do quick inspection of radial profiles."
   ]
  },
  {
   "cell_type": "code",
   "execution_count": null,
   "metadata": {},
   "outputs": [],
   "source": [
    "all_cases"
   ]
  },
  {
   "cell_type": "code",
   "execution_count": null,
   "metadata": {},
   "outputs": [],
   "source": [
    "case = all_cases[0]\n",
    "data[case]['rp'].rprofgui(ifig=int(case[1:3]))"
   ]
  },
  {
   "cell_type": "markdown",
   "metadata": {},
   "source": [
    "### Note\n",
    "The parent notebook demonstrates interpolations used in this notebook. Look there for details, removed here."
   ]
  },
  {
   "cell_type": "markdown",
   "metadata": {},
   "source": [
    "## Quantity at pressure-scale height fraction above/below N2-peak\n",
    "\n",
    "### Time evolution at several radii given in terms of Hp above/below $N^2$ peak\n",
    "\n",
    "This plot combines different runs, variables and radii. `var_means_dict` allows to save quantities for scaling plots."
   ]
  },
  {
   "cell_type": "code",
   "execution_count": null,
   "metadata": {},
   "outputs": [],
   "source": [
    "runs = ['M107', 'M114', 'M115','M111']\n",
    "# runs = ['M239']"
   ]
  },
  {
   "cell_type": "code",
   "execution_count": null,
   "metadata": {},
   "outputs": [],
   "source": [
    "# ppm.time_evol_r_Hp_vars?"
   ]
  },
  {
   "cell_type": "code",
   "execution_count": null,
   "metadata": {},
   "outputs": [],
   "source": [
    "var_means_dict = ppm.time_evol_r_Hp_vars(data, runs, varss  = ['|Ur|'], f_hps = [1.0], key = \"Demo\", fname = '-Ut', logy = False,\\\n",
    "                        ylab=\"$ U_\\mathrm{t} / \\mathrm{[km/s]}$\",  xlims=(None,None),\\\n",
    "                        ylims=(None,None), legends=0, NDump_range = 'time', NDump_range_vals = (150,4000),\\\n",
    "                        mrange_interp = (12.,14.,0.0001), sparse = 10,\\\n",
    "                        t_transient_hr = 500, figsizes = (8,4), ifig=1394)"
   ]
  },
  {
   "cell_type": "code",
   "execution_count": null,
   "metadata": {},
   "outputs": [],
   "source": [
    "pwd"
   ]
  },
  {
   "cell_type": "code",
   "execution_count": null,
   "metadata": {},
   "outputs": [],
   "source": [
    "var_means_dict"
   ]
  },
  {
   "cell_type": "markdown",
   "metadata": {},
   "source": [
    "Plot below var_means. But data went into Table 2, from separate runs and data saved in `var_means_dict`."
   ]
  },
  {
   "cell_type": "code",
   "execution_count": null,
   "metadata": {},
   "outputs": [],
   "source": [
    "data[case].keys()"
   ]
  },
  {
   "cell_type": "code",
   "execution_count": null,
   "metadata": {},
   "outputs": [],
   "source": [
    "# grids plot assuming there is data available for more than one grid \n",
    "### FH is in the process of debugging this ....\n",
    "grids = []\n",
    "grids = array(grids)\n",
    "ifig=1399; close(ifig); figure(ifig,figsize=(6,3))\n",
    "# plot(log10(grids),log10(var_means),'o-')\n",
    "plot(log10(grids),var_means,'o-')\n",
    "xlabel('$\\log \\mathrm{\\ number\\ of\\ grid\\ cells}$')\n",
    "ylabel('$U$ in var_means')\n",
    "tight_layout()"
   ]
  }
 ],
 "metadata": {
  "kernelspec": {
   "display_name": "scinet-conda /project/f/fherwig/fherwig/PythonVirtual/sciconda-astrohub2",
   "language": "python",
   "name": "scinet_conda_project_f_fherwig_fherwig_pythonvirtual_sciconda_astrohub2"
  },
  "language_info": {
   "codemirror_mode": {
    "name": "ipython",
    "version": 3
   },
   "file_extension": ".py",
   "mimetype": "text/x-python",
   "name": "python",
   "nbconvert_exporter": "python",
   "pygments_lexer": "ipython3",
   "version": "3.8.5"
  },
  "widgets": {
   "application/vnd.jupyter.widget-state+json": {
    "state": {
     "1928ae601cf04d3d970ce69b07c7b72b": {
      "model_module": "jupyter-matplotlib",
      "model_module_version": "^0.7.4",
      "model_name": "ToolbarModel",
      "state": {
       "layout": "IPY_MODEL_239ee82cdf5345388a4fb72627a5cc70",
       "toolitems": [
        [
         "Home",
         "Reset original view",
         "home",
         "home"
        ],
        [
         "Back",
         "Back to previous view",
         "arrow-left",
         "back"
        ],
        [
         "Forward",
         "Forward to next view",
         "arrow-right",
         "forward"
        ],
        [
         "Pan",
         "Left button pans, Right button zooms\nx/y fixes axis, CTRL fixes aspect",
         "arrows",
         "pan"
        ],
        [
         "Zoom",
         "Zoom to rectangle\nx/y fixes axis, CTRL fixes aspect",
         "square-o",
         "zoom"
        ],
        [
         "Download",
         "Download plot",
         "floppy-o",
         "save_figure"
        ]
       ]
      }
     },
     "239ee82cdf5345388a4fb72627a5cc70": {
      "model_module": "@jupyter-widgets/base",
      "model_module_version": "1.2.0",
      "model_name": "LayoutModel",
      "state": {}
     },
     "345c95a5a79a484f9166f0f579fd5306": {
      "model_module": "@jupyter-widgets/base",
      "model_module_version": "1.2.0",
      "model_name": "LayoutModel",
      "state": {}
     },
     "749b9713a11a4030bf28c5324a929943": {
      "model_module": "@jupyter-widgets/base",
      "model_module_version": "1.2.0",
      "model_name": "LayoutModel",
      "state": {}
     },
     "8da9a3d4cc474ef9bc6f51330989b703": {
      "model_module": "jupyter-matplotlib",
      "model_module_version": "^0.7.4",
      "model_name": "MPLCanvasModel",
      "state": {
       "_cursor": "default",
       "_figure_label": "Figure 113",
       "_height": 480,
       "_width": 640,
       "layout": "IPY_MODEL_e10e5a625cdc4e1ca51ab7d31ff6c48e",
       "toolbar": "IPY_MODEL_c31a66ad9de348fdac44fcec69c307ad",
       "toolbar_position": "left"
      }
     },
     "99ba7821216444aabf95477271355dee": {
      "model_module": "jupyter-matplotlib",
      "model_module_version": "^0.7.4",
      "model_name": "MPLCanvasModel",
      "state": {
       "layout": "IPY_MODEL_d40dd8f4f159484a8773006a181c45a7",
       "toolbar": "IPY_MODEL_b579c387195e4af69a88bd6eb97730cd",
       "toolbar_position": "left"
      }
     },
     "b579c387195e4af69a88bd6eb97730cd": {
      "model_module": "jupyter-matplotlib",
      "model_module_version": "^0.7.4",
      "model_name": "ToolbarModel",
      "state": {
       "layout": "IPY_MODEL_345c95a5a79a484f9166f0f579fd5306",
       "toolitems": [
        [
         "Home",
         "Reset original view",
         "home",
         "home"
        ],
        [
         "Back",
         "Back to previous view",
         "arrow-left",
         "back"
        ],
        [
         "Forward",
         "Forward to next view",
         "arrow-right",
         "forward"
        ],
        [
         "Pan",
         "Left button pans, Right button zooms\nx/y fixes axis, CTRL fixes aspect",
         "arrows",
         "pan"
        ],
        [
         "Zoom",
         "Zoom to rectangle\nx/y fixes axis, CTRL fixes aspect",
         "square-o",
         "zoom"
        ],
        [
         "Download",
         "Download plot",
         "floppy-o",
         "save_figure"
        ]
       ]
      }
     },
     "c31a66ad9de348fdac44fcec69c307ad": {
      "model_module": "jupyter-matplotlib",
      "model_module_version": "^0.7.4",
      "model_name": "ToolbarModel",
      "state": {
       "layout": "IPY_MODEL_749b9713a11a4030bf28c5324a929943",
       "toolitems": [
        [
         "Home",
         "Reset original view",
         "home",
         "home"
        ],
        [
         "Back",
         "Back to previous view",
         "arrow-left",
         "back"
        ],
        [
         "Forward",
         "Forward to next view",
         "arrow-right",
         "forward"
        ],
        [
         "Pan",
         "Left button pans, Right button zooms\nx/y fixes axis, CTRL fixes aspect",
         "arrows",
         "pan"
        ],
        [
         "Zoom",
         "Zoom to rectangle\nx/y fixes axis, CTRL fixes aspect",
         "square-o",
         "zoom"
        ],
        [
         "Download",
         "Download plot",
         "floppy-o",
         "save_figure"
        ]
       ]
      }
     },
     "d40dd8f4f159484a8773006a181c45a7": {
      "model_module": "@jupyter-widgets/base",
      "model_module_version": "1.2.0",
      "model_name": "LayoutModel",
      "state": {}
     },
     "da2bf21042e14181b64fa6053fec7f73": {
      "model_module": "jupyter-matplotlib",
      "model_module_version": "^0.7.4",
      "model_name": "MPLCanvasModel",
      "state": {
       "_cursor": "default",
       "_figure_label": "Figure 1394",
       "_height": 500,
       "_width": 800,
       "layout": "IPY_MODEL_ee6991b2a006481189be93ff03e2768b",
       "toolbar": "IPY_MODEL_1928ae601cf04d3d970ce69b07c7b72b",
       "toolbar_position": "left"
      }
     },
     "e10e5a625cdc4e1ca51ab7d31ff6c48e": {
      "model_module": "@jupyter-widgets/base",
      "model_module_version": "1.2.0",
      "model_name": "LayoutModel",
      "state": {}
     },
     "ee6991b2a006481189be93ff03e2768b": {
      "model_module": "@jupyter-widgets/base",
      "model_module_version": "1.2.0",
      "model_name": "LayoutModel",
      "state": {}
     }
    },
    "version_major": 2,
    "version_minor": 0
   }
  }
 },
 "nbformat": 4,
 "nbformat_minor": 4
}

{
 "cells": [
  {
   "cell_type": "markdown",
   "metadata": {},
   "source": [
    "# Bottom panel of Dig 1 in Stephens+ 2020"
   ]
  },
  {
   "cell_type": "code",
   "execution_count": 6,
   "metadata": {},
   "outputs": [
    {
     "name": "stdout",
     "output_type": "stream",
     "text": [
      "Populating the interactive namespace from numpy and matplotlib\n"
     ]
    }
   ],
   "source": [
    "%pylab ipympl\n",
    "# %pylab inline\n",
    "# import sys, os\n",
    "\n",
    "from nugridpy import ascii_table as asct\n",
    "from nugridpy import utils\n",
    "from matplotlib import pyplot as plt\n",
    "\n",
    "# figure sizes\n",
    "stdSize = 4.\n",
    "stdRatio = 1.61803398875"
   ]
  },
  {
   "cell_type": "code",
   "execution_count": 10,
   "metadata": {},
   "outputs": [],
   "source": [
    "asdr_dir = '/data/ASDR/PPMstar/'\n",
    "shell_files_dir = asdr_dir+'3D1D-advection/wD_shell_files/N16/'\n",
    "sfs = {}"
   ]
  },
  {
   "cell_type": "code",
   "execution_count": 16,
   "metadata": {},
   "outputs": [
    {
     "name": "stdout",
     "output_type": "stream",
     "text": [
      "18.3 min is a convective turnover, roughly 50 dumps\n"
     ]
    }
   ],
   "source": [
    "tau_conv = 1100 / 60.\n",
    "print(f'{tau_conv:.1f} min is a convective turnover, roughly 50 dumps')"
   ]
  },
  {
   "cell_type": "code",
   "execution_count": 12,
   "metadata": {},
   "outputs": [],
   "source": [
    "# dumps = [1035,1077,1157,1196,1268,1338,1357]\n",
    "dumps = [650, 700, 750, 800, 850, 900, 950]\n",
    "for dump in dumps:\n",
    "    sfs[dump] = {}\n",
    "for dump in dumps:\n",
    "    shell_file = 'N16-wD-'+str(dump).zfill(4)+'.shell'\n",
    "    sf = asct.readTable(shell_files_dir+shell_file,sldir='.')\n",
    "    sfs[dump]['instance'] = sf\n",
    "    t_m = float(sf.hattrs[2].split('=')[1])/60.\n",
    "    sfs[dump]['t_m'] = t_m\n",
    "    sfs[dump]['t_m_str'] = \"{:.0f} min\".format(t_m)\n"
   ]
  },
  {
   "cell_type": "code",
   "execution_count": 13,
   "metadata": {},
   "outputs": [
    {
     "data": {
      "application/vnd.jupyter.widget-view+json": {
       "model_id": "7353c377c63a49378a255c40fc2a99ac",
       "version_major": 2,
       "version_minor": 0
      },
      "text/plain": [
       "Canvas(toolbar=Toolbar(toolitems=[('Home', 'Reset original view', 'home', 'home'), ('Back', 'Back to previous …"
      ]
     },
     "metadata": {},
     "output_type": "display_data"
    }
   ],
   "source": [
    "ifig=199;close(ifig);figure(ifig,figsize=(stdSize*stdRatio,stdSize),dpi=300)\n",
    "for i,dump in enumerate(dumps):\n",
    "    r = sfs[dump]['instance'].get('r')\n",
    "    Dvr = sfs[dump]['instance'].get('Dvr')\n",
    "    DFVvr = sfs[dump]['instance'].get('Dvr+FV')\n",
    "    plt.plot(r, (Dvr), 'C7'+utils.linestylecb(i)[0])\n",
    "    plt.plot(r, (DFVvr), utils.linestylecb(i)[0], label=sfs[dump]['t_m_str'])\n",
    "\n",
    "plt.ylabel('D / cm$^2$ s$^{-1}$') ; plt.xlabel('r / Mm')   \n",
    "plt.yscale('log')\n",
    "plt.ylim([5*10**11, 5*10**15])\n",
    "plt.xlim([7.5,24.3])\n",
    "plt.title(\"\")\n",
    "plt.legend(frameon=False)\n",
    "savefig('D-vr-FV-compare.pdf',bbox_inches = \"tight\",dpi=300)"
   ]
  },
  {
   "cell_type": "code",
   "execution_count": 14,
   "metadata": {},
   "outputs": [],
   "source": [
    "# gr = 1.61803398875;size=4\n",
    "# ifig=197;close(ifig);figure(ifig,figsize=(gr*size,size))\n",
    "# for i,dump in enumerate(dumps):\n",
    "#     sfs[dump]['instance'].plot('r','Dvr',shape='C7'+utils.linestylecb(i)[0],\\\n",
    "#         legend=\"\",logy=True,limits=[7.5,24.3,10,15.5])\n",
    "#     sfs[dump]['instance'].plot('r','Dvr+FV',shape=utils.linestylecb(i)[0],\\\n",
    "#         legend=sfs[dump]['t_m_str'],logy=True,limits=[7.5,24.3,12,16.2])\n",
    "# ylabel('$\\log D / \\mathrm{[cm^2/s]}$') ; xlabel('$R / \\mathrm{[Mm]}$')   \n",
    "# title(\"\")\n",
    "# plt.tight_layout()\n",
    "# savefig('D-vr-FV-compare.pdf')"
   ]
  }
 ],
 "metadata": {
  "kernelspec": {
   "display_name": "Python 3",
   "language": "python",
   "name": "python3"
  },
  "language_info": {
   "codemirror_mode": {
    "name": "ipython",
    "version": 3
   },
   "file_extension": ".py",
   "mimetype": "text/x-python",
   "name": "python",
   "nbconvert_exporter": "python",
   "pygments_lexer": "ipython3",
   "version": "3.6.8"
  },
  "widgets": {
   "application/vnd.jupyter.widget-state+json": {
    "state": {
     "133e4d11d064434c885b2207325ec15c": {
      "model_module": "jupyter-matplotlib",
      "model_module_version": "^0.4.2",
      "model_name": "ToolbarModel",
      "state": {
       "layout": "IPY_MODEL_6cc70abd115e473aafcbbaba8d3f4de9",
       "toolitems": [
        [
         "Home",
         "Reset original view",
         "home",
         "home"
        ],
        [
         "Back",
         "Back to previous view",
         "arrow-left",
         "back"
        ],
        [
         "Forward",
         "Forward to next view",
         "arrow-right",
         "forward"
        ],
        [
         "Pan",
         "Pan axes with left mouse, zoom with right",
         "arrows",
         "pan"
        ],
        [
         "Zoom",
         "Zoom to rectangle",
         "square-o",
         "zoom"
        ],
        [
         "Download",
         "Download plot",
         "floppy-o",
         "save_figure"
        ]
       ]
      }
     },
     "6cc70abd115e473aafcbbaba8d3f4de9": {
      "model_module": "@jupyter-widgets/base",
      "model_module_version": "1.2.0",
      "model_name": "LayoutModel",
      "state": {}
     },
     "7353c377c63a49378a255c40fc2a99ac": {
      "model_module": "jupyter-matplotlib",
      "model_module_version": "^0.4.2",
      "model_name": "MPLCanvasModel",
      "state": {
       "layout": "IPY_MODEL_a5e8b343fbb94519b821f0650431f7d3",
       "toolbar": "IPY_MODEL_133e4d11d064434c885b2207325ec15c",
       "toolbar_position": "left"
      }
     },
     "a5e8b343fbb94519b821f0650431f7d3": {
      "model_module": "@jupyter-widgets/base",
      "model_module_version": "1.2.0",
      "model_name": "LayoutModel",
      "state": {}
     }
    },
    "version_major": 2,
    "version_minor": 0
   }
  }
 },
 "nbformat": 4,
 "nbformat_minor": 4
}

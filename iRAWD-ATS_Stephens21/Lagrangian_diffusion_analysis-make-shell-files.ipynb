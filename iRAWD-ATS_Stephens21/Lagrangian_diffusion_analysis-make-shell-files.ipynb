{
 "cells": [
  {
   "cell_type": "markdown",
   "metadata": {},
   "source": [
    "# Diffusion coeefficient analysis \n",
    "This notebook performs a diffusion coefficient analysis and adds the resulting D profiles to the shell files that are input to NuGrid's `mppnp` code for optional post-processing with diffusive mixing (instead of ATS mixing). "
   ]
  },
  {
   "cell_type": "markdown",
   "metadata": {},
   "source": [
    "# Determine D for all dumps and write D_vr and D_composite into shell files"
   ]
  },
  {
   "cell_type": "markdown",
   "metadata": {},
   "source": [
    "A variation of Lagrangian_diffusion_analysis creating shell files for all dumps."
   ]
  },
  {
   "cell_type": "code",
   "execution_count": 2,
   "metadata": {},
   "outputs": [
    {
     "name": "stdout",
     "output_type": "stream",
     "text": [
      "Populating the interactive namespace from numpy and matplotlib\n"
     ]
    }
   ],
   "source": [
    "%pylab ipympl\n",
    "# %pylab inline\n",
    "import sys, os\n",
    "\n",
    "from nugridpy import ascii_table as asct\n",
    "from ppmpy import ppm\n",
    "from matplotlib import pyplot as plt\n",
    "from nugridpy import utils\n",
    "from nugridpy import astronomy as ast\n",
    "from nugridpy import nugridse as nuse\n",
    "import numpy as np\n",
    "import logging\n",
    "import pickle\n",
    "from scipy import interpolate\n",
    "\n",
    "mpl_logger = logging.getLogger('matplotlib')\n",
    "mpl_logger.setLevel(logging.WARNING)\n",
    "cb = utils.colourblind\n",
    "\n",
    "# figure sizes\n",
    "stdSize = 4.\n",
    "stdRatio = 1.61803398875"
   ]
  },
  {
   "cell_type": "markdown",
   "metadata": {},
   "source": [
    "### Hydro data"
   ]
  },
  {
   "cell_type": "code",
   "execution_count": 3,
   "metadata": {},
   "outputs": [],
   "source": [
    "asdr_dir = '/data/ASDR/PPMstar/'\n",
    "asdr = '/data/ASDR/PPMstar/LowZRAWD/'\n",
    "rprof_paths = {'N15':asdr+'N15-LowZRAWD-768-10x-burn-moms/prfs/',\\\n",
    "               'N16':asdr+'N16-LowZRAWD-1536-10x-burn-moms/prfs/',\\\n",
    "               'N17':asdr+'N17-LowZRAWD-1152-100x-burn-moms/prfs/'}"
   ]
  },
  {
   "cell_type": "code",
   "execution_count": 4,
   "metadata": {},
   "outputs": [
    {
     "data": {
      "text/plain": [
       "{'N15': '/data/ASDR/PPMstar/LowZRAWD/N15-LowZRAWD-768-10x-burn-moms/prfs/',\n",
       " 'N16': '/data/ASDR/PPMstar/LowZRAWD/N16-LowZRAWD-1536-10x-burn-moms/prfs/',\n",
       " 'N17': '/data/ASDR/PPMstar/LowZRAWD/N17-LowZRAWD-1152-100x-burn-moms/prfs/'}"
      ]
     },
     "execution_count": 4,
     "metadata": {},
     "output_type": "execute_result"
    }
   ],
   "source": [
    "rprof_paths"
   ]
  },
  {
   "cell_type": "code",
   "execution_count": 5,
   "metadata": {},
   "outputs": [],
   "source": [
    "runs = ['N15','N16','N17']\n",
    "rp_sets = {rid:ppm.RprofSet(path,verbose=0) for rid, path in rprof_paths.items()}"
   ]
  },
  {
   "cell_type": "code",
   "execution_count": 6,
   "metadata": {},
   "outputs": [],
   "source": [
    "# Set directory base name of astrophysical simulation data repository, \n",
    "# the required data is held in two places\n",
    "asdr_dir = '/data/ASDR/PPMstar/'\n",
    "# asdr_dir = '/data/niagara_project/projects/'\n"
   ]
  },
  {
   "cell_type": "markdown",
   "metadata": {},
   "source": [
    "# N16 "
   ]
  },
  {
   "cell_type": "code",
   "execution_count": 7,
   "metadata": {},
   "outputs": [],
   "source": [
    "runid='N16'\n",
    "shell_files_dir = asdr_dir+'3D1D-advection/N16_shell_files/N16-standard-mppnp/'"
   ]
  },
  {
   "cell_type": "code",
   "execution_count": 8,
   "metadata": {},
   "outputs": [],
   "source": [
    "# read convective boundary from shell file\n",
    "dump = 100\n",
    "shell_file = 'N16-standard-mppnp-'+str(dump).zfill(4)+'.shell'\n",
    "shell_file = open(shell_files_dir+shell_file)\n",
    "[shell_file.readline() for x in range(7)]\n",
    "r_cb_shell_bot = float(shell_file.readline().split()[0])\n",
    "r_cb_shell_top = float(shell_file.readlines()[-1].split()[0])\n",
    "close()\n",
    "r_cb_shell_top_0 = r_cb_shell_top  # for dump = 0 -- needed by DsolveLagr"
   ]
  },
  {
   "cell_type": "code",
   "execution_count": 9,
   "metadata": {},
   "outputs": [],
   "source": [
    "# dump = 1035\n",
    "dump = 650\n",
    "shell_file = 'N16-standard-mppnp-'+str(dump).zfill(4)+'.shell'\n",
    "shell_file = open(shell_files_dir+shell_file)\n",
    "[shell_file.readline() for x in range(7)]\n",
    "r_cb_shell_bot = float(shell_file.readline().split()[0])\n",
    "r_cb_shell_top = float(shell_file.readlines()[-1].split()[0])\n",
    "close()"
   ]
  },
  {
   "cell_type": "markdown",
   "metadata": {},
   "source": [
    "### D(vr)"
   ]
  },
  {
   "cell_type": "code",
   "execution_count": 10,
   "metadata": {},
   "outputs": [],
   "source": [
    "# get data for D_Jones plot\n",
    "Hp = rp_sets[runid].compute('Hp',dump)\n",
    "R  = rp_sets[runid].get('R',dump)\n",
    "Ur = rp_sets[runid].compute('|Ur|',dump)\n",
    "\n",
    "# conv boundaries from rprof\n",
    "# rtop = rp_sets[runid].bound_rad(dump,20.,23)\n",
    "# rbot = rp_sets[runid].bound_rad(dump,6.,9.,criterion='max_grad')\n",
    "\n",
    "# conv boundaries from shell file\n",
    "rtop = r_cb_shell_top\n",
    "rbot = r_cb_shell_bot\n",
    "\n",
    "# find convection zone\n",
    "inds_conv = where( (R < rtop) * (R > rbot))[0]\n",
    "mlen = Hp[inds_conv]\n",
    "inds=where(rtop-R[inds_conv] < Hp[inds_conv])[0]\n",
    "mlen[inds] = rtop-R[inds_conv][inds]\n",
    "inds = where(R[inds_conv]-rbot < Hp[inds_conv])[0]\n",
    "mlen[inds] = R[inds_conv][inds]-rbot\n",
    "\n",
    "# D_Jones\n",
    "alpha_MLT = 1.6\n",
    "Dvr = (1./3)* alpha_MLT * mlen * Ur[inds_conv]  *1.e16  # Mm**2/s"
   ]
  },
  {
   "cell_type": "markdown",
   "metadata": {},
   "source": [
    "### Test plot"
   ]
  },
  {
   "cell_type": "code",
   "execution_count": 11,
   "metadata": {},
   "outputs": [
    {
     "data": {
      "application/vnd.jupyter.widget-view+json": {
       "model_id": "3a35ce92932e499bb6f87ef578b9a964",
       "version_major": 2,
       "version_minor": 0
      },
      "text/plain": [
       "Canvas(toolbar=Toolbar(toolitems=[('Home', 'Reset original view', 'home', 'home'), ('Back', 'Back to previous …"
      ]
     },
     "metadata": {},
     "output_type": "display_data"
    },
    {
     "name": "stdout",
     "output_type": "stream",
     "text": [
      "D_Lagr for dump:650\n"
     ]
    }
   ],
   "source": [
    "for i in range(1000):\n",
    "    close(i)\n",
    "close(125);fig=figure(125)\n",
    "i=2\n",
    "ax1 = fig.add_subplot(111)\n",
    "\n",
    "ax1.plot(R[inds_conv],log10(Dvr),utils.linestylecb(i)[0],color=utils.colourblind(i-2),\\\n",
    "     label='$D_\\mathrm{vr}$'); i+=1\n",
    "ax1.set_ylabel('y1')\n",
    "ax1.set_ylabel('$\\log D / \\mathrm{[cm^2/s]}$')\n",
    "ax1.set_ylim(10,None); ax1.set_xlim(7,25)\n",
    "ax1.set_xlabel('$R/\\mathrm{Mm}$')\n",
    "\n",
    "ax2 = ax1.twinx()\n",
    "ax2.plot(R[inds_conv],Hp[inds_conv],utils.linestylecb(i)[0],color=utils.colourblind(i-2),\\\n",
    "       label='$H_p$'); i+=1\n",
    "ax2.set_ylabel('$H_\\mathrm{p}$')\n",
    "plt.title(runid+' dump '+str(dump))\n",
    "\n",
    "plt.legend(frameon=False,loc=8)\n",
    "plt.show()\n",
    "savefig(runid+'1dump'+str(dump)+\".pdf\")\n",
    "print('D_Lagr for dump:'+str(dump))\n"
   ]
  },
  {
   "cell_type": "markdown",
   "metadata": {},
   "source": [
    "### Time for diffusion to cross mixing length\n",
    "I need to take the difference of two averages of FV. For that I determine the diffusion time to diffuse one mixing length. I go back in dump number by that time and take the FV average over one diffusion time. I do the same in the future direction. I am determining D then from the difference of these two averaged FV profiles, each which is averaged over a diffusion time  and appart by one diffusion time. \n",
    "$$\n",
    "\\alpha H_\\mathrm{p} = 2 \\sqrt{D \\Delta t} \\\\\n",
    "\\Delta t = \\frac{(\\alpha H_\\mathrm{p})^2}{4D}\n",
    "$$\n",
    "Take $H_\\mathrm{p}$ and $D$ where $D$ is maximum."
   ]
  },
  {
   "cell_type": "code",
   "execution_count": 12,
   "metadata": {},
   "outputs": [],
   "source": [
    "ind_max_Dvr = where(max(Dvr)==Dvr)[0][0]\n",
    "Hp_max_Dvr = Hp[inds_conv][ind_max_Dvr]\n",
    "Dmax = max(Dvr) * 1e-16 # code units!\n",
    "tsec_Dmax = (alpha_MLT*Hp_max_Dvr)**2/(4*Dmax)  # diffusion time scale in seconds"
   ]
  },
  {
   "cell_type": "code",
   "execution_count": 13,
   "metadata": {},
   "outputs": [
    {
     "name": "stdout",
     "output_type": "stream",
     "text": [
      "0.028613093431142243 2.565771760728137\n"
     ]
    }
   ],
   "source": [
    "print(Dmax,tsec_Dmax/60.)"
   ]
  },
  {
   "cell_type": "code",
   "execution_count": 14,
   "metadata": {},
   "outputs": [
    {
     "name": "stdout",
     "output_type": "stream",
     "text": [
      "644 650 656\n"
     ]
    }
   ],
   "source": [
    "rp_hst = rp_sets[runid].get_history()\n",
    "time_secs = rp_hst.get('time(secs)')\n",
    "\n",
    "# dt at dump \n",
    "thisrp = rp_sets[runid].get_dump(dump)\n",
    "dt = thisrp.get('dtinit')*thisrp.get('NcyclesPerDump')\n",
    "\n",
    "# tsec_Dmax is equivalent to ndndump many dumps\n",
    "ndndump = int(np.round(tsec_Dmax/dt))\n",
    "\n",
    "#dump for tsec_dump - tsec_Dmax\n",
    "dump_lower = dump - ndndump\n",
    "dump_upper = dump + ndndump\n",
    "\n",
    "print(dump_lower,dump,dump_upper)"
   ]
  },
  {
   "cell_type": "markdown",
   "metadata": {},
   "source": [
    "### D(FV)"
   ]
  },
  {
   "cell_type": "code",
   "execution_count": 15,
   "metadata": {},
   "outputs": [],
   "source": [
    "res = {}\n",
    "Ds = {}"
   ]
  },
  {
   "cell_type": "code",
   "execution_count": 16,
   "metadata": {},
   "outputs": [
    {
     "name": "stdout",
     "output_type": "stream",
     "text": [
      "638 651 650 663\n"
     ]
    },
    {
     "data": {
      "application/vnd.jupyter.widget-view+json": {
       "model_id": "026eb21c76c947eca86cc21f7ccb7ada",
       "version_major": 2,
       "version_minor": 0
      },
      "text/plain": [
       "Canvas(toolbar=Toolbar(toolitems=[('Home', 'Reset original view', 'home', 'home'), ('Back', 'Back to previous …"
      ]
     },
     "metadata": {},
     "output_type": "display_data"
    },
    {
     "data": {
      "application/vnd.jupyter.widget-view+json": {
       "model_id": "b16f5054016b45d7b420fd44c60b4fce",
       "version_major": 2,
       "version_minor": 0
      },
      "text/plain": [
       "Canvas(toolbar=Toolbar(toolitems=[('Home', 'Reset original view', 'home', 'home'), ('Back', 'Back to previous …"
      ]
     },
     "metadata": {},
     "output_type": "display_data"
    },
    {
     "data": {
      "application/vnd.jupyter.widget-view+json": {
       "model_id": "7fac34e651294558bd118d2450e969af",
       "version_major": 2,
       "version_minor": 0
      },
      "text/plain": [
       "Canvas(toolbar=Toolbar(toolitems=[('Home', 'Reset original view', 'home', 'home'), ('Back', 'Back to previous …"
      ]
     },
     "metadata": {},
     "output_type": "display_data"
    }
   ],
   "source": [
    "#%--no-display\n",
    "# Burn on\n",
    "ifig0 = 11\n",
    "# d0 = rp_sets[runid].get_dump_list()[-1] - 400\n",
    "\n",
    "runid_case = runid+str(dump)\n",
    "d0 = dump\n",
    "d1 = dump_lower\n",
    "d2 = dump_upper\n",
    "delta_d1 = d0 - d1\n",
    "delta_d2 = d2 - d0\n",
    "dr_ov_estimate = 0.1*Hp[where(r_cb_shell_top_0 < R)[0][-1]]\n",
    "rlim_max = r_cb_shell_top_0 + dr_ov_estimate\n",
    "T9corr_params = {'kind':1, 'params':{'a':0.46, 'b':0.77}}\n",
    "#T9corr_params = {}\n",
    "print(d1 - delta_d1, d0 + 1,d0, d2 + delta_d2 + 1)\n",
    "res[runid] = rp_sets[runid].DsolveLgr(\\\n",
    "              range(d1 - delta_d1, d0 + 1), \\\n",
    "              range(d0, d2 + delta_d2 + 1), \\\n",
    "              var='Xcld', \\\n",
    "              data_rlim = (11.1, rlim_max), \\\n",
    "              show_plots=True, \\\n",
    "              ifig0=ifig0, \\\n",
    "              run_id=runid, \\\n",
    "              logmt=True, \\\n",
    "              mtlim=(1e-2, 1e-5), \\\n",
    "              rlim=(10, rlim_max+2), \\\n",
    "              plot_var=True, \\\n",
    "              logvar=True, \\\n",
    "              varlim=(1e-9, 2e0), \\\n",
    "              sigmalim=(1e50, 1e62), \\\n",
    "              Dlim=(1e9, 1e17), \\\n",
    "              fit_rlim=None, \\\n",
    "              integrate_upwards=True, \\\n",
    "              src_func=rp_sets[runid].compute_Xdot_C12pg, \\\n",
    "              src_args={'T9corr_params':T9corr_params})"
   ]
  },
  {
   "cell_type": "code",
   "execution_count": 17,
   "metadata": {},
   "outputs": [],
   "source": [
    "r = 0.5*(res[runid]['r1']+res[runid]['r2'])\n",
    "D = res[runid]['D']\n",
    "Dplus = D[where(D>0)[0]]\n",
    "rplus = r[where(D>0)[0]]"
   ]
  },
  {
   "cell_type": "markdown",
   "metadata": {},
   "source": [
    "### Top panel Figure 1"
   ]
  },
  {
   "cell_type": "code",
   "execution_count": 18,
   "metadata": {},
   "outputs": [
    {
     "data": {
      "application/vnd.jupyter.widget-view+json": {
       "model_id": "2f97d854a4a94cb188ece9af38827257",
       "version_major": 2,
       "version_minor": 0
      },
      "text/plain": [
       "Canvas(toolbar=Toolbar(toolitems=[('Home', 'Reset original view', 'home', 'home'), ('Back', 'Back to previous …"
      ]
     },
     "metadata": {},
     "output_type": "display_data"
    },
    {
     "name": "stdout",
     "output_type": "stream",
     "text": [
      "D_Lagr for dump:650\n"
     ]
    }
   ],
   "source": [
    "close(1251);fig=figure(1251,figsize=(stdRatio*stdSize,stdSize))\n",
    "i=2\n",
    "ax1 = fig.add_subplot(111)\n",
    "\n",
    "ax1.plot(R[inds_conv],(Dvr),utils.linestylecb(i)[0],color=utils.colourblind(i-2),\\\n",
    "     label='$D_\\mathrm{vr}$'); i+=1\n",
    "ax1.plot(rplus,(Dplus),utils.linestylecb(i)[0],color=utils.colourblind(i-2),\\\n",
    "     label='$D_\\mathrm{FV}$'); i+=1\n",
    "plt.legend(frameon=False,loc=8)\n",
    "ax1.set_ylabel('y1')\n",
    "ax1.set_yscale('log')\n",
    "ax1.set_ylabel('D / cm$^2$ s$^{-1}$')\n",
    "ax1.set_ylim(5*10**11,5*10**15); ax1.set_xlim(7,25)\n",
    "ax1.set_xlabel('r / Mm')\n",
    "\n",
    "ax2 = ax1.twinx()\n",
    "ax2.plot(R[inds_conv],Hp[inds_conv],utils.linestylecb(i)[0],color=utils.colourblind(i-2),\\\n",
    "       label='H$_P$'); i+=1\n",
    "ax2.set_ylabel(r'H$_P$ / Mm')\n",
    "\n",
    "plt.title(\"\")\n",
    "plt.legend(frameon=False,loc=1)\n",
    "plt.tight_layout()\n",
    "plt.show()\n",
    "savefig(runid+'-DHp-compare-dump'+str(dump)+\".pdf\")\n",
    "print('D_Lagr for dump:'+str(dump))\n"
   ]
  },
  {
   "cell_type": "code",
   "execution_count": 20,
   "metadata": {},
   "outputs": [],
   "source": [
    "# gr = 1.61803398875;size=4\n",
    "# close(1251);fig=figure(1251,figsize=(gr*size,size))\n",
    "# i=2\n",
    "# ax1 = fig.add_subplot(111)\n",
    "\n",
    "# ax1.plot(R[inds_conv],log10(Dvr),utils.linestylecb(i)[0],color=utils.colourblind(i-2),\\\n",
    "#      label='$D_\\mathrm{vr}$'); i+=1\n",
    "# ax1.plot(rplus,log10(Dplus),utils.linestylecb(i)[0],color=utils.colourblind(i-2),\\\n",
    "#      label='$D_\\mathrm{FV}$'); i+=1\n",
    "# plt.legend(frameon=False,loc=8)\n",
    "# ax1.set_ylabel('y1')\n",
    "# ax1.set_ylabel('$\\log D / \\mathrm{[cm^2/s]}$')\n",
    "# ax1.set_ylim(11,None); ax1.set_xlim(7,25)\n",
    "# ax1.set_xlabel('$R / \\mathrm{[Mm]}$')\n",
    "\n",
    "# ax2 = ax1.twinx()\n",
    "# ax2.plot(R[inds_conv],Hp[inds_conv],utils.linestylecb(i)[0],color=utils.colourblind(i-2),\\\n",
    "#        label='$H_p$'); i+=1\n",
    "# ax2.set_ylabel('$H_\\mathrm{p} / \\mathrm{[Mm]}$')\n",
    "\n",
    "# plt.legend(frameon=False,loc=1)\n",
    "# plt.tight_layout()\n",
    "# plt.show()\n",
    "# savefig(runid+'-DHp-compare-dump'+str(dump)+\".pdf\")\n",
    "# print('D_Lagr for dump:'+str(dump))\n"
   ]
  },
  {
   "cell_type": "markdown",
   "metadata": {},
   "source": [
    "### Fuse D(vr) and D(FV)\n",
    "\n",
    "We want to have the $D_\\mathrm{FV}$ coefficient in the top half where the entrainment takes place. In the lower part of the convection zone the entrained fluid is burning and it can obviously not be used to determine the D coefficient. There we take the maxumum of $D_\\mathrm{FV}$  and $D_\\mathrm{vr}$. The separation between the two regimes is where the maximum of $D_\\mathrm{FV}$  is located."
   ]
  },
  {
   "cell_type": "code",
   "execution_count": 21,
   "metadata": {},
   "outputs": [],
   "source": [
    "# f_Dvr  = interpolate.interp1d(R[inds_conv],Dvr, kind='linear',fill_value=ones(1))\n",
    "# f_DFV  = interpolate.interp1d(rplus,Dplus, kind='linear',fill_value=ones(1))\n",
    "\n",
    "# fill_value option seems not to work as advertised, so we do this:\n",
    "f_Dvr  = interpolate.interp1d(R[inds_conv],Dvr, kind='linear')\n",
    "f_DFV  = interpolate.interp1d(rplus,Dplus, kind='linear')\n",
    "def interp(f_DFV,rr,fill_value=1.):\n",
    "    '''Interpolate if in range, else assign fill_value'''\n",
    "    d = []\n",
    "    for thisr in rr: \n",
    "        try:\n",
    "            d.append(f_DFV(thisr))\n",
    "        except ValueError:\n",
    "            d.append(fill_value)\n",
    "    return array(d)"
   ]
  },
  {
   "cell_type": "code",
   "execution_count": 22,
   "metadata": {},
   "outputs": [
    {
     "data": {
      "text/plain": [
       "929552211809495.4"
      ]
     },
     "execution_count": 22,
     "metadata": {},
     "output_type": "execute_result"
    }
   ],
   "source": [
    "max(Dplus[(rplus > 13.0)])"
   ]
  },
  {
   "cell_type": "code",
   "execution_count": 23,
   "metadata": {},
   "outputs": [],
   "source": [
    "# max location of Dplus\n",
    "ind_max_Dplus = np.where(max(Dplus)==Dplus)[0][0]\n",
    "inds_R_plusmax = np.where(R > rplus[ind_max_Dplus])"
   ]
  },
  {
   "cell_type": "code",
   "execution_count": 24,
   "metadata": {},
   "outputs": [],
   "source": [
    "# combine as described above\n",
    "Dcomb = maximum(interp(f_DFV,R),interp(f_Dvr,R))\n",
    "Dcomb[inds_R_plusmax] = interp(f_DFV,R[inds_R_plusmax])"
   ]
  },
  {
   "cell_type": "code",
   "execution_count": 25,
   "metadata": {},
   "outputs": [
    {
     "data": {
      "application/vnd.jupyter.widget-view+json": {
       "model_id": "dbfe96c4bd784187a356b41e2ff79a86",
       "version_major": 2,
       "version_minor": 0
      },
      "text/plain": [
       "Canvas(toolbar=Toolbar(toolitems=[('Home', 'Reset original view', 'home', 'home'), ('Back', 'Back to previous …"
      ]
     },
     "metadata": {},
     "output_type": "display_data"
    },
    {
     "name": "stdout",
     "output_type": "stream",
     "text": [
      "D_Lagr for dump:650\n"
     ]
    }
   ],
   "source": [
    "close(119);figure(119)\n",
    "i=2\n",
    "plot(R[inds_conv],log10(Dvr),utils.linestylecb(i)[0],color=utils.colourblind(i-2),\\\n",
    "     label='$D_\\mathrm{vr}$'); i+=1\n",
    "\n",
    "plot(rplus,log10(Dplus),utils.linestylecb(i)[0],color=utils.colourblind(i-2),\\\n",
    "      label='$D_\\mathrm{FV}$'); i+=1\n",
    "\n",
    "plot(R[inds_conv],log10(Dcomb[inds_conv]),utils.linestylecb(i)[0],color=utils.colourblind(i-2),\\\n",
    "      label='$D_\\mathrm{combined}$' )\n",
    "\n",
    "print('D_Lagr for dump:'+str(dump))\n",
    "title(runid+' dump '+str(dump))\n",
    "xlabel('$R/\\mathrm{Mm}$');ylabel('$\\log D / \\mathrm{[cm^2/s]}$')\n",
    "ylim(10,None),xlim(7,25),legend(frameon=False)\n",
    "savefig(runid+'1dump'+str(dump)+\".pdf\")"
   ]
  },
  {
   "cell_type": "markdown",
   "metadata": {},
   "source": [
    "## Read shell file and write with two D columns added"
   ]
  },
  {
   "cell_type": "code",
   "execution_count": 26,
   "metadata": {},
   "outputs": [],
   "source": [
    "# read shell file: just read the headerlines \n",
    "shell_file = 'N16-standard-mppnp-'+str(dump).zfill(4)+'.shell'\n",
    "shell_fobj = open(shell_files_dir+shell_file)\n",
    "header_lines = [shell_fobj.readline().rstrip('\\n') for x in range(6)]\n",
    "shell_fobj.close()"
   ]
  },
  {
   "cell_type": "code",
   "execution_count": 27,
   "metadata": {},
   "outputs": [],
   "source": [
    "# read columns of shell file\n",
    "# `_s` indicates shell file column variable\n",
    "r_s, rho_s, v_s, m_s, T9_s, gamma_s, fu_s, fd_s = loadtxt(shell_files_dir+shell_file,skiprows=7,unpack=True) "
   ]
  },
  {
   "cell_type": "markdown",
   "metadata": {},
   "source": [
    "The shell file grid has lower resolution compared to the ppmstar grid. The shell files are supposed to be half of the ppmstar grid (except for N16 where it is at the N17's resolution to make the full network calculations faster). This is because we use moments data for gamma which is 1/4 the ppmstar grid. This is the only quantity that is calibrated with the moments data."
   ]
  },
  {
   "cell_type": "code",
   "execution_count": 28,
   "metadata": {},
   "outputs": [
    {
     "name": "stdout",
     "output_type": "stream",
     "text": [
      "N16: Shell file grid zones: 257; convection zone PPMstar grid: 348.\n"
     ]
    }
   ],
   "source": [
    "print('N16: Shell file grid zones: {:3d}; convection zone PPMstar grid: {:3d}.'.format(len(r_s),len(R[inds_conv][::-1])))"
   ]
  },
  {
   "cell_type": "code",
   "execution_count": 29,
   "metadata": {},
   "outputs": [],
   "source": [
    "# and create an interpolation function for writing shell files which \n",
    "# are on a different grid\n",
    "f_Dcomb  = interpolate.interp1d(R[inds_conv],log10(Dcomb[inds_conv]), kind='linear',fill_value='extrapolate')\n",
    "Dcomb_s = [10**(f_Dcomb(r)) for r in r_s]\n",
    "f_Dvr  = interpolate.interp1d(R[inds_conv],log10(Dvr), kind='linear',fill_value='extrapolate')\n",
    "Dvr_s = [10**(f_Dvr(r)) for r in r_s]"
   ]
  },
  {
   "cell_type": "code",
   "execution_count": 30,
   "metadata": {},
   "outputs": [],
   "source": [
    "dcols=('r', 'rho', 'v', 'm', 'T9', 'gamma', 'fu', 'fd', 'Dvr', 'Dvr+FV')\n",
    "# take care of D arrays being in reverse order, shell files go from the inside out\n",
    "data = [r_s, rho_s, v_s, m_s, T9_s, gamma_s, fu_s, fd_s, Dvr_s, Dcomb_s]\n",
    "shell_file = 'N16-wD-'+str(dump).zfill(4)+'.shell'\n",
    "# asct.write(shell_file, header_lines, dcols, data, sldir='.', sep='', trajectory=False, download=False,\n",
    "#            data_fmt='{:18.12e} ',overwrite=True)\n",
    "asct.write(shell_file, header_lines, dcols, data, sldir='.', sep='', trajectory=False, download=False,\n",
    "           data_fmt='{:18.12e} ')"
   ]
  },
  {
   "cell_type": "markdown",
   "metadata": {},
   "source": [
    "### Test: Read and plot"
   ]
  },
  {
   "cell_type": "code",
   "execution_count": 31,
   "metadata": {},
   "outputs": [],
   "source": [
    "sf = asct.readTable(shell_file,sldir='.')"
   ]
  },
  {
   "cell_type": "code",
   "execution_count": 32,
   "metadata": {},
   "outputs": [
    {
     "data": {
      "text/plain": [
       "['runid = N16',\n",
       " 'runDump = 650',\n",
       " 'runTime(secs) = 1.793778320000e+04',\n",
       " 'entrainmentRate = 1.683380753786e-05',\n",
       " 'timestep = 2.758980000000e+01',\n",
       " 'subtimesteps = 19']"
      ]
     },
     "execution_count": 32,
     "metadata": {},
     "output_type": "execute_result"
    }
   ],
   "source": [
    "sf.hattrs"
   ]
  },
  {
   "cell_type": "code",
   "execution_count": 33,
   "metadata": {},
   "outputs": [
    {
     "data": {
      "text/plain": [
       "['r', 'rho', 'v', 'm', 'T9', 'gamma', 'fu', 'fd', 'Dvr', 'Dvr+FV']"
      ]
     },
     "execution_count": 33,
     "metadata": {},
     "output_type": "execute_result"
    }
   ],
   "source": [
    "sf.dcols"
   ]
  },
  {
   "cell_type": "code",
   "execution_count": 34,
   "metadata": {},
   "outputs": [
    {
     "data": {
      "application/vnd.jupyter.widget-view+json": {
       "model_id": "4559f2a870e34a66b3cda42069bba886",
       "version_major": 2,
       "version_minor": 0
      },
      "text/plain": [
       "Canvas(toolbar=Toolbar(toolitems=[('Home', 'Reset original view', 'home', 'home'), ('Back', 'Back to previous …"
      ]
     },
     "metadata": {},
     "output_type": "display_data"
    }
   ],
   "source": [
    "ifig=197;close(ifig);figure(ifig)\n",
    "sf.plot('r','Dvr',shape='--',legend='Dvr',logy=True)\n",
    "sf.plot('r','Dvr+FV',shape='-',legend='Dvr+FV',logy=True,limits=[7.5,24.3,10,15.5])\n",
    "savefig(shell_file+'.pdf')"
   ]
  },
  {
   "cell_type": "code",
   "execution_count": 35,
   "metadata": {},
   "outputs": [],
   "source": [
    "# sf.get('Dvr+FV')  \n",
    "# sf.get will be returning something different if I plot with logy=True before --- FIX THIS!!!\n",
    "# That is why the following plot will not work unless you rerun\n",
    "sf = asct.readTable(shell_file,sldir='.')"
   ]
  },
  {
   "cell_type": "code",
   "execution_count": 36,
   "metadata": {},
   "outputs": [
    {
     "data": {
      "application/vnd.jupyter.widget-view+json": {
       "model_id": "c6bc9790c6944d7bb24aef7350d9457e",
       "version_major": 2,
       "version_minor": 0
      },
      "text/plain": [
       "Canvas(toolbar=Toolbar(toolitems=[('Home', 'Reset original view', 'home', 'home'), ('Back', 'Back to previous …"
      ]
     },
     "metadata": {},
     "output_type": "display_data"
    },
    {
     "data": {
      "text/plain": [
       "<matplotlib.legend.Legend at 0x7fe51b61c1d0>"
      ]
     },
     "execution_count": 36,
     "metadata": {},
     "output_type": "execute_result"
    }
   ],
   "source": [
    "close(1985)\n",
    "figure(1985)\n",
    "plot(sf.get('r'),log10(sf.get('Dvr+FV')),label='Dvr+FV')\n",
    "plot(R[inds_conv],log10(Dcomb[inds_conv]),utils.linestylecb(i)[0],color=utils.colourblind(i-2),\\\n",
    "      label='$D_\\mathrm{combined}$' )\n",
    "legend(loc=0)\n"
   ]
  },
  {
   "cell_type": "code",
   "execution_count": null,
   "metadata": {},
   "outputs": [],
   "source": []
  }
 ],
 "metadata": {
  "kernelspec": {
   "display_name": "Python 3",
   "language": "python",
   "name": "python3"
  },
  "language_info": {
   "codemirror_mode": {
    "name": "ipython",
    "version": 3
   },
   "file_extension": ".py",
   "mimetype": "text/x-python",
   "name": "python",
   "nbconvert_exporter": "python",
   "pygments_lexer": "ipython3",
   "version": "3.6.8"
  },
  "widgets": {
   "application/vnd.jupyter.widget-state+json": {
    "state": {
     "026eb21c76c947eca86cc21f7ccb7ada": {
      "model_module": "jupyter-matplotlib",
      "model_module_version": "^0.4.2",
      "model_name": "MPLCanvasModel",
      "state": {
       "layout": "IPY_MODEL_db950e7685884af9bfc0b8696b887a13",
       "toolbar": "IPY_MODEL_50f71dd8c4194fd78347e3ff55c60216",
       "toolbar_position": "left"
      }
     },
     "1fda3eac9121430880b0697b74ed7898": {
      "model_module": "@jupyter-widgets/base",
      "model_module_version": "1.2.0",
      "model_name": "LayoutModel",
      "state": {}
     },
     "251b141923bd4053a91c2f44e8ad39b8": {
      "model_module": "@jupyter-widgets/base",
      "model_module_version": "1.2.0",
      "model_name": "LayoutModel",
      "state": {}
     },
     "2cad657dfced498f9588f6cea4cf5d72": {
      "model_module": "jupyter-matplotlib",
      "model_module_version": "^0.4.2",
      "model_name": "ToolbarModel",
      "state": {
       "layout": "IPY_MODEL_37bfe4b7da7448b387dddac7af811667",
       "toolitems": [
        [
         "Home",
         "Reset original view",
         "home",
         "home"
        ],
        [
         "Back",
         "Back to previous view",
         "arrow-left",
         "back"
        ],
        [
         "Forward",
         "Forward to next view",
         "arrow-right",
         "forward"
        ],
        [
         "Pan",
         "Pan axes with left mouse, zoom with right",
         "arrows",
         "pan"
        ],
        [
         "Zoom",
         "Zoom to rectangle",
         "square-o",
         "zoom"
        ],
        [
         "Download",
         "Download plot",
         "floppy-o",
         "save_figure"
        ]
       ]
      }
     },
     "2f97d854a4a94cb188ece9af38827257": {
      "model_module": "jupyter-matplotlib",
      "model_module_version": "^0.4.2",
      "model_name": "MPLCanvasModel",
      "state": {
       "layout": "IPY_MODEL_c8e2f9636fc246798e32b7a36156090b",
       "toolbar": "IPY_MODEL_6f8acace9b2a44209cd1ce357ae01175",
       "toolbar_position": "left"
      }
     },
     "32bd41daea564ae2a0d38f7cc003e131": {
      "model_module": "jupyter-matplotlib",
      "model_module_version": "^0.4.2",
      "model_name": "ToolbarModel",
      "state": {
       "layout": "IPY_MODEL_b5903433b4504c42a0d277830bce245d",
       "toolitems": [
        [
         "Home",
         "Reset original view",
         "home",
         "home"
        ],
        [
         "Back",
         "Back to previous view",
         "arrow-left",
         "back"
        ],
        [
         "Forward",
         "Forward to next view",
         "arrow-right",
         "forward"
        ],
        [
         "Pan",
         "Pan axes with left mouse, zoom with right",
         "arrows",
         "pan"
        ],
        [
         "Zoom",
         "Zoom to rectangle",
         "square-o",
         "zoom"
        ],
        [
         "Download",
         "Download plot",
         "floppy-o",
         "save_figure"
        ]
       ]
      }
     },
     "37bfe4b7da7448b387dddac7af811667": {
      "model_module": "@jupyter-widgets/base",
      "model_module_version": "1.2.0",
      "model_name": "LayoutModel",
      "state": {}
     },
     "3850f40cd98a405799114a7176ef309f": {
      "model_module": "@jupyter-widgets/base",
      "model_module_version": "1.2.0",
      "model_name": "LayoutModel",
      "state": {}
     },
     "3a35ce92932e499bb6f87ef578b9a964": {
      "model_module": "jupyter-matplotlib",
      "model_module_version": "^0.4.2",
      "model_name": "MPLCanvasModel",
      "state": {
       "layout": "IPY_MODEL_e0ca5e3ed44540f48c9daeb027be6198",
       "toolbar": "IPY_MODEL_ef43e5d8ecbb40c582f9df9f8dd0bee5",
       "toolbar_position": "left"
      }
     },
     "3c9d879b13114760adc843461b7e1e89": {
      "model_module": "@jupyter-widgets/base",
      "model_module_version": "1.2.0",
      "model_name": "LayoutModel",
      "state": {}
     },
     "40fba960057c4b059e5548528cb15704": {
      "model_module": "@jupyter-widgets/base",
      "model_module_version": "1.2.0",
      "model_name": "LayoutModel",
      "state": {}
     },
     "4559f2a870e34a66b3cda42069bba886": {
      "model_module": "jupyter-matplotlib",
      "model_module_version": "^0.4.2",
      "model_name": "MPLCanvasModel",
      "state": {
       "layout": "IPY_MODEL_b1fbf838dcd04af5b081b0a0d1497107",
       "toolbar": "IPY_MODEL_f9fc38aed61e4e8aa0eba36225b259c2",
       "toolbar_position": "left"
      }
     },
     "4809f9df612c40bf8207a71480a5f688": {
      "model_module": "@jupyter-widgets/base",
      "model_module_version": "1.2.0",
      "model_name": "LayoutModel",
      "state": {}
     },
     "50f71dd8c4194fd78347e3ff55c60216": {
      "model_module": "jupyter-matplotlib",
      "model_module_version": "^0.4.2",
      "model_name": "ToolbarModel",
      "state": {
       "layout": "IPY_MODEL_4809f9df612c40bf8207a71480a5f688",
       "toolitems": [
        [
         "Home",
         "Reset original view",
         "home",
         "home"
        ],
        [
         "Back",
         "Back to previous view",
         "arrow-left",
         "back"
        ],
        [
         "Forward",
         "Forward to next view",
         "arrow-right",
         "forward"
        ],
        [
         "Pan",
         "Pan axes with left mouse, zoom with right",
         "arrows",
         "pan"
        ],
        [
         "Zoom",
         "Zoom to rectangle",
         "square-o",
         "zoom"
        ],
        [
         "Download",
         "Download plot",
         "floppy-o",
         "save_figure"
        ]
       ]
      }
     },
     "51a5fc80bec848518b7a019460fe11dd": {
      "model_module": "jupyter-matplotlib",
      "model_module_version": "^0.4.2",
      "model_name": "ToolbarModel",
      "state": {
       "layout": "IPY_MODEL_633fd51ac9e046509c3b1f289d1c5fbf",
       "toolitems": [
        [
         "Home",
         "Reset original view",
         "home",
         "home"
        ],
        [
         "Back",
         "Back to previous view",
         "arrow-left",
         "back"
        ],
        [
         "Forward",
         "Forward to next view",
         "arrow-right",
         "forward"
        ],
        [
         "Pan",
         "Pan axes with left mouse, zoom with right",
         "arrows",
         "pan"
        ],
        [
         "Zoom",
         "Zoom to rectangle",
         "square-o",
         "zoom"
        ],
        [
         "Download",
         "Download plot",
         "floppy-o",
         "save_figure"
        ]
       ]
      }
     },
     "578096aa0e7d4080b40d4d19c4c57d0b": {
      "model_module": "@jupyter-widgets/base",
      "model_module_version": "1.2.0",
      "model_name": "LayoutModel",
      "state": {}
     },
     "633fd51ac9e046509c3b1f289d1c5fbf": {
      "model_module": "@jupyter-widgets/base",
      "model_module_version": "1.2.0",
      "model_name": "LayoutModel",
      "state": {}
     },
     "6f8acace9b2a44209cd1ce357ae01175": {
      "model_module": "jupyter-matplotlib",
      "model_module_version": "^0.4.2",
      "model_name": "ToolbarModel",
      "state": {
       "layout": "IPY_MODEL_3850f40cd98a405799114a7176ef309f",
       "toolitems": [
        [
         "Home",
         "Reset original view",
         "home",
         "home"
        ],
        [
         "Back",
         "Back to previous view",
         "arrow-left",
         "back"
        ],
        [
         "Forward",
         "Forward to next view",
         "arrow-right",
         "forward"
        ],
        [
         "Pan",
         "Pan axes with left mouse, zoom with right",
         "arrows",
         "pan"
        ],
        [
         "Zoom",
         "Zoom to rectangle",
         "square-o",
         "zoom"
        ],
        [
         "Download",
         "Download plot",
         "floppy-o",
         "save_figure"
        ]
       ]
      }
     },
     "7fac34e651294558bd118d2450e969af": {
      "model_module": "jupyter-matplotlib",
      "model_module_version": "^0.4.2",
      "model_name": "MPLCanvasModel",
      "state": {
       "layout": "IPY_MODEL_9e26024979774dd39076bb2b683027f7",
       "toolbar": "IPY_MODEL_32bd41daea564ae2a0d38f7cc003e131",
       "toolbar_position": "left"
      }
     },
     "80ed422780af4e81b76f35729dbabd42": {
      "model_module": "@jupyter-widgets/base",
      "model_module_version": "1.2.0",
      "model_name": "LayoutModel",
      "state": {}
     },
     "9d988732198745638af7ca531f27ff7d": {
      "model_module": "jupyter-matplotlib",
      "model_module_version": "^0.4.2",
      "model_name": "ToolbarModel",
      "state": {
       "layout": "IPY_MODEL_40fba960057c4b059e5548528cb15704",
       "toolitems": [
        [
         "Home",
         "Reset original view",
         "home",
         "home"
        ],
        [
         "Back",
         "Back to previous view",
         "arrow-left",
         "back"
        ],
        [
         "Forward",
         "Forward to next view",
         "arrow-right",
         "forward"
        ],
        [
         "Pan",
         "Pan axes with left mouse, zoom with right",
         "arrows",
         "pan"
        ],
        [
         "Zoom",
         "Zoom to rectangle",
         "square-o",
         "zoom"
        ],
        [
         "Download",
         "Download plot",
         "floppy-o",
         "save_figure"
        ]
       ]
      }
     },
     "9e26024979774dd39076bb2b683027f7": {
      "model_module": "@jupyter-widgets/base",
      "model_module_version": "1.2.0",
      "model_name": "LayoutModel",
      "state": {}
     },
     "b16f5054016b45d7b420fd44c60b4fce": {
      "model_module": "jupyter-matplotlib",
      "model_module_version": "^0.4.2",
      "model_name": "MPLCanvasModel",
      "state": {
       "layout": "IPY_MODEL_1fda3eac9121430880b0697b74ed7898",
       "toolbar": "IPY_MODEL_2cad657dfced498f9588f6cea4cf5d72",
       "toolbar_position": "left"
      }
     },
     "b1fbf838dcd04af5b081b0a0d1497107": {
      "model_module": "@jupyter-widgets/base",
      "model_module_version": "1.2.0",
      "model_name": "LayoutModel",
      "state": {}
     },
     "b5903433b4504c42a0d277830bce245d": {
      "model_module": "@jupyter-widgets/base",
      "model_module_version": "1.2.0",
      "model_name": "LayoutModel",
      "state": {}
     },
     "c6bc9790c6944d7bb24aef7350d9457e": {
      "model_module": "jupyter-matplotlib",
      "model_module_version": "^0.4.2",
      "model_name": "MPLCanvasModel",
      "state": {
       "layout": "IPY_MODEL_3c9d879b13114760adc843461b7e1e89",
       "toolbar": "IPY_MODEL_9d988732198745638af7ca531f27ff7d",
       "toolbar_position": "left"
      }
     },
     "c8e2f9636fc246798e32b7a36156090b": {
      "model_module": "@jupyter-widgets/base",
      "model_module_version": "1.2.0",
      "model_name": "LayoutModel",
      "state": {}
     },
     "db950e7685884af9bfc0b8696b887a13": {
      "model_module": "@jupyter-widgets/base",
      "model_module_version": "1.2.0",
      "model_name": "LayoutModel",
      "state": {}
     },
     "dbfe96c4bd784187a356b41e2ff79a86": {
      "model_module": "jupyter-matplotlib",
      "model_module_version": "^0.4.2",
      "model_name": "MPLCanvasModel",
      "state": {
       "layout": "IPY_MODEL_80ed422780af4e81b76f35729dbabd42",
       "toolbar": "IPY_MODEL_51a5fc80bec848518b7a019460fe11dd",
       "toolbar_position": "left"
      }
     },
     "e0ca5e3ed44540f48c9daeb027be6198": {
      "model_module": "@jupyter-widgets/base",
      "model_module_version": "1.2.0",
      "model_name": "LayoutModel",
      "state": {}
     },
     "ef43e5d8ecbb40c582f9df9f8dd0bee5": {
      "model_module": "jupyter-matplotlib",
      "model_module_version": "^0.4.2",
      "model_name": "ToolbarModel",
      "state": {
       "layout": "IPY_MODEL_578096aa0e7d4080b40d4d19c4c57d0b",
       "toolitems": [
        [
         "Home",
         "Reset original view",
         "home",
         "home"
        ],
        [
         "Back",
         "Back to previous view",
         "arrow-left",
         "back"
        ],
        [
         "Forward",
         "Forward to next view",
         "arrow-right",
         "forward"
        ],
        [
         "Pan",
         "Pan axes with left mouse, zoom with right",
         "arrows",
         "pan"
        ],
        [
         "Zoom",
         "Zoom to rectangle",
         "square-o",
         "zoom"
        ],
        [
         "Download",
         "Download plot",
         "floppy-o",
         "save_figure"
        ]
       ]
      }
     },
     "f9fc38aed61e4e8aa0eba36225b259c2": {
      "model_module": "jupyter-matplotlib",
      "model_module_version": "^0.4.2",
      "model_name": "ToolbarModel",
      "state": {
       "layout": "IPY_MODEL_251b141923bd4053a91c2f44e8ad39b8",
       "toolitems": [
        [
         "Home",
         "Reset original view",
         "home",
         "home"
        ],
        [
         "Back",
         "Back to previous view",
         "arrow-left",
         "back"
        ],
        [
         "Forward",
         "Forward to next view",
         "arrow-right",
         "forward"
        ],
        [
         "Pan",
         "Pan axes with left mouse, zoom with right",
         "arrows",
         "pan"
        ],
        [
         "Zoom",
         "Zoom to rectangle",
         "square-o",
         "zoom"
        ],
        [
         "Download",
         "Download plot",
         "floppy-o",
         "save_figure"
        ]
       ]
      }
     }
    },
    "version_major": 2,
    "version_minor": 0
   }
  }
 },
 "nbformat": 4,
 "nbformat_minor": 4
}
